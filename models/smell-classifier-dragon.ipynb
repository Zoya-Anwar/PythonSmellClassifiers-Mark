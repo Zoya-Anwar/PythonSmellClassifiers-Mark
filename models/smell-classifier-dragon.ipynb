{
 "cells": [
  {
   "cell_type": "code",
   "execution_count": 176,
   "id": "d9806988",
   "metadata": {},
   "outputs": [
    {
     "name": "stdout",
     "output_type": "stream",
     "text": [
      "Requirement already satisfied: bayesian-optimization in /home/zoya/anaconda3/lib/python3.8/site-packages (1.4.2)\n",
      "Requirement already satisfied: colorama>=0.4.6 in /home/zoya/anaconda3/lib/python3.8/site-packages (from bayesian-optimization) (0.4.6)\n",
      "Requirement already satisfied: scipy>=1.0.0 in /home/zoya/anaconda3/lib/python3.8/site-packages (from bayesian-optimization) (1.10.0)\n",
      "Requirement already satisfied: numpy>=1.9.0 in /home/zoya/anaconda3/lib/python3.8/site-packages (from bayesian-optimization) (1.24.1)\n",
      "Requirement already satisfied: scikit-learn>=0.18.0 in /home/zoya/anaconda3/lib/python3.8/site-packages (from bayesian-optimization) (1.2.0)\n",
      "Requirement already satisfied: joblib>=1.1.1 in /home/zoya/anaconda3/lib/python3.8/site-packages (from scikit-learn>=0.18.0->bayesian-optimization) (1.2.0)\n",
      "Requirement already satisfied: threadpoolctl>=2.0.0 in /home/zoya/anaconda3/lib/python3.8/site-packages (from scikit-learn>=0.18.0->bayesian-optimization) (3.1.0)\n",
      "\n",
      "\u001b[1m[\u001b[0m\u001b[34;49mnotice\u001b[0m\u001b[1;39;49m]\u001b[0m\u001b[39;49m A new release of pip available: \u001b[0m\u001b[31;49m22.3.1\u001b[0m\u001b[39;49m -> \u001b[0m\u001b[32;49m23.0\u001b[0m\n",
      "\u001b[1m[\u001b[0m\u001b[34;49mnotice\u001b[0m\u001b[1;39;49m]\u001b[0m\u001b[39;49m To update, run: \u001b[0m\u001b[32;49mpip install --upgrade pip\u001b[0m\n"
     ]
    }
   ],
   "source": [
    "!pip install bayesian-optimization\n",
    "import pandas as pd\n",
    "from xgboost import XGBClassifier, cv\n",
    "from sklearn.model_selection import train_test_split, cross_validate, StratifiedKFold, RandomizedSearchCV, GridSearchCV, cross_val_score\n",
    "from sklearn.metrics import roc_curve\n",
    "import matplotlib.pyplot as plt\n",
    "import seaborn as sns\n",
    "from sklearn.ensemble import RandomForestClassifier\n",
    "from sklearn.preprocessing import StandardScaler\n",
    "from sklearn import metrics\n",
    "from sklearn.compose import ColumnTransformer\n",
    "from bayes_opt import BayesianOptimization\n",
    "import numpy as np\n",
    "\n",
    "SEED=0"
   ]
  },
  {
   "cell_type": "markdown",
   "id": "0f5b377a",
   "metadata": {},
   "source": [
    "# Load the dataset\n",
    "- Load data from excel sheet\n",
    "- Set X (independent variables) and y (dependent variables) "
   ]
  },
  {
   "cell_type": "code",
   "execution_count": 177,
   "id": "5ee6edb3",
   "metadata": {},
   "outputs": [],
   "source": [
    "data_path = './data/alvaDescDescriptors.txt'\n",
    "na_values=['na']\n",
    "df = pd.read_csv(data_path, sep=\"\\t\",  dtype={'pctapi': np.float64}, na_values=na_values)\n",
    "smiles =  np.loadtxt(\"./data/smiles.txt\", dtype='str')\n",
    "df = df.drop(['No.', 'NAME'], axis=1)\n",
    "df = df.set_index(smiles)"
   ]
  },
  {
   "cell_type": "code",
   "execution_count": 178,
   "id": "7e003b7d",
   "metadata": {},
   "outputs": [],
   "source": [
    "data_path = './data/master_4Mayhew.xlsx'\n",
    "df_mor = pd.read_excel(data_path)\n",
    "y=df_mor['label'] # labels, independent variables\n",
    "X=df # features, dependent variables"
   ]
  },
  {
   "cell_type": "code",
   "execution_count": 179,
   "id": "814a5849",
   "metadata": {},
   "outputs": [
    {
     "data": {
      "text/html": [
       "<div>\n",
       "<style scoped>\n",
       "    .dataframe tbody tr th:only-of-type {\n",
       "        vertical-align: middle;\n",
       "    }\n",
       "\n",
       "    .dataframe tbody tr th {\n",
       "        vertical-align: top;\n",
       "    }\n",
       "\n",
       "    .dataframe thead th {\n",
       "        text-align: right;\n",
       "    }\n",
       "</style>\n",
       "<table border=\"1\" class=\"dataframe\">\n",
       "  <thead>\n",
       "    <tr style=\"text-align: right;\">\n",
       "      <th></th>\n",
       "      <th>MW</th>\n",
       "      <th>AMW</th>\n",
       "      <th>Sv</th>\n",
       "      <th>Se</th>\n",
       "      <th>Sp</th>\n",
       "      <th>Si</th>\n",
       "      <th>Mv</th>\n",
       "      <th>Me</th>\n",
       "      <th>Mp</th>\n",
       "      <th>Mi</th>\n",
       "      <th>...</th>\n",
       "      <th>s1_numAroBonds</th>\n",
       "      <th>s2_numAroBonds</th>\n",
       "      <th>s3_numAroBonds</th>\n",
       "      <th>s4_numAroBonds</th>\n",
       "      <th>s34_size</th>\n",
       "      <th>s34_relSize</th>\n",
       "      <th>s34_phSize</th>\n",
       "      <th>s34_phRelSize</th>\n",
       "      <th>chiralMoment</th>\n",
       "      <th>chiralPhMoment</th>\n",
       "    </tr>\n",
       "  </thead>\n",
       "  <tbody>\n",
       "    <tr>\n",
       "      <th>count</th>\n",
       "      <td>865.000000</td>\n",
       "      <td>865.000000</td>\n",
       "      <td>865.000000</td>\n",
       "      <td>865.000000</td>\n",
       "      <td>865.000000</td>\n",
       "      <td>865.000000</td>\n",
       "      <td>865.000000</td>\n",
       "      <td>865.000000</td>\n",
       "      <td>865.000000</td>\n",
       "      <td>865.000000</td>\n",
       "      <td>...</td>\n",
       "      <td>865.0</td>\n",
       "      <td>865.000000</td>\n",
       "      <td>865.000000</td>\n",
       "      <td>865.000000</td>\n",
       "      <td>865.000000</td>\n",
       "      <td>865.000000</td>\n",
       "      <td>865.000000</td>\n",
       "      <td>865.000000</td>\n",
       "      <td>865.000000</td>\n",
       "      <td>865.000000</td>\n",
       "    </tr>\n",
       "    <tr>\n",
       "      <th>mean</th>\n",
       "      <td>152.497214</td>\n",
       "      <td>8.130482</td>\n",
       "      <td>12.828913</td>\n",
       "      <td>22.149323</td>\n",
       "      <td>13.800939</td>\n",
       "      <td>25.139284</td>\n",
       "      <td>0.597289</td>\n",
       "      <td>1.017789</td>\n",
       "      <td>0.639164</td>\n",
       "      <td>1.143216</td>\n",
       "      <td>...</td>\n",
       "      <td>0.0</td>\n",
       "      <td>0.008478</td>\n",
       "      <td>0.057996</td>\n",
       "      <td>0.191137</td>\n",
       "      <td>2.080402</td>\n",
       "      <td>0.169246</td>\n",
       "      <td>0.417864</td>\n",
       "      <td>0.036698</td>\n",
       "      <td>2.093204</td>\n",
       "      <td>0.600119</td>\n",
       "    </tr>\n",
       "    <tr>\n",
       "      <th>std</th>\n",
       "      <td>66.919081</td>\n",
       "      <td>7.112818</td>\n",
       "      <td>5.985939</td>\n",
       "      <td>10.237872</td>\n",
       "      <td>6.521889</td>\n",
       "      <td>11.873281</td>\n",
       "      <td>0.110081</td>\n",
       "      <td>0.072288</td>\n",
       "      <td>0.152502</td>\n",
       "      <td>0.047199</td>\n",
       "      <td>...</td>\n",
       "      <td>0.0</td>\n",
       "      <td>0.152963</td>\n",
       "      <td>0.527725</td>\n",
       "      <td>1.114756</td>\n",
       "      <td>4.437306</td>\n",
       "      <td>0.316773</td>\n",
       "      <td>1.053596</td>\n",
       "      <td>0.089476</td>\n",
       "      <td>4.607502</td>\n",
       "      <td>1.360089</td>\n",
       "    </tr>\n",
       "    <tr>\n",
       "      <th>min</th>\n",
       "      <td>16.050000</td>\n",
       "      <td>3.210000</td>\n",
       "      <td>0.910100</td>\n",
       "      <td>1.952700</td>\n",
       "      <td>0.698900</td>\n",
       "      <td>1.856400</td>\n",
       "      <td>0.387050</td>\n",
       "      <td>0.909080</td>\n",
       "      <td>0.349450</td>\n",
       "      <td>0.928200</td>\n",
       "      <td>...</td>\n",
       "      <td>0.0</td>\n",
       "      <td>0.000000</td>\n",
       "      <td>0.000000</td>\n",
       "      <td>0.000000</td>\n",
       "      <td>0.000000</td>\n",
       "      <td>0.000000</td>\n",
       "      <td>0.000000</td>\n",
       "      <td>0.000000</td>\n",
       "      <td>0.000000</td>\n",
       "      <td>0.000000</td>\n",
       "    </tr>\n",
       "    <tr>\n",
       "      <th>25%</th>\n",
       "      <td>106.140000</td>\n",
       "      <td>5.585152</td>\n",
       "      <td>8.778400</td>\n",
       "      <td>15.305400</td>\n",
       "      <td>9.454700</td>\n",
       "      <td>17.079600</td>\n",
       "      <td>0.527400</td>\n",
       "      <td>0.979383</td>\n",
       "      <td>0.576931</td>\n",
       "      <td>1.124658</td>\n",
       "      <td>...</td>\n",
       "      <td>0.0</td>\n",
       "      <td>0.000000</td>\n",
       "      <td>0.000000</td>\n",
       "      <td>0.000000</td>\n",
       "      <td>0.000000</td>\n",
       "      <td>0.000000</td>\n",
       "      <td>0.000000</td>\n",
       "      <td>0.000000</td>\n",
       "      <td>0.000000</td>\n",
       "      <td>0.000000</td>\n",
       "    </tr>\n",
       "    <tr>\n",
       "      <th>50%</th>\n",
       "      <td>144.240000</td>\n",
       "      <td>6.484286</td>\n",
       "      <td>12.192800</td>\n",
       "      <td>21.283500</td>\n",
       "      <td>13.238800</td>\n",
       "      <td>24.115800</td>\n",
       "      <td>0.571300</td>\n",
       "      <td>0.994537</td>\n",
       "      <td>0.615738</td>\n",
       "      <td>1.138492</td>\n",
       "      <td>...</td>\n",
       "      <td>0.0</td>\n",
       "      <td>0.000000</td>\n",
       "      <td>0.000000</td>\n",
       "      <td>0.000000</td>\n",
       "      <td>0.000000</td>\n",
       "      <td>0.000000</td>\n",
       "      <td>0.000000</td>\n",
       "      <td>0.000000</td>\n",
       "      <td>0.000000</td>\n",
       "      <td>0.000000</td>\n",
       "    </tr>\n",
       "    <tr>\n",
       "      <th>75%</th>\n",
       "      <td>184.310000</td>\n",
       "      <td>8.068235</td>\n",
       "      <td>15.982800</td>\n",
       "      <td>28.250700</td>\n",
       "      <td>17.307100</td>\n",
       "      <td>31.946200</td>\n",
       "      <td>0.636588</td>\n",
       "      <td>1.019995</td>\n",
       "      <td>0.658200</td>\n",
       "      <td>1.146753</td>\n",
       "      <td>...</td>\n",
       "      <td>0.0</td>\n",
       "      <td>0.000000</td>\n",
       "      <td>0.000000</td>\n",
       "      <td>0.000000</td>\n",
       "      <td>0.000000</td>\n",
       "      <td>0.000000</td>\n",
       "      <td>0.000000</td>\n",
       "      <td>0.000000</td>\n",
       "      <td>0.000000</td>\n",
       "      <td>0.000000</td>\n",
       "    </tr>\n",
       "    <tr>\n",
       "      <th>max</th>\n",
       "      <td>532.520000</td>\n",
       "      <td>126.900000</td>\n",
       "      <td>42.281600</td>\n",
       "      <td>67.508700</td>\n",
       "      <td>44.767400</td>\n",
       "      <td>75.820500</td>\n",
       "      <td>1.580200</td>\n",
       "      <td>1.412100</td>\n",
       "      <td>3.039800</td>\n",
       "      <td>1.483150</td>\n",
       "      <td>...</td>\n",
       "      <td>0.0</td>\n",
       "      <td>3.500000</td>\n",
       "      <td>8.500000</td>\n",
       "      <td>12.000000</td>\n",
       "      <td>30.000000</td>\n",
       "      <td>0.913043</td>\n",
       "      <td>7.000000</td>\n",
       "      <td>0.500000</td>\n",
       "      <td>31.304952</td>\n",
       "      <td>9.949874</td>\n",
       "    </tr>\n",
       "  </tbody>\n",
       "</table>\n",
       "<p>8 rows × 4179 columns</p>\n",
       "</div>"
      ],
      "text/plain": [
       "               MW         AMW          Sv          Se          Sp          Si  \\\n",
       "count  865.000000  865.000000  865.000000  865.000000  865.000000  865.000000   \n",
       "mean   152.497214    8.130482   12.828913   22.149323   13.800939   25.139284   \n",
       "std     66.919081    7.112818    5.985939   10.237872    6.521889   11.873281   \n",
       "min     16.050000    3.210000    0.910100    1.952700    0.698900    1.856400   \n",
       "25%    106.140000    5.585152    8.778400   15.305400    9.454700   17.079600   \n",
       "50%    144.240000    6.484286   12.192800   21.283500   13.238800   24.115800   \n",
       "75%    184.310000    8.068235   15.982800   28.250700   17.307100   31.946200   \n",
       "max    532.520000  126.900000   42.281600   67.508700   44.767400   75.820500   \n",
       "\n",
       "               Mv          Me          Mp          Mi  ...  s1_numAroBonds  \\\n",
       "count  865.000000  865.000000  865.000000  865.000000  ...           865.0   \n",
       "mean     0.597289    1.017789    0.639164    1.143216  ...             0.0   \n",
       "std      0.110081    0.072288    0.152502    0.047199  ...             0.0   \n",
       "min      0.387050    0.909080    0.349450    0.928200  ...             0.0   \n",
       "25%      0.527400    0.979383    0.576931    1.124658  ...             0.0   \n",
       "50%      0.571300    0.994537    0.615738    1.138492  ...             0.0   \n",
       "75%      0.636588    1.019995    0.658200    1.146753  ...             0.0   \n",
       "max      1.580200    1.412100    3.039800    1.483150  ...             0.0   \n",
       "\n",
       "       s2_numAroBonds  s3_numAroBonds  s4_numAroBonds    s34_size  \\\n",
       "count      865.000000      865.000000      865.000000  865.000000   \n",
       "mean         0.008478        0.057996        0.191137    2.080402   \n",
       "std          0.152963        0.527725        1.114756    4.437306   \n",
       "min          0.000000        0.000000        0.000000    0.000000   \n",
       "25%          0.000000        0.000000        0.000000    0.000000   \n",
       "50%          0.000000        0.000000        0.000000    0.000000   \n",
       "75%          0.000000        0.000000        0.000000    0.000000   \n",
       "max          3.500000        8.500000       12.000000   30.000000   \n",
       "\n",
       "       s34_relSize  s34_phSize  s34_phRelSize  chiralMoment  chiralPhMoment  \n",
       "count   865.000000  865.000000     865.000000    865.000000      865.000000  \n",
       "mean      0.169246    0.417864       0.036698      2.093204        0.600119  \n",
       "std       0.316773    1.053596       0.089476      4.607502        1.360089  \n",
       "min       0.000000    0.000000       0.000000      0.000000        0.000000  \n",
       "25%       0.000000    0.000000       0.000000      0.000000        0.000000  \n",
       "50%       0.000000    0.000000       0.000000      0.000000        0.000000  \n",
       "75%       0.000000    0.000000       0.000000      0.000000        0.000000  \n",
       "max       0.913043    7.000000       0.500000     31.304952        9.949874  \n",
       "\n",
       "[8 rows x 4179 columns]"
      ]
     },
     "execution_count": 179,
     "metadata": {},
     "output_type": "execute_result"
    }
   ],
   "source": [
    "df.describe()"
   ]
  },
  {
   "cell_type": "markdown",
   "id": "79a55bef",
   "metadata": {},
   "source": [
    "# Split the dataset\n",
    "- Split dataset into training and test set \n",
    "- Use equal proportions of odor/odorless class"
   ]
  },
  {
   "cell_type": "code",
   "execution_count": 180,
   "id": "79ab3d50",
   "metadata": {},
   "outputs": [
    {
     "name": "stdout",
     "output_type": "stream",
     "text": [
      "Total number molecules in training set: 692\n",
      "Odor: 492\n",
      "Odorless: 200\n",
      "\n",
      "Total number molecules in test set: 173\n",
      "Odor: 123\n",
      "Odorless: 50\n",
      "\n",
      "Percentage odorless 0.28901734104046245\n"
     ]
    }
   ],
   "source": [
    "X_train, X_test, y_train, y_test = train_test_split(X, y, test_size=0.2, stratify=y, random_state=0) # 70% training and 30% test\n",
    "percentage_odorless = y_train.value_counts()[False]/y_train.shape[0]\n",
    "percentage_odor = 1 - percentage_odorless\n",
    "print(f\"Total number molecules in training set: {y_train.shape[0]}\")\n",
    "print(f\"Odor: {y_train.value_counts()[True]}\")\n",
    "print(f\"Odorless: {y_train.value_counts()[False]}\")\n",
    "\n",
    "print(f\"\\nTotal number molecules in test set: {y_test.shape[0]}\")\n",
    "print(f\"Odor: {y_test.value_counts()[True]}\")\n",
    "print(f\"Odorless: {y_test.value_counts()[False]}\")\n",
    "\n",
    "print(f\"\\nPercentage odorless {y_test.value_counts()[False]/y_test.shape[0]}\")"
   ]
  },
  {
   "cell_type": "markdown",
   "id": "20a81706",
   "metadata": {},
   "source": [
    "### Validation set"
   ]
  },
  {
   "cell_type": "code",
   "execution_count": 181,
   "id": "d1489ba1",
   "metadata": {},
   "outputs": [
    {
     "name": "stdout",
     "output_type": "stream",
     "text": [
      "Number of training samples: 484\n",
      "Number of validation samples: 208\n"
     ]
    }
   ],
   "source": [
    "X_train_t, X_val, y_train_t, y_val = train_test_split(X_train, y_train, test_size=0.3, stratify=y_train, random_state=SEED)\n",
    "\n",
    "print(\"Number of training samples:\", len(X_train_t))\n",
    "print(\"Number of validation samples:\", len(X_val))"
   ]
  },
  {
   "cell_type": "markdown",
   "id": "871c7438",
   "metadata": {},
   "source": [
    "# Test Model "
   ]
  },
  {
   "cell_type": "code",
   "execution_count": 194,
   "id": "2bae4b22",
   "metadata": {},
   "outputs": [],
   "source": [
    "def test_model(model, y_test, X_test, verbose=True):\n",
    "    y_pred=model.predict(X_test)\n",
    "    y_pred_probs=model.predict_proba(X_test)[:,1]\n",
    "    \n",
    "    if verbose:\n",
    "        print(\"ROC_AUC (TEST):\",metrics.roc_auc_score(y_test, y_pred_probs))\n",
    "        print(\"\\n\\nCLASSIFICATION REPORT:\\n\",metrics.classification_report(y_test, y_pred))\n",
    "        \n",
    "        if hasattr(model, 'feature_importances_') and hasattr(X_test, 'columns'):\n",
    "            feature_imp = pd.Series(model.feature_importances_,index=X_test.columns.values).sort_values(ascending=False)\n",
    "            top_20 = feature_imp.nlargest(20)\n",
    "            sns.barplot(x=top_20, y=top_20.index)\n",
    "            plt.xlabel('Descriptor Importance Score')\n",
    "            plt.ylabel('Descriptor')\n",
    "            plt.title(\"Top descriptors\")\n",
    "            plt.show()\n",
    "        \n",
    "        fpr, tpr, _ = metrics.roc_curve(y_test,  y_pred_probs)  \n",
    "        \n",
    "        #create ROC curve\n",
    "        plt.plot(fpr,tpr)\n",
    "        plt.ylabel('True Positive Rate')\n",
    "        plt.xlabel('False Positive Rate')\n",
    "        plt.show()\n",
    "        \n",
    "    return metrics.roc_auc_score(y_test, y_pred_probs) \n",
    "\n",
    "def test_model_cross_val(model, y_test, X_test, k=5, verbose=True):\n",
    "    roc_auc_nans = cross_val_score(model, X_test, y_test, cv=k, scoring='roc_auc')\n",
    "    print(f\"AVERAGE CV={k} ROC_AUC (TEST): {np.mean(roc_auc_nans)}\")\n",
    "    print(f\"AVERAGE CV={k} STD (TEST): {np.std(roc_auc_nans)}\")"
   ]
  },
  {
   "cell_type": "markdown",
   "id": "8bd5adb1",
   "metadata": {},
   "source": [
    "# Handle Non Important Descriptors "
   ]
  },
  {
   "cell_type": "markdown",
   "id": "6c45b2a2",
   "metadata": {},
   "source": [
    "1. Remove values below threshold e.g. 0, any descriptors with 0 importance\n",
    "2. Get the top N descriptors"
   ]
  },
  {
   "cell_type": "code",
   "execution_count": 185,
   "id": "b4e733c1",
   "metadata": {},
   "outputs": [],
   "source": [
    "def handle_importance(model, X_train, X_test=pd.DataFrame(), threshold=-1, n=-1, verbose=None):\n",
    "    feature_imp = pd.Series(model.feature_importances_,index=X_train.columns.values).sort_values(ascending=False)\n",
    "    if threshold >= 0:\n",
    "        feature_imp = feature_imp[feature_imp > threshold]\n",
    "    \n",
    "    if n >= 0: \n",
    "        feature_imp = feature_imp.nlargest(n)\n",
    "        \n",
    "    if verbose: \n",
    "        print(feature_imp)\n",
    "        \n",
    "    X_train = X_train.loc[:, feature_imp.axes[0].tolist()]\n",
    "    \n",
    "    if not X_test.empty:\n",
    "        X_test = X_test.loc[:, feature_imp.axes[0].tolist()]\n",
    "\n",
    "    return X_train, X_test, model "
   ]
  },
  {
   "cell_type": "code",
   "execution_count": 189,
   "id": "b2e021f4",
   "metadata": {},
   "outputs": [],
   "source": [
    "def optimiseImportance(model, X_tr, y_tr, k=5, verbose=True):\n",
    "    \n",
    "    imp_params = [\n",
    "              {\"threshold\":-1, 'n':5}, \n",
    "              {\"threshold\":-1, 'n':10}, \n",
    "              {\"threshold\":-1, 'n':25}, \n",
    "              {\"threshold\":-1, 'n':50},\n",
    "              {\"threshold\":-1, 'n':100}, \n",
    "              {\"threshold\":-1, 'n':200}, \n",
    "              {\"threshold\":-1, 'n':400}, \n",
    "              {\"threshold\":-1, 'n':800},\n",
    "              {\"threshold\":-1, 'n':X_tr.shape[1]}]\n",
    "\n",
    "    print(f\"Cross validated importance experiment with k={k}\")\n",
    "    \n",
    "    imp_df = pd.DataFrame(columns=['Most important N descriptors', 'Average ROC_AUC', 'Standard Deviation'])\n",
    "\n",
    "    for imp_param in imp_params: \n",
    "        name = (f\"Threshold:{imp_param['threshold']}N:{imp_param['n']}\".replace(\"N:-1\", '')).replace(\"Threshold:-1\", '')\n",
    "        \n",
    "        if verbose:\n",
    "            print(name)\n",
    "        \n",
    "        X_tr_temp , _, _ = handle_importance(model, \n",
    "                                            X_tr.copy(), \n",
    "                                            threshold=imp_param['threshold'], \n",
    "                                            n=imp_param['n'])\n",
    "                \n",
    "        roc_auc_nans = cross_val_score(model, X_tr_temp, y_tr, cv=k, scoring='roc_auc')\n",
    "        \n",
    "        imp_df = imp_df.append({'Most important N descriptors': imp_param['n'], \n",
    "                               'Average ROC_AUC':np.mean(roc_auc_nans), \n",
    "                               'Standard Deviation':np.std(roc_auc_nans)}, \n",
    "                                ignore_index = True)\n",
    "\n",
    "    if verbose:\n",
    "        fig = imp_df.plot(kind=\"bar\", x=\"Most important N descriptors\", y=\"Average ROC_AUC\", yerr=\"Standard Deviation\", title=f\"ROC_AUC after filtering descriptors by importance CV={k}\", legend=False)\n",
    "        \n",
    "        plt.ylim(0.90,1)\n",
    "        \n",
    "    return imp_df"
   ]
  },
  {
   "cell_type": "markdown",
   "id": "0f1bf4be",
   "metadata": {},
   "source": [
    "# Handle NaNs\n"
   ]
  },
  {
   "cell_type": "markdown",
   "id": "c2288767",
   "metadata": {},
   "source": [
    "- You cannot have any missing values in the random forest model, you can in XGB\n",
    "- You cannot have mismatched features between columns in the random forest model\n",
    "- 3 options \n",
    "    1. Remove any columns with missing values \n",
    "    2. Remove columns above threshold percentange NaNs e.g. 60% NaNs. \n",
    "    3. Remove columns above threshold percentange NaNs e.g. 60% NaNs. Replace columns below threshold with missing values with the mean value."
   ]
  },
  {
   "cell_type": "code",
   "execution_count": 190,
   "id": "93581d4a",
   "metadata": {},
   "outputs": [],
   "source": [
    "def handleNaNs(X_tr, X_te, option=1, thresh=0.6): \n",
    "    if option == 1:\n",
    "        nans =  X.columns[X.isna().any()].tolist()\n",
    "        X_tr.drop(nans, inplace = True, axis=1)\n",
    "        X_te.drop(nans, inplace = True, axis=1)\n",
    "    else: \n",
    "        nans = X.isna().mean(axis=0)\n",
    "        # set threshold for percentage nans before we drop \n",
    "        X_thresh = nans[nans >= thresh]\n",
    "        X_tr.drop(X_thresh.index, \n",
    "          axis=1, \n",
    "          inplace=True)\n",
    "        X_te.drop(X_thresh.index, \n",
    "          axis=1, \n",
    "          inplace=True)\n",
    "        \n",
    "        if option == 3: \n",
    "            X_tr.fillna(X_train.mean(), inplace=True) \n",
    "            X_te.fillna(X_test.mean(), inplace=True)\n",
    "    \n",
    "    return X_tr, X_te"
   ]
  },
  {
   "cell_type": "code",
   "execution_count": 191,
   "id": "ce31d70f",
   "metadata": {},
   "outputs": [],
   "source": [
    "def optimiseNaNs(model, X_train, X_test, y_train, y_test, option=2, k=5, verbose=True): \n",
    "    print(f\"Cross validated missing values experiment with k={k}\")\n",
    "    \n",
    "    percentages = [x/100 for x in range(0, 100, 10)] \n",
    "    nans_df = pd.DataFrame(columns=['Name', 'Average ROC_AUC', 'Standard Deviation'])\n",
    "\n",
    "    for perc in percentages: \n",
    "        name = str(perc)\n",
    "        if perc == 0:\n",
    "            X_train_cv, _  = handleNaNs(X_train.copy(), X_test.copy(), option=1)\n",
    "        else:\n",
    "            X_train_cv, _  = handleNaNs(X_train.copy(), X_test.copy(), option=option, thresh=perc)\n",
    "\n",
    "        roc_auc_nans = cross_val_score(model, X_train_cv, y_train, cv=k, scoring='roc_auc')\n",
    "        \n",
    "        nans_df = nans_df.append({'Name': name, \n",
    "                                   'Average ROC_AUC':np.mean(roc_auc_nans), \n",
    "                                   'Standard Deviation':np.std(roc_auc_nans)}, \n",
    "                                    ignore_index = True)\n",
    "\n",
    "    if verbose:\n",
    "        fig = nans_df.plot(kind=\"bar\", x=\"Name\", y=\"Average ROC_AUC\", yerr=\"Standard Deviation\", title=f\"ROC_AUC after thresholding descriptors by % NaNs CV={k}\", legend=False)\n",
    "        plt.ylim(0.95,0.98)\n",
    "        \n",
    "    return nans_df"
   ]
  },
  {
   "cell_type": "markdown",
   "id": "89740143",
   "metadata": {},
   "source": [
    "# Random Forest Model"
   ]
  },
  {
   "cell_type": "markdown",
   "id": "b7a8cf3b",
   "metadata": {},
   "source": [
    "https://www.datacamp.com/tutorial/random-forests-classifier-python"
   ]
  },
  {
   "cell_type": "code",
   "execution_count": 214,
   "id": "7cb30c67",
   "metadata": {},
   "outputs": [],
   "source": [
    "# set random state to 0 to allow reproducible results\n",
    "clf=RandomForestClassifier(random_state=SEED) \n",
    "\n",
    "# For readability\n",
    "y_train_rf = y_train\n",
    "y_test_rf = y_test\n",
    "X_train_rf = X_train\n",
    "X_test_rf = X_test"
   ]
  },
  {
   "cell_type": "markdown",
   "id": "62f7458e",
   "metadata": {},
   "source": [
    "## Handle NaNs RF"
   ]
  },
  {
   "cell_type": "code",
   "execution_count": 193,
   "id": "13606466",
   "metadata": {
    "scrolled": true
   },
   "outputs": [
    {
     "name": "stdout",
     "output_type": "stream",
     "text": [
      "Cross validated missing values experiment with k=5\n"
     ]
    },
    {
     "data": {
      "text/html": [
       "<div>\n",
       "<style scoped>\n",
       "    .dataframe tbody tr th:only-of-type {\n",
       "        vertical-align: middle;\n",
       "    }\n",
       "\n",
       "    .dataframe tbody tr th {\n",
       "        vertical-align: top;\n",
       "    }\n",
       "\n",
       "    .dataframe thead th {\n",
       "        text-align: right;\n",
       "    }\n",
       "</style>\n",
       "<table border=\"1\" class=\"dataframe\">\n",
       "  <thead>\n",
       "    <tr style=\"text-align: right;\">\n",
       "      <th></th>\n",
       "      <th>Name</th>\n",
       "      <th>Average ROC_AUC</th>\n",
       "      <th>Standard Deviation</th>\n",
       "    </tr>\n",
       "  </thead>\n",
       "  <tbody>\n",
       "    <tr>\n",
       "      <th>0</th>\n",
       "      <td>0.0</td>\n",
       "      <td>0.975181</td>\n",
       "      <td>0.002905</td>\n",
       "    </tr>\n",
       "    <tr>\n",
       "      <th>1</th>\n",
       "      <td>0.1</td>\n",
       "      <td>0.965137</td>\n",
       "      <td>0.006763</td>\n",
       "    </tr>\n",
       "    <tr>\n",
       "      <th>2</th>\n",
       "      <td>0.2</td>\n",
       "      <td>0.966796</td>\n",
       "      <td>0.004213</td>\n",
       "    </tr>\n",
       "    <tr>\n",
       "      <th>3</th>\n",
       "      <td>0.3</td>\n",
       "      <td>0.965188</td>\n",
       "      <td>0.005255</td>\n",
       "    </tr>\n",
       "    <tr>\n",
       "      <th>4</th>\n",
       "      <td>0.4</td>\n",
       "      <td>0.967325</td>\n",
       "      <td>0.004961</td>\n",
       "    </tr>\n",
       "    <tr>\n",
       "      <th>5</th>\n",
       "      <td>0.5</td>\n",
       "      <td>0.966284</td>\n",
       "      <td>0.005474</td>\n",
       "    </tr>\n",
       "    <tr>\n",
       "      <th>6</th>\n",
       "      <td>0.6</td>\n",
       "      <td>0.966676</td>\n",
       "      <td>0.003705</td>\n",
       "    </tr>\n",
       "    <tr>\n",
       "      <th>7</th>\n",
       "      <td>0.7</td>\n",
       "      <td>0.966338</td>\n",
       "      <td>0.007946</td>\n",
       "    </tr>\n",
       "    <tr>\n",
       "      <th>8</th>\n",
       "      <td>0.8</td>\n",
       "      <td>0.966338</td>\n",
       "      <td>0.007946</td>\n",
       "    </tr>\n",
       "    <tr>\n",
       "      <th>9</th>\n",
       "      <td>0.9</td>\n",
       "      <td>0.966338</td>\n",
       "      <td>0.007946</td>\n",
       "    </tr>\n",
       "  </tbody>\n",
       "</table>\n",
       "</div>"
      ],
      "text/plain": [
       "  Name  Average ROC_AUC  Standard Deviation\n",
       "0  0.0         0.975181            0.002905\n",
       "1  0.1         0.965137            0.006763\n",
       "2  0.2         0.966796            0.004213\n",
       "3  0.3         0.965188            0.005255\n",
       "4  0.4         0.967325            0.004961\n",
       "5  0.5         0.966284            0.005474\n",
       "6  0.6         0.966676            0.003705\n",
       "7  0.7         0.966338            0.007946\n",
       "8  0.8         0.966338            0.007946\n",
       "9  0.9         0.966338            0.007946"
      ]
     },
     "execution_count": 193,
     "metadata": {},
     "output_type": "execute_result"
    },
    {
     "data": {
      "image/png": "[encoded data removed]",
      "text/plain": [
       "<Figure size 432x288 with 1 Axes>"
      ]
     },
     "metadata": {
      "needs_background": "light"
     },
     "output_type": "display_data"
    }
   ],
   "source": [
    "# choose optimal threshold for removing columns with NaNs\n",
    "optimiseNaNs(clf, X_train_rf, X_test_rf, y_train_rf, y_test_rf, option=3)"
   ]
  },
  {
   "cell_type": "markdown",
   "id": "5ee45265",
   "metadata": {},
   "source": [
    "let's just go with removing all the columns with missing values"
   ]
  },
  {
   "cell_type": "code",
   "execution_count": 215,
   "id": "72a8bc6e",
   "metadata": {},
   "outputs": [],
   "source": [
    "X_train_rf, X_test_rf = handleNaNs(X_train.copy(), X_test.copy(), option=1)"
   ]
  },
  {
   "cell_type": "code",
   "execution_count": 197,
   "id": "d424f366",
   "metadata": {
    "scrolled": true
   },
   "outputs": [
    {
     "name": "stdout",
     "output_type": "stream",
     "text": [
      "Validation performance of Random Forest after removing all columns with NaNs\n",
      "AVERAGE CV=5 ROC_AUC (TEST): 0.9751808905380333\n",
      "AVERAGE CV=5 STD (TEST): 0.0029051847115817383\n"
     ]
    }
   ],
   "source": [
    "clf.fit(X_train_rf, y_train_rf)\n",
    "print(\"Validation performance of Random Forest after removing all columns with NaNs\")\n",
    "test_model_cross_val(clf, y_train_rf, X_train_rf, k=5, verbose=True)"
   ]
  },
  {
   "cell_type": "markdown",
   "id": "4eb771b3",
   "metadata": {},
   "source": [
    "## Using Importance to reduce dimensionality"
   ]
  },
  {
   "cell_type": "code",
   "execution_count": 198,
   "id": "30ec02fd",
   "metadata": {},
   "outputs": [
    {
     "name": "stdout",
     "output_type": "stream",
     "text": [
      "Cross validated importance experiment with k=5\n",
      "N:5\n",
      "N:10\n",
      "N:25\n",
      "N:50\n",
      "N:100\n",
      "N:200\n",
      "N:400\n",
      "N:800\n",
      "N:3032\n"
     ]
    },
    {
     "data": {
      "text/html": [
       "<div>\n",
       "<style scoped>\n",
       "    .dataframe tbody tr th:only-of-type {\n",
       "        vertical-align: middle;\n",
       "    }\n",
       "\n",
       "    .dataframe tbody tr th {\n",
       "        vertical-align: top;\n",
       "    }\n",
       "\n",
       "    .dataframe thead th {\n",
       "        text-align: right;\n",
       "    }\n",
       "</style>\n",
       "<table border=\"1\" class=\"dataframe\">\n",
       "  <thead>\n",
       "    <tr style=\"text-align: right;\">\n",
       "      <th></th>\n",
       "      <th>Most important N descriptors</th>\n",
       "      <th>Average ROC_AUC</th>\n",
       "      <th>Standard Deviation</th>\n",
       "    </tr>\n",
       "  </thead>\n",
       "  <tbody>\n",
       "    <tr>\n",
       "      <th>0</th>\n",
       "      <td>5.0</td>\n",
       "      <td>0.949021</td>\n",
       "      <td>0.014549</td>\n",
       "    </tr>\n",
       "    <tr>\n",
       "      <th>1</th>\n",
       "      <td>10.0</td>\n",
       "      <td>0.956046</td>\n",
       "      <td>0.011110</td>\n",
       "    </tr>\n",
       "    <tr>\n",
       "      <th>2</th>\n",
       "      <td>25.0</td>\n",
       "      <td>0.969149</td>\n",
       "      <td>0.006399</td>\n",
       "    </tr>\n",
       "    <tr>\n",
       "      <th>3</th>\n",
       "      <td>50.0</td>\n",
       "      <td>0.971024</td>\n",
       "      <td>0.005777</td>\n",
       "    </tr>\n",
       "    <tr>\n",
       "      <th>4</th>\n",
       "      <td>100.0</td>\n",
       "      <td>0.973304</td>\n",
       "      <td>0.006724</td>\n",
       "    </tr>\n",
       "    <tr>\n",
       "      <th>5</th>\n",
       "      <td>200.0</td>\n",
       "      <td>0.975557</td>\n",
       "      <td>0.005642</td>\n",
       "    </tr>\n",
       "    <tr>\n",
       "      <th>6</th>\n",
       "      <td>400.0</td>\n",
       "      <td>0.975491</td>\n",
       "      <td>0.003073</td>\n",
       "    </tr>\n",
       "    <tr>\n",
       "      <th>7</th>\n",
       "      <td>800.0</td>\n",
       "      <td>0.974625</td>\n",
       "      <td>0.005131</td>\n",
       "    </tr>\n",
       "    <tr>\n",
       "      <th>8</th>\n",
       "      <td>3032.0</td>\n",
       "      <td>0.974292</td>\n",
       "      <td>0.002292</td>\n",
       "    </tr>\n",
       "  </tbody>\n",
       "</table>\n",
       "</div>"
      ],
      "text/plain": [
       "   Most important N descriptors  Average ROC_AUC  Standard Deviation\n",
       "0                           5.0         0.949021            0.014549\n",
       "1                          10.0         0.956046            0.011110\n",
       "2                          25.0         0.969149            0.006399\n",
       "3                          50.0         0.971024            0.005777\n",
       "4                         100.0         0.973304            0.006724\n",
       "5                         200.0         0.975557            0.005642\n",
       "6                         400.0         0.975491            0.003073\n",
       "7                         800.0         0.974625            0.005131\n",
       "8                        3032.0         0.974292            0.002292"
      ]
     },
     "execution_count": 198,
     "metadata": {},
     "output_type": "execute_result"
    },
    {
     "data": {
      "image/png": "[encoded data removed]",
      "text/plain": [
       "<Figure size 432x288 with 1 Axes>"
      ]
     },
     "metadata": {
      "needs_background": "light"
     },
     "output_type": "display_data"
    }
   ],
   "source": [
    "clf.fit(X_train_rf, y_train_rf)\n",
    "optimiseImportance(clf, X_train_rf, y_train_rf)"
   ]
  },
  {
   "cell_type": "markdown",
   "id": "2b489c9f",
   "metadata": {},
   "source": [
    "### Remove labels "
   ]
  },
  {
   "cell_type": "code",
   "execution_count": 216,
   "id": "c71cc91f",
   "metadata": {},
   "outputs": [],
   "source": [
    "clf.fit(X_train_rf, y_train_rf)\n",
    "X_train_rf, X_test_rf, clf = handle_importance(clf, \n",
    "                                               X_train_rf, \n",
    "                                               X_test_rf, \n",
    "                                               threshold=-1, \n",
    "                                               n=400)"
   ]
  },
  {
   "cell_type": "code",
   "execution_count": 217,
   "id": "27a677ab",
   "metadata": {},
   "outputs": [
    {
     "name": "stdout",
     "output_type": "stream",
     "text": [
      "Validation set performance of Random Forest after removing labels\n",
      "AVERAGE CV=5 ROC_AUC (TEST): 0.9754906204906206\n",
      "AVERAGE CV=5 STD (TEST): 0.003072920395158456\n"
     ]
    }
   ],
   "source": [
    "clf.fit(X_train_rf, y_train_rf)\n",
    "print(\"Validation set performance of Random Forest after removing labels\")\n",
    "test_model_cross_val(clf, y_train_rf, X_train_rf, k=5, verbose=True)"
   ]
  },
  {
   "cell_type": "code",
   "execution_count": 218,
   "id": "08e00c94",
   "metadata": {},
   "outputs": [
    {
     "data": {
      "text/html": [
       "<div>\n",
       "<style scoped>\n",
       "    .dataframe tbody tr th:only-of-type {\n",
       "        vertical-align: middle;\n",
       "    }\n",
       "\n",
       "    .dataframe tbody tr th {\n",
       "        vertical-align: top;\n",
       "    }\n",
       "\n",
       "    .dataframe thead th {\n",
       "        text-align: right;\n",
       "    }\n",
       "</style>\n",
       "<table border=\"1\" class=\"dataframe\">\n",
       "  <thead>\n",
       "    <tr style=\"text-align: right;\">\n",
       "      <th></th>\n",
       "      <th>ATSC2e</th>\n",
       "      <th>nHet</th>\n",
       "      <th>P_VSA_v_2</th>\n",
       "      <th>DELS</th>\n",
       "      <th>ATSC1e</th>\n",
       "      <th>Me</th>\n",
       "      <th>AAC</th>\n",
       "      <th>nHAcc</th>\n",
       "      <th>ATSC3e</th>\n",
       "      <th>TPSA(NO)</th>\n",
       "      <th>...</th>\n",
       "      <th>GATS7i</th>\n",
       "      <th>D/Dtr06</th>\n",
       "      <th>MPC09</th>\n",
       "      <th>AP</th>\n",
       "      <th>ATSC2p</th>\n",
       "      <th>MaxTD</th>\n",
       "      <th>H-051</th>\n",
       "      <th>ATS2m</th>\n",
       "      <th>MaxssNH</th>\n",
       "      <th>MATS4i</th>\n",
       "    </tr>\n",
       "  </thead>\n",
       "  <tbody>\n",
       "    <tr>\n",
       "      <th>C1=CC(=CC=C1C(=O)O)[N+](=O)[O-]</th>\n",
       "      <td>0.335174</td>\n",
       "      <td>5</td>\n",
       "      <td>124.245235</td>\n",
       "      <td>24.074203</td>\n",
       "      <td>0.190710</td>\n",
       "      <td>1.069306</td>\n",
       "      <td>1.777985</td>\n",
       "      <td>4</td>\n",
       "      <td>0.365377</td>\n",
       "      <td>83.12</td>\n",
       "      <td>...</td>\n",
       "      <td>0.055428</td>\n",
       "      <td>38.895238</td>\n",
       "      <td>0.000000</td>\n",
       "      <td>0.500000</td>\n",
       "      <td>2.145166</td>\n",
       "      <td>7</td>\n",
       "      <td>0</td>\n",
       "      <td>3.043008</td>\n",
       "      <td>0.0</td>\n",
       "      <td>-0.222453</td>\n",
       "    </tr>\n",
       "    <tr>\n",
       "      <th>CCCCCCCCCCCCCCCCO</th>\n",
       "      <td>0.108732</td>\n",
       "      <td>1</td>\n",
       "      <td>42.683343</td>\n",
       "      <td>5.843465</td>\n",
       "      <td>0.064252</td>\n",
       "      <td>0.967618</td>\n",
       "      <td>1.025881</td>\n",
       "      <td>1</td>\n",
       "      <td>0.135001</td>\n",
       "      <td>20.23</td>\n",
       "      <td>...</td>\n",
       "      <td>0.959732</td>\n",
       "      <td>0.000000</td>\n",
       "      <td>2.197225</td>\n",
       "      <td>0.000000</td>\n",
       "      <td>8.440929</td>\n",
       "      <td>16</td>\n",
       "      <td>0</td>\n",
       "      <td>3.086386</td>\n",
       "      <td>0.0</td>\n",
       "      <td>-0.003185</td>\n",
       "    </tr>\n",
       "    <tr>\n",
       "      <th>C1(C(O1)(F)F)(C(F)(F)F)F</th>\n",
       "      <td>0.517348</td>\n",
       "      <td>7</td>\n",
       "      <td>100.760568</td>\n",
       "      <td>39.656250</td>\n",
       "      <td>0.473117</td>\n",
       "      <td>1.305430</td>\n",
       "      <td>1.295462</td>\n",
       "      <td>7</td>\n",
       "      <td>0.348542</td>\n",
       "      <td>12.53</td>\n",
       "      <td>...</td>\n",
       "      <td>0.000000</td>\n",
       "      <td>0.000000</td>\n",
       "      <td>0.000000</td>\n",
       "      <td>0.000000</td>\n",
       "      <td>1.204939</td>\n",
       "      <td>4</td>\n",
       "      <td>0</td>\n",
       "      <td>3.425556</td>\n",
       "      <td>0.0</td>\n",
       "      <td>0.631352</td>\n",
       "    </tr>\n",
       "    <tr>\n",
       "      <th>CC(C)(C=C)O</th>\n",
       "      <td>0.037322</td>\n",
       "      <td>1</td>\n",
       "      <td>42.683343</td>\n",
       "      <td>6.180556</td>\n",
       "      <td>0.027047</td>\n",
       "      <td>0.984081</td>\n",
       "      <td>1.198192</td>\n",
       "      <td>1</td>\n",
       "      <td>0.123916</td>\n",
       "      <td>20.23</td>\n",
       "      <td>...</td>\n",
       "      <td>0.000000</td>\n",
       "      <td>0.000000</td>\n",
       "      <td>0.000000</td>\n",
       "      <td>0.000000</td>\n",
       "      <td>2.059366</td>\n",
       "      <td>3</td>\n",
       "      <td>0</td>\n",
       "      <td>2.299702</td>\n",
       "      <td>0.0</td>\n",
       "      <td>-0.002656</td>\n",
       "    </tr>\n",
       "    <tr>\n",
       "      <th>C=CCC1=CC2=C(C=C1)OCO2</th>\n",
       "      <td>0.203276</td>\n",
       "      <td>2</td>\n",
       "      <td>21.999776</td>\n",
       "      <td>8.225762</td>\n",
       "      <td>0.006404</td>\n",
       "      <td>1.003300</td>\n",
       "      <td>1.348588</td>\n",
       "      <td>2</td>\n",
       "      <td>0.067411</td>\n",
       "      <td>18.46</td>\n",
       "      <td>...</td>\n",
       "      <td>0.721893</td>\n",
       "      <td>24.952273</td>\n",
       "      <td>2.302585</td>\n",
       "      <td>0.500000</td>\n",
       "      <td>3.477681</td>\n",
       "      <td>7</td>\n",
       "      <td>0</td>\n",
       "      <td>3.079629</td>\n",
       "      <td>0.0</td>\n",
       "      <td>-0.109523</td>\n",
       "    </tr>\n",
       "    <tr>\n",
       "      <th>...</th>\n",
       "      <td>...</td>\n",
       "      <td>...</td>\n",
       "      <td>...</td>\n",
       "      <td>...</td>\n",
       "      <td>...</td>\n",
       "      <td>...</td>\n",
       "      <td>...</td>\n",
       "      <td>...</td>\n",
       "      <td>...</td>\n",
       "      <td>...</td>\n",
       "      <td>...</td>\n",
       "      <td>...</td>\n",
       "      <td>...</td>\n",
       "      <td>...</td>\n",
       "      <td>...</td>\n",
       "      <td>...</td>\n",
       "      <td>...</td>\n",
       "      <td>...</td>\n",
       "      <td>...</td>\n",
       "      <td>...</td>\n",
       "      <td>...</td>\n",
       "    </tr>\n",
       "    <tr>\n",
       "      <th>CCCCS</th>\n",
       "      <td>0.026535</td>\n",
       "      <td>1</td>\n",
       "      <td>0.000000</td>\n",
       "      <td>1.882716</td>\n",
       "      <td>0.017247</td>\n",
       "      <td>0.966293</td>\n",
       "      <td>1.158939</td>\n",
       "      <td>0</td>\n",
       "      <td>0.028096</td>\n",
       "      <td>0.00</td>\n",
       "      <td>...</td>\n",
       "      <td>0.000000</td>\n",
       "      <td>0.000000</td>\n",
       "      <td>0.000000</td>\n",
       "      <td>0.000000</td>\n",
       "      <td>2.823100</td>\n",
       "      <td>4</td>\n",
       "      <td>0</td>\n",
       "      <td>1.993241</td>\n",
       "      <td>0.0</td>\n",
       "      <td>0.015577</td>\n",
       "    </tr>\n",
       "    <tr>\n",
       "      <th>CCN(CC)CC</th>\n",
       "      <td>0.072153</td>\n",
       "      <td>1</td>\n",
       "      <td>3.124314</td>\n",
       "      <td>1.875000</td>\n",
       "      <td>0.034396</td>\n",
       "      <td>0.967591</td>\n",
       "      <td>1.090653</td>\n",
       "      <td>1</td>\n",
       "      <td>0.072967</td>\n",
       "      <td>3.24</td>\n",
       "      <td>...</td>\n",
       "      <td>0.000000</td>\n",
       "      <td>0.000000</td>\n",
       "      <td>0.000000</td>\n",
       "      <td>0.000000</td>\n",
       "      <td>2.308064</td>\n",
       "      <td>4</td>\n",
       "      <td>0</td>\n",
       "      <td>2.244372</td>\n",
       "      <td>0.0</td>\n",
       "      <td>-0.335337</td>\n",
       "    </tr>\n",
       "    <tr>\n",
       "      <th>C1=CC=C(C=C1)C(=O)C2=CC=CC=C2</th>\n",
       "      <td>0.019187</td>\n",
       "      <td>1</td>\n",
       "      <td>25.144927</td>\n",
       "      <td>9.692593</td>\n",
       "      <td>0.010213</td>\n",
       "      <td>0.989387</td>\n",
       "      <td>1.196421</td>\n",
       "      <td>1</td>\n",
       "      <td>0.046158</td>\n",
       "      <td>17.07</td>\n",
       "      <td>...</td>\n",
       "      <td>1.101148</td>\n",
       "      <td>87.437807</td>\n",
       "      <td>2.833213</td>\n",
       "      <td>0.857143</td>\n",
       "      <td>3.389787</td>\n",
       "      <td>8</td>\n",
       "      <td>0</td>\n",
       "      <td>3.106665</td>\n",
       "      <td>0.0</td>\n",
       "      <td>0.014674</td>\n",
       "    </tr>\n",
       "    <tr>\n",
       "      <th>N</th>\n",
       "      <td>0.000000</td>\n",
       "      <td>2</td>\n",
       "      <td>61.873667</td>\n",
       "      <td>0.000000</td>\n",
       "      <td>0.000000</td>\n",
       "      <td>1.160000</td>\n",
       "      <td>0.000000</td>\n",
       "      <td>2</td>\n",
       "      <td>0.000000</td>\n",
       "      <td>47.58</td>\n",
       "      <td>...</td>\n",
       "      <td>0.000000</td>\n",
       "      <td>0.000000</td>\n",
       "      <td>0.000000</td>\n",
       "      <td>0.000000</td>\n",
       "      <td>0.000000</td>\n",
       "      <td>1</td>\n",
       "      <td>0</td>\n",
       "      <td>0.000000</td>\n",
       "      <td>0.0</td>\n",
       "      <td>0.000000</td>\n",
       "    </tr>\n",
       "    <tr>\n",
       "      <th>CC(C)N</th>\n",
       "      <td>0.031831</td>\n",
       "      <td>1</td>\n",
       "      <td>32.897187</td>\n",
       "      <td>2.222222</td>\n",
       "      <td>0.024106</td>\n",
       "      <td>0.972015</td>\n",
       "      <td>1.140116</td>\n",
       "      <td>1</td>\n",
       "      <td>0.049840</td>\n",
       "      <td>26.02</td>\n",
       "      <td>...</td>\n",
       "      <td>0.000000</td>\n",
       "      <td>0.000000</td>\n",
       "      <td>0.000000</td>\n",
       "      <td>0.000000</td>\n",
       "      <td>1.221341</td>\n",
       "      <td>2</td>\n",
       "      <td>0</td>\n",
       "      <td>1.671776</td>\n",
       "      <td>0.0</td>\n",
       "      <td>0.196900</td>\n",
       "    </tr>\n",
       "  </tbody>\n",
       "</table>\n",
       "<p>692 rows × 400 columns</p>\n",
       "</div>"
      ],
      "text/plain": [
       "                                   ATSC2e  nHet   P_VSA_v_2       DELS  \\\n",
       "C1=CC(=CC=C1C(=O)O)[N+](=O)[O-]  0.335174     5  124.245235  24.074203   \n",
       "CCCCCCCCCCCCCCCCO                0.108732     1   42.683343   5.843465   \n",
       "C1(C(O1)(F)F)(C(F)(F)F)F         0.517348     7  100.760568  39.656250   \n",
       "CC(C)(C=C)O                      0.037322     1   42.683343   6.180556   \n",
       "C=CCC1=CC2=C(C=C1)OCO2           0.203276     2   21.999776   8.225762   \n",
       "...                                   ...   ...         ...        ...   \n",
       "CCCCS                            0.026535     1    0.000000   1.882716   \n",
       "CCN(CC)CC                        0.072153     1    3.124314   1.875000   \n",
       "C1=CC=C(C=C1)C(=O)C2=CC=CC=C2    0.019187     1   25.144927   9.692593   \n",
       "N                                0.000000     2   61.873667   0.000000   \n",
       "CC(C)N                           0.031831     1   32.897187   2.222222   \n",
       "\n",
       "                                   ATSC1e        Me       AAC  nHAcc  \\\n",
       "C1=CC(=CC=C1C(=O)O)[N+](=O)[O-]  0.190710  1.069306  1.777985      4   \n",
       "CCCCCCCCCCCCCCCCO                0.064252  0.967618  1.025881      1   \n",
       "C1(C(O1)(F)F)(C(F)(F)F)F         0.473117  1.305430  1.295462      7   \n",
       "CC(C)(C=C)O                      0.027047  0.984081  1.198192      1   \n",
       "C=CCC1=CC2=C(C=C1)OCO2           0.006404  1.003300  1.348588      2   \n",
       "...                                   ...       ...       ...    ...   \n",
       "CCCCS                            0.017247  0.966293  1.158939      0   \n",
       "CCN(CC)CC                        0.034396  0.967591  1.090653      1   \n",
       "C1=CC=C(C=C1)C(=O)C2=CC=CC=C2    0.010213  0.989387  1.196421      1   \n",
       "N                                0.000000  1.160000  0.000000      2   \n",
       "CC(C)N                           0.024106  0.972015  1.140116      1   \n",
       "\n",
       "                                   ATSC3e  TPSA(NO)  ...    GATS7i    D/Dtr06  \\\n",
       "C1=CC(=CC=C1C(=O)O)[N+](=O)[O-]  0.365377     83.12  ...  0.055428  38.895238   \n",
       "CCCCCCCCCCCCCCCCO                0.135001     20.23  ...  0.959732   0.000000   \n",
       "C1(C(O1)(F)F)(C(F)(F)F)F         0.348542     12.53  ...  0.000000   0.000000   \n",
       "CC(C)(C=C)O                      0.123916     20.23  ...  0.000000   0.000000   \n",
       "C=CCC1=CC2=C(C=C1)OCO2           0.067411     18.46  ...  0.721893  24.952273   \n",
       "...                                   ...       ...  ...       ...        ...   \n",
       "CCCCS                            0.028096      0.00  ...  0.000000   0.000000   \n",
       "CCN(CC)CC                        0.072967      3.24  ...  0.000000   0.000000   \n",
       "C1=CC=C(C=C1)C(=O)C2=CC=CC=C2    0.046158     17.07  ...  1.101148  87.437807   \n",
       "N                                0.000000     47.58  ...  0.000000   0.000000   \n",
       "CC(C)N                           0.049840     26.02  ...  0.000000   0.000000   \n",
       "\n",
       "                                    MPC09        AP    ATSC2p  MaxTD  H-051  \\\n",
       "C1=CC(=CC=C1C(=O)O)[N+](=O)[O-]  0.000000  0.500000  2.145166      7      0   \n",
       "CCCCCCCCCCCCCCCCO                2.197225  0.000000  8.440929     16      0   \n",
       "C1(C(O1)(F)F)(C(F)(F)F)F         0.000000  0.000000  1.204939      4      0   \n",
       "CC(C)(C=C)O                      0.000000  0.000000  2.059366      3      0   \n",
       "C=CCC1=CC2=C(C=C1)OCO2           2.302585  0.500000  3.477681      7      0   \n",
       "...                                   ...       ...       ...    ...    ...   \n",
       "CCCCS                            0.000000  0.000000  2.823100      4      0   \n",
       "CCN(CC)CC                        0.000000  0.000000  2.308064      4      0   \n",
       "C1=CC=C(C=C1)C(=O)C2=CC=CC=C2    2.833213  0.857143  3.389787      8      0   \n",
       "N                                0.000000  0.000000  0.000000      1      0   \n",
       "CC(C)N                           0.000000  0.000000  1.221341      2      0   \n",
       "\n",
       "                                    ATS2m  MaxssNH    MATS4i  \n",
       "C1=CC(=CC=C1C(=O)O)[N+](=O)[O-]  3.043008      0.0 -0.222453  \n",
       "CCCCCCCCCCCCCCCCO                3.086386      0.0 -0.003185  \n",
       "C1(C(O1)(F)F)(C(F)(F)F)F         3.425556      0.0  0.631352  \n",
       "CC(C)(C=C)O                      2.299702      0.0 -0.002656  \n",
       "C=CCC1=CC2=C(C=C1)OCO2           3.079629      0.0 -0.109523  \n",
       "...                                   ...      ...       ...  \n",
       "CCCCS                            1.993241      0.0  0.015577  \n",
       "CCN(CC)CC                        2.244372      0.0 -0.335337  \n",
       "C1=CC=C(C=C1)C(=O)C2=CC=CC=C2    3.106665      0.0  0.014674  \n",
       "N                                0.000000      0.0  0.000000  \n",
       "CC(C)N                           1.671776      0.0  0.196900  \n",
       "\n",
       "[692 rows x 400 columns]"
      ]
     },
     "execution_count": 218,
     "metadata": {},
     "output_type": "execute_result"
    }
   ],
   "source": [
    "X_train_rf"
   ]
  },
  {
   "cell_type": "markdown",
   "id": "8d1f13b1",
   "metadata": {},
   "source": [
    "## Tuning the hyperparamaters "
   ]
  },
  {
   "cell_type": "code",
   "execution_count": 219,
   "id": "995afc2a",
   "metadata": {},
   "outputs": [
    {
     "name": "stdout",
     "output_type": "stream",
     "text": [
      "Parameters currently in use:\n",
      "\n",
      "{'bootstrap': True, 'ccp_alpha': 0.0, 'class_weight': None, 'criterion': 'gini', 'max_depth': None, 'max_features': 'sqrt', 'max_leaf_nodes': None, 'max_samples': None, 'min_impurity_decrease': 0.0, 'min_samples_leaf': 1, 'min_samples_split': 2, 'min_weight_fraction_leaf': 0.0, 'n_estimators': 100, 'n_jobs': None, 'oob_score': False, 'random_state': 0, 'verbose': 0, 'warm_start': False}\n"
     ]
    }
   ],
   "source": [
    "# Look at parameters used by our current forest\n",
    "print('Parameters currently in use:\\n')\n",
    "print(clf.get_params())"
   ]
  },
  {
   "cell_type": "code",
   "execution_count": 223,
   "id": "73e70bc3",
   "metadata": {},
   "outputs": [
    {
     "name": "stdout",
     "output_type": "stream",
     "text": [
      "Fitting 5 folds for each of 500 candidates, totalling 2500 fits\n",
      "{'n_estimators': 50, 'min_samples_split': 20, 'min_samples_leaf': 1, 'max_depth': 10, 'criterion': 'gini', 'bootstrap': False}\n"
     ]
    }
   ],
   "source": [
    "# Use the grid to search for best hyperparameters\n",
    "# Takes ~ 10 minutes to run \n",
    "\n",
    "# Number of trees in random forest\n",
    "n_estimators = [int(x) for x in np.linspace(start = 10, stop = 2000, num = 50)]\n",
    "# Maximum number of levels in tree\n",
    "max_depth = [int(x) for x in np.linspace(10, 20, num = 50)]\n",
    "max_depth.append(None)\n",
    "# Minimum number of samples required to split a node\n",
    "min_samples_split = [2, 5, 10, 15, 20, 40, 60, 100]\n",
    "# Minimum number of samples required at each leaf node\n",
    "min_samples_leaf = [1, 2, 3, 4, 5, 10]\n",
    "# Method of selecting samples for training each tree\n",
    "bootstrap = [True, False]\n",
    "# Criterion \n",
    "criterion = ['gini', 'entropy']\n",
    "\n",
    "# Create the random grid\n",
    "random_grid = {'n_estimators': n_estimators,\n",
    "               'max_depth': max_depth,\n",
    "               'min_samples_split': min_samples_split,\n",
    "               'min_samples_leaf': min_samples_leaf,\n",
    "               'bootstrap': bootstrap, \n",
    "               'criterion': criterion}\n",
    "\n",
    "# Random search of parameters, using 5 fold cross validation, \n",
    "# search across 500 different combinations, and use all available cores\n",
    "rf_random = RandomizedSearchCV(estimator=clf, param_distributions = random_grid, n_iter = 500, cv = 5, verbose=1, random_state=SEED, n_jobs = -1)\n",
    "# Fit the random search model\n",
    "rf_random.fit(X_train_rf, y_train_rf)\n",
    "\n",
    "# Print best paramaters \n",
    "print(rf_random.best_params_)"
   ]
  },
  {
   "cell_type": "code",
   "execution_count": 224,
   "id": "84c7d64e",
   "metadata": {},
   "outputs": [
    {
     "data": {
      "text/plain": [
       "{'bootstrap': False,\n",
       " 'ccp_alpha': 0.0,\n",
       " 'class_weight': None,\n",
       " 'criterion': 'gini',\n",
       " 'max_depth': 10,\n",
       " 'max_features': 'sqrt',\n",
       " 'max_leaf_nodes': None,\n",
       " 'max_samples': None,\n",
       " 'min_impurity_decrease': 0.0,\n",
       " 'min_samples_leaf': 1,\n",
       " 'min_samples_split': 20,\n",
       " 'min_weight_fraction_leaf': 0.0,\n",
       " 'n_estimators': 50,\n",
       " 'n_jobs': None,\n",
       " 'oob_score': False,\n",
       " 'random_state': 0,\n",
       " 'verbose': 0,\n",
       " 'warm_start': False}"
      ]
     },
     "execution_count": 224,
     "metadata": {},
     "output_type": "execute_result"
    }
   ],
   "source": [
    "rf_random.best_estimator_.get_params()"
   ]
  },
  {
   "cell_type": "code",
   "execution_count": 228,
   "id": "a8a3d4a9",
   "metadata": {},
   "outputs": [
    {
     "data": {
      "text/html": [
       "<style>#sk-container-id-6 {color: black;background-color: white;}#sk-container-id-6 pre{padding: 0;}#sk-container-id-6 div.sk-toggleable {background-color: white;}#sk-container-id-6 label.sk-toggleable__label {cursor: pointer;display: block;width: 100%;margin-bottom: 0;padding: 0.3em;box-sizing: border-box;text-align: center;}#sk-container-id-6 label.sk-toggleable__label-arrow:before {content: \"▸\";float: left;margin-right: 0.25em;color: #696969;}#sk-container-id-6 label.sk-toggleable__label-arrow:hover:before {color: black;}#sk-container-id-6 div.sk-estimator:hover label.sk-toggleable__label-arrow:before {color: black;}#sk-container-id-6 div.sk-toggleable__content {max-height: 0;max-width: 0;overflow: hidden;text-align: left;background-color: #f0f8ff;}#sk-container-id-6 div.sk-toggleable__content pre {margin: 0.2em;color: black;border-radius: 0.25em;background-color: #f0f8ff;}#sk-container-id-6 input.sk-toggleable__control:checked~div.sk-toggleable__content {max-height: 200px;max-width: 100%;overflow: auto;}#sk-container-id-6 input.sk-toggleable__control:checked~label.sk-toggleable__label-arrow:before {content: \"▾\";}#sk-container-id-6 div.sk-estimator input.sk-toggleable__control:checked~label.sk-toggleable__label {background-color: #d4ebff;}#sk-container-id-6 div.sk-label input.sk-toggleable__control:checked~label.sk-toggleable__label {background-color: #d4ebff;}#sk-container-id-6 input.sk-hidden--visually {border: 0;clip: rect(1px 1px 1px 1px);clip: rect(1px, 1px, 1px, 1px);height: 1px;margin: -1px;overflow: hidden;padding: 0;position: absolute;width: 1px;}#sk-container-id-6 div.sk-estimator {font-family: monospace;background-color: #f0f8ff;border: 1px dotted black;border-radius: 0.25em;box-sizing: border-box;margin-bottom: 0.5em;}#sk-container-id-6 div.sk-estimator:hover {background-color: #d4ebff;}#sk-container-id-6 div.sk-parallel-item::after {content: \"\";width: 100%;border-bottom: 1px solid gray;flex-grow: 1;}#sk-container-id-6 div.sk-label:hover label.sk-toggleable__label {background-color: #d4ebff;}#sk-container-id-6 div.sk-serial::before {content: \"\";position: absolute;border-left: 1px solid gray;box-sizing: border-box;top: 0;bottom: 0;left: 50%;z-index: 0;}#sk-container-id-6 div.sk-serial {display: flex;flex-direction: column;align-items: center;background-color: white;padding-right: 0.2em;padding-left: 0.2em;position: relative;}#sk-container-id-6 div.sk-item {position: relative;z-index: 1;}#sk-container-id-6 div.sk-parallel {display: flex;align-items: stretch;justify-content: center;background-color: white;position: relative;}#sk-container-id-6 div.sk-item::before, #sk-container-id-6 div.sk-parallel-item::before {content: \"\";position: absolute;border-left: 1px solid gray;box-sizing: border-box;top: 0;bottom: 0;left: 50%;z-index: -1;}#sk-container-id-6 div.sk-parallel-item {display: flex;flex-direction: column;z-index: 1;position: relative;background-color: white;}#sk-container-id-6 div.sk-parallel-item:first-child::after {align-self: flex-end;width: 50%;}#sk-container-id-6 div.sk-parallel-item:last-child::after {align-self: flex-start;width: 50%;}#sk-container-id-6 div.sk-parallel-item:only-child::after {width: 0;}#sk-container-id-6 div.sk-dashed-wrapped {border: 1px dashed gray;margin: 0 0.4em 0.5em 0.4em;box-sizing: border-box;padding-bottom: 0.4em;background-color: white;}#sk-container-id-6 div.sk-label label {font-family: monospace;font-weight: bold;display: inline-block;line-height: 1.2em;}#sk-container-id-6 div.sk-label-container {text-align: center;}#sk-container-id-6 div.sk-container {/* jupyter's `normalize.less` sets `[hidden] { display: none; }` but bootstrap.min.css set `[hidden] { display: none !important; }` so we also need the `!important` here to be able to override the default hidden behavior on the sphinx rendered scikit-learn.org. See: https://github.com/scikit-learn/scikit-learn/issues/21755 */display: inline-block !important;position: relative;}#sk-container-id-6 div.sk-text-repr-fallback {display: none;}</style><div id=\"sk-container-id-6\" class=\"sk-top-container\"><div class=\"sk-text-repr-fallback\"><pre>RandomForestClassifier(bootstrap=False, max_depth=10, min_samples_split=20,\n",
       "                       n_estimators=50, random_state=0)</pre><b>In a Jupyter environment, please rerun this cell to show the HTML representation or trust the notebook. <br />On GitHub, the HTML representation is unable to render, please try loading this page with nbviewer.org.</b></div><div class=\"sk-container\" hidden><div class=\"sk-item\"><div class=\"sk-estimator sk-toggleable\"><input class=\"sk-toggleable__control sk-hidden--visually\" id=\"sk-estimator-id-6\" type=\"checkbox\" checked><label for=\"sk-estimator-id-6\" class=\"sk-toggleable__label sk-toggleable__label-arrow\">RandomForestClassifier</label><div class=\"sk-toggleable__content\"><pre>RandomForestClassifier(bootstrap=False, max_depth=10, min_samples_split=20,\n",
       "                       n_estimators=50, random_state=0)</pre></div></div></div></div></div>"
      ],
      "text/plain": [
       "RandomForestClassifier(bootstrap=False, max_depth=10, min_samples_split=20,\n",
       "                       n_estimators=50, random_state=0)"
      ]
     },
     "execution_count": 228,
     "metadata": {},
     "output_type": "execute_result"
    }
   ],
   "source": [
    "tuned_rf= RandomForestClassifier(n_estimators=50,\n",
    "                                 min_samples_split=20,\n",
    "                                 min_samples_leaf=1,\n",
    "                                 max_features='sqrt',\n",
    "                                 max_depth=10,\n",
    "                                 criterion='gini',\n",
    "                                 bootstrap=False,\n",
    "                                 random_state=SEED)\n",
    "tuned_rf.fit(X_train_rf, y_train_rf)"
   ]
  },
  {
   "cell_type": "code",
   "execution_count": 229,
   "id": "1da6156e",
   "metadata": {},
   "outputs": [
    {
     "name": "stdout",
     "output_type": "stream",
     "text": [
      "Final tuned validation set performance of Random Forest\n",
      "AVERAGE CV=5 ROC_AUC (TEST): 0.9734271284271285\n",
      "AVERAGE CV=5 STD (TEST): 0.004681296499342658\n"
     ]
    }
   ],
   "source": [
    "tuned_rf.fit(X_train_rf, y_train_rf)\n",
    "print(\"Final tuned validation set performance of Random Forest\")\n",
    "test_model_cross_val(tuned_rf, y_train_rf, X_train_rf, k=5, verbose=True)"
   ]
  },
  {
   "cell_type": "code",
   "execution_count": 230,
   "id": "0e2364d6",
   "metadata": {},
   "outputs": [
    {
     "name": "stdout",
     "output_type": "stream",
     "text": [
      "ROC_AUC (TEST): 0.984390243902439\n",
      "\n",
      "\n",
      "CLASSIFICATION REPORT:\n",
      "               precision    recall  f1-score   support\n",
      "\n",
      "       False       0.87      0.90      0.88        50\n",
      "        True       0.96      0.94      0.95       123\n",
      "\n",
      "    accuracy                           0.93       173\n",
      "   macro avg       0.91      0.92      0.92       173\n",
      "weighted avg       0.93      0.93      0.93       173\n",
      "\n"
     ]
    },
    {
     "data": {
      "image/png": "[encoded data removed]",
      "text/plain": [
       "<Figure size 432x288 with 1 Axes>"
      ]
     },
     "metadata": {
      "needs_background": "light"
     },
     "output_type": "display_data"
    },
    {
     "data": {
      "image/png": "[encoded data removed]",
      "text/plain": [
       "<Figure size 432x288 with 1 Axes>"
      ]
     },
     "metadata": {
      "needs_background": "light"
     },
     "output_type": "display_data"
    },
    {
     "data": {
      "text/plain": [
       "0.984390243902439"
      ]
     },
     "execution_count": 230,
     "metadata": {},
     "output_type": "execute_result"
    }
   ],
   "source": [
    "tuned_rf.fit(X_train_rf, y_train_rf)\n",
    "test_model(tuned_rf, y_test_rf, X_test_rf)"
   ]
  },
  {
   "cell_type": "markdown",
   "id": "21de6403",
   "metadata": {},
   "source": [
    "# XgBoost\n",
    "\n",
    "https://practicaldatascience.co.uk/machine-learning/how-to-create-a-classification-model-using-xgboost"
   ]
  },
  {
   "cell_type": "code",
   "execution_count": 242,
   "id": "e57ad057",
   "metadata": {},
   "outputs": [],
   "source": [
    "# for readibility \n",
    "y_train_xgb = y_train\n",
    "y_test_xgb = y_test\n",
    "X_train_xgb = X_train\n",
    "X_test_xgb = X_test"
   ]
  },
  {
   "cell_type": "markdown",
   "id": "d4a257ed",
   "metadata": {},
   "source": [
    "## Create model"
   ]
  },
  {
   "cell_type": "code",
   "execution_count": 243,
   "id": "397c843f",
   "metadata": {},
   "outputs": [
    {
     "data": {
      "text/html": [
       "<style>#sk-container-id-8 {color: black;background-color: white;}#sk-container-id-8 pre{padding: 0;}#sk-container-id-8 div.sk-toggleable {background-color: white;}#sk-container-id-8 label.sk-toggleable__label {cursor: pointer;display: block;width: 100%;margin-bottom: 0;padding: 0.3em;box-sizing: border-box;text-align: center;}#sk-container-id-8 label.sk-toggleable__label-arrow:before {content: \"▸\";float: left;margin-right: 0.25em;color: #696969;}#sk-container-id-8 label.sk-toggleable__label-arrow:hover:before {color: black;}#sk-container-id-8 div.sk-estimator:hover label.sk-toggleable__label-arrow:before {color: black;}#sk-container-id-8 div.sk-toggleable__content {max-height: 0;max-width: 0;overflow: hidden;text-align: left;background-color: #f0f8ff;}#sk-container-id-8 div.sk-toggleable__content pre {margin: 0.2em;color: black;border-radius: 0.25em;background-color: #f0f8ff;}#sk-container-id-8 input.sk-toggleable__control:checked~div.sk-toggleable__content {max-height: 200px;max-width: 100%;overflow: auto;}#sk-container-id-8 input.sk-toggleable__control:checked~label.sk-toggleable__label-arrow:before {content: \"▾\";}#sk-container-id-8 div.sk-estimator input.sk-toggleable__control:checked~label.sk-toggleable__label {background-color: #d4ebff;}#sk-container-id-8 div.sk-label input.sk-toggleable__control:checked~label.sk-toggleable__label {background-color: #d4ebff;}#sk-container-id-8 input.sk-hidden--visually {border: 0;clip: rect(1px 1px 1px 1px);clip: rect(1px, 1px, 1px, 1px);height: 1px;margin: -1px;overflow: hidden;padding: 0;position: absolute;width: 1px;}#sk-container-id-8 div.sk-estimator {font-family: monospace;background-color: #f0f8ff;border: 1px dotted black;border-radius: 0.25em;box-sizing: border-box;margin-bottom: 0.5em;}#sk-container-id-8 div.sk-estimator:hover {background-color: #d4ebff;}#sk-container-id-8 div.sk-parallel-item::after {content: \"\";width: 100%;border-bottom: 1px solid gray;flex-grow: 1;}#sk-container-id-8 div.sk-label:hover label.sk-toggleable__label {background-color: #d4ebff;}#sk-container-id-8 div.sk-serial::before {content: \"\";position: absolute;border-left: 1px solid gray;box-sizing: border-box;top: 0;bottom: 0;left: 50%;z-index: 0;}#sk-container-id-8 div.sk-serial {display: flex;flex-direction: column;align-items: center;background-color: white;padding-right: 0.2em;padding-left: 0.2em;position: relative;}#sk-container-id-8 div.sk-item {position: relative;z-index: 1;}#sk-container-id-8 div.sk-parallel {display: flex;align-items: stretch;justify-content: center;background-color: white;position: relative;}#sk-container-id-8 div.sk-item::before, #sk-container-id-8 div.sk-parallel-item::before {content: \"\";position: absolute;border-left: 1px solid gray;box-sizing: border-box;top: 0;bottom: 0;left: 50%;z-index: -1;}#sk-container-id-8 div.sk-parallel-item {display: flex;flex-direction: column;z-index: 1;position: relative;background-color: white;}#sk-container-id-8 div.sk-parallel-item:first-child::after {align-self: flex-end;width: 50%;}#sk-container-id-8 div.sk-parallel-item:last-child::after {align-self: flex-start;width: 50%;}#sk-container-id-8 div.sk-parallel-item:only-child::after {width: 0;}#sk-container-id-8 div.sk-dashed-wrapped {border: 1px dashed gray;margin: 0 0.4em 0.5em 0.4em;box-sizing: border-box;padding-bottom: 0.4em;background-color: white;}#sk-container-id-8 div.sk-label label {font-family: monospace;font-weight: bold;display: inline-block;line-height: 1.2em;}#sk-container-id-8 div.sk-label-container {text-align: center;}#sk-container-id-8 div.sk-container {/* jupyter's `normalize.less` sets `[hidden] { display: none; }` but bootstrap.min.css set `[hidden] { display: none !important; }` so we also need the `!important` here to be able to override the default hidden behavior on the sphinx rendered scikit-learn.org. See: https://github.com/scikit-learn/scikit-learn/issues/21755 */display: inline-block !important;position: relative;}#sk-container-id-8 div.sk-text-repr-fallback {display: none;}</style><div id=\"sk-container-id-8\" class=\"sk-top-container\"><div class=\"sk-text-repr-fallback\"><pre>XGBClassifier(base_score=None, booster=None, callbacks=None,\n",
       "              colsample_bylevel=None, colsample_bynode=None,\n",
       "              colsample_bytree=None, early_stopping_rounds=None,\n",
       "              enable_categorical=False, eval_metric=None, feature_types=None,\n",
       "              gamma=None, gpu_id=None, grow_policy=None, importance_type=None,\n",
       "              interaction_constraints=None, learning_rate=None, max_bin=None,\n",
       "              max_cat_threshold=None, max_cat_to_onehot=None,\n",
       "              max_delta_step=None, max_depth=None, max_leaves=None,\n",
       "              min_child_weight=None, missing=nan, monotone_constraints=None,\n",
       "              n_estimators=100, n_jobs=None, num_parallel_tree=None,\n",
       "              predictor=None, random_state=0, ...)</pre><b>In a Jupyter environment, please rerun this cell to show the HTML representation or trust the notebook. <br />On GitHub, the HTML representation is unable to render, please try loading this page with nbviewer.org.</b></div><div class=\"sk-container\" hidden><div class=\"sk-item\"><div class=\"sk-estimator sk-toggleable\"><input class=\"sk-toggleable__control sk-hidden--visually\" id=\"sk-estimator-id-8\" type=\"checkbox\" checked><label for=\"sk-estimator-id-8\" class=\"sk-toggleable__label sk-toggleable__label-arrow\">XGBClassifier</label><div class=\"sk-toggleable__content\"><pre>XGBClassifier(base_score=None, booster=None, callbacks=None,\n",
       "              colsample_bylevel=None, colsample_bynode=None,\n",
       "              colsample_bytree=None, early_stopping_rounds=None,\n",
       "              enable_categorical=False, eval_metric=None, feature_types=None,\n",
       "              gamma=None, gpu_id=None, grow_policy=None, importance_type=None,\n",
       "              interaction_constraints=None, learning_rate=None, max_bin=None,\n",
       "              max_cat_threshold=None, max_cat_to_onehot=None,\n",
       "              max_delta_step=None, max_depth=None, max_leaves=None,\n",
       "              min_child_weight=None, missing=nan, monotone_constraints=None,\n",
       "              n_estimators=100, n_jobs=None, num_parallel_tree=None,\n",
       "              predictor=None, random_state=0, ...)</pre></div></div></div></div></div>"
      ],
      "text/plain": [
       "XGBClassifier(base_score=None, booster=None, callbacks=None,\n",
       "              colsample_bylevel=None, colsample_bynode=None,\n",
       "              colsample_bytree=None, early_stopping_rounds=None,\n",
       "              enable_categorical=False, eval_metric=None, feature_types=None,\n",
       "              gamma=None, gpu_id=None, grow_policy=None, importance_type=None,\n",
       "              interaction_constraints=None, learning_rate=None, max_bin=None,\n",
       "              max_cat_threshold=None, max_cat_to_onehot=None,\n",
       "              max_delta_step=None, max_depth=None, max_leaves=None,\n",
       "              min_child_weight=None, missing=nan, monotone_constraints=None,\n",
       "              n_estimators=100, n_jobs=None, num_parallel_tree=None,\n",
       "              predictor=None, random_state=0, ...)"
      ]
     },
     "execution_count": 243,
     "metadata": {},
     "output_type": "execute_result"
    }
   ],
   "source": [
    "X_train_xgb.columns = X_train_xgb.columns.str.translate(\"\".maketrans({\"[\":\"{\", \"]\":\"}\",\"<\":\"^\"}))\n",
    "X_test_xgb.columns = X_test_xgb.columns.str.translate(\"\".maketrans({\"[\":\"{\", \"]\":\"}\",\"<\":\"^\"}))\n",
    "\n",
    "xgb = XGBClassifier(random_state=SEED)\n",
    "xgb.fit(X_train_xgb, y_train_xgb)"
   ]
  },
  {
   "cell_type": "code",
   "execution_count": 233,
   "id": "e4d43460",
   "metadata": {},
   "outputs": [
    {
     "name": "stdout",
     "output_type": "stream",
     "text": [
      "Baseline performance of XGBoost\n",
      "AVERAGE CV=5 ROC_AUC (TEST): 0.9697139764996908\n",
      "AVERAGE CV=5 STD (TEST): 0.004265886393982702\n"
     ]
    }
   ],
   "source": [
    "# Baseline results\n",
    "print(\"Baseline performance of XGBoost\")\n",
    "test_model_cross_val(xgb, y_train_xgb, X_train_xgb, k=5, verbose=True)"
   ]
  },
  {
   "cell_type": "markdown",
   "id": "c35abb5f",
   "metadata": {},
   "source": [
    "## Handle NaNs"
   ]
  },
  {
   "cell_type": "code",
   "execution_count": 234,
   "id": "a39bb891",
   "metadata": {},
   "outputs": [
    {
     "name": "stdout",
     "output_type": "stream",
     "text": [
      "Cross validated missing values experiment with k=5\n"
     ]
    },
    {
     "data": {
      "text/html": [
       "<div>\n",
       "<style scoped>\n",
       "    .dataframe tbody tr th:only-of-type {\n",
       "        vertical-align: middle;\n",
       "    }\n",
       "\n",
       "    .dataframe tbody tr th {\n",
       "        vertical-align: top;\n",
       "    }\n",
       "\n",
       "    .dataframe thead th {\n",
       "        text-align: right;\n",
       "    }\n",
       "</style>\n",
       "<table border=\"1\" class=\"dataframe\">\n",
       "  <thead>\n",
       "    <tr style=\"text-align: right;\">\n",
       "      <th></th>\n",
       "      <th>Name</th>\n",
       "      <th>Average ROC_AUC</th>\n",
       "      <th>Standard Deviation</th>\n",
       "    </tr>\n",
       "  </thead>\n",
       "  <tbody>\n",
       "    <tr>\n",
       "      <th>0</th>\n",
       "      <td>0.0</td>\n",
       "      <td>0.971018</td>\n",
       "      <td>0.007052</td>\n",
       "    </tr>\n",
       "    <tr>\n",
       "      <th>1</th>\n",
       "      <td>0.1</td>\n",
       "      <td>0.970477</td>\n",
       "      <td>0.003631</td>\n",
       "    </tr>\n",
       "    <tr>\n",
       "      <th>2</th>\n",
       "      <td>0.2</td>\n",
       "      <td>0.968946</td>\n",
       "      <td>0.002476</td>\n",
       "    </tr>\n",
       "    <tr>\n",
       "      <th>3</th>\n",
       "      <td>0.3</td>\n",
       "      <td>0.969605</td>\n",
       "      <td>0.005451</td>\n",
       "    </tr>\n",
       "    <tr>\n",
       "      <th>4</th>\n",
       "      <td>0.4</td>\n",
       "      <td>0.969605</td>\n",
       "      <td>0.005451</td>\n",
       "    </tr>\n",
       "    <tr>\n",
       "      <th>5</th>\n",
       "      <td>0.5</td>\n",
       "      <td>0.967874</td>\n",
       "      <td>0.008053</td>\n",
       "    </tr>\n",
       "    <tr>\n",
       "      <th>6</th>\n",
       "      <td>0.6</td>\n",
       "      <td>0.970017</td>\n",
       "      <td>0.004218</td>\n",
       "    </tr>\n",
       "    <tr>\n",
       "      <th>7</th>\n",
       "      <td>0.7</td>\n",
       "      <td>0.969714</td>\n",
       "      <td>0.004266</td>\n",
       "    </tr>\n",
       "    <tr>\n",
       "      <th>8</th>\n",
       "      <td>0.8</td>\n",
       "      <td>0.969714</td>\n",
       "      <td>0.004266</td>\n",
       "    </tr>\n",
       "    <tr>\n",
       "      <th>9</th>\n",
       "      <td>0.9</td>\n",
       "      <td>0.969714</td>\n",
       "      <td>0.004266</td>\n",
       "    </tr>\n",
       "  </tbody>\n",
       "</table>\n",
       "</div>"
      ],
      "text/plain": [
       "  Name  Average ROC_AUC  Standard Deviation\n",
       "0  0.0         0.971018            0.007052\n",
       "1  0.1         0.970477            0.003631\n",
       "2  0.2         0.968946            0.002476\n",
       "3  0.3         0.969605            0.005451\n",
       "4  0.4         0.969605            0.005451\n",
       "5  0.5         0.967874            0.008053\n",
       "6  0.6         0.970017            0.004218\n",
       "7  0.7         0.969714            0.004266\n",
       "8  0.8         0.969714            0.004266\n",
       "9  0.9         0.969714            0.004266"
      ]
     },
     "execution_count": 234,
     "metadata": {},
     "output_type": "execute_result"
    },
    {
     "data": {
      "image/png": "[encoded data removed]",
      "text/plain": [
       "<Figure size 432x288 with 1 Axes>"
      ]
     },
     "metadata": {
      "needs_background": "light"
     },
     "output_type": "display_data"
    }
   ],
   "source": [
    "# choose optimal threshold for removing columns with NaNs\n",
    "optimiseNaNs(xgb, X_train_xgb, X_test_xgb, y_train_xgb, y_test_xgb, option=2)"
   ]
  },
  {
   "cell_type": "markdown",
   "id": "fae4022d",
   "metadata": {},
   "source": [
    "Choose to remove columns with NaNs > 0.7"
   ]
  },
  {
   "cell_type": "code",
   "execution_count": 244,
   "id": "9c952ab7",
   "metadata": {},
   "outputs": [],
   "source": [
    "X_train_xgb, X_test_xgb = handleNaNs(X_train_xgb.copy(), X_test_xgb.copy(), option=2, thresh=0.7)\n",
    "X_train_t_xgb, X_val_xgb = handleNaNs(X_train_t.copy(), X_val.copy(), option=2, thresh=0.7)"
   ]
  },
  {
   "cell_type": "code",
   "execution_count": 236,
   "id": "18800c2d",
   "metadata": {},
   "outputs": [
    {
     "name": "stdout",
     "output_type": "stream",
     "text": [
      "AVERAGE CV=5 ROC_AUC (TEST): 0.9684021335807049\n",
      "AVERAGE CV=5 STD (TEST): 0.005227765451617267\n"
     ]
    }
   ],
   "source": [
    "xgb.fit(X_train_xgb, y_train_xgb)\n",
    "test_model_cross_val(tuned_xgb, y_train_xgb, X_train_xgb, k=5, verbose=True)"
   ]
  },
  {
   "cell_type": "markdown",
   "id": "7d9c3378",
   "metadata": {},
   "source": [
    "## Importance Experiment XGB"
   ]
  },
  {
   "cell_type": "code",
   "execution_count": 238,
   "id": "c81ac775",
   "metadata": {},
   "outputs": [
    {
     "name": "stdout",
     "output_type": "stream",
     "text": [
      "Cross validated importance experiment with k=5\n",
      "N:5\n",
      "N:10\n",
      "N:25\n",
      "N:50\n",
      "N:100\n",
      "N:200\n",
      "N:400\n",
      "N:800\n",
      "N:4179\n"
     ]
    },
    {
     "data": {
      "text/html": [
       "<div>\n",
       "<style scoped>\n",
       "    .dataframe tbody tr th:only-of-type {\n",
       "        vertical-align: middle;\n",
       "    }\n",
       "\n",
       "    .dataframe tbody tr th {\n",
       "        vertical-align: top;\n",
       "    }\n",
       "\n",
       "    .dataframe thead th {\n",
       "        text-align: right;\n",
       "    }\n",
       "</style>\n",
       "<table border=\"1\" class=\"dataframe\">\n",
       "  <thead>\n",
       "    <tr style=\"text-align: right;\">\n",
       "      <th></th>\n",
       "      <th>Most important N descriptors</th>\n",
       "      <th>Average ROC_AUC</th>\n",
       "      <th>Standard Deviation</th>\n",
       "    </tr>\n",
       "  </thead>\n",
       "  <tbody>\n",
       "    <tr>\n",
       "      <th>0</th>\n",
       "      <td>5.0</td>\n",
       "      <td>0.955614</td>\n",
       "      <td>0.013075</td>\n",
       "    </tr>\n",
       "    <tr>\n",
       "      <th>1</th>\n",
       "      <td>10.0</td>\n",
       "      <td>0.961935</td>\n",
       "      <td>0.008405</td>\n",
       "    </tr>\n",
       "    <tr>\n",
       "      <th>2</th>\n",
       "      <td>25.0</td>\n",
       "      <td>0.972996</td>\n",
       "      <td>0.006750</td>\n",
       "    </tr>\n",
       "    <tr>\n",
       "      <th>3</th>\n",
       "      <td>50.0</td>\n",
       "      <td>0.973510</td>\n",
       "      <td>0.006151</td>\n",
       "    </tr>\n",
       "    <tr>\n",
       "      <th>4</th>\n",
       "      <td>100.0</td>\n",
       "      <td>0.974749</td>\n",
       "      <td>0.001657</td>\n",
       "    </tr>\n",
       "    <tr>\n",
       "      <th>5</th>\n",
       "      <td>200.0</td>\n",
       "      <td>0.973936</td>\n",
       "      <td>0.002508</td>\n",
       "    </tr>\n",
       "    <tr>\n",
       "      <th>6</th>\n",
       "      <td>400.0</td>\n",
       "      <td>0.975669</td>\n",
       "      <td>0.002843</td>\n",
       "    </tr>\n",
       "    <tr>\n",
       "      <th>7</th>\n",
       "      <td>800.0</td>\n",
       "      <td>0.973076</td>\n",
       "      <td>0.001950</td>\n",
       "    </tr>\n",
       "    <tr>\n",
       "      <th>8</th>\n",
       "      <td>4179.0</td>\n",
       "      <td>0.968077</td>\n",
       "      <td>0.005447</td>\n",
       "    </tr>\n",
       "  </tbody>\n",
       "</table>\n",
       "</div>"
      ],
      "text/plain": [
       "   Most important N descriptors  Average ROC_AUC  Standard Deviation\n",
       "0                           5.0         0.955614            0.013075\n",
       "1                          10.0         0.961935            0.008405\n",
       "2                          25.0         0.972996            0.006750\n",
       "3                          50.0         0.973510            0.006151\n",
       "4                         100.0         0.974749            0.001657\n",
       "5                         200.0         0.973936            0.002508\n",
       "6                         400.0         0.975669            0.002843\n",
       "7                         800.0         0.973076            0.001950\n",
       "8                        4179.0         0.968077            0.005447"
      ]
     },
     "execution_count": 238,
     "metadata": {},
     "output_type": "execute_result"
    },
    {
     "data": {
      "image/png": "[encoded data removed]",
      "text/plain": [
       "<Figure size 432x288 with 1 Axes>"
      ]
     },
     "metadata": {
      "needs_background": "light"
     },
     "output_type": "display_data"
    }
   ],
   "source": [
    "optimiseImportance(xgb, X_train_xgb, y_train_xgb)"
   ]
  },
  {
   "cell_type": "code",
   "execution_count": 245,
   "id": "dcf3320b",
   "metadata": {},
   "outputs": [
    {
     "name": "stdout",
     "output_type": "stream",
     "text": [
      "AVERAGE CV=5 ROC_AUC (TEST): 0.9747490208204495\n",
      "AVERAGE CV=5 STD (TEST): 0.001656686590612313\n"
     ]
    }
   ],
   "source": [
    "X_train_xgb, X_test_xgb, xgb = handle_importance(xgb, \n",
    "                                                X_train_xgb, \n",
    "                                                X_test_xgb, \n",
    "                                                threshold=-1, \n",
    "                                                n=100)\n",
    "\n",
    "# Filted importance results\n",
    "xgb.fit(X_train_xgb, y_train_xgb)\n",
    "test_model_cross_val(xgb, y_train_xgb, X_train_xgb, k=5, verbose=True)"
   ]
  },
  {
   "cell_type": "code",
   "execution_count": 246,
   "id": "ae64380e",
   "metadata": {},
   "outputs": [
    {
     "data": {
      "text/html": [
       "<div>\n",
       "<style scoped>\n",
       "    .dataframe tbody tr th:only-of-type {\n",
       "        vertical-align: middle;\n",
       "    }\n",
       "\n",
       "    .dataframe tbody tr th {\n",
       "        vertical-align: top;\n",
       "    }\n",
       "\n",
       "    .dataframe thead th {\n",
       "        text-align: right;\n",
       "    }\n",
       "</style>\n",
       "<table border=\"1\" class=\"dataframe\">\n",
       "  <thead>\n",
       "    <tr style=\"text-align: right;\">\n",
       "      <th></th>\n",
       "      <th>SM1_Dz(i)</th>\n",
       "      <th>TPSA(NO)</th>\n",
       "      <th>SM5_B(p)</th>\n",
       "      <th>piPC10</th>\n",
       "      <th>nC</th>\n",
       "      <th>MR99</th>\n",
       "      <th>HyWi_X</th>\n",
       "      <th>PDI</th>\n",
       "      <th>SpMax4_Bh(m)</th>\n",
       "      <th>SM15_AEA(bo)</th>\n",
       "      <th>...</th>\n",
       "      <th>IC1</th>\n",
       "      <th>P_VSA_LogP_4</th>\n",
       "      <th>SIC1</th>\n",
       "      <th>F04{C-C}</th>\n",
       "      <th>J_Dz(i)</th>\n",
       "      <th>P_VSA_charge_2</th>\n",
       "      <th>SIC0</th>\n",
       "      <th>SpPosA_B(e)</th>\n",
       "      <th>GATS1v</th>\n",
       "      <th>MDEC-13</th>\n",
       "    </tr>\n",
       "  </thead>\n",
       "  <tbody>\n",
       "    <tr>\n",
       "      <th>C1=CC(=CC=C1C(=O)O)[N+](=O)[O-]</th>\n",
       "      <td>0.651074</td>\n",
       "      <td>83.12</td>\n",
       "      <td>7.031831</td>\n",
       "      <td>0.000000</td>\n",
       "      <td>7</td>\n",
       "      <td>42.223300</td>\n",
       "      <td>1.642029</td>\n",
       "      <td>0.850141</td>\n",
       "      <td>2.686650</td>\n",
       "      <td>-1.000000</td>\n",
       "      <td>...</td>\n",
       "      <td>3.028639</td>\n",
       "      <td>68.738145</td>\n",
       "      <td>0.740958</td>\n",
       "      <td>1</td>\n",
       "      <td>3.320826</td>\n",
       "      <td>0.000000</td>\n",
       "      <td>0.434985</td>\n",
       "      <td>1.444105</td>\n",
       "      <td>0.770559</td>\n",
       "      <td>0.000000</td>\n",
       "    </tr>\n",
       "    <tr>\n",
       "      <th>CCCCCCCCCCCCCCCCO</th>\n",
       "      <td>0.159650</td>\n",
       "      <td>20.23</td>\n",
       "      <td>6.690171</td>\n",
       "      <td>2.079442</td>\n",
       "      <td>16</td>\n",
       "      <td>77.397802</td>\n",
       "      <td>2.009168</td>\n",
       "      <td>0.846115</td>\n",
       "      <td>3.301132</td>\n",
       "      <td>0.547326</td>\n",
       "      <td>...</td>\n",
       "      <td>1.363249</td>\n",
       "      <td>0.000000</td>\n",
       "      <td>0.240329</td>\n",
       "      <td>12</td>\n",
       "      <td>2.853075</td>\n",
       "      <td>0.000000</td>\n",
       "      <td>0.180854</td>\n",
       "      <td>1.222356</td>\n",
       "      <td>1.528880</td>\n",
       "      <td>0.000000</td>\n",
       "    </tr>\n",
       "    <tr>\n",
       "      <th>C1(C(O1)(F)F)(C(F)(F)F)F</th>\n",
       "      <td>1.192497</td>\n",
       "      <td>12.53</td>\n",
       "      <td>6.523901</td>\n",
       "      <td>0.000000</td>\n",
       "      <td>3</td>\n",
       "      <td>15.926000</td>\n",
       "      <td>1.396505</td>\n",
       "      <td>0.867496</td>\n",
       "      <td>1.581000</td>\n",
       "      <td>-1.000000</td>\n",
       "      <td>...</td>\n",
       "      <td>1.770951</td>\n",
       "      <td>10.999888</td>\n",
       "      <td>0.533109</td>\n",
       "      <td>0</td>\n",
       "      <td>3.334388</td>\n",
       "      <td>10.999888</td>\n",
       "      <td>0.389973</td>\n",
       "      <td>1.498425</td>\n",
       "      <td>1.628756</td>\n",
       "      <td>0.000000</td>\n",
       "    </tr>\n",
       "    <tr>\n",
       "      <th>CC(C)(C=C)O</th>\n",
       "      <td>0.159650</td>\n",
       "      <td>20.23</td>\n",
       "      <td>6.062728</td>\n",
       "      <td>0.000000</td>\n",
       "      <td>5</td>\n",
       "      <td>26.494800</td>\n",
       "      <td>1.087831</td>\n",
       "      <td>0.718863</td>\n",
       "      <td>2.144530</td>\n",
       "      <td>0.000000</td>\n",
       "      <td>...</td>\n",
       "      <td>2.608459</td>\n",
       "      <td>0.000000</td>\n",
       "      <td>0.652115</td>\n",
       "      <td>0</td>\n",
       "      <td>3.553857</td>\n",
       "      <td>0.000000</td>\n",
       "      <td>0.299548</td>\n",
       "      <td>1.306845</td>\n",
       "      <td>1.398104</td>\n",
       "      <td>0.000000</td>\n",
       "    </tr>\n",
       "    <tr>\n",
       "      <th>C=CCC1=CC2=C(C=C1)OCO2</th>\n",
       "      <td>0.297286</td>\n",
       "      <td>18.46</td>\n",
       "      <td>7.010573</td>\n",
       "      <td>3.548180</td>\n",
       "      <td>10</td>\n",
       "      <td>46.466000</td>\n",
       "      <td>1.674847</td>\n",
       "      <td>0.957009</td>\n",
       "      <td>2.734820</td>\n",
       "      <td>-0.319111</td>\n",
       "      <td>...</td>\n",
       "      <td>2.992856</td>\n",
       "      <td>0.000000</td>\n",
       "      <td>0.671129</td>\n",
       "      <td>7</td>\n",
       "      <td>2.415002</td>\n",
       "      <td>0.000000</td>\n",
       "      <td>0.302413</td>\n",
       "      <td>1.367271</td>\n",
       "      <td>0.963335</td>\n",
       "      <td>0.669433</td>\n",
       "    </tr>\n",
       "    <tr>\n",
       "      <th>...</th>\n",
       "      <td>...</td>\n",
       "      <td>...</td>\n",
       "      <td>...</td>\n",
       "      <td>...</td>\n",
       "      <td>...</td>\n",
       "      <td>...</td>\n",
       "      <td>...</td>\n",
       "      <td>...</td>\n",
       "      <td>...</td>\n",
       "      <td>...</td>\n",
       "      <td>...</td>\n",
       "      <td>...</td>\n",
       "      <td>...</td>\n",
       "      <td>...</td>\n",
       "      <td>...</td>\n",
       "      <td>...</td>\n",
       "      <td>...</td>\n",
       "      <td>...</td>\n",
       "      <td>...</td>\n",
       "      <td>...</td>\n",
       "      <td>...</td>\n",
       "    </tr>\n",
       "    <tr>\n",
       "      <th>CCCCS</th>\n",
       "      <td>-0.083330</td>\n",
       "      <td>0.00</td>\n",
       "      <td>5.589656</td>\n",
       "      <td>0.000000</td>\n",
       "      <td>4</td>\n",
       "      <td>28.761001</td>\n",
       "      <td>1.084211</td>\n",
       "      <td>0.816035</td>\n",
       "      <td>1.766725</td>\n",
       "      <td>0.000000</td>\n",
       "      <td>...</td>\n",
       "      <td>1.871602</td>\n",
       "      <td>10.818429</td>\n",
       "      <td>0.479052</td>\n",
       "      <td>0</td>\n",
       "      <td>2.160222</td>\n",
       "      <td>0.000000</td>\n",
       "      <td>0.296640</td>\n",
       "      <td>1.188353</td>\n",
       "      <td>1.425028</td>\n",
       "      <td>0.000000</td>\n",
       "    </tr>\n",
       "    <tr>\n",
       "      <th>CCN(CC)CC</th>\n",
       "      <td>0.203104</td>\n",
       "      <td>3.24</td>\n",
       "      <td>5.694767</td>\n",
       "      <td>0.000000</td>\n",
       "      <td>6</td>\n",
       "      <td>33.462001</td>\n",
       "      <td>1.301018</td>\n",
       "      <td>0.823828</td>\n",
       "      <td>2.269664</td>\n",
       "      <td>0.000000</td>\n",
       "      <td>...</td>\n",
       "      <td>1.363380</td>\n",
       "      <td>0.000000</td>\n",
       "      <td>0.305730</td>\n",
       "      <td>3</td>\n",
       "      <td>3.504206</td>\n",
       "      <td>0.000000</td>\n",
       "      <td>0.244572</td>\n",
       "      <td>1.193695</td>\n",
       "      <td>1.730427</td>\n",
       "      <td>0.000000</td>\n",
       "    </tr>\n",
       "    <tr>\n",
       "      <th>C1=CC=C(C=C1)C(=O)C2=CC=CC=C2</th>\n",
       "      <td>0.159650</td>\n",
       "      <td>17.07</td>\n",
       "      <td>7.331224</td>\n",
       "      <td>5.731874</td>\n",
       "      <td>13</td>\n",
       "      <td>56.316500</td>\n",
       "      <td>1.799995</td>\n",
       "      <td>0.987384</td>\n",
       "      <td>2.686650</td>\n",
       "      <td>0.668883</td>\n",
       "      <td>...</td>\n",
       "      <td>1.733356</td>\n",
       "      <td>30.278404</td>\n",
       "      <td>0.378052</td>\n",
       "      <td>10</td>\n",
       "      <td>2.357867</td>\n",
       "      <td>25.144927</td>\n",
       "      <td>0.260945</td>\n",
       "      <td>1.357937</td>\n",
       "      <td>0.825729</td>\n",
       "      <td>0.000000</td>\n",
       "    </tr>\n",
       "    <tr>\n",
       "      <th>N</th>\n",
       "      <td>0.371839</td>\n",
       "      <td>47.58</td>\n",
       "      <td>4.477209</td>\n",
       "      <td>0.000000</td>\n",
       "      <td>0</td>\n",
       "      <td>3.450000</td>\n",
       "      <td>0.693147</td>\n",
       "      <td>0.596543</td>\n",
       "      <td>0.000000</td>\n",
       "      <td>0.000000</td>\n",
       "      <td>...</td>\n",
       "      <td>0.000000</td>\n",
       "      <td>0.000000</td>\n",
       "      <td>0.000000</td>\n",
       "      <td>0</td>\n",
       "      <td>2.351254</td>\n",
       "      <td>0.000000</td>\n",
       "      <td>0.000000</td>\n",
       "      <td>1.496025</td>\n",
       "      <td>0.000000</td>\n",
       "      <td>0.000000</td>\n",
       "    </tr>\n",
       "    <tr>\n",
       "      <th>CC(C)N</th>\n",
       "      <td>0.203104</td>\n",
       "      <td>26.02</td>\n",
       "      <td>5.247115</td>\n",
       "      <td>0.000000</td>\n",
       "      <td>3</td>\n",
       "      <td>19.323400</td>\n",
       "      <td>0.861212</td>\n",
       "      <td>0.788549</td>\n",
       "      <td>1.130122</td>\n",
       "      <td>0.000000</td>\n",
       "      <td>...</td>\n",
       "      <td>1.881095</td>\n",
       "      <td>0.000000</td>\n",
       "      <td>0.508344</td>\n",
       "      <td>0</td>\n",
       "      <td>2.492725</td>\n",
       "      <td>0.000000</td>\n",
       "      <td>0.308103</td>\n",
       "      <td>1.259801</td>\n",
       "      <td>1.659025</td>\n",
       "      <td>2.000000</td>\n",
       "    </tr>\n",
       "  </tbody>\n",
       "</table>\n",
       "<p>692 rows × 100 columns</p>\n",
       "</div>"
      ],
      "text/plain": [
       "                                 SM1_Dz(i)  TPSA(NO)  SM5_B(p)    piPC10  nC  \\\n",
       "C1=CC(=CC=C1C(=O)O)[N+](=O)[O-]   0.651074     83.12  7.031831  0.000000   7   \n",
       "CCCCCCCCCCCCCCCCO                 0.159650     20.23  6.690171  2.079442  16   \n",
       "C1(C(O1)(F)F)(C(F)(F)F)F          1.192497     12.53  6.523901  0.000000   3   \n",
       "CC(C)(C=C)O                       0.159650     20.23  6.062728  0.000000   5   \n",
       "C=CCC1=CC2=C(C=C1)OCO2            0.297286     18.46  7.010573  3.548180  10   \n",
       "...                                    ...       ...       ...       ...  ..   \n",
       "CCCCS                            -0.083330      0.00  5.589656  0.000000   4   \n",
       "CCN(CC)CC                         0.203104      3.24  5.694767  0.000000   6   \n",
       "C1=CC=C(C=C1)C(=O)C2=CC=CC=C2     0.159650     17.07  7.331224  5.731874  13   \n",
       "N                                 0.371839     47.58  4.477209  0.000000   0   \n",
       "CC(C)N                            0.203104     26.02  5.247115  0.000000   3   \n",
       "\n",
       "                                      MR99    HyWi_X       PDI  SpMax4_Bh(m)  \\\n",
       "C1=CC(=CC=C1C(=O)O)[N+](=O)[O-]  42.223300  1.642029  0.850141      2.686650   \n",
       "CCCCCCCCCCCCCCCCO                77.397802  2.009168  0.846115      3.301132   \n",
       "C1(C(O1)(F)F)(C(F)(F)F)F         15.926000  1.396505  0.867496      1.581000   \n",
       "CC(C)(C=C)O                      26.494800  1.087831  0.718863      2.144530   \n",
       "C=CCC1=CC2=C(C=C1)OCO2           46.466000  1.674847  0.957009      2.734820   \n",
       "...                                    ...       ...       ...           ...   \n",
       "CCCCS                            28.761001  1.084211  0.816035      1.766725   \n",
       "CCN(CC)CC                        33.462001  1.301018  0.823828      2.269664   \n",
       "C1=CC=C(C=C1)C(=O)C2=CC=CC=C2    56.316500  1.799995  0.987384      2.686650   \n",
       "N                                 3.450000  0.693147  0.596543      0.000000   \n",
       "CC(C)N                           19.323400  0.861212  0.788549      1.130122   \n",
       "\n",
       "                                 SM15_AEA(bo)  ...       IC1  P_VSA_LogP_4  \\\n",
       "C1=CC(=CC=C1C(=O)O)[N+](=O)[O-]     -1.000000  ...  3.028639     68.738145   \n",
       "CCCCCCCCCCCCCCCCO                    0.547326  ...  1.363249      0.000000   \n",
       "C1(C(O1)(F)F)(C(F)(F)F)F            -1.000000  ...  1.770951     10.999888   \n",
       "CC(C)(C=C)O                          0.000000  ...  2.608459      0.000000   \n",
       "C=CCC1=CC2=C(C=C1)OCO2              -0.319111  ...  2.992856      0.000000   \n",
       "...                                       ...  ...       ...           ...   \n",
       "CCCCS                                0.000000  ...  1.871602     10.818429   \n",
       "CCN(CC)CC                            0.000000  ...  1.363380      0.000000   \n",
       "C1=CC=C(C=C1)C(=O)C2=CC=CC=C2        0.668883  ...  1.733356     30.278404   \n",
       "N                                    0.000000  ...  0.000000      0.000000   \n",
       "CC(C)N                               0.000000  ...  1.881095      0.000000   \n",
       "\n",
       "                                     SIC1  F04{C-C}   J_Dz(i)  P_VSA_charge_2  \\\n",
       "C1=CC(=CC=C1C(=O)O)[N+](=O)[O-]  0.740958         1  3.320826        0.000000   \n",
       "CCCCCCCCCCCCCCCCO                0.240329        12  2.853075        0.000000   \n",
       "C1(C(O1)(F)F)(C(F)(F)F)F         0.533109         0  3.334388       10.999888   \n",
       "CC(C)(C=C)O                      0.652115         0  3.553857        0.000000   \n",
       "C=CCC1=CC2=C(C=C1)OCO2           0.671129         7  2.415002        0.000000   \n",
       "...                                   ...       ...       ...             ...   \n",
       "CCCCS                            0.479052         0  2.160222        0.000000   \n",
       "CCN(CC)CC                        0.305730         3  3.504206        0.000000   \n",
       "C1=CC=C(C=C1)C(=O)C2=CC=CC=C2    0.378052        10  2.357867       25.144927   \n",
       "N                                0.000000         0  2.351254        0.000000   \n",
       "CC(C)N                           0.508344         0  2.492725        0.000000   \n",
       "\n",
       "                                     SIC0  SpPosA_B(e)    GATS1v   MDEC-13  \n",
       "C1=CC(=CC=C1C(=O)O)[N+](=O)[O-]  0.434985     1.444105  0.770559  0.000000  \n",
       "CCCCCCCCCCCCCCCCO                0.180854     1.222356  1.528880  0.000000  \n",
       "C1(C(O1)(F)F)(C(F)(F)F)F         0.389973     1.498425  1.628756  0.000000  \n",
       "CC(C)(C=C)O                      0.299548     1.306845  1.398104  0.000000  \n",
       "C=CCC1=CC2=C(C=C1)OCO2           0.302413     1.367271  0.963335  0.669433  \n",
       "...                                   ...          ...       ...       ...  \n",
       "CCCCS                            0.296640     1.188353  1.425028  0.000000  \n",
       "CCN(CC)CC                        0.244572     1.193695  1.730427  0.000000  \n",
       "C1=CC=C(C=C1)C(=O)C2=CC=CC=C2    0.260945     1.357937  0.825729  0.000000  \n",
       "N                                0.000000     1.496025  0.000000  0.000000  \n",
       "CC(C)N                           0.308103     1.259801  1.659025  2.000000  \n",
       "\n",
       "[692 rows x 100 columns]"
      ]
     },
     "execution_count": 246,
     "metadata": {},
     "output_type": "execute_result"
    }
   ],
   "source": [
    "X_train_xgb"
   ]
  },
  {
   "cell_type": "markdown",
   "id": "79202870",
   "metadata": {},
   "source": [
    "## Tuning paramaters "
   ]
  },
  {
   "cell_type": "code",
   "execution_count": 247,
   "id": "5367bcd6",
   "metadata": {},
   "outputs": [
    {
     "name": "stdout",
     "output_type": "stream",
     "text": [
      "|   iter    |  target   | colsam... |   gamma   | learni... | max_depth | n_esti... | scale_... |\n",
      "-------------------------------------------------------------------------------------------------\n",
      "| \u001b[0m1        \u001b[0m | \u001b[0m0.9659   \u001b[0m | \u001b[0m0.8646   \u001b[0m | \u001b[0m3.576    \u001b[0m | \u001b[0m0.6067   \u001b[0m | \u001b[0m6.814    \u001b[0m | \u001b[0m481.3    \u001b[0m | \u001b[0m1.969    \u001b[0m |\n",
      "| \u001b[0m2        \u001b[0m | \u001b[0m0.9593   \u001b[0m | \u001b[0m0.8313   \u001b[0m | \u001b[0m4.459    \u001b[0m | \u001b[0m0.964    \u001b[0m | \u001b[0m5.684    \u001b[0m | \u001b[0m812.6    \u001b[0m | \u001b[0m1.793    \u001b[0m |\n",
      "| \u001b[95m3        \u001b[0m | \u001b[95m0.9718   \u001b[0m | \u001b[95m0.8704   \u001b[0m | \u001b[95m4.628    \u001b[0m | \u001b[95m0.08033  \u001b[0m | \u001b[95m3.61     \u001b[0m | \u001b[95m118.2    \u001b[0m | \u001b[95m2.249    \u001b[0m |\n",
      "| \u001b[0m4        \u001b[0m | \u001b[0m0.9599   \u001b[0m | \u001b[0m0.9334   \u001b[0m | \u001b[0m4.35     \u001b[0m | \u001b[0m0.9788   \u001b[0m | \u001b[0m8.594    \u001b[0m | \u001b[0m515.3    \u001b[0m | \u001b[0m2.171    \u001b[0m |\n",
      "| \u001b[95m5        \u001b[0m | \u001b[95m0.9734   \u001b[0m | \u001b[95m0.7355   \u001b[0m | \u001b[95m3.2      \u001b[0m | \u001b[95m0.1519   \u001b[0m | \u001b[95m9.613    \u001b[0m | \u001b[95m569.7    \u001b[0m | \u001b[95m1.622    \u001b[0m |\n",
      "| \u001b[0m6        \u001b[0m | \u001b[0m0.9717   \u001b[0m | \u001b[0m0.7164   \u001b[0m | \u001b[0m0.1671   \u001b[0m | \u001b[0m0.2971   \u001b[0m | \u001b[0m4.12     \u001b[0m | \u001b[0m577.0    \u001b[0m | \u001b[0m1.162    \u001b[0m |\n",
      "| \u001b[0m7        \u001b[0m | \u001b[0m0.9636   \u001b[0m | \u001b[0m0.8524   \u001b[0m | \u001b[0m0.9087   \u001b[0m | \u001b[0m0.9783   \u001b[0m | \u001b[0m3.174    \u001b[0m | \u001b[0m150.7    \u001b[0m | \u001b[0m1.608    \u001b[0m |\n",
      "| \u001b[0m8        \u001b[0m | \u001b[0m0.971    \u001b[0m | \u001b[0m0.8891   \u001b[0m | \u001b[0m0.096    \u001b[0m | \u001b[0m0.5816   \u001b[0m | \u001b[0m6.417    \u001b[0m | \u001b[0m100.1    \u001b[0m | \u001b[0m2.088    \u001b[0m |\n",
      "| \u001b[0m9        \u001b[0m | \u001b[0m0.9585   \u001b[0m | \u001b[0m0.7301   \u001b[0m | \u001b[0m3.687    \u001b[0m | \u001b[0m0.8879   \u001b[0m | \u001b[0m8.734    \u001b[0m | \u001b[0m569.3    \u001b[0m | \u001b[0m1.308    \u001b[0m |\n",
      "| \u001b[0m10       \u001b[0m | \u001b[0m0.9718   \u001b[0m | \u001b[0m0.7496   \u001b[0m | \u001b[0m0.9489   \u001b[0m | \u001b[0m0.4696   \u001b[0m | \u001b[0m9.269    \u001b[0m | \u001b[0m522.9    \u001b[0m | \u001b[0m1.286    \u001b[0m |\n",
      "| \u001b[0m11       \u001b[0m | \u001b[0m0.9677   \u001b[0m | \u001b[0m0.7653   \u001b[0m | \u001b[0m3.827    \u001b[0m | \u001b[0m0.5729   \u001b[0m | \u001b[0m7.477    \u001b[0m | \u001b[0m156.4    \u001b[0m | \u001b[0m1.487    \u001b[0m |\n",
      "| \u001b[0m12       \u001b[0m | \u001b[0m0.9712   \u001b[0m | \u001b[0m0.8971   \u001b[0m | \u001b[0m0.6582   \u001b[0m | \u001b[0m0.6401   \u001b[0m | \u001b[0m8.454    \u001b[0m | \u001b[0m327.2    \u001b[0m | \u001b[0m1.363    \u001b[0m |\n",
      "| \u001b[0m13       \u001b[0m | \u001b[0m0.9565   \u001b[0m | \u001b[0m0.9365   \u001b[0m | \u001b[0m4.637    \u001b[0m | \u001b[0m0.991    \u001b[0m | \u001b[0m8.625    \u001b[0m | \u001b[0m763.4    \u001b[0m | \u001b[0m1.17     \u001b[0m |\n",
      "| \u001b[0m14       \u001b[0m | \u001b[0m0.9713   \u001b[0m | \u001b[0m0.903    \u001b[0m | \u001b[0m4.197    \u001b[0m | \u001b[0m0.3093   \u001b[0m | \u001b[0m5.359    \u001b[0m | \u001b[0m440.7    \u001b[0m | \u001b[0m1.468    \u001b[0m |\n",
      "| \u001b[0m15       \u001b[0m | \u001b[0m0.9733   \u001b[0m | \u001b[0m0.7733   \u001b[0m | \u001b[0m1.587    \u001b[0m | \u001b[0m0.1853   \u001b[0m | \u001b[0m9.277    \u001b[0m | \u001b[0m281.2    \u001b[0m | \u001b[0m1.812    \u001b[0m |\n",
      "| \u001b[0m16       \u001b[0m | \u001b[0m0.9652   \u001b[0m | \u001b[0m0.8058   \u001b[0m | \u001b[0m1.268    \u001b[0m | \u001b[0m0.5966   \u001b[0m | \u001b[0m3.674    \u001b[0m | \u001b[0m111.3    \u001b[0m | \u001b[0m1.393    \u001b[0m |\n",
      "| \u001b[0m17       \u001b[0m | \u001b[0m0.9729   \u001b[0m | \u001b[0m0.7411   \u001b[0m | \u001b[0m1.303    \u001b[0m | \u001b[0m0.2337   \u001b[0m | \u001b[0m3.906    \u001b[0m | \u001b[0m977.6    \u001b[0m | \u001b[0m1.84     \u001b[0m |\n",
      "| \u001b[0m18       \u001b[0m | \u001b[0m0.9694   \u001b[0m | \u001b[0m0.978    \u001b[0m | \u001b[0m2.674    \u001b[0m | \u001b[0m0.355    \u001b[0m | \u001b[0m6.91     \u001b[0m | \u001b[0m344.0    \u001b[0m | \u001b[0m2.298    \u001b[0m |\n",
      "| \u001b[95m19       \u001b[0m | \u001b[95m0.974    \u001b[0m | \u001b[95m0.862    \u001b[0m | \u001b[95m0.8961   \u001b[0m | \u001b[95m0.5916   \u001b[0m | \u001b[95m4.921    \u001b[0m | \u001b[95m174.8    \u001b[0m | \u001b[95m1.12     \u001b[0m |\n",
      "| \u001b[0m20       \u001b[0m | \u001b[0m0.9725   \u001b[0m | \u001b[0m0.7962   \u001b[0m | \u001b[0m0.2138   \u001b[0m | \u001b[0m0.8702   \u001b[0m | \u001b[0m5.718    \u001b[0m | \u001b[0m516.7    \u001b[0m | \u001b[0m1.521    \u001b[0m |\n",
      "| \u001b[0m21       \u001b[0m | \u001b[0m0.9637   \u001b[0m | \u001b[0m0.8593   \u001b[0m | \u001b[0m2.584    \u001b[0m | \u001b[0m0.9696   \u001b[0m | \u001b[0m8.046    \u001b[0m | \u001b[0m399.5    \u001b[0m | \u001b[0m1.817    \u001b[0m |\n",
      "| \u001b[0m22       \u001b[0m | \u001b[0m0.9605   \u001b[0m | \u001b[0m0.8936   \u001b[0m | \u001b[0m4.199    \u001b[0m | \u001b[0m0.8273   \u001b[0m | \u001b[0m8.236    \u001b[0m | \u001b[0m217.1    \u001b[0m | \u001b[0m1.465    \u001b[0m |\n",
      "| \u001b[0m23       \u001b[0m | \u001b[0m0.9729   \u001b[0m | \u001b[0m0.9919   \u001b[0m | \u001b[0m3.461    \u001b[0m | \u001b[0m0.4292   \u001b[0m | \u001b[0m3.623    \u001b[0m | \u001b[0m168.0    \u001b[0m | \u001b[0m1.535    \u001b[0m |\n",
      "| \u001b[0m24       \u001b[0m | \u001b[0m0.9695   \u001b[0m | \u001b[0m0.8573   \u001b[0m | \u001b[0m4.669    \u001b[0m | \u001b[0m0.2077   \u001b[0m | \u001b[0m4.633    \u001b[0m | \u001b[0m892.3    \u001b[0m | \u001b[0m1.739    \u001b[0m |\n",
      "| \u001b[0m25       \u001b[0m | \u001b[0m0.9714   \u001b[0m | \u001b[0m0.8943   \u001b[0m | \u001b[0m2.171    \u001b[0m | \u001b[0m0.402    \u001b[0m | \u001b[0m4.978    \u001b[0m | \u001b[0m800.2    \u001b[0m | \u001b[0m1.551    \u001b[0m |\n",
      "| \u001b[0m26       \u001b[0m | \u001b[0m0.9688   \u001b[0m | \u001b[0m0.7289   \u001b[0m | \u001b[0m3.855    \u001b[0m | \u001b[0m0.4735   \u001b[0m | \u001b[0m6.521    \u001b[0m | \u001b[0m615.2    \u001b[0m | \u001b[0m1.052    \u001b[0m |\n",
      "| \u001b[0m27       \u001b[0m | \u001b[0m0.9686   \u001b[0m | \u001b[0m0.7635   \u001b[0m | \u001b[0m2.319    \u001b[0m | \u001b[0m0.5538   \u001b[0m | \u001b[0m7.26     \u001b[0m | \u001b[0m661.2    \u001b[0m | \u001b[0m1.513    \u001b[0m |\n",
      "| \u001b[0m28       \u001b[0m | \u001b[0m0.9708   \u001b[0m | \u001b[0m0.898    \u001b[0m | \u001b[0m0.4019   \u001b[0m | \u001b[0m0.8215   \u001b[0m | \u001b[0m4.295    \u001b[0m | \u001b[0m576.6    \u001b[0m | \u001b[0m1.342    \u001b[0m |\n",
      "| \u001b[0m29       \u001b[0m | \u001b[0m0.9663   \u001b[0m | \u001b[0m0.8565   \u001b[0m | \u001b[0m1.13     \u001b[0m | \u001b[0m0.7283   \u001b[0m | \u001b[0m4.814    \u001b[0m | \u001b[0m174.4    \u001b[0m | \u001b[0m1.368    \u001b[0m |\n",
      "| \u001b[0m30       \u001b[0m | \u001b[0m0.9713   \u001b[0m | \u001b[0m0.8709   \u001b[0m | \u001b[0m4.055    \u001b[0m | \u001b[0m0.1561   \u001b[0m | \u001b[0m4.73     \u001b[0m | \u001b[0m622.0    \u001b[0m | \u001b[0m1.259    \u001b[0m |\n",
      "| \u001b[0m31       \u001b[0m | \u001b[0m0.972    \u001b[0m | \u001b[0m0.9839   \u001b[0m | \u001b[0m0.7687   \u001b[0m | \u001b[0m0.449    \u001b[0m | \u001b[0m8.39     \u001b[0m | \u001b[0m202.9    \u001b[0m | \u001b[0m1.785    \u001b[0m |\n",
      "| \u001b[0m32       \u001b[0m | \u001b[0m0.9703   \u001b[0m | \u001b[0m0.8862   \u001b[0m | \u001b[0m1.147    \u001b[0m | \u001b[0m0.795    \u001b[0m | \u001b[0m4.818    \u001b[0m | \u001b[0m151.5    \u001b[0m | \u001b[0m1.543    \u001b[0m |\n",
      "| \u001b[0m33       \u001b[0m | \u001b[0m0.972    \u001b[0m | \u001b[0m0.8302   \u001b[0m | \u001b[0m4.386    \u001b[0m | \u001b[0m0.1858   \u001b[0m | \u001b[0m5.799    \u001b[0m | \u001b[0m468.2    \u001b[0m | \u001b[0m2.027    \u001b[0m |\n",
      "| \u001b[0m34       \u001b[0m | \u001b[0m0.9666   \u001b[0m | \u001b[0m0.8062   \u001b[0m | \u001b[0m0.8638   \u001b[0m | \u001b[0m0.9912   \u001b[0m | \u001b[0m7.174    \u001b[0m | \u001b[0m525.0    \u001b[0m | \u001b[0m1.47     \u001b[0m |\n",
      "| \u001b[0m35       \u001b[0m | \u001b[0m0.9705   \u001b[0m | \u001b[0m0.9735   \u001b[0m | \u001b[0m3.069    \u001b[0m | \u001b[0m0.469    \u001b[0m | \u001b[0m8.033    \u001b[0m | \u001b[0m939.4    \u001b[0m | \u001b[0m2.015    \u001b[0m |\n",
      "| \u001b[0m36       \u001b[0m | \u001b[0m0.9727   \u001b[0m | \u001b[0m0.9422   \u001b[0m | \u001b[0m3.698    \u001b[0m | \u001b[0m0.164    \u001b[0m | \u001b[0m3.979    \u001b[0m | \u001b[0m125.8    \u001b[0m | \u001b[0m2.157    \u001b[0m |\n",
      "| \u001b[0m37       \u001b[0m | \u001b[0m0.9716   \u001b[0m | \u001b[0m0.8271   \u001b[0m | \u001b[0m3.738    \u001b[0m | \u001b[0m0.04283  \u001b[0m | \u001b[0m4.11     \u001b[0m | \u001b[0m251.8    \u001b[0m | \u001b[0m2.224    \u001b[0m |\n",
      "| \u001b[0m38       \u001b[0m | \u001b[0m0.9682   \u001b[0m | \u001b[0m0.7277   \u001b[0m | \u001b[0m3.793    \u001b[0m | \u001b[0m0.3896   \u001b[0m | \u001b[0m7.751    \u001b[0m | \u001b[0m328.1    \u001b[0m | \u001b[0m1.945    \u001b[0m |\n",
      "| \u001b[95m39       \u001b[0m | \u001b[95m0.9742   \u001b[0m | \u001b[95m0.9656   \u001b[0m | \u001b[95m4.489    \u001b[0m | \u001b[95m0.3434   \u001b[0m | \u001b[95m9.345    \u001b[0m | \u001b[95m634.3    \u001b[0m | \u001b[95m1.019    \u001b[0m |\n",
      "| \u001b[95m40       \u001b[0m | \u001b[95m0.9743   \u001b[0m | \u001b[95m0.8399   \u001b[0m | \u001b[95m0.3382   \u001b[0m | \u001b[95m0.1742   \u001b[0m | \u001b[95m8.631    \u001b[0m | \u001b[95m643.9    \u001b[0m | \u001b[95m1.34     \u001b[0m |\n",
      "| \u001b[0m41       \u001b[0m | \u001b[0m0.9736   \u001b[0m | \u001b[0m0.8213   \u001b[0m | \u001b[0m2.139    \u001b[0m | \u001b[0m0.1862   \u001b[0m | \u001b[0m3.294    \u001b[0m | \u001b[0m711.4    \u001b[0m | \u001b[0m1.812    \u001b[0m |\n",
      "| \u001b[0m42       \u001b[0m | \u001b[0m0.9587   \u001b[0m | \u001b[0m0.9409   \u001b[0m | \u001b[0m3.885    \u001b[0m | \u001b[0m0.8116   \u001b[0m | \u001b[0m7.048    \u001b[0m | \u001b[0m134.2    \u001b[0m | \u001b[0m2.414    \u001b[0m |\n",
      "| \u001b[0m43       \u001b[0m | \u001b[0m0.9664   \u001b[0m | \u001b[0m0.9262   \u001b[0m | \u001b[0m2.288    \u001b[0m | \u001b[0m0.8225   \u001b[0m | \u001b[0m5.173    \u001b[0m | \u001b[0m486.4    \u001b[0m | \u001b[0m1.669    \u001b[0m |\n",
      "| \u001b[0m44       \u001b[0m | \u001b[0m0.9711   \u001b[0m | \u001b[0m0.9198   \u001b[0m | \u001b[0m1.528    \u001b[0m | \u001b[0m0.5534   \u001b[0m | \u001b[0m5.12     \u001b[0m | \u001b[0m658.4    \u001b[0m | \u001b[0m1.063    \u001b[0m |\n",
      "| \u001b[0m45       \u001b[0m | \u001b[0m0.9667   \u001b[0m | \u001b[0m0.998    \u001b[0m | \u001b[0m3.74     \u001b[0m | \u001b[0m0.6426   \u001b[0m | \u001b[0m7.286    \u001b[0m | \u001b[0m529.8    \u001b[0m | \u001b[0m1.636    \u001b[0m |\n",
      "| \u001b[0m46       \u001b[0m | \u001b[0m0.9722   \u001b[0m | \u001b[0m0.9867   \u001b[0m | \u001b[0m2.854    \u001b[0m | \u001b[0m0.243    \u001b[0m | \u001b[0m3.171    \u001b[0m | \u001b[0m476.8    \u001b[0m | \u001b[0m1.762    \u001b[0m |\n",
      "| \u001b[0m47       \u001b[0m | \u001b[0m0.9724   \u001b[0m | \u001b[0m0.9705   \u001b[0m | \u001b[0m2.954    \u001b[0m | \u001b[0m0.5293   \u001b[0m | \u001b[0m6.357    \u001b[0m | \u001b[0m826.2    \u001b[0m | \u001b[0m2.408    \u001b[0m |\n",
      "| \u001b[0m48       \u001b[0m | \u001b[0m0.9726   \u001b[0m | \u001b[0m0.7261   \u001b[0m | \u001b[0m3.354    \u001b[0m | \u001b[0m0.3885   \u001b[0m | \u001b[0m8.749    \u001b[0m | \u001b[0m840.4    \u001b[0m | \u001b[0m2.28     \u001b[0m |\n",
      "| \u001b[0m49       \u001b[0m | \u001b[0m0.9741   \u001b[0m | \u001b[0m0.7188   \u001b[0m | \u001b[0m2.793    \u001b[0m | \u001b[0m0.1323   \u001b[0m | \u001b[0m8.447    \u001b[0m | \u001b[0m841.9    \u001b[0m | \u001b[0m1.959    \u001b[0m |\n",
      "| \u001b[0m50       \u001b[0m | \u001b[0m0.974    \u001b[0m | \u001b[0m0.8408   \u001b[0m | \u001b[0m0.4609   \u001b[0m | \u001b[0m0.4474   \u001b[0m | \u001b[0m9.702    \u001b[0m | \u001b[0m573.3    \u001b[0m | \u001b[0m1.753    \u001b[0m |\n"
     ]
    },
    {
     "name": "stdout",
     "output_type": "stream",
     "text": [
      "| \u001b[0m51       \u001b[0m | \u001b[0m0.9709   \u001b[0m | \u001b[0m0.7795   \u001b[0m | \u001b[0m1.772    \u001b[0m | \u001b[0m0.6237   \u001b[0m | \u001b[0m6.358    \u001b[0m | \u001b[0m866.7    \u001b[0m | \u001b[0m2.161    \u001b[0m |\n",
      "| \u001b[0m52       \u001b[0m | \u001b[0m0.962    \u001b[0m | \u001b[0m0.8353   \u001b[0m | \u001b[0m3.821    \u001b[0m | \u001b[0m0.9176   \u001b[0m | \u001b[0m7.328    \u001b[0m | \u001b[0m529.2    \u001b[0m | \u001b[0m1.336    \u001b[0m |\n",
      "| \u001b[0m53       \u001b[0m | \u001b[0m0.959    \u001b[0m | \u001b[0m0.7903   \u001b[0m | \u001b[0m3.637    \u001b[0m | \u001b[0m0.8975   \u001b[0m | \u001b[0m5.197    \u001b[0m | \u001b[0m742.4    \u001b[0m | \u001b[0m1.427    \u001b[0m |\n",
      "| \u001b[0m54       \u001b[0m | \u001b[0m0.9743   \u001b[0m | \u001b[0m0.9461   \u001b[0m | \u001b[0m2.483    \u001b[0m | \u001b[0m0.0348   \u001b[0m | \u001b[0m6.92     \u001b[0m | \u001b[0m366.4    \u001b[0m | \u001b[0m2.165    \u001b[0m |\n",
      "| \u001b[0m55       \u001b[0m | \u001b[0m0.9653   \u001b[0m | \u001b[0m0.8475   \u001b[0m | \u001b[0m4.32     \u001b[0m | \u001b[0m0.452    \u001b[0m | \u001b[0m7.116    \u001b[0m | \u001b[0m655.7    \u001b[0m | \u001b[0m2.038    \u001b[0m |\n",
      "=================================================================================================\n"
     ]
    }
   ],
   "source": [
    "params = {\n",
    "    'learning_rate': (0.01, 1.0),\n",
    "    'n_estimators': (100, 1000),\n",
    "    'max_depth': (3,10),\n",
    "#    'subsample': (0.7, 1.0),  # Change for big datasets\n",
    "    'colsample_bytree': (0.7, 1.0),  # Change for datasets with lots of features\n",
    "    'gamma': (0, 5), \n",
    "    'scale_pos_weight': (1, 2.5)\n",
    "    }\n",
    "\n",
    "def xgboost_hyper_param(learning_rate,\n",
    "                        n_estimators,\n",
    "                        max_depth,\n",
    "                        colsample_bytree,\n",
    "                        gamma, \n",
    "                        scale_pos_weight):\n",
    "\n",
    "    max_depth = int(max_depth)\n",
    "    n_estimators = int(n_estimators)\n",
    "\n",
    "    xgb_temp = XGBClassifier(\n",
    "        max_depth=max_depth,\n",
    "        colsample_bytree=colsample_bytree,\n",
    "        learning_rate=learning_rate,\n",
    "        n_estimators=n_estimators,\n",
    "        gamma=gamma,\n",
    "        scale_pos_weight=scale_pos_weight,\n",
    "        seed=SEED)\n",
    "    \n",
    "    # calculate CV=5 K fold ROC_AUC accuracy for each model \n",
    "\n",
    "    return np.array(cross_val_score(xgb_temp, X_train_xgb, y_train_xgb, cv=3, scoring='roc_auc')).mean()\n",
    "\n",
    "optimizer = BayesianOptimization(\n",
    "            f=xgboost_hyper_param,\n",
    "            pbounds=params,\n",
    "            random_state=SEED)\n",
    "\n",
    "optimizer.maximize(init_points=5, n_iter=50)"
   ]
  },
  {
   "cell_type": "code",
   "execution_count": 249,
   "id": "06f0ad9f",
   "metadata": {},
   "outputs": [
    {
     "name": "stdout",
     "output_type": "stream",
     "text": [
      "{'colsample_bytree': 0.8399023550780697, 'gamma': 0.338189317375458, 'learning_rate': 0.1742061546805264, 'max_depth': 8, 'n_estimators': 643, 'scale_pos_weight': 1.3398087284581912}\n",
      "AVERAGE CV=5 ROC_AUC (TEST): 0.9759157905586477\n",
      "AVERAGE CV=5 STD (TEST): 0.004582833905806116\n"
     ]
    }
   ],
   "source": [
    "params_tuned_xgb = optimizer.max['params']\n",
    "params_tuned_xgb['max_depth'] = int(params_tuned_xgb['max_depth'])\n",
    "params_tuned_xgb['n_estimators'] = int(params_tuned_xgb['n_estimators'])\n",
    "print(params_tuned_xgb)\n",
    "\n",
    "tuned_xgb = XGBClassifier(**params_tuned_xgb, seed=SEED)\n",
    "tuned_xgb.fit(X_train_xgb, y_train_xgb)\n",
    "\n",
    "test_model_cross_val(tuned_xgb, y_train_xgb, X_train_xgb, k=5, verbose=True)"
   ]
  },
  {
   "cell_type": "markdown",
   "id": "a95feb5b",
   "metadata": {},
   "source": [
    "### Final tuned paramaters\n"
   ]
  },
  {
   "cell_type": "code",
   "execution_count": 252,
   "id": "ed0425e2",
   "metadata": {},
   "outputs": [],
   "source": [
    "params = {'colsample_bytree': 0.8399023550780697, 'gamma': 0.338189317375458, 'learning_rate': 0.1742061546805264, 'max_depth': 8, 'n_estimators': 643, 'scale_pos_weight': 1.3398087284581912}\n",
    "params=params_tuned_xgb\n",
    "tuned_xgb = XGBClassifier(**params,\n",
    "                          seed=SEED,  \n",
    "                          n_jobs = -1)"
   ]
  },
  {
   "cell_type": "code",
   "execution_count": 253,
   "id": "791a78bc",
   "metadata": {},
   "outputs": [
    {
     "name": "stdout",
     "output_type": "stream",
     "text": [
      "ROC_AUC (TEST): 0.9777235772357723\n",
      "\n",
      "\n",
      "CLASSIFICATION REPORT:\n",
      "               precision    recall  f1-score   support\n",
      "\n",
      "       False       0.96      0.88      0.92        50\n",
      "        True       0.95      0.98      0.97       123\n",
      "\n",
      "    accuracy                           0.95       173\n",
      "   macro avg       0.95      0.93      0.94       173\n",
      "weighted avg       0.95      0.95      0.95       173\n",
      "\n"
     ]
    },
    {
     "data": {
      "image/png": "[encoded data removed]",
      "text/plain": [
       "<Figure size 432x288 with 1 Axes>"
      ]
     },
     "metadata": {
      "needs_background": "light"
     },
     "output_type": "display_data"
    },
    {
     "data": {
      "image/png": "[encoded data removed]",
      "text/plain": [
       "<Figure size 432x288 with 1 Axes>"
      ]
     },
     "metadata": {
      "needs_background": "light"
     },
     "output_type": "display_data"
    },
    {
     "data": {
      "text/plain": [
       "0.9777235772357723"
      ]
     },
     "execution_count": 253,
     "metadata": {},
     "output_type": "execute_result"
    }
   ],
   "source": [
    "tuned_xgb.fit(X_train_xgb, y_train_xgb)\n",
    "test_model(tuned_xgb, y_test_xgb, X_test_xgb)"
   ]
  },
  {
   "cell_type": "markdown",
   "id": "dd5eeb73",
   "metadata": {},
   "source": [
    "# Keras"
   ]
  },
  {
   "cell_type": "markdown",
   "id": "4d8de729",
   "metadata": {},
   "source": [
    "https://www.pluralsight.com/guides/classification-keras"
   ]
  },
  {
   "cell_type": "code",
   "execution_count": 254,
   "id": "d7e60405",
   "metadata": {},
   "outputs": [
    {
     "name": "stdout",
     "output_type": "stream",
     "text": [
      "Requirement already satisfied: keras in /home/zoya/anaconda3/lib/python3.8/site-packages (2.11.0)\n",
      "\n",
      "\u001b[1m[\u001b[0m\u001b[34;49mnotice\u001b[0m\u001b[1;39;49m]\u001b[0m\u001b[39;49m A new release of pip available: \u001b[0m\u001b[31;49m22.3.1\u001b[0m\u001b[39;49m -> \u001b[0m\u001b[32;49m23.0\u001b[0m\n",
      "\u001b[1m[\u001b[0m\u001b[34;49mnotice\u001b[0m\u001b[1;39;49m]\u001b[0m\u001b[39;49m To update, run: \u001b[0m\u001b[32;49mpip install --upgrade pip\u001b[0m\n",
      "Requirement already satisfied: scikeras in /home/zoya/anaconda3/lib/python3.8/site-packages (0.10.0)\n",
      "Requirement already satisfied: packaging>=0.21 in /home/zoya/anaconda3/lib/python3.8/site-packages (from scikeras) (21.3)\n",
      "Requirement already satisfied: scikit-learn>=1.0.0 in /home/zoya/anaconda3/lib/python3.8/site-packages (from scikeras) (1.2.0)\n",
      "Requirement already satisfied: pyparsing!=3.0.5,>=2.0.2 in /home/zoya/anaconda3/lib/python3.8/site-packages (from packaging>=0.21->scikeras) (2.4.7)\n",
      "Requirement already satisfied: joblib>=1.1.1 in /home/zoya/anaconda3/lib/python3.8/site-packages (from scikit-learn>=1.0.0->scikeras) (1.2.0)\n",
      "Requirement already satisfied: threadpoolctl>=2.0.0 in /home/zoya/anaconda3/lib/python3.8/site-packages (from scikit-learn>=1.0.0->scikeras) (3.1.0)\n",
      "Requirement already satisfied: scipy>=1.3.2 in /home/zoya/anaconda3/lib/python3.8/site-packages (from scikit-learn>=1.0.0->scikeras) (1.10.0)\n",
      "Requirement already satisfied: numpy>=1.17.3 in /home/zoya/anaconda3/lib/python3.8/site-packages (from scikit-learn>=1.0.0->scikeras) (1.24.1)\n",
      "\n",
      "\u001b[1m[\u001b[0m\u001b[34;49mnotice\u001b[0m\u001b[1;39;49m]\u001b[0m\u001b[39;49m A new release of pip available: \u001b[0m\u001b[31;49m22.3.1\u001b[0m\u001b[39;49m -> \u001b[0m\u001b[32;49m23.0\u001b[0m\n",
      "\u001b[1m[\u001b[0m\u001b[34;49mnotice\u001b[0m\u001b[1;39;49m]\u001b[0m\u001b[39;49m To update, run: \u001b[0m\u001b[32;49mpip install --upgrade pip\u001b[0m\n"
     ]
    }
   ],
   "source": [
    "!pip install keras\n",
    "!pip install scikeras\n",
    "\n",
    "import tensorflow as tf\n",
    "import keras_tuner as kt\n",
    "from tensorflow import keras\n",
    "from keras.models import Sequential\n",
    "from keras.layers import Dense\n",
    "from keras.utils import to_categorical \n",
    "from scikeras.wrappers import KerasClassifier\n",
    "from sklearn.metrics import roc_auc_score\n",
    "from sklearn.preprocessing import LabelEncoder\n",
    "from sklearn.preprocessing import StandardScaler\n",
    "from sklearn.pipeline import Pipeline\n",
    "\n",
    "\n",
    "# for readibility \n",
    "y_train_nn = y_train.copy()\n",
    "y_test_nn = y_test.copy()\n",
    "X_train_nn = X_train.copy()\n",
    "X_test_nn = X_test.copy()\n",
    "\n",
    "tf.random.set_seed(SEED)"
   ]
  },
  {
   "cell_type": "code",
   "execution_count": 255,
   "id": "cda05e12",
   "metadata": {},
   "outputs": [
    {
     "name": "stdout",
     "output_type": "stream",
     "text": [
      "<class 'pandas.core.frame.DataFrame'>\n",
      "Index: 692 entries, C1=CC(=CC=C1C(=O)O)[N+](=O)[O-] to CC(C)N\n",
      "Columns: 4179 entries, MW to chiralPhMoment\n",
      "dtypes: float64(1875), int64(2304)\n",
      "memory usage: 22.1+ MB\n"
     ]
    }
   ],
   "source": [
    "X_train.info()"
   ]
  },
  {
   "cell_type": "markdown",
   "id": "6cb11ba9",
   "metadata": {},
   "source": [
    "## Preprocessing"
   ]
  },
  {
   "cell_type": "markdown",
   "id": "35abb192",
   "metadata": {},
   "source": [
    "### Handle NaNs \n",
    "- You can't have missing values in a Neural Network, so we choose to remove all columns with them (for now)"
   ]
  },
  {
   "cell_type": "code",
   "execution_count": 256,
   "id": "26b640af",
   "metadata": {},
   "outputs": [],
   "source": [
    "X_train_nn, X_test_nn = handleNaNs(X_train.copy(), X_test.copy(), option=1)"
   ]
  },
  {
   "cell_type": "markdown",
   "id": "b207c5c6",
   "metadata": {},
   "source": [
    "## Prepare a validation set\n",
    "- Stratified "
   ]
  },
  {
   "cell_type": "code",
   "execution_count": 257,
   "id": "b49f88c0",
   "metadata": {},
   "outputs": [],
   "source": [
    "X_train_t_nn, X_val_nn, y_train_t_nn, y_val_nn = X_train_t.copy(), X_val.copy(), y_train_t.copy(), y_val.copy()"
   ]
  },
  {
   "cell_type": "code",
   "execution_count": 258,
   "id": "8db39752",
   "metadata": {},
   "outputs": [],
   "source": [
    "X_train_t_nn, X_val_nn = handleNaNs(X_train_t_nn.copy(), X_val_nn.copy(), option=1)"
   ]
  },
  {
   "cell_type": "markdown",
   "id": "b423c911",
   "metadata": {},
   "source": [
    "### Standardization \n",
    "\n",
    "Standardization is an effective data preparation scheme for tabular data when building neural network models. This is where the data is rescaled such that the mean value for each attribute is 0, and the standard deviation is 1. This preserves Gaussian and Gaussian-like distributions while normalizing the central tendencies for each attribute.\n",
    "\n",
    "https://machinelearningmastery.com/binary-classification-tutorial-with-the-keras-deep-learning-library/\n",
    "\n",
    "- not necessary for tree based algorithms because they are fairly insensitive to the scale of features \"The decision tree splits a node on a feature that increases the homogeneity of the node. This split on a feature is not influenced by other features. Hence, there is virtually no effect of the remaining features on the split. This is what makes them invariant to the scale of the features.\" https://www.atoti.io/articles/when-to-perform-a-feature-scaling/#:~:text=In%20Neural%20Networks%20algorithm%20that,an%20essential%20pre%2Dprocessing%20step.\n",
    "\n",
    "- Note: The StandardScaler is only fit using the train_features to be sure the model is not peeking at the validation or test sets."
   ]
  },
  {
   "cell_type": "code",
   "execution_count": 259,
   "id": "7ff53ae6",
   "metadata": {},
   "outputs": [],
   "source": [
    "scaler = StandardScaler()\n",
    "X_train_t_nn = scaler.fit_transform(X_train_t_nn) \n",
    "X_val_nn = scaler.transform(X_val_nn) \n",
    "\n",
    "scaler2 = StandardScaler()\n",
    "X_train_nn = scaler2.fit_transform(X_train_nn) \n",
    "X_test_nn = scaler2.transform(X_test_nn) "
   ]
  },
  {
   "cell_type": "markdown",
   "id": "3aebfb1e",
   "metadata": {},
   "source": [
    "### Encode class values as integers"
   ]
  },
  {
   "cell_type": "markdown",
   "id": "895a8e22",
   "metadata": {},
   "source": [
    "Use adam optimizer so we don't have to specify learning rate, as is the case with gradient descent, and optimise for it"
   ]
  },
  {
   "cell_type": "code",
   "execution_count": 260,
   "id": "fa598aec",
   "metadata": {},
   "outputs": [],
   "source": [
    "encoder = LabelEncoder()\n",
    "encoder.fit(y_train_nn)\n",
    "y_train_nn = encoder.transform(y_train_nn)\n",
    "y_train_t_nn = encoder.transform(y_train_t_nn)\n",
    "y_test_nn = encoder.transform(y_test_nn)\n",
    "y_val_nn = encoder.transform(y_val_nn)"
   ]
  },
  {
   "cell_type": "markdown",
   "id": "8f12e29c",
   "metadata": {},
   "source": [
    "## Metrics"
   ]
  },
  {
   "cell_type": "code",
   "execution_count": 261,
   "id": "203869ce",
   "metadata": {},
   "outputs": [],
   "source": [
    "METRICS = [\n",
    "  keras.metrics.TruePositives(name='tp'),\n",
    "  keras.metrics.FalsePositives(name='fp'),\n",
    "  keras.metrics.TrueNegatives(name='tn'),\n",
    "  keras.metrics.FalseNegatives(name='fn'), \n",
    "  keras.metrics.Precision(name='precision'),\n",
    "  keras.metrics.Recall(name='recall'),\n",
    "  keras.metrics.AUC(name='auc', curve='ROC'),\n",
    "]"
   ]
  },
  {
   "cell_type": "markdown",
   "id": "1d5414f2",
   "metadata": {},
   "source": [
    "## Test model - Keras"
   ]
  },
  {
   "cell_type": "code",
   "execution_count": 262,
   "id": "8b901a28",
   "metadata": {},
   "outputs": [],
   "source": [
    "def test_model_keras(model, history, X_val_nn, y_val_nn, X_train_nn, y_train_nn): \n",
    "    # Plot training and validation auc \n",
    "\n",
    "    plt.plot(history.history['auc'])\n",
    "    plt.plot(history.history['val_auc'])\n",
    "    plt.title('model roc_auc')\n",
    "    plt.ylabel('ROC_AUC')\n",
    "    plt.xlabel('epoch')\n",
    "    plt.legend(['training', 'validation'], loc='upper left')\n",
    "    plt.show()\n",
    "\n",
    "    # Plot training and validation ROC curve\n",
    "\n",
    "    y_pred_keras = model.predict(X_val_nn).ravel()\n",
    "    fpr_keras, tpr_keras, thresholds_keras = roc_curve(y_val_nn, y_pred_keras)\n",
    "    auc_v_keras = metrics.roc_auc_score(y_val_nn, y_pred_keras)\n",
    "\n",
    "    plt.figure(1)\n",
    "    plt.plot([0, 1], [0, 1], 'k--')\n",
    "    plt.plot(fpr_keras, tpr_keras)\n",
    "\n",
    "    y_pred_t_keras = model.predict(X_train_nn).ravel()\n",
    "    fpr_keras, tpr_keras, thresholds_keras = roc_curve(y_train_nn, y_pred_t_keras)\n",
    "    auc_t_keras = metrics.roc_auc_score(y_train_nn, y_pred_t_keras)\n",
    "\n",
    "    plt.plot(fpr_keras, tpr_keras)\n",
    "\n",
    "    plt.xlabel('False positive rate')\n",
    "    plt.ylabel('True positive rate')\n",
    "    plt.title('ROC curve')\n",
    "    plt.legend(['', 'Validation (area = {:.3f})'.format(auc_v_keras), 'Training (area = {:.3f})'.format(auc_t_keras)], loc='best')\n",
    "    plt.show()\n",
    "    plt.show()\n"
   ]
  },
  {
   "cell_type": "markdown",
   "id": "b98182ba",
   "metadata": {},
   "source": [
    "## Baseline Single Layer model\n",
    "- Overfitting quite a bit, you can see it when you compare the validation set auc and the auc for the training set "
   ]
  },
  {
   "cell_type": "code",
   "execution_count": 263,
   "id": "fc070499",
   "metadata": {},
   "outputs": [
    {
     "name": "stdout",
     "output_type": "stream",
     "text": [
      "Model: \"sequential_3\"\n",
      "_________________________________________________________________\n",
      " Layer (type)                Output Shape              Param #   \n",
      "=================================================================\n",
      " dense_12 (Dense)            (None, 3033)              9199089   \n",
      "                                                                 \n",
      " dense_13 (Dense)            (None, 1)                 3034      \n",
      "                                                                 \n",
      "=================================================================\n",
      "Total params: 9,202,123\n",
      "Trainable params: 9,202,123\n",
      "Non-trainable params: 0\n",
      "_________________________________________________________________\n"
     ]
    },
    {
     "data": {
      "image/png": "[encoded data removed]",
      "text/plain": [
       "<Figure size 432x288 with 1 Axes>"
      ]
     },
     "metadata": {
      "needs_background": "light"
     },
     "output_type": "display_data"
    },
    {
     "name": "stdout",
     "output_type": "stream",
     "text": [
      "7/7 [==============================] - 0s 7ms/step\n",
      "16/16 [==============================] - 0s 8ms/step\n"
     ]
    },
    {
     "data": {
      "image/png": "[encoded data removed]",
      "text/plain": [
       "<Figure size 432x288 with 1 Axes>"
      ]
     },
     "metadata": {
      "needs_background": "light"
     },
     "output_type": "display_data"
    }
   ],
   "source": [
    "model = keras.Sequential()\n",
    "model.add(keras.layers.Dense(X_train_nn.shape[-1]+1, activation=\"relu\", input_shape=(X_train_nn.shape[-1],)))\n",
    "model.add(Dense(1, activation='sigmoid'))\n",
    "\n",
    "model.summary()\n",
    "\n",
    "model.compile(optimizer='adam',\n",
    "              loss='binary_crossentropy',\n",
    "              metrics=METRICS)\n",
    "\n",
    "history = model.fit(X_train_t_nn, \n",
    "                      y_train_t_nn, \n",
    "                      epochs=30, \n",
    "                      validation_data=(X_val_nn, y_val_nn), \n",
    "                      verbose=0)\n",
    "\n",
    "test_model_keras(model, history, X_val_nn, y_val_nn, X_train_t_nn, y_train_t_nn)"
   ]
  },
  {
   "cell_type": "markdown",
   "id": "ee4927be",
   "metadata": {},
   "source": [
    "## Feature selection on multilayer model"
   ]
  },
  {
   "cell_type": "markdown",
   "id": "657b603e",
   "metadata": {},
   "source": [
    "Using the set of the top 100 descriptors from RF and XGB, filter the dataset by these descriptors, and then measure validation accuracy"
   ]
  },
  {
   "cell_type": "markdown",
   "id": "3a970c20",
   "metadata": {},
   "source": [
    "Choose f_classif method of feature selection, with 100 features.\n",
    "### une and retrain model"
   ]
  },
  {
   "cell_type": "code",
   "execution_count": 265,
   "id": "f328348b",
   "metadata": {},
   "outputs": [],
   "source": [
    "def model_builder_3(hp):\n",
    "\n",
    "    model = keras.Sequential()\n",
    "    model.add(Dense(100, input_shape=(100,), activation='relu'))\n",
    "\n",
    "    # Tune the number of units in the first Dense layer\n",
    "    # Choose an optimal value between 2-length of layers\n",
    "    hp_units = hp.Int('unit_1', min_value=2, max_value=2000, step=10)\n",
    "    model.add(keras.layers.Dense(units=hp_units, activation='relu'))\n",
    "    \n",
    "    # dropout layer reduces overfitting\n",
    "    hp_units = hp.Float('dropout_1', min_value=0.0, max_value=0.5, default=0.25, step=0.05)\n",
    "    model.add(keras.layers.Dropout(hp_units))\n",
    "    \n",
    "    # Tune the number of units in the first Dense layer\n",
    "    # Choose an optimal value between 2-length of layers\n",
    "    hp_units = hp.Int('unit_2', min_value=2, max_value=2000, step=10)\n",
    "    model.add(keras.layers.Dense(units=hp_units, activation='relu'))\n",
    "    \n",
    "    model.add(Dense(1, activation='sigmoid'))\n",
    "    \n",
    "    hp_learning_rate = hp.Choice('learning_rate', values=[1e-2, 1e-3, 1e-4])\n",
    "\n",
    "    model.compile(optimizer=keras.optimizers.Adam(learning_rate=hp_learning_rate),\n",
    "                  loss='binary_crossentropy',\n",
    "                  metrics=METRICS)\n",
    "\n",
    "    return model"
   ]
  },
  {
   "cell_type": "code",
   "execution_count": 266,
   "id": "37526fcc",
   "metadata": {},
   "outputs": [],
   "source": [
    "import sklearn.feature_selection as fs\n",
    "from sklearn.feature_selection import VarianceThreshold\n",
    "\n",
    "constant_filter = VarianceThreshold(threshold=0)\n",
    "constant_filter.fit(X_train_nn)\n",
    "X_train_nn = constant_filter.transform(X_train_nn)\n",
    "X_test_nn = constant_filter.transform(X_test_nn)\n",
    "X_val_nn = constant_filter.transform(X_val_nn)\n",
    "X_train_t_nn = constant_filter.transform(X_train_t_nn)\n",
    "\n",
    "\n",
    "    \n",
    "bk = fs.SelectKBest(fs.f_classif, k=100)\n",
    "bk.fit(X_train_nn, y_train_nn)\n",
    "X_train_nn = bk.transform(X_train_nn)"
   ]
  },
  {
   "cell_type": "code",
   "execution_count": 267,
   "id": "f140446c",
   "metadata": {},
   "outputs": [],
   "source": [
    "X_val_nn = bk.transform(X_val_nn)"
   ]
  },
  {
   "cell_type": "code",
   "execution_count": 268,
   "id": "f3dcc934",
   "metadata": {},
   "outputs": [],
   "source": [
    "X_test_nn = bk.transform(X_test_nn)"
   ]
  },
  {
   "cell_type": "code",
   "execution_count": 269,
   "id": "2c0857de",
   "metadata": {},
   "outputs": [],
   "source": [
    "X_train_t_nn = bk.transform(X_train_t_nn)"
   ]
  },
  {
   "cell_type": "code",
   "execution_count": 1,
   "id": "3e283340",
   "metadata": {},
   "outputs": [
    {
     "ename": "NameError",
     "evalue": "name 'X_val_nn' is not defined",
     "output_type": "error",
     "traceback": [
      "\u001b[0;31m---------------------------------------------------------------------------\u001b[0m",
      "\u001b[0;31mNameError\u001b[0m                                 Traceback (most recent call last)",
      "\u001b[0;32m<ipython-input-1-a5880de19b58>\u001b[0m in \u001b[0;36m<module>\u001b[0;34m\u001b[0m\n\u001b[0;32m----> 1\u001b[0;31m \u001b[0mprint\u001b[0m\u001b[0;34m(\u001b[0m\u001b[0mX_val_nn\u001b[0m\u001b[0;34m.\u001b[0m\u001b[0mshape\u001b[0m\u001b[0;34m)\u001b[0m\u001b[0;34m\u001b[0m\u001b[0;34m\u001b[0m\u001b[0m\n\u001b[0m\u001b[1;32m      2\u001b[0m tuner = kt.Hyperband(model_builder_3,\n\u001b[1;32m      3\u001b[0m                      \u001b[0mobjective\u001b[0m\u001b[0;34m=\u001b[0m\u001b[0mkt\u001b[0m\u001b[0;34m.\u001b[0m\u001b[0mObjective\u001b[0m\u001b[0;34m(\u001b[0m\u001b[0;34m\"val_auc\"\u001b[0m\u001b[0;34m,\u001b[0m \u001b[0mdirection\u001b[0m\u001b[0;34m=\u001b[0m\u001b[0;34m\"max\"\u001b[0m\u001b[0;34m)\u001b[0m\u001b[0;34m,\u001b[0m\u001b[0;34m\u001b[0m\u001b[0;34m\u001b[0m\u001b[0m\n\u001b[1;32m      4\u001b[0m                      \u001b[0mmax_epochs\u001b[0m\u001b[0;34m=\u001b[0m\u001b[0;36m10\u001b[0m\u001b[0;34m,\u001b[0m\u001b[0;34m\u001b[0m\u001b[0;34m\u001b[0m\u001b[0m\n\u001b[1;32m      5\u001b[0m                      \u001b[0mfactor\u001b[0m\u001b[0;34m=\u001b[0m\u001b[0;36m3\u001b[0m\u001b[0;34m,\u001b[0m\u001b[0;34m\u001b[0m\u001b[0;34m\u001b[0m\u001b[0m\n",
      "\u001b[0;31mNameError\u001b[0m: name 'X_val_nn' is not defined"
     ]
    }
   ],
   "source": [
    "print(X_val_nn.shape)\n",
    "tuner = kt.Hyperband(model_builder_3,\n",
    "                     objective=kt.Objective(\"val_auc\", direction=\"max\"),\n",
    "                     max_epochs=10,\n",
    "                     factor=3,\n",
    "                     seed=SEED, \n",
    "                     directory=\"results_dir\",\n",
    "                     project_name=\"odor\",\n",
    "                     overwrite=True,)\n",
    "                     \n",
    "tuner.search(X_train_t_nn, \n",
    "             y_train_t_nn, \n",
    "             epochs=30,\n",
    "             validation_data=(X_val_nn, y_val_nn),\n",
    "             callbacks=[tf.keras.callbacks.EarlyStopping(monitor=\"val_loss\")])"
   ]
  },
  {
   "cell_type": "code",
   "execution_count": null,
   "id": "f8466c2c",
   "metadata": {},
   "outputs": [],
   "source": [
    "best_hps=tuner.get_best_hyperparameters(num_trials=1)[0]\n",
    "print(f\"\"\"\n",
    "The hyperparameter search is complete. \\n The optimal number of units in the first densely-connected\n",
    "layer is {best_hps.get('unit_1')} \\n The optimal number of units in the second densely-connected\n",
    "layer is {best_hps.get('unit_2')} \\n The optimal number of dropouts in the first densely-connected\n",
    "layer is {best_hps.get('dropout_1')}.\\n The optimal learning \n",
    "rate is  {best_hps.get('learning_rate')}\n",
    "\"\"\")"
   ]
  },
  {
   "cell_type": "code",
   "execution_count": null,
   "id": "fdea6f27",
   "metadata": {},
   "outputs": [],
   "source": [
    "model4 = tuner.hypermodel.build(best_hps)\n",
    "model4.summary()"
   ]
  },
  {
   "cell_type": "code",
   "execution_count": null,
   "id": "99c061aa",
   "metadata": {},
   "outputs": [],
   "source": [
    "history = model4.fit(X_train_t_nn, \n",
    "                      y_train_t_nn, \n",
    "                      epochs=30,\n",
    "                      batch_size=64,\n",
    "                      validation_data=(X_val_nn, y_val_nn), \n",
    "                      verbose=0)\n",
    "\n",
    "test_model_keras(model4, history, X_val_nn, y_val_nn, X_train_nn, y_train_nn)"
   ]
  },
  {
   "cell_type": "code",
   "execution_count": null,
   "id": "e9c0df40",
   "metadata": {},
   "outputs": [],
   "source": [
    "model_final = tuner.hypermodel.build(best_hps)\n",
    "\n",
    "# Build the final model with all the training data with the optimal hyperparameters \n",
    "history = model_final.fit(X_train_nn, \n",
    "                      y_train_nn, \n",
    "                      epochs=30,\n",
    "                      batch_size=64,\n",
    "                      validation_data=(X_val_nn, y_val_nn), \n",
    "                      verbose=0)\n",
    "\n",
    "test_model_keras(model4, history, X_val_nn, y_val_nn, X_train_nn, y_train_nn)"
   ]
  },
  {
   "cell_type": "markdown",
   "id": "ae139664",
   "metadata": {},
   "source": [
    "## Evaluate model on test data"
   ]
  },
  {
   "cell_type": "code",
   "execution_count": null,
   "id": "dcd95b0a",
   "metadata": {},
   "outputs": [],
   "source": [
    "y_pred_t_keras = model_final.predict(X_test_nn).ravel()\n",
    "fpr_keras, tpr_keras, thresholds_keras = roc_curve(y_test_nn, y_pred_t_keras)\n",
    "auc_t_keras = metrics.roc_auc_score(y_test_nn, y_pred_t_keras)\n",
    "auc_t_keras\n",
    "\n",
    "plt.figure(1)\n",
    "plt.plot([0, 1], [0, 1], 'k--')\n",
    "plt.plot(fpr_keras, tpr_keras)\n",
    "plt.xlabel('False positive rate')\n",
    "plt.ylabel('True positive rate')\n",
    "plt.title('ROC curve')\n",
    "plt.legend(['', 'Test (area = {:.3f})'.format(auc_t_keras)], loc='best')\n",
    "plt.show()\n",
    "plt.show()"
   ]
  }
 ],
 "metadata": {
  "kernelspec": {
   "display_name": "Python 3",
   "language": "python",
   "name": "python3"
  },
  "language_info": {
   "codemirror_mode": {
    "name": "ipython",
    "version": 3
   },
   "file_extension": ".py",
   "mimetype": "text/x-python",
   "name": "python",
   "nbconvert_exporter": "python",
   "pygments_lexer": "ipython3",
   "version": "3.8.8"
  }
 },
 "nbformat": 4,
 "nbformat_minor": 5
}
