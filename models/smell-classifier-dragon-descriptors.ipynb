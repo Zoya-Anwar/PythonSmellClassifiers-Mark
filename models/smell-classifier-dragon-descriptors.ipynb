{
 "cells": [
  {
   "cell_type": "code",
   "execution_count": 1,
   "id": "d9806988",
   "metadata": {},
   "outputs": [
    {
     "name": "stdout",
     "output_type": "stream",
     "text": [
      "Requirement already satisfied: bayesian-optimization in /home/zoya/anaconda3/lib/python3.8/site-packages (1.4.2)\n",
      "Requirement already satisfied: numpy>=1.9.0 in /home/zoya/anaconda3/lib/python3.8/site-packages (from bayesian-optimization) (1.24.1)\n",
      "Requirement already satisfied: colorama>=0.4.6 in /home/zoya/anaconda3/lib/python3.8/site-packages (from bayesian-optimization) (0.4.6)\n",
      "Requirement already satisfied: scikit-learn>=0.18.0 in /home/zoya/anaconda3/lib/python3.8/site-packages (from bayesian-optimization) (1.2.0)\n",
      "Requirement already satisfied: scipy>=1.0.0 in /home/zoya/anaconda3/lib/python3.8/site-packages (from bayesian-optimization) (1.10.0)\n",
      "Requirement already satisfied: threadpoolctl>=2.0.0 in /home/zoya/anaconda3/lib/python3.8/site-packages (from scikit-learn>=0.18.0->bayesian-optimization) (3.1.0)\n",
      "Requirement already satisfied: joblib>=1.1.1 in /home/zoya/anaconda3/lib/python3.8/site-packages (from scikit-learn>=0.18.0->bayesian-optimization) (1.2.0)\n",
      "\n",
      "\u001b[1m[\u001b[0m\u001b[34;49mnotice\u001b[0m\u001b[1;39;49m]\u001b[0m\u001b[39;49m A new release of pip available: \u001b[0m\u001b[31;49m22.3.1\u001b[0m\u001b[39;49m -> \u001b[0m\u001b[32;49m23.0\u001b[0m\n",
      "\u001b[1m[\u001b[0m\u001b[34;49mnotice\u001b[0m\u001b[1;39;49m]\u001b[0m\u001b[39;49m To update, run: \u001b[0m\u001b[32;49mpip install --upgrade pip\u001b[0m\n"
     ]
    }
   ],
   "source": [
    "!pip install bayesian-optimization\n",
    "import pandas as pd\n",
    "from xgboost import XGBClassifier, cv\n",
    "from sklearn.model_selection import train_test_split, cross_validate, StratifiedKFold, RandomizedSearchCV, GridSearchCV, cross_val_score\n",
    "from sklearn.metrics import roc_curve\n",
    "import matplotlib.pyplot as plt\n",
    "import seaborn as sns\n",
    "from sklearn.ensemble import RandomForestClassifier\n",
    "from sklearn.preprocessing import StandardScaler\n",
    "from sklearn import metrics\n",
    "from sklearn.compose import ColumnTransformer\n",
    "from bayes_opt import BayesianOptimization\n",
    "import numpy as np\n",
    "\n",
    "SEED=0"
   ]
  },
  {
   "cell_type": "markdown",
   "id": "0f5b377a",
   "metadata": {},
   "source": [
    "# Load the dataset\n",
    "- Load data from excel sheet\n",
    "- Set X (independent variables) and y (dependent variables) "
   ]
  },
  {
   "cell_type": "code",
   "execution_count": 2,
   "id": "5ee6edb3",
   "metadata": {},
   "outputs": [
    {
     "data": {
      "text/html": [
       "<div>\n",
       "<style scoped>\n",
       "    .dataframe tbody tr th:only-of-type {\n",
       "        vertical-align: middle;\n",
       "    }\n",
       "\n",
       "    .dataframe tbody tr th {\n",
       "        vertical-align: top;\n",
       "    }\n",
       "\n",
       "    .dataframe thead th {\n",
       "        text-align: right;\n",
       "    }\n",
       "</style>\n",
       "<table border=\"1\" class=\"dataframe\">\n",
       "  <thead>\n",
       "    <tr style=\"text-align: right;\">\n",
       "      <th></th>\n",
       "      <th>MW</th>\n",
       "      <th>AMW</th>\n",
       "      <th>Sv</th>\n",
       "      <th>Se</th>\n",
       "      <th>Sp</th>\n",
       "      <th>Si</th>\n",
       "      <th>Mv</th>\n",
       "      <th>Me</th>\n",
       "      <th>Mp</th>\n",
       "      <th>Mi</th>\n",
       "      <th>...</th>\n",
       "      <th>s1_numAroBonds</th>\n",
       "      <th>s2_numAroBonds</th>\n",
       "      <th>s3_numAroBonds</th>\n",
       "      <th>s4_numAroBonds</th>\n",
       "      <th>s34_size</th>\n",
       "      <th>s34_relSize</th>\n",
       "      <th>s34_phSize</th>\n",
       "      <th>s34_phRelSize</th>\n",
       "      <th>chiralMoment</th>\n",
       "      <th>chiralPhMoment</th>\n",
       "    </tr>\n",
       "  </thead>\n",
       "  <tbody>\n",
       "    <tr>\n",
       "      <th>count</th>\n",
       "      <td>865.000000</td>\n",
       "      <td>865.000000</td>\n",
       "      <td>865.000000</td>\n",
       "      <td>865.000000</td>\n",
       "      <td>865.000000</td>\n",
       "      <td>865.000000</td>\n",
       "      <td>865.000000</td>\n",
       "      <td>865.000000</td>\n",
       "      <td>865.000000</td>\n",
       "      <td>865.000000</td>\n",
       "      <td>...</td>\n",
       "      <td>865.0</td>\n",
       "      <td>865.000000</td>\n",
       "      <td>865.000000</td>\n",
       "      <td>865.000000</td>\n",
       "      <td>865.000000</td>\n",
       "      <td>865.000000</td>\n",
       "      <td>865.000000</td>\n",
       "      <td>865.000000</td>\n",
       "      <td>865.000000</td>\n",
       "      <td>865.000000</td>\n",
       "    </tr>\n",
       "    <tr>\n",
       "      <th>mean</th>\n",
       "      <td>152.497214</td>\n",
       "      <td>8.130482</td>\n",
       "      <td>12.828913</td>\n",
       "      <td>22.149323</td>\n",
       "      <td>13.800939</td>\n",
       "      <td>25.139284</td>\n",
       "      <td>0.597289</td>\n",
       "      <td>1.017789</td>\n",
       "      <td>0.639164</td>\n",
       "      <td>1.143216</td>\n",
       "      <td>...</td>\n",
       "      <td>0.0</td>\n",
       "      <td>0.008478</td>\n",
       "      <td>0.057996</td>\n",
       "      <td>0.191137</td>\n",
       "      <td>2.080402</td>\n",
       "      <td>0.169246</td>\n",
       "      <td>0.417864</td>\n",
       "      <td>0.036698</td>\n",
       "      <td>2.093204</td>\n",
       "      <td>0.600119</td>\n",
       "    </tr>\n",
       "    <tr>\n",
       "      <th>std</th>\n",
       "      <td>66.919081</td>\n",
       "      <td>7.112818</td>\n",
       "      <td>5.985939</td>\n",
       "      <td>10.237872</td>\n",
       "      <td>6.521889</td>\n",
       "      <td>11.873281</td>\n",
       "      <td>0.110081</td>\n",
       "      <td>0.072288</td>\n",
       "      <td>0.152502</td>\n",
       "      <td>0.047199</td>\n",
       "      <td>...</td>\n",
       "      <td>0.0</td>\n",
       "      <td>0.152963</td>\n",
       "      <td>0.527725</td>\n",
       "      <td>1.114756</td>\n",
       "      <td>4.437306</td>\n",
       "      <td>0.316773</td>\n",
       "      <td>1.053596</td>\n",
       "      <td>0.089476</td>\n",
       "      <td>4.607502</td>\n",
       "      <td>1.360089</td>\n",
       "    </tr>\n",
       "    <tr>\n",
       "      <th>min</th>\n",
       "      <td>16.050000</td>\n",
       "      <td>3.210000</td>\n",
       "      <td>0.910100</td>\n",
       "      <td>1.952700</td>\n",
       "      <td>0.698900</td>\n",
       "      <td>1.856400</td>\n",
       "      <td>0.387050</td>\n",
       "      <td>0.909080</td>\n",
       "      <td>0.349450</td>\n",
       "      <td>0.928200</td>\n",
       "      <td>...</td>\n",
       "      <td>0.0</td>\n",
       "      <td>0.000000</td>\n",
       "      <td>0.000000</td>\n",
       "      <td>0.000000</td>\n",
       "      <td>0.000000</td>\n",
       "      <td>0.000000</td>\n",
       "      <td>0.000000</td>\n",
       "      <td>0.000000</td>\n",
       "      <td>0.000000</td>\n",
       "      <td>0.000000</td>\n",
       "    </tr>\n",
       "    <tr>\n",
       "      <th>25%</th>\n",
       "      <td>106.140000</td>\n",
       "      <td>5.585152</td>\n",
       "      <td>8.778400</td>\n",
       "      <td>15.305400</td>\n",
       "      <td>9.454700</td>\n",
       "      <td>17.079600</td>\n",
       "      <td>0.527400</td>\n",
       "      <td>0.979383</td>\n",
       "      <td>0.576931</td>\n",
       "      <td>1.124658</td>\n",
       "      <td>...</td>\n",
       "      <td>0.0</td>\n",
       "      <td>0.000000</td>\n",
       "      <td>0.000000</td>\n",
       "      <td>0.000000</td>\n",
       "      <td>0.000000</td>\n",
       "      <td>0.000000</td>\n",
       "      <td>0.000000</td>\n",
       "      <td>0.000000</td>\n",
       "      <td>0.000000</td>\n",
       "      <td>0.000000</td>\n",
       "    </tr>\n",
       "    <tr>\n",
       "      <th>50%</th>\n",
       "      <td>144.240000</td>\n",
       "      <td>6.484286</td>\n",
       "      <td>12.192800</td>\n",
       "      <td>21.283500</td>\n",
       "      <td>13.238800</td>\n",
       "      <td>24.115800</td>\n",
       "      <td>0.571300</td>\n",
       "      <td>0.994537</td>\n",
       "      <td>0.615738</td>\n",
       "      <td>1.138492</td>\n",
       "      <td>...</td>\n",
       "      <td>0.0</td>\n",
       "      <td>0.000000</td>\n",
       "      <td>0.000000</td>\n",
       "      <td>0.000000</td>\n",
       "      <td>0.000000</td>\n",
       "      <td>0.000000</td>\n",
       "      <td>0.000000</td>\n",
       "      <td>0.000000</td>\n",
       "      <td>0.000000</td>\n",
       "      <td>0.000000</td>\n",
       "    </tr>\n",
       "    <tr>\n",
       "      <th>75%</th>\n",
       "      <td>184.310000</td>\n",
       "      <td>8.068235</td>\n",
       "      <td>15.982800</td>\n",
       "      <td>28.250700</td>\n",
       "      <td>17.307100</td>\n",
       "      <td>31.946200</td>\n",
       "      <td>0.636588</td>\n",
       "      <td>1.019995</td>\n",
       "      <td>0.658200</td>\n",
       "      <td>1.146753</td>\n",
       "      <td>...</td>\n",
       "      <td>0.0</td>\n",
       "      <td>0.000000</td>\n",
       "      <td>0.000000</td>\n",
       "      <td>0.000000</td>\n",
       "      <td>0.000000</td>\n",
       "      <td>0.000000</td>\n",
       "      <td>0.000000</td>\n",
       "      <td>0.000000</td>\n",
       "      <td>0.000000</td>\n",
       "      <td>0.000000</td>\n",
       "    </tr>\n",
       "    <tr>\n",
       "      <th>max</th>\n",
       "      <td>532.520000</td>\n",
       "      <td>126.900000</td>\n",
       "      <td>42.281600</td>\n",
       "      <td>67.508700</td>\n",
       "      <td>44.767400</td>\n",
       "      <td>75.820500</td>\n",
       "      <td>1.580200</td>\n",
       "      <td>1.412100</td>\n",
       "      <td>3.039800</td>\n",
       "      <td>1.483150</td>\n",
       "      <td>...</td>\n",
       "      <td>0.0</td>\n",
       "      <td>3.500000</td>\n",
       "      <td>8.500000</td>\n",
       "      <td>12.000000</td>\n",
       "      <td>30.000000</td>\n",
       "      <td>0.913043</td>\n",
       "      <td>7.000000</td>\n",
       "      <td>0.500000</td>\n",
       "      <td>31.304952</td>\n",
       "      <td>9.949874</td>\n",
       "    </tr>\n",
       "  </tbody>\n",
       "</table>\n",
       "<p>8 rows × 4179 columns</p>\n",
       "</div>"
      ],
      "text/plain": [
       "               MW         AMW          Sv          Se          Sp          Si  \\\n",
       "count  865.000000  865.000000  865.000000  865.000000  865.000000  865.000000   \n",
       "mean   152.497214    8.130482   12.828913   22.149323   13.800939   25.139284   \n",
       "std     66.919081    7.112818    5.985939   10.237872    6.521889   11.873281   \n",
       "min     16.050000    3.210000    0.910100    1.952700    0.698900    1.856400   \n",
       "25%    106.140000    5.585152    8.778400   15.305400    9.454700   17.079600   \n",
       "50%    144.240000    6.484286   12.192800   21.283500   13.238800   24.115800   \n",
       "75%    184.310000    8.068235   15.982800   28.250700   17.307100   31.946200   \n",
       "max    532.520000  126.900000   42.281600   67.508700   44.767400   75.820500   \n",
       "\n",
       "               Mv          Me          Mp          Mi  ...  s1_numAroBonds  \\\n",
       "count  865.000000  865.000000  865.000000  865.000000  ...           865.0   \n",
       "mean     0.597289    1.017789    0.639164    1.143216  ...             0.0   \n",
       "std      0.110081    0.072288    0.152502    0.047199  ...             0.0   \n",
       "min      0.387050    0.909080    0.349450    0.928200  ...             0.0   \n",
       "25%      0.527400    0.979383    0.576931    1.124658  ...             0.0   \n",
       "50%      0.571300    0.994537    0.615738    1.138492  ...             0.0   \n",
       "75%      0.636588    1.019995    0.658200    1.146753  ...             0.0   \n",
       "max      1.580200    1.412100    3.039800    1.483150  ...             0.0   \n",
       "\n",
       "       s2_numAroBonds  s3_numAroBonds  s4_numAroBonds    s34_size  \\\n",
       "count      865.000000      865.000000      865.000000  865.000000   \n",
       "mean         0.008478        0.057996        0.191137    2.080402   \n",
       "std          0.152963        0.527725        1.114756    4.437306   \n",
       "min          0.000000        0.000000        0.000000    0.000000   \n",
       "25%          0.000000        0.000000        0.000000    0.000000   \n",
       "50%          0.000000        0.000000        0.000000    0.000000   \n",
       "75%          0.000000        0.000000        0.000000    0.000000   \n",
       "max          3.500000        8.500000       12.000000   30.000000   \n",
       "\n",
       "       s34_relSize  s34_phSize  s34_phRelSize  chiralMoment  chiralPhMoment  \n",
       "count   865.000000  865.000000     865.000000    865.000000      865.000000  \n",
       "mean      0.169246    0.417864       0.036698      2.093204        0.600119  \n",
       "std       0.316773    1.053596       0.089476      4.607502        1.360089  \n",
       "min       0.000000    0.000000       0.000000      0.000000        0.000000  \n",
       "25%       0.000000    0.000000       0.000000      0.000000        0.000000  \n",
       "50%       0.000000    0.000000       0.000000      0.000000        0.000000  \n",
       "75%       0.000000    0.000000       0.000000      0.000000        0.000000  \n",
       "max       0.913043    7.000000       0.500000     31.304952        9.949874  \n",
       "\n",
       "[8 rows x 4179 columns]"
      ]
     },
     "execution_count": 2,
     "metadata": {},
     "output_type": "execute_result"
    }
   ],
   "source": [
    "data_path = './data/alvaDescDescriptors.txt'\n",
    "na_values=['na']\n",
    "df = pd.read_csv(data_path, sep=\"\\t\",  dtype={'pctapi': np.float64}, na_values=na_values)\n",
    "smiles =  np.loadtxt(\"./data/smiles.txt\", dtype='str')\n",
    "df = df.drop(['No.', 'NAME'], axis=1)\n",
    "df = df.set_index(smiles)\n",
    "data_path = './data/master_4Mayhew.xlsx'\n",
    "df_mor = pd.read_excel(data_path)\n",
    "y=df_mor['label'] # labels, independent variables\n",
    "X=df # features, dependent variables\n",
    "df.describe()"
   ]
  },
  {
   "cell_type": "code",
   "execution_count": 3,
   "id": "e0105529",
   "metadata": {},
   "outputs": [
    {
     "data": {
      "text/plain": [
       "0      False\n",
       "1      False\n",
       "2      False\n",
       "3      False\n",
       "4      False\n",
       "       ...  \n",
       "860     True\n",
       "861     True\n",
       "862     True\n",
       "863     True\n",
       "864     True\n",
       "Name: label, Length: 865, dtype: bool"
      ]
     },
     "execution_count": 3,
     "metadata": {},
     "output_type": "execute_result"
    }
   ],
   "source": [
    "y"
   ]
  },
  {
   "cell_type": "markdown",
   "id": "8b017fcb",
   "metadata": {},
   "source": [
    "# Explore the dataset "
   ]
  },
  {
   "cell_type": "code",
   "execution_count": 4,
   "id": "d2ad20ce",
   "metadata": {},
   "outputs": [
    {
     "name": "stdout",
     "output_type": "stream",
     "text": [
      "Number of columns with all NaNs \n",
      "False    4179\n",
      "dtype: int64\n",
      "Number of columns with >0.9 NaNs \n",
      "False    4179\n",
      "dtype: int64\n",
      "Number of columns with a NaN \n",
      "1147\n"
     ]
    },
    {
     "data": {
      "text/plain": [
       "Text(0.5, 0, 'Percentage NaNs in descriptors with missing values')"
      ]
     },
     "execution_count": 4,
     "metadata": {},
     "output_type": "execute_result"
    },
    {
     "data": {
      "image/png": "[encoded data removed]",
      "text/plain": [
       "<Figure size 720x576 with 1 Axes>"
      ]
     },
     "metadata": {
      "needs_background": "light"
     },
     "output_type": "display_data"
    }
   ],
   "source": [
    "print(f\"Number of columns with all NaNs \\n{(df.isna().mean(axis=0) == 1).value_counts()}\")\n",
    "print(f\"Number of columns with >0.9 NaNs \\n{(df.isna().mean(axis=0) > 0.9).value_counts()}\")\n",
    "print(f\"Number of columns with a NaN \\n{ len(df.columns[df.isna().any()].tolist())}\")\n",
    "percs = df.isna().mean(axis=0)\n",
    "ax = percs[(percs > 0)].plot.hist(figsize=(10, 8), bins=15)\n",
    "plt.xlabel(\"Percentage NaNs in descriptors with missing values\")"
   ]
  },
  {
   "cell_type": "markdown",
   "id": "79a55bef",
   "metadata": {},
   "source": [
    "# Split the dataset\n",
    "- Split dataset into training and test set \n",
    "- Use equal proportions of odor/odorless class"
   ]
  },
  {
   "cell_type": "code",
   "execution_count": 4,
   "id": "b12f779e",
   "metadata": {},
   "outputs": [],
   "source": [
    "X_train, X_test, y_train, y_test = train_test_split(X, y, test_size=0.2, stratify=y, random_state=0) # 70% training and 30% test\n",
    "X_train_t, X_val, y_train_t, y_val = train_test_split(X_train, y_train, test_size=0.3, stratify=y_train, random_state=SEED)\n"
   ]
  },
  {
   "cell_type": "code",
   "execution_count": 5,
   "id": "79ab3d50",
   "metadata": {},
   "outputs": [
    {
     "name": "stdout",
     "output_type": "stream",
     "text": [
      "Total number molecules in training set: 692\n",
      "Odor: 492\n",
      "Odorless: 200\n",
      "\n",
      "Total number molecules in test set: 173\n",
      "Odor: 123\n",
      "Odorless: 50\n",
      "\n",
      "Percentage odorless 0.28901734104046245\n"
     ]
    }
   ],
   "source": [
    "percentage_odorless = y_train.value_counts()[False]/y_train.shape[0]\n",
    "percentage_odor = 1 - percentage_odorless\n",
    "print(f\"Total number molecules in training set: {y_train.shape[0]}\")\n",
    "print(f\"Odor: {y_train.value_counts()[True]}\")\n",
    "print(f\"Odorless: {y_train.value_counts()[False]}\")\n",
    "\n",
    "print(f\"\\nTotal number molecules in test set: {y_test.shape[0]}\")\n",
    "print(f\"Odor: {y_test.value_counts()[True]}\")\n",
    "print(f\"Odorless: {y_test.value_counts()[False]}\")\n",
    "\n",
    "print(f\"\\nPercentage odorless {y_test.value_counts()[False]/y_test.shape[0]}\")"
   ]
  },
  {
   "cell_type": "markdown",
   "id": "20a81706",
   "metadata": {},
   "source": [
    "### Validation set"
   ]
  },
  {
   "cell_type": "code",
   "execution_count": 6,
   "id": "d1489ba1",
   "metadata": {},
   "outputs": [
    {
     "name": "stdout",
     "output_type": "stream",
     "text": [
      "Number of training samples: 484\n",
      "Number of validation samples: 208\n"
     ]
    }
   ],
   "source": [
    "print(\"Number of training samples:\", len(X_train_t))\n",
    "print(\"Number of validation samples:\", len(X_val))"
   ]
  },
  {
   "cell_type": "markdown",
   "id": "871c7438",
   "metadata": {},
   "source": [
    "# Test Model "
   ]
  },
  {
   "cell_type": "code",
   "execution_count": 7,
   "id": "2bae4b22",
   "metadata": {},
   "outputs": [],
   "source": [
    "def test_model(model, y_test, X_test, verbose=True):\n",
    "    y_pred=model.predict(X_test)\n",
    "    y_pred_probs=model.predict_proba(X_test)[:,1]\n",
    "    \n",
    "    if verbose:\n",
    "        print(\"ROC_AUC (TEST):\",metrics.roc_auc_score(y_test, y_pred_probs))\n",
    "        print(\"\\n\\nCLASSIFICATION REPORT:\\n\",metrics.classification_report(y_test, y_pred))\n",
    "        \n",
    "        if hasattr(model, 'feature_importances_') and hasattr(X_test, 'columns'):\n",
    "            feature_imp = pd.Series(model.feature_importances_,index=X_test.columns.values).sort_values(ascending=False)\n",
    "            top_20 = feature_imp.nlargest(20)\n",
    "            sns.barplot(x=top_20, y=top_20.index)\n",
    "            plt.xlabel('Descriptor Importance Score')\n",
    "            plt.ylabel('Descriptor')\n",
    "            plt.title(\"Top descriptors\")\n",
    "            plt.show()\n",
    "        \n",
    "        fpr, tpr, _ = metrics.roc_curve(y_test,  y_pred_probs)  \n",
    "        \n",
    "        #create ROC curve\n",
    "        plt.plot(fpr,tpr)\n",
    "        plt.ylabel('True Positive Rate')\n",
    "        plt.xlabel('False Positive Rate')\n",
    "        plt.show()\n",
    "        \n",
    "    return metrics.roc_auc_score(y_test, y_pred_probs) \n",
    "\n",
    "def test_model_cross_val(model, y_test, X_test, k=5, verbose=True):\n",
    "    roc_auc_nans = cross_val_score(model, X_test, y_test, cv=k, scoring='roc_auc')\n",
    "    print(f\"AVERAGE CV={k} ROC_AUC (TEST): {np.mean(roc_auc_nans)}\")\n",
    "    print(f\"AVERAGE CV={k} STD (TEST): {np.std(roc_auc_nans)}\")"
   ]
  },
  {
   "cell_type": "markdown",
   "id": "8bd5adb1",
   "metadata": {},
   "source": [
    "# Handle Non Important Descriptors "
   ]
  },
  {
   "cell_type": "markdown",
   "id": "6c45b2a2",
   "metadata": {},
   "source": [
    "1. Remove values below threshold e.g. 0, any descriptors with 0 importance\n",
    "2. Get the top N descriptors"
   ]
  },
  {
   "cell_type": "code",
   "execution_count": 8,
   "id": "b4e733c1",
   "metadata": {},
   "outputs": [],
   "source": [
    "def handle_importance(model, X_train, X_test=pd.DataFrame(), threshold=-1, n=-1, verbose=None):\n",
    "    feature_imp = pd.Series(model.feature_importances_,index=X_train.columns.values).sort_values(ascending=False)\n",
    "    if threshold >= 0:\n",
    "        feature_imp = feature_imp[feature_imp > threshold]\n",
    "    \n",
    "    if n >= 0: \n",
    "        feature_imp = feature_imp.nlargest(n)\n",
    "        \n",
    "    if verbose: \n",
    "        print(feature_imp)\n",
    "        \n",
    "    X_train = X_train.loc[:, feature_imp.axes[0].tolist()]\n",
    "    \n",
    "    if not X_test.empty:\n",
    "        X_test = X_test.loc[:, feature_imp.axes[0].tolist()]\n",
    "\n",
    "    return X_train, X_test, model "
   ]
  },
  {
   "cell_type": "code",
   "execution_count": 9,
   "id": "b2e021f4",
   "metadata": {},
   "outputs": [],
   "source": [
    "def optimiseImportance(model, X_tr, y_tr, k=5, verbose=True):\n",
    "    \n",
    "    imp_params = [\n",
    "              {\"threshold\":-1, 'n':5}, \n",
    "              {\"threshold\":-1, 'n':10}, \n",
    "              {\"threshold\":-1, 'n':25}, \n",
    "              {\"threshold\":-1, 'n':50},\n",
    "              {\"threshold\":-1, 'n':100}, \n",
    "              {\"threshold\":-1, 'n':200}, \n",
    "              {\"threshold\":-1, 'n':400}, \n",
    "              {\"threshold\":-1, 'n':800},\n",
    "              {\"threshold\":-1, 'n':X_tr.shape[1]}]\n",
    "\n",
    "    print(f\"Cross validated importance experiment with k={k}\")\n",
    "    \n",
    "    imp_df = pd.DataFrame(columns=['Most important N descriptors', 'Average ROC_AUC', 'Standard Deviation'])\n",
    "\n",
    "    for imp_param in imp_params: \n",
    "        name = (f\"Threshold:{imp_param['threshold']}N:{imp_param['n']}\".replace(\"N:-1\", '')).replace(\"Threshold:-1\", '')\n",
    "        \n",
    "        if verbose:\n",
    "            print(name)\n",
    "        \n",
    "        X_tr_temp , _, _ = handle_importance(model, \n",
    "                                            X_tr.copy(), \n",
    "                                            threshold=imp_param['threshold'], \n",
    "                                            n=imp_param['n'])\n",
    "                \n",
    "        roc_auc_nans = cross_val_score(model, X_tr_temp, y_tr, cv=k, scoring='roc_auc')\n",
    "        \n",
    "        imp_df = imp_df.append({'Most important N descriptors': imp_param['n'], \n",
    "                               'Average ROC_AUC':np.mean(roc_auc_nans), \n",
    "                               'Standard Deviation':np.std(roc_auc_nans)}, \n",
    "                                ignore_index = True)\n",
    "\n",
    "    if verbose:\n",
    "        fig = imp_df.plot(kind=\"bar\", x=\"Most important N descriptors\", y=\"Average ROC_AUC\", yerr=\"Standard Deviation\", title=f\"ROC_AUC after filtering descriptors by importance CV={k}\", legend=False)\n",
    "        \n",
    "        plt.ylim(0.85,1)\n",
    "        \n",
    "    return imp_df"
   ]
  },
  {
   "cell_type": "markdown",
   "id": "0f1bf4be",
   "metadata": {},
   "source": [
    "# Handle NaNs\n"
   ]
  },
  {
   "cell_type": "markdown",
   "id": "c2288767",
   "metadata": {},
   "source": [
    "- You cannot have any missing values in the random forest model, you can in XGB\n",
    "- You cannot have mismatched features between columns in the random forest model\n",
    "- 3 options \n",
    "    1. Remove any columns with missing values \n",
    "    2. Remove columns above threshold percentange NaNs e.g. 60% NaNs. \n",
    "    3. Remove columns above threshold percentange NaNs e.g. 60% NaNs. Replace columns below threshold with missing values with the mean value."
   ]
  },
  {
   "cell_type": "code",
   "execution_count": 10,
   "id": "93581d4a",
   "metadata": {},
   "outputs": [],
   "source": [
    "def handleNaNs(X_tr, X_te, option=1, thresh=0.6): \n",
    "    if option == 1:\n",
    "        nans =  X.columns[X.isna().any()].tolist()\n",
    "        X_tr.drop(nans, inplace = True, axis=1)\n",
    "        X_te.drop(nans, inplace = True, axis=1)\n",
    "    else: \n",
    "        nans = X.isna().mean(axis=0)\n",
    "        # set threshold for percentage nans before we drop \n",
    "        X_thresh = nans[nans >= thresh]\n",
    "        X_tr.drop(X_thresh.index, \n",
    "          axis=1, \n",
    "          inplace=True)\n",
    "        X_te.drop(X_thresh.index, \n",
    "          axis=1, \n",
    "          inplace=True)\n",
    "        \n",
    "        if option == 3: \n",
    "            X_tr.fillna(X_tr.mean(), inplace=True) \n",
    "            X_te.fillna(X_te.mean(), inplace=True)\n",
    "    \n",
    "    return X_tr, X_te"
   ]
  },
  {
   "cell_type": "code",
   "execution_count": 11,
   "id": "ce31d70f",
   "metadata": {},
   "outputs": [],
   "source": [
    "def optimiseNaNs(model, X_train, X_test, y_train, y_test, option=2, k=5, verbose=True): \n",
    "    print(f\"Cross validated missing values experiment with k={k}\")\n",
    "    \n",
    "    percentages = [x/100 for x in range(0, 100, 10)] \n",
    "    nans_df = pd.DataFrame(columns=['Name', 'Average ROC_AUC', 'Standard Deviation'])\n",
    "\n",
    "    for perc in percentages: \n",
    "        name = str(perc)\n",
    "        if perc == 0:\n",
    "            X_train_cv, _  = handleNaNs(X_train.copy(), X_test.copy(), option=1)\n",
    "        else:\n",
    "            X_train_cv, _  = handleNaNs(X_train.copy(), X_test.copy(), option=option, thresh=perc)\n",
    "\n",
    "        roc_auc_nans = cross_val_score(model, X_train_cv, y_train, cv=k, scoring='roc_auc')\n",
    "        \n",
    "        nans_df = nans_df.append({'Name': name, \n",
    "                                   'Average ROC_AUC':np.mean(roc_auc_nans), \n",
    "                                   'Standard Deviation':np.std(roc_auc_nans)}, \n",
    "                                    ignore_index = True)\n",
    "\n",
    "    if verbose:\n",
    "        fig = nans_df.plot(kind=\"bar\", x=\"Name\", y=\"Average ROC_AUC\", yerr=\"Standard Deviation\", title=f\"ROC_AUC after thresholding descriptors by % NaNs CV={k}\", legend=False)\n",
    "        plt.ylim(0.85,0.98)\n",
    "        \n",
    "    return nans_df"
   ]
  },
  {
   "cell_type": "markdown",
   "id": "89740143",
   "metadata": {},
   "source": [
    "# Random Forest Model"
   ]
  },
  {
   "cell_type": "markdown",
   "id": "b7a8cf3b",
   "metadata": {},
   "source": [
    "https://www.datacamp.com/tutorial/random-forests-classifier-python"
   ]
  },
  {
   "cell_type": "code",
   "execution_count": 12,
   "id": "7cb30c67",
   "metadata": {},
   "outputs": [],
   "source": [
    "# set random state to 0 to allow reproducible results\n",
    "clf=RandomForestClassifier(random_state=SEED) \n",
    "\n",
    "# For readability\n",
    "y_train_rf = y_train\n",
    "y_test_rf = y_test\n",
    "X_train_rf = X_train\n",
    "X_test_rf = X_test"
   ]
  },
  {
   "cell_type": "markdown",
   "id": "62f7458e",
   "metadata": {},
   "source": [
    "## Handle NaNs RF"
   ]
  },
  {
   "cell_type": "code",
   "execution_count": 13,
   "id": "13606466",
   "metadata": {
    "scrolled": true
   },
   "outputs": [
    {
     "name": "stdout",
     "output_type": "stream",
     "text": [
      "Cross validated missing values experiment with k=5\n"
     ]
    },
    {
     "data": {
      "text/html": [
       "<div>\n",
       "<style scoped>\n",
       "    .dataframe tbody tr th:only-of-type {\n",
       "        vertical-align: middle;\n",
       "    }\n",
       "\n",
       "    .dataframe tbody tr th {\n",
       "        vertical-align: top;\n",
       "    }\n",
       "\n",
       "    .dataframe thead th {\n",
       "        text-align: right;\n",
       "    }\n",
       "</style>\n",
       "<table border=\"1\" class=\"dataframe\">\n",
       "  <thead>\n",
       "    <tr style=\"text-align: right;\">\n",
       "      <th></th>\n",
       "      <th>Name</th>\n",
       "      <th>Average ROC_AUC</th>\n",
       "      <th>Standard Deviation</th>\n",
       "    </tr>\n",
       "  </thead>\n",
       "  <tbody>\n",
       "    <tr>\n",
       "      <th>0</th>\n",
       "      <td>0.0</td>\n",
       "      <td>0.975181</td>\n",
       "      <td>0.002905</td>\n",
       "    </tr>\n",
       "    <tr>\n",
       "      <th>1</th>\n",
       "      <td>0.1</td>\n",
       "      <td>0.965137</td>\n",
       "      <td>0.006763</td>\n",
       "    </tr>\n",
       "    <tr>\n",
       "      <th>2</th>\n",
       "      <td>0.2</td>\n",
       "      <td>0.966796</td>\n",
       "      <td>0.004213</td>\n",
       "    </tr>\n",
       "    <tr>\n",
       "      <th>3</th>\n",
       "      <td>0.3</td>\n",
       "      <td>0.965188</td>\n",
       "      <td>0.005255</td>\n",
       "    </tr>\n",
       "    <tr>\n",
       "      <th>4</th>\n",
       "      <td>0.4</td>\n",
       "      <td>0.967325</td>\n",
       "      <td>0.004961</td>\n",
       "    </tr>\n",
       "    <tr>\n",
       "      <th>5</th>\n",
       "      <td>0.5</td>\n",
       "      <td>0.966284</td>\n",
       "      <td>0.005474</td>\n",
       "    </tr>\n",
       "    <tr>\n",
       "      <th>6</th>\n",
       "      <td>0.6</td>\n",
       "      <td>0.966676</td>\n",
       "      <td>0.003705</td>\n",
       "    </tr>\n",
       "    <tr>\n",
       "      <th>7</th>\n",
       "      <td>0.7</td>\n",
       "      <td>0.966338</td>\n",
       "      <td>0.007946</td>\n",
       "    </tr>\n",
       "    <tr>\n",
       "      <th>8</th>\n",
       "      <td>0.8</td>\n",
       "      <td>0.966338</td>\n",
       "      <td>0.007946</td>\n",
       "    </tr>\n",
       "    <tr>\n",
       "      <th>9</th>\n",
       "      <td>0.9</td>\n",
       "      <td>0.966338</td>\n",
       "      <td>0.007946</td>\n",
       "    </tr>\n",
       "  </tbody>\n",
       "</table>\n",
       "</div>"
      ],
      "text/plain": [
       "  Name  Average ROC_AUC  Standard Deviation\n",
       "0  0.0         0.975181            0.002905\n",
       "1  0.1         0.965137            0.006763\n",
       "2  0.2         0.966796            0.004213\n",
       "3  0.3         0.965188            0.005255\n",
       "4  0.4         0.967325            0.004961\n",
       "5  0.5         0.966284            0.005474\n",
       "6  0.6         0.966676            0.003705\n",
       "7  0.7         0.966338            0.007946\n",
       "8  0.8         0.966338            0.007946\n",
       "9  0.9         0.966338            0.007946"
      ]
     },
     "execution_count": 13,
     "metadata": {},
     "output_type": "execute_result"
    },
    {
     "data": {
      "image/png": "[encoded data removed]",
      "text/plain": [
       "<Figure size 432x288 with 1 Axes>"
      ]
     },
     "metadata": {
      "needs_background": "light"
     },
     "output_type": "display_data"
    }
   ],
   "source": [
    "# choose optimal threshold for removing columns with NaNs\n",
    "optimiseNaNs(clf, X_train_rf, X_test_rf, y_train_rf, y_test_rf, option=3)"
   ]
  },
  {
   "cell_type": "markdown",
   "id": "5ee45265",
   "metadata": {},
   "source": [
    "let's just go with removing all the columns with missing values"
   ]
  },
  {
   "cell_type": "code",
   "execution_count": 14,
   "id": "72a8bc6e",
   "metadata": {},
   "outputs": [],
   "source": [
    "X_train_rf, X_test_rf = handleNaNs(X_train.copy(), X_test.copy(), option=1)"
   ]
  },
  {
   "cell_type": "code",
   "execution_count": 15,
   "id": "d424f366",
   "metadata": {
    "scrolled": true
   },
   "outputs": [
    {
     "name": "stdout",
     "output_type": "stream",
     "text": [
      "Validation performance of Random Forest after removing all columns with NaNs\n",
      "AVERAGE CV=5 ROC_AUC (TEST): 0.9751808905380333\n",
      "AVERAGE CV=5 STD (TEST): 0.0029051847115817383\n"
     ]
    }
   ],
   "source": [
    "clf.fit(X_train_rf, y_train_rf)\n",
    "print(\"Validation performance of Random Forest after removing all columns with NaNs\")\n",
    "test_model_cross_val(clf, y_train_rf, X_train_rf, k=5, verbose=True)"
   ]
  },
  {
   "cell_type": "markdown",
   "id": "4eb771b3",
   "metadata": {},
   "source": [
    "## Using Importance to reduce dimensionality"
   ]
  },
  {
   "cell_type": "code",
   "execution_count": 16,
   "id": "30ec02fd",
   "metadata": {},
   "outputs": [
    {
     "name": "stdout",
     "output_type": "stream",
     "text": [
      "Cross validated importance experiment with k=5\n",
      "N:5\n",
      "N:10\n",
      "N:25\n",
      "N:50\n",
      "N:100\n",
      "N:200\n",
      "N:400\n",
      "N:800\n",
      "N:3032\n"
     ]
    },
    {
     "data": {
      "text/html": [
       "<div>\n",
       "<style scoped>\n",
       "    .dataframe tbody tr th:only-of-type {\n",
       "        vertical-align: middle;\n",
       "    }\n",
       "\n",
       "    .dataframe tbody tr th {\n",
       "        vertical-align: top;\n",
       "    }\n",
       "\n",
       "    .dataframe thead th {\n",
       "        text-align: right;\n",
       "    }\n",
       "</style>\n",
       "<table border=\"1\" class=\"dataframe\">\n",
       "  <thead>\n",
       "    <tr style=\"text-align: right;\">\n",
       "      <th></th>\n",
       "      <th>Most important N descriptors</th>\n",
       "      <th>Average ROC_AUC</th>\n",
       "      <th>Standard Deviation</th>\n",
       "    </tr>\n",
       "  </thead>\n",
       "  <tbody>\n",
       "    <tr>\n",
       "      <th>0</th>\n",
       "      <td>5.0</td>\n",
       "      <td>0.949021</td>\n",
       "      <td>0.014549</td>\n",
       "    </tr>\n",
       "    <tr>\n",
       "      <th>1</th>\n",
       "      <td>10.0</td>\n",
       "      <td>0.956046</td>\n",
       "      <td>0.011110</td>\n",
       "    </tr>\n",
       "    <tr>\n",
       "      <th>2</th>\n",
       "      <td>25.0</td>\n",
       "      <td>0.969149</td>\n",
       "      <td>0.006399</td>\n",
       "    </tr>\n",
       "    <tr>\n",
       "      <th>3</th>\n",
       "      <td>50.0</td>\n",
       "      <td>0.971024</td>\n",
       "      <td>0.005777</td>\n",
       "    </tr>\n",
       "    <tr>\n",
       "      <th>4</th>\n",
       "      <td>100.0</td>\n",
       "      <td>0.973304</td>\n",
       "      <td>0.006724</td>\n",
       "    </tr>\n",
       "    <tr>\n",
       "      <th>5</th>\n",
       "      <td>200.0</td>\n",
       "      <td>0.975557</td>\n",
       "      <td>0.005642</td>\n",
       "    </tr>\n",
       "    <tr>\n",
       "      <th>6</th>\n",
       "      <td>400.0</td>\n",
       "      <td>0.975491</td>\n",
       "      <td>0.003073</td>\n",
       "    </tr>\n",
       "    <tr>\n",
       "      <th>7</th>\n",
       "      <td>800.0</td>\n",
       "      <td>0.974625</td>\n",
       "      <td>0.005131</td>\n",
       "    </tr>\n",
       "    <tr>\n",
       "      <th>8</th>\n",
       "      <td>3032.0</td>\n",
       "      <td>0.974292</td>\n",
       "      <td>0.002292</td>\n",
       "    </tr>\n",
       "  </tbody>\n",
       "</table>\n",
       "</div>"
      ],
      "text/plain": [
       "   Most important N descriptors  Average ROC_AUC  Standard Deviation\n",
       "0                           5.0         0.949021            0.014549\n",
       "1                          10.0         0.956046            0.011110\n",
       "2                          25.0         0.969149            0.006399\n",
       "3                          50.0         0.971024            0.005777\n",
       "4                         100.0         0.973304            0.006724\n",
       "5                         200.0         0.975557            0.005642\n",
       "6                         400.0         0.975491            0.003073\n",
       "7                         800.0         0.974625            0.005131\n",
       "8                        3032.0         0.974292            0.002292"
      ]
     },
     "execution_count": 16,
     "metadata": {},
     "output_type": "execute_result"
    },
    {
     "data": {
      "image/png": "[encoded data removed]",
      "text/plain": [
       "<Figure size 432x288 with 1 Axes>"
      ]
     },
     "metadata": {
      "needs_background": "light"
     },
     "output_type": "display_data"
    }
   ],
   "source": [
    "clf.fit(X_train_rf, y_train_rf)\n",
    "optimiseImportance(clf, X_train_rf, y_train_rf)"
   ]
  },
  {
   "cell_type": "markdown",
   "id": "2b489c9f",
   "metadata": {},
   "source": [
    "### Remove labels "
   ]
  },
  {
   "cell_type": "code",
   "execution_count": 17,
   "id": "c71cc91f",
   "metadata": {},
   "outputs": [],
   "source": [
    "clf.fit(X_train_rf, y_train_rf)\n",
    "X_train_rf, X_test_rf, clf = handle_importance(clf, \n",
    "                                               X_train_rf, \n",
    "                                               X_test_rf, \n",
    "                                               threshold=-1, \n",
    "                                               n=400)"
   ]
  },
  {
   "cell_type": "code",
   "execution_count": 18,
   "id": "27a677ab",
   "metadata": {},
   "outputs": [
    {
     "name": "stdout",
     "output_type": "stream",
     "text": [
      "Validation set performance of Random Forest after removing labels\n",
      "AVERAGE CV=5 ROC_AUC (TEST): 0.9754906204906206\n",
      "AVERAGE CV=5 STD (TEST): 0.003072920395158456\n"
     ]
    }
   ],
   "source": [
    "clf.fit(X_train_rf, y_train_rf)\n",
    "print(\"Validation set performance of Random Forest after removing labels\")\n",
    "test_model_cross_val(clf, y_train_rf, X_train_rf, k=5, verbose=True)"
   ]
  },
  {
   "cell_type": "code",
   "execution_count": 19,
   "id": "08e00c94",
   "metadata": {},
   "outputs": [
    {
     "data": {
      "text/html": [
       "<div>\n",
       "<style scoped>\n",
       "    .dataframe tbody tr th:only-of-type {\n",
       "        vertical-align: middle;\n",
       "    }\n",
       "\n",
       "    .dataframe tbody tr th {\n",
       "        vertical-align: top;\n",
       "    }\n",
       "\n",
       "    .dataframe thead th {\n",
       "        text-align: right;\n",
       "    }\n",
       "</style>\n",
       "<table border=\"1\" class=\"dataframe\">\n",
       "  <thead>\n",
       "    <tr style=\"text-align: right;\">\n",
       "      <th></th>\n",
       "      <th>ATSC2e</th>\n",
       "      <th>nHet</th>\n",
       "      <th>P_VSA_v_2</th>\n",
       "      <th>DELS</th>\n",
       "      <th>ATSC1e</th>\n",
       "      <th>Me</th>\n",
       "      <th>AAC</th>\n",
       "      <th>nHAcc</th>\n",
       "      <th>ATSC3e</th>\n",
       "      <th>TPSA(NO)</th>\n",
       "      <th>...</th>\n",
       "      <th>GATS7i</th>\n",
       "      <th>D/Dtr06</th>\n",
       "      <th>MPC09</th>\n",
       "      <th>AP</th>\n",
       "      <th>ATSC2p</th>\n",
       "      <th>MaxTD</th>\n",
       "      <th>H-051</th>\n",
       "      <th>ATS2m</th>\n",
       "      <th>MaxssNH</th>\n",
       "      <th>MATS4i</th>\n",
       "    </tr>\n",
       "  </thead>\n",
       "  <tbody>\n",
       "    <tr>\n",
       "      <th>C1=CC(=CC=C1C(=O)O)[N+](=O)[O-]</th>\n",
       "      <td>0.335174</td>\n",
       "      <td>5</td>\n",
       "      <td>124.245235</td>\n",
       "      <td>24.074203</td>\n",
       "      <td>0.190710</td>\n",
       "      <td>1.069306</td>\n",
       "      <td>1.777985</td>\n",
       "      <td>4</td>\n",
       "      <td>0.365377</td>\n",
       "      <td>83.12</td>\n",
       "      <td>...</td>\n",
       "      <td>0.055428</td>\n",
       "      <td>38.895238</td>\n",
       "      <td>0.000000</td>\n",
       "      <td>0.500000</td>\n",
       "      <td>2.145166</td>\n",
       "      <td>7</td>\n",
       "      <td>0</td>\n",
       "      <td>3.043008</td>\n",
       "      <td>0.0</td>\n",
       "      <td>-0.222453</td>\n",
       "    </tr>\n",
       "    <tr>\n",
       "      <th>CCCCCCCCCCCCCCCCO</th>\n",
       "      <td>0.108732</td>\n",
       "      <td>1</td>\n",
       "      <td>42.683343</td>\n",
       "      <td>5.843465</td>\n",
       "      <td>0.064252</td>\n",
       "      <td>0.967618</td>\n",
       "      <td>1.025881</td>\n",
       "      <td>1</td>\n",
       "      <td>0.135001</td>\n",
       "      <td>20.23</td>\n",
       "      <td>...</td>\n",
       "      <td>0.959732</td>\n",
       "      <td>0.000000</td>\n",
       "      <td>2.197225</td>\n",
       "      <td>0.000000</td>\n",
       "      <td>8.440929</td>\n",
       "      <td>16</td>\n",
       "      <td>0</td>\n",
       "      <td>3.086386</td>\n",
       "      <td>0.0</td>\n",
       "      <td>-0.003185</td>\n",
       "    </tr>\n",
       "    <tr>\n",
       "      <th>C1(C(O1)(F)F)(C(F)(F)F)F</th>\n",
       "      <td>0.517348</td>\n",
       "      <td>7</td>\n",
       "      <td>100.760568</td>\n",
       "      <td>39.656250</td>\n",
       "      <td>0.473117</td>\n",
       "      <td>1.305430</td>\n",
       "      <td>1.295462</td>\n",
       "      <td>7</td>\n",
       "      <td>0.348542</td>\n",
       "      <td>12.53</td>\n",
       "      <td>...</td>\n",
       "      <td>0.000000</td>\n",
       "      <td>0.000000</td>\n",
       "      <td>0.000000</td>\n",
       "      <td>0.000000</td>\n",
       "      <td>1.204939</td>\n",
       "      <td>4</td>\n",
       "      <td>0</td>\n",
       "      <td>3.425556</td>\n",
       "      <td>0.0</td>\n",
       "      <td>0.631352</td>\n",
       "    </tr>\n",
       "    <tr>\n",
       "      <th>CC(C)(C=C)O</th>\n",
       "      <td>0.037322</td>\n",
       "      <td>1</td>\n",
       "      <td>42.683343</td>\n",
       "      <td>6.180556</td>\n",
       "      <td>0.027047</td>\n",
       "      <td>0.984081</td>\n",
       "      <td>1.198192</td>\n",
       "      <td>1</td>\n",
       "      <td>0.123916</td>\n",
       "      <td>20.23</td>\n",
       "      <td>...</td>\n",
       "      <td>0.000000</td>\n",
       "      <td>0.000000</td>\n",
       "      <td>0.000000</td>\n",
       "      <td>0.000000</td>\n",
       "      <td>2.059366</td>\n",
       "      <td>3</td>\n",
       "      <td>0</td>\n",
       "      <td>2.299702</td>\n",
       "      <td>0.0</td>\n",
       "      <td>-0.002656</td>\n",
       "    </tr>\n",
       "    <tr>\n",
       "      <th>C=CCC1=CC2=C(C=C1)OCO2</th>\n",
       "      <td>0.203276</td>\n",
       "      <td>2</td>\n",
       "      <td>21.999776</td>\n",
       "      <td>8.225762</td>\n",
       "      <td>0.006404</td>\n",
       "      <td>1.003300</td>\n",
       "      <td>1.348588</td>\n",
       "      <td>2</td>\n",
       "      <td>0.067411</td>\n",
       "      <td>18.46</td>\n",
       "      <td>...</td>\n",
       "      <td>0.721893</td>\n",
       "      <td>24.952273</td>\n",
       "      <td>2.302585</td>\n",
       "      <td>0.500000</td>\n",
       "      <td>3.477681</td>\n",
       "      <td>7</td>\n",
       "      <td>0</td>\n",
       "      <td>3.079629</td>\n",
       "      <td>0.0</td>\n",
       "      <td>-0.109523</td>\n",
       "    </tr>\n",
       "    <tr>\n",
       "      <th>...</th>\n",
       "      <td>...</td>\n",
       "      <td>...</td>\n",
       "      <td>...</td>\n",
       "      <td>...</td>\n",
       "      <td>...</td>\n",
       "      <td>...</td>\n",
       "      <td>...</td>\n",
       "      <td>...</td>\n",
       "      <td>...</td>\n",
       "      <td>...</td>\n",
       "      <td>...</td>\n",
       "      <td>...</td>\n",
       "      <td>...</td>\n",
       "      <td>...</td>\n",
       "      <td>...</td>\n",
       "      <td>...</td>\n",
       "      <td>...</td>\n",
       "      <td>...</td>\n",
       "      <td>...</td>\n",
       "      <td>...</td>\n",
       "      <td>...</td>\n",
       "    </tr>\n",
       "    <tr>\n",
       "      <th>CCCCS</th>\n",
       "      <td>0.026535</td>\n",
       "      <td>1</td>\n",
       "      <td>0.000000</td>\n",
       "      <td>1.882716</td>\n",
       "      <td>0.017247</td>\n",
       "      <td>0.966293</td>\n",
       "      <td>1.158939</td>\n",
       "      <td>0</td>\n",
       "      <td>0.028096</td>\n",
       "      <td>0.00</td>\n",
       "      <td>...</td>\n",
       "      <td>0.000000</td>\n",
       "      <td>0.000000</td>\n",
       "      <td>0.000000</td>\n",
       "      <td>0.000000</td>\n",
       "      <td>2.823100</td>\n",
       "      <td>4</td>\n",
       "      <td>0</td>\n",
       "      <td>1.993241</td>\n",
       "      <td>0.0</td>\n",
       "      <td>0.015577</td>\n",
       "    </tr>\n",
       "    <tr>\n",
       "      <th>CCN(CC)CC</th>\n",
       "      <td>0.072153</td>\n",
       "      <td>1</td>\n",
       "      <td>3.124314</td>\n",
       "      <td>1.875000</td>\n",
       "      <td>0.034396</td>\n",
       "      <td>0.967591</td>\n",
       "      <td>1.090653</td>\n",
       "      <td>1</td>\n",
       "      <td>0.072967</td>\n",
       "      <td>3.24</td>\n",
       "      <td>...</td>\n",
       "      <td>0.000000</td>\n",
       "      <td>0.000000</td>\n",
       "      <td>0.000000</td>\n",
       "      <td>0.000000</td>\n",
       "      <td>2.308064</td>\n",
       "      <td>4</td>\n",
       "      <td>0</td>\n",
       "      <td>2.244372</td>\n",
       "      <td>0.0</td>\n",
       "      <td>-0.335337</td>\n",
       "    </tr>\n",
       "    <tr>\n",
       "      <th>C1=CC=C(C=C1)C(=O)C2=CC=CC=C2</th>\n",
       "      <td>0.019187</td>\n",
       "      <td>1</td>\n",
       "      <td>25.144927</td>\n",
       "      <td>9.692593</td>\n",
       "      <td>0.010213</td>\n",
       "      <td>0.989387</td>\n",
       "      <td>1.196421</td>\n",
       "      <td>1</td>\n",
       "      <td>0.046158</td>\n",
       "      <td>17.07</td>\n",
       "      <td>...</td>\n",
       "      <td>1.101148</td>\n",
       "      <td>87.437807</td>\n",
       "      <td>2.833213</td>\n",
       "      <td>0.857143</td>\n",
       "      <td>3.389787</td>\n",
       "      <td>8</td>\n",
       "      <td>0</td>\n",
       "      <td>3.106665</td>\n",
       "      <td>0.0</td>\n",
       "      <td>0.014674</td>\n",
       "    </tr>\n",
       "    <tr>\n",
       "      <th>N</th>\n",
       "      <td>0.000000</td>\n",
       "      <td>2</td>\n",
       "      <td>61.873667</td>\n",
       "      <td>0.000000</td>\n",
       "      <td>0.000000</td>\n",
       "      <td>1.160000</td>\n",
       "      <td>0.000000</td>\n",
       "      <td>2</td>\n",
       "      <td>0.000000</td>\n",
       "      <td>47.58</td>\n",
       "      <td>...</td>\n",
       "      <td>0.000000</td>\n",
       "      <td>0.000000</td>\n",
       "      <td>0.000000</td>\n",
       "      <td>0.000000</td>\n",
       "      <td>0.000000</td>\n",
       "      <td>1</td>\n",
       "      <td>0</td>\n",
       "      <td>0.000000</td>\n",
       "      <td>0.0</td>\n",
       "      <td>0.000000</td>\n",
       "    </tr>\n",
       "    <tr>\n",
       "      <th>CC(C)N</th>\n",
       "      <td>0.031831</td>\n",
       "      <td>1</td>\n",
       "      <td>32.897187</td>\n",
       "      <td>2.222222</td>\n",
       "      <td>0.024106</td>\n",
       "      <td>0.972015</td>\n",
       "      <td>1.140116</td>\n",
       "      <td>1</td>\n",
       "      <td>0.049840</td>\n",
       "      <td>26.02</td>\n",
       "      <td>...</td>\n",
       "      <td>0.000000</td>\n",
       "      <td>0.000000</td>\n",
       "      <td>0.000000</td>\n",
       "      <td>0.000000</td>\n",
       "      <td>1.221341</td>\n",
       "      <td>2</td>\n",
       "      <td>0</td>\n",
       "      <td>1.671776</td>\n",
       "      <td>0.0</td>\n",
       "      <td>0.196900</td>\n",
       "    </tr>\n",
       "  </tbody>\n",
       "</table>\n",
       "<p>692 rows × 400 columns</p>\n",
       "</div>"
      ],
      "text/plain": [
       "                                   ATSC2e  nHet   P_VSA_v_2       DELS  \\\n",
       "C1=CC(=CC=C1C(=O)O)[N+](=O)[O-]  0.335174     5  124.245235  24.074203   \n",
       "CCCCCCCCCCCCCCCCO                0.108732     1   42.683343   5.843465   \n",
       "C1(C(O1)(F)F)(C(F)(F)F)F         0.517348     7  100.760568  39.656250   \n",
       "CC(C)(C=C)O                      0.037322     1   42.683343   6.180556   \n",
       "C=CCC1=CC2=C(C=C1)OCO2           0.203276     2   21.999776   8.225762   \n",
       "...                                   ...   ...         ...        ...   \n",
       "CCCCS                            0.026535     1    0.000000   1.882716   \n",
       "CCN(CC)CC                        0.072153     1    3.124314   1.875000   \n",
       "C1=CC=C(C=C1)C(=O)C2=CC=CC=C2    0.019187     1   25.144927   9.692593   \n",
       "N                                0.000000     2   61.873667   0.000000   \n",
       "CC(C)N                           0.031831     1   32.897187   2.222222   \n",
       "\n",
       "                                   ATSC1e        Me       AAC  nHAcc  \\\n",
       "C1=CC(=CC=C1C(=O)O)[N+](=O)[O-]  0.190710  1.069306  1.777985      4   \n",
       "CCCCCCCCCCCCCCCCO                0.064252  0.967618  1.025881      1   \n",
       "C1(C(O1)(F)F)(C(F)(F)F)F         0.473117  1.305430  1.295462      7   \n",
       "CC(C)(C=C)O                      0.027047  0.984081  1.198192      1   \n",
       "C=CCC1=CC2=C(C=C1)OCO2           0.006404  1.003300  1.348588      2   \n",
       "...                                   ...       ...       ...    ...   \n",
       "CCCCS                            0.017247  0.966293  1.158939      0   \n",
       "CCN(CC)CC                        0.034396  0.967591  1.090653      1   \n",
       "C1=CC=C(C=C1)C(=O)C2=CC=CC=C2    0.010213  0.989387  1.196421      1   \n",
       "N                                0.000000  1.160000  0.000000      2   \n",
       "CC(C)N                           0.024106  0.972015  1.140116      1   \n",
       "\n",
       "                                   ATSC3e  TPSA(NO)  ...    GATS7i    D/Dtr06  \\\n",
       "C1=CC(=CC=C1C(=O)O)[N+](=O)[O-]  0.365377     83.12  ...  0.055428  38.895238   \n",
       "CCCCCCCCCCCCCCCCO                0.135001     20.23  ...  0.959732   0.000000   \n",
       "C1(C(O1)(F)F)(C(F)(F)F)F         0.348542     12.53  ...  0.000000   0.000000   \n",
       "CC(C)(C=C)O                      0.123916     20.23  ...  0.000000   0.000000   \n",
       "C=CCC1=CC2=C(C=C1)OCO2           0.067411     18.46  ...  0.721893  24.952273   \n",
       "...                                   ...       ...  ...       ...        ...   \n",
       "CCCCS                            0.028096      0.00  ...  0.000000   0.000000   \n",
       "CCN(CC)CC                        0.072967      3.24  ...  0.000000   0.000000   \n",
       "C1=CC=C(C=C1)C(=O)C2=CC=CC=C2    0.046158     17.07  ...  1.101148  87.437807   \n",
       "N                                0.000000     47.58  ...  0.000000   0.000000   \n",
       "CC(C)N                           0.049840     26.02  ...  0.000000   0.000000   \n",
       "\n",
       "                                    MPC09        AP    ATSC2p  MaxTD  H-051  \\\n",
       "C1=CC(=CC=C1C(=O)O)[N+](=O)[O-]  0.000000  0.500000  2.145166      7      0   \n",
       "CCCCCCCCCCCCCCCCO                2.197225  0.000000  8.440929     16      0   \n",
       "C1(C(O1)(F)F)(C(F)(F)F)F         0.000000  0.000000  1.204939      4      0   \n",
       "CC(C)(C=C)O                      0.000000  0.000000  2.059366      3      0   \n",
       "C=CCC1=CC2=C(C=C1)OCO2           2.302585  0.500000  3.477681      7      0   \n",
       "...                                   ...       ...       ...    ...    ...   \n",
       "CCCCS                            0.000000  0.000000  2.823100      4      0   \n",
       "CCN(CC)CC                        0.000000  0.000000  2.308064      4      0   \n",
       "C1=CC=C(C=C1)C(=O)C2=CC=CC=C2    2.833213  0.857143  3.389787      8      0   \n",
       "N                                0.000000  0.000000  0.000000      1      0   \n",
       "CC(C)N                           0.000000  0.000000  1.221341      2      0   \n",
       "\n",
       "                                    ATS2m  MaxssNH    MATS4i  \n",
       "C1=CC(=CC=C1C(=O)O)[N+](=O)[O-]  3.043008      0.0 -0.222453  \n",
       "CCCCCCCCCCCCCCCCO                3.086386      0.0 -0.003185  \n",
       "C1(C(O1)(F)F)(C(F)(F)F)F         3.425556      0.0  0.631352  \n",
       "CC(C)(C=C)O                      2.299702      0.0 -0.002656  \n",
       "C=CCC1=CC2=C(C=C1)OCO2           3.079629      0.0 -0.109523  \n",
       "...                                   ...      ...       ...  \n",
       "CCCCS                            1.993241      0.0  0.015577  \n",
       "CCN(CC)CC                        2.244372      0.0 -0.335337  \n",
       "C1=CC=C(C=C1)C(=O)C2=CC=CC=C2    3.106665      0.0  0.014674  \n",
       "N                                0.000000      0.0  0.000000  \n",
       "CC(C)N                           1.671776      0.0  0.196900  \n",
       "\n",
       "[692 rows x 400 columns]"
      ]
     },
     "execution_count": 19,
     "metadata": {},
     "output_type": "execute_result"
    }
   ],
   "source": [
    "X_train_rf"
   ]
  },
  {
   "cell_type": "markdown",
   "id": "8d1f13b1",
   "metadata": {},
   "source": [
    "## Tuning the hyperparamaters "
   ]
  },
  {
   "cell_type": "code",
   "execution_count": 20,
   "id": "995afc2a",
   "metadata": {},
   "outputs": [
    {
     "name": "stdout",
     "output_type": "stream",
     "text": [
      "Parameters currently in use:\n",
      "\n",
      "{'bootstrap': True, 'ccp_alpha': 0.0, 'class_weight': None, 'criterion': 'gini', 'max_depth': None, 'max_features': 'sqrt', 'max_leaf_nodes': None, 'max_samples': None, 'min_impurity_decrease': 0.0, 'min_samples_leaf': 1, 'min_samples_split': 2, 'min_weight_fraction_leaf': 0.0, 'n_estimators': 100, 'n_jobs': None, 'oob_score': False, 'random_state': 0, 'verbose': 0, 'warm_start': False}\n"
     ]
    }
   ],
   "source": [
    "# Look at parameters used by our current forest\n",
    "print('Parameters currently in use:\\n')\n",
    "print(clf.get_params())"
   ]
  },
  {
   "cell_type": "code",
   "execution_count": 21,
   "id": "73e70bc3",
   "metadata": {},
   "outputs": [
    {
     "name": "stdout",
     "output_type": "stream",
     "text": [
      "Fitting 5 folds for each of 500 candidates, totalling 2500 fits\n",
      "{'n_estimators': 50, 'min_samples_split': 20, 'min_samples_leaf': 1, 'max_depth': 10, 'criterion': 'gini', 'bootstrap': False}\n"
     ]
    }
   ],
   "source": [
    "# Use the grid to search for best hyperparameters\n",
    "# Takes ~ 10 minutes to run \n",
    "\n",
    "# Number of trees in random forest\n",
    "n_estimators = [int(x) for x in np.linspace(start = 10, stop = 2000, num = 50)]\n",
    "# Maximum number of levels in tree\n",
    "max_depth = [int(x) for x in np.linspace(10, 20, num = 50)]\n",
    "max_depth.append(None)\n",
    "# Minimum number of samples required to split a node\n",
    "min_samples_split = [2, 5, 10, 15, 20, 40, 60, 100]\n",
    "# Minimum number of samples required at each leaf node\n",
    "min_samples_leaf = [1, 2, 3, 4, 5, 10]\n",
    "# Method of selecting samples for training each tree\n",
    "bootstrap = [True, False]\n",
    "# Criterion \n",
    "criterion = ['gini', 'entropy']\n",
    "\n",
    "# Create the random grid\n",
    "random_grid = {'n_estimators': n_estimators,\n",
    "               'max_depth': max_depth,\n",
    "               'min_samples_split': min_samples_split,\n",
    "               'min_samples_leaf': min_samples_leaf,\n",
    "               'bootstrap': bootstrap, \n",
    "               'criterion': criterion}\n",
    "\n",
    "# Random search of parameters, using 5 fold cross validation, \n",
    "# search across 500 different combinations, and use all available cores\n",
    "rf_random = RandomizedSearchCV(estimator=clf, param_distributions = random_grid, n_iter = 500, cv = 5, verbose=1, random_state=SEED, n_jobs = -1)\n",
    "# Fit the random search model\n",
    "rf_random.fit(X_train_rf, y_train_rf)\n",
    "\n",
    "# Print best paramaters \n",
    "print(rf_random.best_params_)"
   ]
  },
  {
   "cell_type": "code",
   "execution_count": 22,
   "id": "84c7d64e",
   "metadata": {},
   "outputs": [
    {
     "data": {
      "text/plain": [
       "{'bootstrap': False,\n",
       " 'ccp_alpha': 0.0,\n",
       " 'class_weight': None,\n",
       " 'criterion': 'gini',\n",
       " 'max_depth': 10,\n",
       " 'max_features': 'sqrt',\n",
       " 'max_leaf_nodes': None,\n",
       " 'max_samples': None,\n",
       " 'min_impurity_decrease': 0.0,\n",
       " 'min_samples_leaf': 1,\n",
       " 'min_samples_split': 20,\n",
       " 'min_weight_fraction_leaf': 0.0,\n",
       " 'n_estimators': 50,\n",
       " 'n_jobs': None,\n",
       " 'oob_score': False,\n",
       " 'random_state': 0,\n",
       " 'verbose': 0,\n",
       " 'warm_start': False}"
      ]
     },
     "execution_count": 22,
     "metadata": {},
     "output_type": "execute_result"
    }
   ],
   "source": [
    "rf_random.best_estimator_.get_params()"
   ]
  },
  {
   "cell_type": "code",
   "execution_count": 23,
   "id": "a8a3d4a9",
   "metadata": {},
   "outputs": [
    {
     "data": {
      "text/html": [
       "<style>#sk-container-id-1 {color: black;background-color: white;}#sk-container-id-1 pre{padding: 0;}#sk-container-id-1 div.sk-toggleable {background-color: white;}#sk-container-id-1 label.sk-toggleable__label {cursor: pointer;display: block;width: 100%;margin-bottom: 0;padding: 0.3em;box-sizing: border-box;text-align: center;}#sk-container-id-1 label.sk-toggleable__label-arrow:before {content: \"▸\";float: left;margin-right: 0.25em;color: #696969;}#sk-container-id-1 label.sk-toggleable__label-arrow:hover:before {color: black;}#sk-container-id-1 div.sk-estimator:hover label.sk-toggleable__label-arrow:before {color: black;}#sk-container-id-1 div.sk-toggleable__content {max-height: 0;max-width: 0;overflow: hidden;text-align: left;background-color: #f0f8ff;}#sk-container-id-1 div.sk-toggleable__content pre {margin: 0.2em;color: black;border-radius: 0.25em;background-color: #f0f8ff;}#sk-container-id-1 input.sk-toggleable__control:checked~div.sk-toggleable__content {max-height: 200px;max-width: 100%;overflow: auto;}#sk-container-id-1 input.sk-toggleable__control:checked~label.sk-toggleable__label-arrow:before {content: \"▾\";}#sk-container-id-1 div.sk-estimator input.sk-toggleable__control:checked~label.sk-toggleable__label {background-color: #d4ebff;}#sk-container-id-1 div.sk-label input.sk-toggleable__control:checked~label.sk-toggleable__label {background-color: #d4ebff;}#sk-container-id-1 input.sk-hidden--visually {border: 0;clip: rect(1px 1px 1px 1px);clip: rect(1px, 1px, 1px, 1px);height: 1px;margin: -1px;overflow: hidden;padding: 0;position: absolute;width: 1px;}#sk-container-id-1 div.sk-estimator {font-family: monospace;background-color: #f0f8ff;border: 1px dotted black;border-radius: 0.25em;box-sizing: border-box;margin-bottom: 0.5em;}#sk-container-id-1 div.sk-estimator:hover {background-color: #d4ebff;}#sk-container-id-1 div.sk-parallel-item::after {content: \"\";width: 100%;border-bottom: 1px solid gray;flex-grow: 1;}#sk-container-id-1 div.sk-label:hover label.sk-toggleable__label {background-color: #d4ebff;}#sk-container-id-1 div.sk-serial::before {content: \"\";position: absolute;border-left: 1px solid gray;box-sizing: border-box;top: 0;bottom: 0;left: 50%;z-index: 0;}#sk-container-id-1 div.sk-serial {display: flex;flex-direction: column;align-items: center;background-color: white;padding-right: 0.2em;padding-left: 0.2em;position: relative;}#sk-container-id-1 div.sk-item {position: relative;z-index: 1;}#sk-container-id-1 div.sk-parallel {display: flex;align-items: stretch;justify-content: center;background-color: white;position: relative;}#sk-container-id-1 div.sk-item::before, #sk-container-id-1 div.sk-parallel-item::before {content: \"\";position: absolute;border-left: 1px solid gray;box-sizing: border-box;top: 0;bottom: 0;left: 50%;z-index: -1;}#sk-container-id-1 div.sk-parallel-item {display: flex;flex-direction: column;z-index: 1;position: relative;background-color: white;}#sk-container-id-1 div.sk-parallel-item:first-child::after {align-self: flex-end;width: 50%;}#sk-container-id-1 div.sk-parallel-item:last-child::after {align-self: flex-start;width: 50%;}#sk-container-id-1 div.sk-parallel-item:only-child::after {width: 0;}#sk-container-id-1 div.sk-dashed-wrapped {border: 1px dashed gray;margin: 0 0.4em 0.5em 0.4em;box-sizing: border-box;padding-bottom: 0.4em;background-color: white;}#sk-container-id-1 div.sk-label label {font-family: monospace;font-weight: bold;display: inline-block;line-height: 1.2em;}#sk-container-id-1 div.sk-label-container {text-align: center;}#sk-container-id-1 div.sk-container {/* jupyter's `normalize.less` sets `[hidden] { display: none; }` but bootstrap.min.css set `[hidden] { display: none !important; }` so we also need the `!important` here to be able to override the default hidden behavior on the sphinx rendered scikit-learn.org. See: https://github.com/scikit-learn/scikit-learn/issues/21755 */display: inline-block !important;position: relative;}#sk-container-id-1 div.sk-text-repr-fallback {display: none;}</style><div id=\"sk-container-id-1\" class=\"sk-top-container\"><div class=\"sk-text-repr-fallback\"><pre>RandomForestClassifier(bootstrap=False, max_depth=10, min_samples_split=20,\n",
       "                       n_estimators=50, random_state=0)</pre><b>In a Jupyter environment, please rerun this cell to show the HTML representation or trust the notebook. <br />On GitHub, the HTML representation is unable to render, please try loading this page with nbviewer.org.</b></div><div class=\"sk-container\" hidden><div class=\"sk-item\"><div class=\"sk-estimator sk-toggleable\"><input class=\"sk-toggleable__control sk-hidden--visually\" id=\"sk-estimator-id-1\" type=\"checkbox\" checked><label for=\"sk-estimator-id-1\" class=\"sk-toggleable__label sk-toggleable__label-arrow\">RandomForestClassifier</label><div class=\"sk-toggleable__content\"><pre>RandomForestClassifier(bootstrap=False, max_depth=10, min_samples_split=20,\n",
       "                       n_estimators=50, random_state=0)</pre></div></div></div></div></div>"
      ],
      "text/plain": [
       "RandomForestClassifier(bootstrap=False, max_depth=10, min_samples_split=20,\n",
       "                       n_estimators=50, random_state=0)"
      ]
     },
     "execution_count": 23,
     "metadata": {},
     "output_type": "execute_result"
    }
   ],
   "source": [
    "tuned_rf= RandomForestClassifier(n_estimators=50,\n",
    "                                 min_samples_split=20,\n",
    "                                 min_samples_leaf=1,\n",
    "                                 max_features='sqrt',\n",
    "                                 max_depth=10,\n",
    "                                 criterion='gini',\n",
    "                                 bootstrap=False,\n",
    "                                 random_state=SEED)\n",
    "tuned_rf=RandomForestClassifier(**rf_random.best_params_,\n",
    "                                 random_state=SEED)\n",
    "tuned_rf.fit(X_train_rf, y_train_rf)"
   ]
  },
  {
   "cell_type": "code",
   "execution_count": 24,
   "id": "c967ec6d",
   "metadata": {},
   "outputs": [
    {
     "name": "stdout",
     "output_type": "stream",
     "text": [
      "Final tuned validation set performance of Random Forest\n",
      "AVERAGE CV=5 ROC_AUC (TEST): 0.9734271284271285\n",
      "AVERAGE CV=5 STD (TEST): 0.004681296499342658\n"
     ]
    }
   ],
   "source": [
    "tuned_rf.fit(X_train_rf, y_train_rf)\n",
    "print(\"Final tuned validation set performance of Random Forest\")\n",
    "test_model_cross_val(tuned_rf, y_train_rf, X_train_rf, k=5, verbose=True)"
   ]
  },
  {
   "cell_type": "code",
   "execution_count": 25,
   "id": "0e2364d6",
   "metadata": {},
   "outputs": [
    {
     "name": "stdout",
     "output_type": "stream",
     "text": [
      "ROC_AUC (TEST): 0.984390243902439\n",
      "\n",
      "\n",
      "CLASSIFICATION REPORT:\n",
      "               precision    recall  f1-score   support\n",
      "\n",
      "       False       0.87      0.90      0.88        50\n",
      "        True       0.96      0.94      0.95       123\n",
      "\n",
      "    accuracy                           0.93       173\n",
      "   macro avg       0.91      0.92      0.92       173\n",
      "weighted avg       0.93      0.93      0.93       173\n",
      "\n"
     ]
    },
    {
     "data": {
      "image/png": "[encoded data removed]",
      "text/plain": [
       "<Figure size 432x288 with 1 Axes>"
      ]
     },
     "metadata": {
      "needs_background": "light"
     },
     "output_type": "display_data"
    },
    {
     "data": {
      "image/png": "[encoded data removed]",
      "text/plain": [
       "<Figure size 432x288 with 1 Axes>"
      ]
     },
     "metadata": {
      "needs_background": "light"
     },
     "output_type": "display_data"
    },
    {
     "data": {
      "text/plain": [
       "0.984390243902439"
      ]
     },
     "execution_count": 25,
     "metadata": {},
     "output_type": "execute_result"
    }
   ],
   "source": [
    "tuned_rf.fit(X_train_rf, y_train_rf)\n",
    "test_model(tuned_rf, y_test_rf, X_test_rf)"
   ]
  },
  {
   "cell_type": "markdown",
   "id": "21de6403",
   "metadata": {},
   "source": [
    "# XgBoost\n",
    "\n",
    "https://practicaldatascience.co.uk/machine-learning/how-to-create-a-classification-model-using-xgboost"
   ]
  },
  {
   "cell_type": "code",
   "execution_count": 26,
   "id": "e57ad057",
   "metadata": {},
   "outputs": [],
   "source": [
    "# for readibility \n",
    "y_train_xgb = y_train\n",
    "y_test_xgb = y_test\n",
    "X_train_xgb = X_train\n",
    "X_test_xgb = X_test"
   ]
  },
  {
   "cell_type": "markdown",
   "id": "d4a257ed",
   "metadata": {},
   "source": [
    "## Create model"
   ]
  },
  {
   "cell_type": "code",
   "execution_count": 27,
   "id": "397c843f",
   "metadata": {},
   "outputs": [
    {
     "data": {
      "text/html": [
       "<style>#sk-container-id-2 {color: black;background-color: white;}#sk-container-id-2 pre{padding: 0;}#sk-container-id-2 div.sk-toggleable {background-color: white;}#sk-container-id-2 label.sk-toggleable__label {cursor: pointer;display: block;width: 100%;margin-bottom: 0;padding: 0.3em;box-sizing: border-box;text-align: center;}#sk-container-id-2 label.sk-toggleable__label-arrow:before {content: \"▸\";float: left;margin-right: 0.25em;color: #696969;}#sk-container-id-2 label.sk-toggleable__label-arrow:hover:before {color: black;}#sk-container-id-2 div.sk-estimator:hover label.sk-toggleable__label-arrow:before {color: black;}#sk-container-id-2 div.sk-toggleable__content {max-height: 0;max-width: 0;overflow: hidden;text-align: left;background-color: #f0f8ff;}#sk-container-id-2 div.sk-toggleable__content pre {margin: 0.2em;color: black;border-radius: 0.25em;background-color: #f0f8ff;}#sk-container-id-2 input.sk-toggleable__control:checked~div.sk-toggleable__content {max-height: 200px;max-width: 100%;overflow: auto;}#sk-container-id-2 input.sk-toggleable__control:checked~label.sk-toggleable__label-arrow:before {content: \"▾\";}#sk-container-id-2 div.sk-estimator input.sk-toggleable__control:checked~label.sk-toggleable__label {background-color: #d4ebff;}#sk-container-id-2 div.sk-label input.sk-toggleable__control:checked~label.sk-toggleable__label {background-color: #d4ebff;}#sk-container-id-2 input.sk-hidden--visually {border: 0;clip: rect(1px 1px 1px 1px);clip: rect(1px, 1px, 1px, 1px);height: 1px;margin: -1px;overflow: hidden;padding: 0;position: absolute;width: 1px;}#sk-container-id-2 div.sk-estimator {font-family: monospace;background-color: #f0f8ff;border: 1px dotted black;border-radius: 0.25em;box-sizing: border-box;margin-bottom: 0.5em;}#sk-container-id-2 div.sk-estimator:hover {background-color: #d4ebff;}#sk-container-id-2 div.sk-parallel-item::after {content: \"\";width: 100%;border-bottom: 1px solid gray;flex-grow: 1;}#sk-container-id-2 div.sk-label:hover label.sk-toggleable__label {background-color: #d4ebff;}#sk-container-id-2 div.sk-serial::before {content: \"\";position: absolute;border-left: 1px solid gray;box-sizing: border-box;top: 0;bottom: 0;left: 50%;z-index: 0;}#sk-container-id-2 div.sk-serial {display: flex;flex-direction: column;align-items: center;background-color: white;padding-right: 0.2em;padding-left: 0.2em;position: relative;}#sk-container-id-2 div.sk-item {position: relative;z-index: 1;}#sk-container-id-2 div.sk-parallel {display: flex;align-items: stretch;justify-content: center;background-color: white;position: relative;}#sk-container-id-2 div.sk-item::before, #sk-container-id-2 div.sk-parallel-item::before {content: \"\";position: absolute;border-left: 1px solid gray;box-sizing: border-box;top: 0;bottom: 0;left: 50%;z-index: -1;}#sk-container-id-2 div.sk-parallel-item {display: flex;flex-direction: column;z-index: 1;position: relative;background-color: white;}#sk-container-id-2 div.sk-parallel-item:first-child::after {align-self: flex-end;width: 50%;}#sk-container-id-2 div.sk-parallel-item:last-child::after {align-self: flex-start;width: 50%;}#sk-container-id-2 div.sk-parallel-item:only-child::after {width: 0;}#sk-container-id-2 div.sk-dashed-wrapped {border: 1px dashed gray;margin: 0 0.4em 0.5em 0.4em;box-sizing: border-box;padding-bottom: 0.4em;background-color: white;}#sk-container-id-2 div.sk-label label {font-family: monospace;font-weight: bold;display: inline-block;line-height: 1.2em;}#sk-container-id-2 div.sk-label-container {text-align: center;}#sk-container-id-2 div.sk-container {/* jupyter's `normalize.less` sets `[hidden] { display: none; }` but bootstrap.min.css set `[hidden] { display: none !important; }` so we also need the `!important` here to be able to override the default hidden behavior on the sphinx rendered scikit-learn.org. See: https://github.com/scikit-learn/scikit-learn/issues/21755 */display: inline-block !important;position: relative;}#sk-container-id-2 div.sk-text-repr-fallback {display: none;}</style><div id=\"sk-container-id-2\" class=\"sk-top-container\"><div class=\"sk-text-repr-fallback\"><pre>XGBClassifier(base_score=None, booster=None, callbacks=None,\n",
       "              colsample_bylevel=None, colsample_bynode=None,\n",
       "              colsample_bytree=None, early_stopping_rounds=None,\n",
       "              enable_categorical=False, eval_metric=None, feature_types=None,\n",
       "              gamma=None, gpu_id=None, grow_policy=None, importance_type=None,\n",
       "              interaction_constraints=None, learning_rate=None, max_bin=None,\n",
       "              max_cat_threshold=None, max_cat_to_onehot=None,\n",
       "              max_delta_step=None, max_depth=None, max_leaves=None,\n",
       "              min_child_weight=None, missing=nan, monotone_constraints=None,\n",
       "              n_estimators=100, n_jobs=None, num_parallel_tree=None,\n",
       "              predictor=None, random_state=0, ...)</pre><b>In a Jupyter environment, please rerun this cell to show the HTML representation or trust the notebook. <br />On GitHub, the HTML representation is unable to render, please try loading this page with nbviewer.org.</b></div><div class=\"sk-container\" hidden><div class=\"sk-item\"><div class=\"sk-estimator sk-toggleable\"><input class=\"sk-toggleable__control sk-hidden--visually\" id=\"sk-estimator-id-2\" type=\"checkbox\" checked><label for=\"sk-estimator-id-2\" class=\"sk-toggleable__label sk-toggleable__label-arrow\">XGBClassifier</label><div class=\"sk-toggleable__content\"><pre>XGBClassifier(base_score=None, booster=None, callbacks=None,\n",
       "              colsample_bylevel=None, colsample_bynode=None,\n",
       "              colsample_bytree=None, early_stopping_rounds=None,\n",
       "              enable_categorical=False, eval_metric=None, feature_types=None,\n",
       "              gamma=None, gpu_id=None, grow_policy=None, importance_type=None,\n",
       "              interaction_constraints=None, learning_rate=None, max_bin=None,\n",
       "              max_cat_threshold=None, max_cat_to_onehot=None,\n",
       "              max_delta_step=None, max_depth=None, max_leaves=None,\n",
       "              min_child_weight=None, missing=nan, monotone_constraints=None,\n",
       "              n_estimators=100, n_jobs=None, num_parallel_tree=None,\n",
       "              predictor=None, random_state=0, ...)</pre></div></div></div></div></div>"
      ],
      "text/plain": [
       "XGBClassifier(base_score=None, booster=None, callbacks=None,\n",
       "              colsample_bylevel=None, colsample_bynode=None,\n",
       "              colsample_bytree=None, early_stopping_rounds=None,\n",
       "              enable_categorical=False, eval_metric=None, feature_types=None,\n",
       "              gamma=None, gpu_id=None, grow_policy=None, importance_type=None,\n",
       "              interaction_constraints=None, learning_rate=None, max_bin=None,\n",
       "              max_cat_threshold=None, max_cat_to_onehot=None,\n",
       "              max_delta_step=None, max_depth=None, max_leaves=None,\n",
       "              min_child_weight=None, missing=nan, monotone_constraints=None,\n",
       "              n_estimators=100, n_jobs=None, num_parallel_tree=None,\n",
       "              predictor=None, random_state=0, ...)"
      ]
     },
     "execution_count": 27,
     "metadata": {},
     "output_type": "execute_result"
    }
   ],
   "source": [
    "X_train_xgb.columns = X_train_xgb.columns.str.translate(\"\".maketrans({\"[\":\"{\", \"]\":\"}\",\"<\":\"^\"}))\n",
    "X_test_xgb.columns = X_test_xgb.columns.str.translate(\"\".maketrans({\"[\":\"{\", \"]\":\"}\",\"<\":\"^\"}))\n",
    "\n",
    "xgb = XGBClassifier(random_state=SEED)\n",
    "xgb.fit(X_train_xgb, y_train_xgb)"
   ]
  },
  {
   "cell_type": "code",
   "execution_count": 28,
   "id": "e4d43460",
   "metadata": {},
   "outputs": [
    {
     "name": "stdout",
     "output_type": "stream",
     "text": [
      "Baseline performance of XGBoost\n",
      "AVERAGE CV=5 ROC_AUC (TEST): 0.9697139764996908\n",
      "AVERAGE CV=5 STD (TEST): 0.004265886393982702\n"
     ]
    }
   ],
   "source": [
    "# Baseline results\n",
    "print(\"Baseline performance of XGBoost\")\n",
    "test_model_cross_val(xgb, y_train_xgb, X_train_xgb, k=5, verbose=True)"
   ]
  },
  {
   "cell_type": "markdown",
   "id": "c35abb5f",
   "metadata": {},
   "source": [
    "## Handle NaNs"
   ]
  },
  {
   "cell_type": "code",
   "execution_count": 29,
   "id": "a39bb891",
   "metadata": {},
   "outputs": [
    {
     "name": "stdout",
     "output_type": "stream",
     "text": [
      "Cross validated missing values experiment with k=5\n"
     ]
    },
    {
     "data": {
      "text/html": [
       "<div>\n",
       "<style scoped>\n",
       "    .dataframe tbody tr th:only-of-type {\n",
       "        vertical-align: middle;\n",
       "    }\n",
       "\n",
       "    .dataframe tbody tr th {\n",
       "        vertical-align: top;\n",
       "    }\n",
       "\n",
       "    .dataframe thead th {\n",
       "        text-align: right;\n",
       "    }\n",
       "</style>\n",
       "<table border=\"1\" class=\"dataframe\">\n",
       "  <thead>\n",
       "    <tr style=\"text-align: right;\">\n",
       "      <th></th>\n",
       "      <th>Name</th>\n",
       "      <th>Average ROC_AUC</th>\n",
       "      <th>Standard Deviation</th>\n",
       "    </tr>\n",
       "  </thead>\n",
       "  <tbody>\n",
       "    <tr>\n",
       "      <th>0</th>\n",
       "      <td>0.0</td>\n",
       "      <td>0.971018</td>\n",
       "      <td>0.007052</td>\n",
       "    </tr>\n",
       "    <tr>\n",
       "      <th>1</th>\n",
       "      <td>0.1</td>\n",
       "      <td>0.970477</td>\n",
       "      <td>0.003631</td>\n",
       "    </tr>\n",
       "    <tr>\n",
       "      <th>2</th>\n",
       "      <td>0.2</td>\n",
       "      <td>0.968946</td>\n",
       "      <td>0.002476</td>\n",
       "    </tr>\n",
       "    <tr>\n",
       "      <th>3</th>\n",
       "      <td>0.3</td>\n",
       "      <td>0.969605</td>\n",
       "      <td>0.005451</td>\n",
       "    </tr>\n",
       "    <tr>\n",
       "      <th>4</th>\n",
       "      <td>0.4</td>\n",
       "      <td>0.969605</td>\n",
       "      <td>0.005451</td>\n",
       "    </tr>\n",
       "    <tr>\n",
       "      <th>5</th>\n",
       "      <td>0.5</td>\n",
       "      <td>0.967874</td>\n",
       "      <td>0.008053</td>\n",
       "    </tr>\n",
       "    <tr>\n",
       "      <th>6</th>\n",
       "      <td>0.6</td>\n",
       "      <td>0.970017</td>\n",
       "      <td>0.004218</td>\n",
       "    </tr>\n",
       "    <tr>\n",
       "      <th>7</th>\n",
       "      <td>0.7</td>\n",
       "      <td>0.969714</td>\n",
       "      <td>0.004266</td>\n",
       "    </tr>\n",
       "    <tr>\n",
       "      <th>8</th>\n",
       "      <td>0.8</td>\n",
       "      <td>0.969714</td>\n",
       "      <td>0.004266</td>\n",
       "    </tr>\n",
       "    <tr>\n",
       "      <th>9</th>\n",
       "      <td>0.9</td>\n",
       "      <td>0.969714</td>\n",
       "      <td>0.004266</td>\n",
       "    </tr>\n",
       "  </tbody>\n",
       "</table>\n",
       "</div>"
      ],
      "text/plain": [
       "  Name  Average ROC_AUC  Standard Deviation\n",
       "0  0.0         0.971018            0.007052\n",
       "1  0.1         0.970477            0.003631\n",
       "2  0.2         0.968946            0.002476\n",
       "3  0.3         0.969605            0.005451\n",
       "4  0.4         0.969605            0.005451\n",
       "5  0.5         0.967874            0.008053\n",
       "6  0.6         0.970017            0.004218\n",
       "7  0.7         0.969714            0.004266\n",
       "8  0.8         0.969714            0.004266\n",
       "9  0.9         0.969714            0.004266"
      ]
     },
     "execution_count": 29,
     "metadata": {},
     "output_type": "execute_result"
    },
    {
     "data": {
      "image/png": "[encoded data removed]",
      "text/plain": [
       "<Figure size 432x288 with 1 Axes>"
      ]
     },
     "metadata": {
      "needs_background": "light"
     },
     "output_type": "display_data"
    }
   ],
   "source": [
    "# choose optimal threshold for removing columns with NaNs\n",
    "optimiseNaNs(xgb, X_train_xgb, X_test_xgb, y_train_xgb, y_test_xgb, option=2)"
   ]
  },
  {
   "cell_type": "markdown",
   "id": "fae4022d",
   "metadata": {},
   "source": [
    "Choose to remove columns with NaNs > 0.7"
   ]
  },
  {
   "cell_type": "code",
   "execution_count": 30,
   "id": "9c952ab7",
   "metadata": {},
   "outputs": [],
   "source": [
    "X_train_xgb, X_test_xgb = handleNaNs(X_train.copy(), X_test.copy(), option=2, thresh=0.1)\n",
    "X_train_t_xgb, X_val_xgb = handleNaNs(X_train_t.copy(), X_val.copy(), option=2, thresh=0.1)"
   ]
  },
  {
   "cell_type": "code",
   "execution_count": 31,
   "id": "18800c2d",
   "metadata": {},
   "outputs": [
    {
     "name": "stdout",
     "output_type": "stream",
     "text": [
      "AVERAGE CV=5 ROC_AUC (TEST): 0.9704767058338488\n",
      "AVERAGE CV=5 STD (TEST): 0.0036305989079775426\n"
     ]
    }
   ],
   "source": [
    "xgb.fit(X_train_xgb, y_train_xgb)\n",
    "test_model_cross_val(xgb, y_train_xgb, X_train_xgb, k=5, verbose=True)"
   ]
  },
  {
   "cell_type": "markdown",
   "id": "7d9c3378",
   "metadata": {},
   "source": [
    "## Importance Experiment XGB"
   ]
  },
  {
   "cell_type": "code",
   "execution_count": 32,
   "id": "c81ac775",
   "metadata": {},
   "outputs": [
    {
     "name": "stdout",
     "output_type": "stream",
     "text": [
      "Cross validated importance experiment with k=5\n",
      "N:5\n",
      "N:10\n",
      "N:25\n",
      "N:50\n",
      "N:100\n",
      "N:200\n",
      "N:400\n",
      "N:800\n",
      "N:4158\n"
     ]
    },
    {
     "data": {
      "text/html": [
       "<div>\n",
       "<style scoped>\n",
       "    .dataframe tbody tr th:only-of-type {\n",
       "        vertical-align: middle;\n",
       "    }\n",
       "\n",
       "    .dataframe tbody tr th {\n",
       "        vertical-align: top;\n",
       "    }\n",
       "\n",
       "    .dataframe thead th {\n",
       "        text-align: right;\n",
       "    }\n",
       "</style>\n",
       "<table border=\"1\" class=\"dataframe\">\n",
       "  <thead>\n",
       "    <tr style=\"text-align: right;\">\n",
       "      <th></th>\n",
       "      <th>Most important N descriptors</th>\n",
       "      <th>Average ROC_AUC</th>\n",
       "      <th>Standard Deviation</th>\n",
       "    </tr>\n",
       "  </thead>\n",
       "  <tbody>\n",
       "    <tr>\n",
       "      <th>0</th>\n",
       "      <td>5.0</td>\n",
       "      <td>0.948541</td>\n",
       "      <td>0.011544</td>\n",
       "    </tr>\n",
       "    <tr>\n",
       "      <th>1</th>\n",
       "      <td>10.0</td>\n",
       "      <td>0.966914</td>\n",
       "      <td>0.009529</td>\n",
       "    </tr>\n",
       "    <tr>\n",
       "      <th>2</th>\n",
       "      <td>25.0</td>\n",
       "      <td>0.969228</td>\n",
       "      <td>0.008450</td>\n",
       "    </tr>\n",
       "    <tr>\n",
       "      <th>3</th>\n",
       "      <td>50.0</td>\n",
       "      <td>0.973561</td>\n",
       "      <td>0.004591</td>\n",
       "    </tr>\n",
       "    <tr>\n",
       "      <th>4</th>\n",
       "      <td>100.0</td>\n",
       "      <td>0.974538</td>\n",
       "      <td>0.002565</td>\n",
       "    </tr>\n",
       "    <tr>\n",
       "      <th>5</th>\n",
       "      <td>200.0</td>\n",
       "      <td>0.976636</td>\n",
       "      <td>0.002046</td>\n",
       "    </tr>\n",
       "    <tr>\n",
       "      <th>6</th>\n",
       "      <td>400.0</td>\n",
       "      <td>0.974189</td>\n",
       "      <td>0.003034</td>\n",
       "    </tr>\n",
       "    <tr>\n",
       "      <th>7</th>\n",
       "      <td>800.0</td>\n",
       "      <td>0.973524</td>\n",
       "      <td>0.002601</td>\n",
       "    </tr>\n",
       "    <tr>\n",
       "      <th>8</th>\n",
       "      <td>4158.0</td>\n",
       "      <td>0.969658</td>\n",
       "      <td>0.004814</td>\n",
       "    </tr>\n",
       "  </tbody>\n",
       "</table>\n",
       "</div>"
      ],
      "text/plain": [
       "   Most important N descriptors  Average ROC_AUC  Standard Deviation\n",
       "0                           5.0         0.948541            0.011544\n",
       "1                          10.0         0.966914            0.009529\n",
       "2                          25.0         0.969228            0.008450\n",
       "3                          50.0         0.973561            0.004591\n",
       "4                         100.0         0.974538            0.002565\n",
       "5                         200.0         0.976636            0.002046\n",
       "6                         400.0         0.974189            0.003034\n",
       "7                         800.0         0.973524            0.002601\n",
       "8                        4158.0         0.969658            0.004814"
      ]
     },
     "execution_count": 32,
     "metadata": {},
     "output_type": "execute_result"
    },
    {
     "data": {
      "image/png": "[encoded data removed]",
      "text/plain": [
       "<Figure size 432x288 with 1 Axes>"
      ]
     },
     "metadata": {
      "needs_background": "light"
     },
     "output_type": "display_data"
    }
   ],
   "source": [
    "optimiseImportance(xgb, X_train_xgb, y_train_xgb)"
   ]
  },
  {
   "cell_type": "code",
   "execution_count": 60,
   "id": "dcf3320b",
   "metadata": {},
   "outputs": [
    {
     "name": "stdout",
     "output_type": "stream",
     "text": [
      "AVERAGE CV=5 ROC_AUC (TEST): 0.9757024324881469\n",
      "AVERAGE CV=5 STD (TEST): 0.0037846217294999433\n"
     ]
    }
   ],
   "source": [
    "X_train_xgb, X_test_xgb, xgb = handle_importance(xgb, \n",
    "                                                X_train_xgb, \n",
    "                                                X_test_xgb, \n",
    "                                                threshold=-1, \n",
    "                                                n=200)\n",
    "\n",
    "# Filted importance results\n",
    "xgb.fit(X_train_xgb, y_train_xgb)\n",
    "test_model_cross_val(xgb, y_train_xgb, X_train_xgb, k=5, verbose=True)"
   ]
  },
  {
   "cell_type": "code",
   "execution_count": 61,
   "id": "ae64380e",
   "metadata": {},
   "outputs": [
    {
     "data": {
      "text/html": [
       "<div>\n",
       "<style scoped>\n",
       "    .dataframe tbody tr th:only-of-type {\n",
       "        vertical-align: middle;\n",
       "    }\n",
       "\n",
       "    .dataframe tbody tr th {\n",
       "        vertical-align: top;\n",
       "    }\n",
       "\n",
       "    .dataframe thead th {\n",
       "        text-align: right;\n",
       "    }\n",
       "</style>\n",
       "<table border=\"1\" class=\"dataframe\">\n",
       "  <thead>\n",
       "    <tr style=\"text-align: right;\">\n",
       "      <th></th>\n",
       "      <th>SM1_Dz(i)</th>\n",
       "      <th>MR99</th>\n",
       "      <th>piPC10</th>\n",
       "      <th>SM5_B(p)</th>\n",
       "      <th>nRCOOR</th>\n",
       "      <th>TPSA(NO)</th>\n",
       "      <th>HyWi_X</th>\n",
       "      <th>T(N..N)</th>\n",
       "      <th>nC</th>\n",
       "      <th>SMTIV</th>\n",
       "      <th>...</th>\n",
       "      <th>SpMin2_Bh(s)</th>\n",
       "      <th>P_VSA_MR_2</th>\n",
       "      <th>Psi_i_A</th>\n",
       "      <th>minsNH2</th>\n",
       "      <th>B05{O-O}</th>\n",
       "      <th>JGI7</th>\n",
       "      <th>T(N..O)</th>\n",
       "      <th>nRCO</th>\n",
       "      <th>nROR</th>\n",
       "      <th>CATS2D_05_AA</th>\n",
       "    </tr>\n",
       "  </thead>\n",
       "  <tbody>\n",
       "    <tr>\n",
       "      <th>C1=CC(=CC=C1C(=O)O)[N+](=O)[O-]</th>\n",
       "      <td>0.651074</td>\n",
       "      <td>42.223300</td>\n",
       "      <td>0.000000</td>\n",
       "      <td>7.031831</td>\n",
       "      <td>0</td>\n",
       "      <td>83.12</td>\n",
       "      <td>1.642029</td>\n",
       "      <td>0</td>\n",
       "      <td>7</td>\n",
       "      <td>2084.0</td>\n",
       "      <td>...</td>\n",
       "      <td>0.225225</td>\n",
       "      <td>67.828270</td>\n",
       "      <td>3.500000</td>\n",
       "      <td>0.000000</td>\n",
       "      <td>0</td>\n",
       "      <td>0.000000</td>\n",
       "      <td>12</td>\n",
       "      <td>0</td>\n",
       "      <td>0</td>\n",
       "      <td>0</td>\n",
       "    </tr>\n",
       "    <tr>\n",
       "      <th>CCCCCCCCCCCCCCCCO</th>\n",
       "      <td>0.159650</td>\n",
       "      <td>77.397802</td>\n",
       "      <td>2.079442</td>\n",
       "      <td>6.690171</td>\n",
       "      <td>0</td>\n",
       "      <td>20.23</td>\n",
       "      <td>2.009168</td>\n",
       "      <td>0</td>\n",
       "      <td>16</td>\n",
       "      <td>3604.0</td>\n",
       "      <td>...</td>\n",
       "      <td>1.381481</td>\n",
       "      <td>23.542204</td>\n",
       "      <td>1.794118</td>\n",
       "      <td>0.000000</td>\n",
       "      <td>0</td>\n",
       "      <td>0.003125</td>\n",
       "      <td>0</td>\n",
       "      <td>0</td>\n",
       "      <td>0</td>\n",
       "      <td>0</td>\n",
       "    </tr>\n",
       "    <tr>\n",
       "      <th>C1(C(O1)(F)F)(C(F)(F)F)F</th>\n",
       "      <td>1.192497</td>\n",
       "      <td>15.926000</td>\n",
       "      <td>0.000000</td>\n",
       "      <td>6.523901</td>\n",
       "      <td>0</td>\n",
       "      <td>12.53</td>\n",
       "      <td>1.396505</td>\n",
       "      <td>0</td>\n",
       "      <td>3</td>\n",
       "      <td>1558.0</td>\n",
       "      <td>...</td>\n",
       "      <td>0.000000</td>\n",
       "      <td>89.760680</td>\n",
       "      <td>5.525000</td>\n",
       "      <td>0.000000</td>\n",
       "      <td>0</td>\n",
       "      <td>0.000000</td>\n",
       "      <td>0</td>\n",
       "      <td>0</td>\n",
       "      <td>1</td>\n",
       "      <td>0</td>\n",
       "    </tr>\n",
       "    <tr>\n",
       "      <th>CC(C)(C=C)O</th>\n",
       "      <td>0.159650</td>\n",
       "      <td>26.494800</td>\n",
       "      <td>0.000000</td>\n",
       "      <td>6.062728</td>\n",
       "      <td>0</td>\n",
       "      <td>20.23</td>\n",
       "      <td>1.087831</td>\n",
       "      <td>0</td>\n",
       "      <td>5</td>\n",
       "      <td>188.0</td>\n",
       "      <td>...</td>\n",
       "      <td>0.469096</td>\n",
       "      <td>70.626612</td>\n",
       "      <td>2.708333</td>\n",
       "      <td>0.000000</td>\n",
       "      <td>0</td>\n",
       "      <td>0.000000</td>\n",
       "      <td>0</td>\n",
       "      <td>0</td>\n",
       "      <td>0</td>\n",
       "      <td>0</td>\n",
       "    </tr>\n",
       "    <tr>\n",
       "      <th>C=CCC1=CC2=C(C=C1)OCO2</th>\n",
       "      <td>0.297286</td>\n",
       "      <td>46.466000</td>\n",
       "      <td>3.548180</td>\n",
       "      <td>7.010573</td>\n",
       "      <td>0</td>\n",
       "      <td>18.46</td>\n",
       "      <td>1.674847</td>\n",
       "      <td>0</td>\n",
       "      <td>10</td>\n",
       "      <td>1515.0</td>\n",
       "      <td>...</td>\n",
       "      <td>0.739019</td>\n",
       "      <td>21.999776</td>\n",
       "      <td>2.166667</td>\n",
       "      <td>0.000000</td>\n",
       "      <td>0</td>\n",
       "      <td>0.020408</td>\n",
       "      <td>0</td>\n",
       "      <td>0</td>\n",
       "      <td>0</td>\n",
       "      <td>0</td>\n",
       "    </tr>\n",
       "    <tr>\n",
       "      <th>...</th>\n",
       "      <td>...</td>\n",
       "      <td>...</td>\n",
       "      <td>...</td>\n",
       "      <td>...</td>\n",
       "      <td>...</td>\n",
       "      <td>...</td>\n",
       "      <td>...</td>\n",
       "      <td>...</td>\n",
       "      <td>...</td>\n",
       "      <td>...</td>\n",
       "      <td>...</td>\n",
       "      <td>...</td>\n",
       "      <td>...</td>\n",
       "      <td>...</td>\n",
       "      <td>...</td>\n",
       "      <td>...</td>\n",
       "      <td>...</td>\n",
       "      <td>...</td>\n",
       "      <td>...</td>\n",
       "      <td>...</td>\n",
       "      <td>...</td>\n",
       "    </tr>\n",
       "    <tr>\n",
       "      <th>CCCCS</th>\n",
       "      <td>-0.083330</td>\n",
       "      <td>28.761001</td>\n",
       "      <td>0.000000</td>\n",
       "      <td>5.589656</td>\n",
       "      <td>0</td>\n",
       "      <td>0.00</td>\n",
       "      <td>1.084211</td>\n",
       "      <td>0</td>\n",
       "      <td>4</td>\n",
       "      <td>120.0</td>\n",
       "      <td>...</td>\n",
       "      <td>0.717030</td>\n",
       "      <td>23.542204</td>\n",
       "      <td>1.944444</td>\n",
       "      <td>0.000000</td>\n",
       "      <td>0</td>\n",
       "      <td>0.000000</td>\n",
       "      <td>0</td>\n",
       "      <td>0</td>\n",
       "      <td>0</td>\n",
       "      <td>0</td>\n",
       "    </tr>\n",
       "    <tr>\n",
       "      <th>CCN(CC)CC</th>\n",
       "      <td>0.203104</td>\n",
       "      <td>33.462001</td>\n",
       "      <td>0.000000</td>\n",
       "      <td>5.694767</td>\n",
       "      <td>0</td>\n",
       "      <td>3.24</td>\n",
       "      <td>1.301018</td>\n",
       "      <td>0</td>\n",
       "      <td>6</td>\n",
       "      <td>204.0</td>\n",
       "      <td>...</td>\n",
       "      <td>0.869064</td>\n",
       "      <td>105.939918</td>\n",
       "      <td>1.785714</td>\n",
       "      <td>0.000000</td>\n",
       "      <td>0</td>\n",
       "      <td>0.000000</td>\n",
       "      <td>0</td>\n",
       "      <td>0</td>\n",
       "      <td>0</td>\n",
       "      <td>0</td>\n",
       "    </tr>\n",
       "    <tr>\n",
       "      <th>C1=CC=C(C=C1)C(=O)C2=CC=CC=C2</th>\n",
       "      <td>0.159650</td>\n",
       "      <td>56.316500</td>\n",
       "      <td>5.731874</td>\n",
       "      <td>7.331224</td>\n",
       "      <td>0</td>\n",
       "      <td>17.07</td>\n",
       "      <td>1.799995</td>\n",
       "      <td>0</td>\n",
       "      <td>13</td>\n",
       "      <td>2244.0</td>\n",
       "      <td>...</td>\n",
       "      <td>1.009550</td>\n",
       "      <td>25.144927</td>\n",
       "      <td>2.285714</td>\n",
       "      <td>0.000000</td>\n",
       "      <td>0</td>\n",
       "      <td>0.012153</td>\n",
       "      <td>0</td>\n",
       "      <td>0</td>\n",
       "      <td>0</td>\n",
       "      <td>0</td>\n",
       "    </tr>\n",
       "    <tr>\n",
       "      <th>N</th>\n",
       "      <td>0.371839</td>\n",
       "      <td>3.450000</td>\n",
       "      <td>0.000000</td>\n",
       "      <td>4.477209</td>\n",
       "      <td>0</td>\n",
       "      <td>47.58</td>\n",
       "      <td>0.693147</td>\n",
       "      <td>0</td>\n",
       "      <td>0</td>\n",
       "      <td>35.0</td>\n",
       "      <td>...</td>\n",
       "      <td>0.000000</td>\n",
       "      <td>0.000000</td>\n",
       "      <td>6.000000</td>\n",
       "      <td>0.000000</td>\n",
       "      <td>0</td>\n",
       "      <td>0.000000</td>\n",
       "      <td>0</td>\n",
       "      <td>0</td>\n",
       "      <td>0</td>\n",
       "      <td>0</td>\n",
       "    </tr>\n",
       "    <tr>\n",
       "      <th>CC(C)N</th>\n",
       "      <td>0.203104</td>\n",
       "      <td>19.323400</td>\n",
       "      <td>0.000000</td>\n",
       "      <td>5.247115</td>\n",
       "      <td>0</td>\n",
       "      <td>26.02</td>\n",
       "      <td>0.861212</td>\n",
       "      <td>0</td>\n",
       "      <td>3</td>\n",
       "      <td>49.0</td>\n",
       "      <td>...</td>\n",
       "      <td>0.469096</td>\n",
       "      <td>70.626612</td>\n",
       "      <td>2.333333</td>\n",
       "      <td>5.111111</td>\n",
       "      <td>0</td>\n",
       "      <td>0.000000</td>\n",
       "      <td>0</td>\n",
       "      <td>0</td>\n",
       "      <td>0</td>\n",
       "      <td>0</td>\n",
       "    </tr>\n",
       "  </tbody>\n",
       "</table>\n",
       "<p>692 rows × 100 columns</p>\n",
       "</div>"
      ],
      "text/plain": [
       "                                 SM1_Dz(i)       MR99    piPC10  SM5_B(p)  \\\n",
       "C1=CC(=CC=C1C(=O)O)[N+](=O)[O-]   0.651074  42.223300  0.000000  7.031831   \n",
       "CCCCCCCCCCCCCCCCO                 0.159650  77.397802  2.079442  6.690171   \n",
       "C1(C(O1)(F)F)(C(F)(F)F)F          1.192497  15.926000  0.000000  6.523901   \n",
       "CC(C)(C=C)O                       0.159650  26.494800  0.000000  6.062728   \n",
       "C=CCC1=CC2=C(C=C1)OCO2            0.297286  46.466000  3.548180  7.010573   \n",
       "...                                    ...        ...       ...       ...   \n",
       "CCCCS                            -0.083330  28.761001  0.000000  5.589656   \n",
       "CCN(CC)CC                         0.203104  33.462001  0.000000  5.694767   \n",
       "C1=CC=C(C=C1)C(=O)C2=CC=CC=C2     0.159650  56.316500  5.731874  7.331224   \n",
       "N                                 0.371839   3.450000  0.000000  4.477209   \n",
       "CC(C)N                            0.203104  19.323400  0.000000  5.247115   \n",
       "\n",
       "                                 nRCOOR  TPSA(NO)    HyWi_X  T(N..N)  nC  \\\n",
       "C1=CC(=CC=C1C(=O)O)[N+](=O)[O-]       0     83.12  1.642029        0   7   \n",
       "CCCCCCCCCCCCCCCCO                     0     20.23  2.009168        0  16   \n",
       "C1(C(O1)(F)F)(C(F)(F)F)F              0     12.53  1.396505        0   3   \n",
       "CC(C)(C=C)O                           0     20.23  1.087831        0   5   \n",
       "C=CCC1=CC2=C(C=C1)OCO2                0     18.46  1.674847        0  10   \n",
       "...                                 ...       ...       ...      ...  ..   \n",
       "CCCCS                                 0      0.00  1.084211        0   4   \n",
       "CCN(CC)CC                             0      3.24  1.301018        0   6   \n",
       "C1=CC=C(C=C1)C(=O)C2=CC=CC=C2         0     17.07  1.799995        0  13   \n",
       "N                                     0     47.58  0.693147        0   0   \n",
       "CC(C)N                                0     26.02  0.861212        0   3   \n",
       "\n",
       "                                  SMTIV  ...  SpMin2_Bh(s)  P_VSA_MR_2  \\\n",
       "C1=CC(=CC=C1C(=O)O)[N+](=O)[O-]  2084.0  ...      0.225225   67.828270   \n",
       "CCCCCCCCCCCCCCCCO                3604.0  ...      1.381481   23.542204   \n",
       "C1(C(O1)(F)F)(C(F)(F)F)F         1558.0  ...      0.000000   89.760680   \n",
       "CC(C)(C=C)O                       188.0  ...      0.469096   70.626612   \n",
       "C=CCC1=CC2=C(C=C1)OCO2           1515.0  ...      0.739019   21.999776   \n",
       "...                                 ...  ...           ...         ...   \n",
       "CCCCS                             120.0  ...      0.717030   23.542204   \n",
       "CCN(CC)CC                         204.0  ...      0.869064  105.939918   \n",
       "C1=CC=C(C=C1)C(=O)C2=CC=CC=C2    2244.0  ...      1.009550   25.144927   \n",
       "N                                  35.0  ...      0.000000    0.000000   \n",
       "CC(C)N                             49.0  ...      0.469096   70.626612   \n",
       "\n",
       "                                  Psi_i_A   minsNH2  B05{O-O}      JGI7  \\\n",
       "C1=CC(=CC=C1C(=O)O)[N+](=O)[O-]  3.500000  0.000000         0  0.000000   \n",
       "CCCCCCCCCCCCCCCCO                1.794118  0.000000         0  0.003125   \n",
       "C1(C(O1)(F)F)(C(F)(F)F)F         5.525000  0.000000         0  0.000000   \n",
       "CC(C)(C=C)O                      2.708333  0.000000         0  0.000000   \n",
       "C=CCC1=CC2=C(C=C1)OCO2           2.166667  0.000000         0  0.020408   \n",
       "...                                   ...       ...       ...       ...   \n",
       "CCCCS                            1.944444  0.000000         0  0.000000   \n",
       "CCN(CC)CC                        1.785714  0.000000         0  0.000000   \n",
       "C1=CC=C(C=C1)C(=O)C2=CC=CC=C2    2.285714  0.000000         0  0.012153   \n",
       "N                                6.000000  0.000000         0  0.000000   \n",
       "CC(C)N                           2.333333  5.111111         0  0.000000   \n",
       "\n",
       "                                 T(N..O)  nRCO  nROR  CATS2D_05_AA  \n",
       "C1=CC(=CC=C1C(=O)O)[N+](=O)[O-]       12     0     0             0  \n",
       "CCCCCCCCCCCCCCCCO                      0     0     0             0  \n",
       "C1(C(O1)(F)F)(C(F)(F)F)F               0     0     1             0  \n",
       "CC(C)(C=C)O                            0     0     0             0  \n",
       "C=CCC1=CC2=C(C=C1)OCO2                 0     0     0             0  \n",
       "...                                  ...   ...   ...           ...  \n",
       "CCCCS                                  0     0     0             0  \n",
       "CCN(CC)CC                              0     0     0             0  \n",
       "C1=CC=C(C=C1)C(=O)C2=CC=CC=C2          0     0     0             0  \n",
       "N                                      0     0     0             0  \n",
       "CC(C)N                                 0     0     0             0  \n",
       "\n",
       "[692 rows x 100 columns]"
      ]
     },
     "execution_count": 61,
     "metadata": {},
     "output_type": "execute_result"
    }
   ],
   "source": [
    "X_train_xgb"
   ]
  },
  {
   "cell_type": "markdown",
   "id": "79202870",
   "metadata": {},
   "source": [
    "## Tuning paramaters "
   ]
  },
  {
   "cell_type": "code",
   "execution_count": 62,
   "id": "5367bcd6",
   "metadata": {},
   "outputs": [
    {
     "name": "stdout",
     "output_type": "stream",
     "text": [
      "|   iter    |  target   | colsam... |   gamma   | learni... | max_depth | n_esti... | reg_alpha | reg_la... | scale_... |\n",
      "-------------------------------------------------------------------------------------------------------------------------\n",
      "| \u001b[0m1        \u001b[0m | \u001b[0m0.9631   \u001b[0m | \u001b[0m0.8646   \u001b[0m | \u001b[0m3.576    \u001b[0m | \u001b[0m0.6067   \u001b[0m | \u001b[0m6.814    \u001b[0m | \u001b[0m481.3    \u001b[0m | \u001b[0m1.292    \u001b[0m | \u001b[0m0.8752   \u001b[0m | \u001b[0m2.338    \u001b[0m |\n",
      "| \u001b[95m2        \u001b[0m | \u001b[95m0.97     \u001b[0m | \u001b[95m0.9891   \u001b[0m | \u001b[95m1.917    \u001b[0m | \u001b[95m0.7938   \u001b[0m | \u001b[95m6.702    \u001b[0m | \u001b[95m611.2    \u001b[0m | \u001b[95m1.851    \u001b[0m | \u001b[95m0.1421   \u001b[0m | \u001b[95m1.131    \u001b[0m |\n",
      "| \u001b[0m3        \u001b[0m | \u001b[0m0.9672   \u001b[0m | \u001b[0m0.7061   \u001b[0m | \u001b[0m4.163    \u001b[0m | \u001b[0m0.7804   \u001b[0m | \u001b[0m9.09     \u001b[0m | \u001b[0m980.8    \u001b[0m | \u001b[0m1.598    \u001b[0m | \u001b[0m0.923    \u001b[0m | \u001b[0m2.171    \u001b[0m |\n",
      "| \u001b[95m4        \u001b[0m | \u001b[95m0.9725   \u001b[0m | \u001b[95m0.7355   \u001b[0m | \u001b[95m3.2      \u001b[0m | \u001b[95m0.1519   \u001b[0m | \u001b[95m9.613    \u001b[0m | \u001b[95m569.7    \u001b[0m | \u001b[95m0.8293   \u001b[0m | \u001b[95m0.5291   \u001b[0m | \u001b[95m2.161    \u001b[0m |\n",
      "| \u001b[0m5        \u001b[0m | \u001b[0m0.9712   \u001b[0m | \u001b[0m0.8368   \u001b[0m | \u001b[0m2.842    \u001b[0m | \u001b[0m0.0286   \u001b[0m | \u001b[0m7.323    \u001b[0m | \u001b[0m650.9    \u001b[0m | \u001b[0m1.234    \u001b[0m | \u001b[0m1.887    \u001b[0m | \u001b[0m2.023    \u001b[0m |\n",
      "| \u001b[95m6        \u001b[0m | \u001b[95m0.9735   \u001b[0m | \u001b[95m0.9783   \u001b[0m | \u001b[95m2.048    \u001b[0m | \u001b[95m0.3261   \u001b[0m | \u001b[95m8.997    \u001b[0m | \u001b[95m697.5    \u001b[0m | \u001b[95m0.6836   \u001b[0m | \u001b[95m1.07     \u001b[0m | \u001b[95m1.88     \u001b[0m |\n",
      "| \u001b[0m7        \u001b[0m | \u001b[0m0.9687   \u001b[0m | \u001b[0m0.845    \u001b[0m | \u001b[0m4.936    \u001b[0m | \u001b[0m0.3564   \u001b[0m | \u001b[0m3.863    \u001b[0m | \u001b[0m747.7    \u001b[0m | \u001b[0m0.1821   \u001b[0m | \u001b[0m0.413    \u001b[0m | \u001b[0m1.892    \u001b[0m |\n",
      "| \u001b[0m8        \u001b[0m | \u001b[0m0.9698   \u001b[0m | \u001b[0m0.7487   \u001b[0m | \u001b[0m2.586    \u001b[0m | \u001b[0m0.19     \u001b[0m | \u001b[0m4.645    \u001b[0m | \u001b[0m100.2    \u001b[0m | \u001b[0m1.758    \u001b[0m | \u001b[0m1.375    \u001b[0m | \u001b[0m2.348    \u001b[0m |\n",
      "| \u001b[0m9        \u001b[0m | \u001b[0m0.9714   \u001b[0m | \u001b[0m0.8436   \u001b[0m | \u001b[0m2.024    \u001b[0m | \u001b[0m0.4797   \u001b[0m | \u001b[0m7.933    \u001b[0m | \u001b[0m696.7    \u001b[0m | \u001b[0m0.8802   \u001b[0m | \u001b[0m1.627    \u001b[0m | \u001b[0m2.389    \u001b[0m |\n",
      "| \u001b[95m10       \u001b[0m | \u001b[95m0.9737   \u001b[0m | \u001b[95m0.9295   \u001b[0m | \u001b[95m0.9963   \u001b[0m | \u001b[95m0.1624   \u001b[0m | \u001b[95m10.0     \u001b[0m | \u001b[95m699.3    \u001b[0m | \u001b[95m1.489    \u001b[0m | \u001b[95m0.0      \u001b[0m | \u001b[95m1.0      \u001b[0m |\n",
      "| \u001b[0m11       \u001b[0m | \u001b[0m0.9667   \u001b[0m | \u001b[0m0.7957   \u001b[0m | \u001b[0m4.007    \u001b[0m | \u001b[0m0.4017   \u001b[0m | \u001b[0m8.746    \u001b[0m | \u001b[0m701.2    \u001b[0m | \u001b[0m1.115    \u001b[0m | \u001b[0m1.468    \u001b[0m | \u001b[0m2.269    \u001b[0m |\n",
      "| \u001b[0m12       \u001b[0m | \u001b[0m0.9683   \u001b[0m | \u001b[0m0.9555   \u001b[0m | \u001b[0m0.2522   \u001b[0m | \u001b[0m0.9981   \u001b[0m | \u001b[0m9.575    \u001b[0m | \u001b[0m698.3    \u001b[0m | \u001b[0m1.962    \u001b[0m | \u001b[0m1.405    \u001b[0m | \u001b[0m2.204    \u001b[0m |\n",
      "| \u001b[0m13       \u001b[0m | \u001b[0m0.959    \u001b[0m | \u001b[0m0.7606   \u001b[0m | \u001b[0m2.429    \u001b[0m | \u001b[0m0.8558   \u001b[0m | \u001b[0m9.452    \u001b[0m | \u001b[0m698.0    \u001b[0m | \u001b[0m1.696    \u001b[0m | \u001b[0m0.2791   \u001b[0m | \u001b[0m1.456    \u001b[0m |\n",
      "| \u001b[0m14       \u001b[0m | \u001b[0m0.9622   \u001b[0m | \u001b[0m0.7932   \u001b[0m | \u001b[0m4.201    \u001b[0m | \u001b[0m0.9132   \u001b[0m | \u001b[0m9.203    \u001b[0m | \u001b[0m637.3    \u001b[0m | \u001b[0m1.247    \u001b[0m | \u001b[0m0.8968   \u001b[0m | \u001b[0m2.221    \u001b[0m |\n",
      "| \u001b[0m15       \u001b[0m | \u001b[0m0.971    \u001b[0m | \u001b[0m0.9802   \u001b[0m | \u001b[0m1.211    \u001b[0m | \u001b[0m0.3486   \u001b[0m | \u001b[0m7.784    \u001b[0m | \u001b[0m384.8    \u001b[0m | \u001b[0m1.674    \u001b[0m | \u001b[0m0.4424   \u001b[0m | \u001b[0m1.27     \u001b[0m |\n",
      "| \u001b[95m16       \u001b[0m | \u001b[95m0.9759   \u001b[0m | \u001b[95m0.8169   \u001b[0m | \u001b[95m0.6914   \u001b[0m | \u001b[95m0.03486  \u001b[0m | \u001b[95m7.049    \u001b[0m | \u001b[95m759.6    \u001b[0m | \u001b[95m1.342    \u001b[0m | \u001b[95m0.7007   \u001b[0m | \u001b[95m2.354    \u001b[0m |\n",
      "| \u001b[0m17       \u001b[0m | \u001b[0m0.9674   \u001b[0m | \u001b[0m0.9633   \u001b[0m | \u001b[0m1.257    \u001b[0m | \u001b[0m0.9765   \u001b[0m | \u001b[0m7.222    \u001b[0m | \u001b[0m385.1    \u001b[0m | \u001b[0m1.699    \u001b[0m | \u001b[0m0.1445   \u001b[0m | \u001b[0m1.166    \u001b[0m |\n",
      "| \u001b[0m18       \u001b[0m | \u001b[0m0.9672   \u001b[0m | \u001b[0m0.8588   \u001b[0m | \u001b[0m2.907    \u001b[0m | \u001b[0m0.3277   \u001b[0m | \u001b[0m4.116    \u001b[0m | \u001b[0m301.2    \u001b[0m | \u001b[0m0.914    \u001b[0m | \u001b[0m1.552    \u001b[0m | \u001b[0m1.145    \u001b[0m |\n",
      "| \u001b[0m19       \u001b[0m | \u001b[0m0.9627   \u001b[0m | \u001b[0m0.999    \u001b[0m | \u001b[0m3.732    \u001b[0m | \u001b[0m0.8487   \u001b[0m | \u001b[0m8.764    \u001b[0m | \u001b[0m384.7    \u001b[0m | \u001b[0m1.113    \u001b[0m | \u001b[0m1.359    \u001b[0m | \u001b[0m1.105    \u001b[0m |\n",
      "| \u001b[0m20       \u001b[0m | \u001b[0m0.9741   \u001b[0m | \u001b[0m0.989    \u001b[0m | \u001b[0m0.7522   \u001b[0m | \u001b[0m0.2439   \u001b[0m | \u001b[0m7.212    \u001b[0m | \u001b[0m759.0    \u001b[0m | \u001b[0m1.338    \u001b[0m | \u001b[0m0.7838   \u001b[0m | \u001b[0m2.091    \u001b[0m |\n",
      "| \u001b[0m21       \u001b[0m | \u001b[0m0.9733   \u001b[0m | \u001b[0m0.7413   \u001b[0m | \u001b[0m0.4372   \u001b[0m | \u001b[0m0.4028   \u001b[0m | \u001b[0m7.007    \u001b[0m | \u001b[0m759.0    \u001b[0m | \u001b[0m1.239    \u001b[0m | \u001b[0m0.7837   \u001b[0m | \u001b[0m2.459    \u001b[0m |\n",
      "| \u001b[0m22       \u001b[0m | \u001b[0m0.973    \u001b[0m | \u001b[0m0.7652   \u001b[0m | \u001b[0m0.4264   \u001b[0m | \u001b[0m0.6427   \u001b[0m | \u001b[0m7.506    \u001b[0m | \u001b[0m760.0    \u001b[0m | \u001b[0m1.062    \u001b[0m | \u001b[0m1.304    \u001b[0m | \u001b[0m1.531    \u001b[0m |\n",
      "| \u001b[0m23       \u001b[0m | \u001b[0m0.9738   \u001b[0m | \u001b[0m0.9394   \u001b[0m | \u001b[0m0.6751   \u001b[0m | \u001b[0m0.1861   \u001b[0m | \u001b[0m5.811    \u001b[0m | \u001b[0m759.5    \u001b[0m | \u001b[0m1.403    \u001b[0m | \u001b[0m1.0      \u001b[0m | \u001b[0m1.789    \u001b[0m |\n",
      "| \u001b[0m24       \u001b[0m | \u001b[0m0.9724   \u001b[0m | \u001b[0m0.9809   \u001b[0m | \u001b[0m1.714    \u001b[0m | \u001b[0m0.02835  \u001b[0m | \u001b[0m5.872    \u001b[0m | \u001b[0m759.7    \u001b[0m | \u001b[0m0.8443   \u001b[0m | \u001b[0m0.6472   \u001b[0m | \u001b[0m1.578    \u001b[0m |\n",
      "| \u001b[0m25       \u001b[0m | \u001b[0m0.9745   \u001b[0m | \u001b[0m0.8707   \u001b[0m | \u001b[0m0.3844   \u001b[0m | \u001b[0m0.653    \u001b[0m | \u001b[0m6.684    \u001b[0m | \u001b[0m760.4    \u001b[0m | \u001b[0m1.712    \u001b[0m | \u001b[0m1.838    \u001b[0m | \u001b[0m1.798    \u001b[0m |\n",
      "| \u001b[0m26       \u001b[0m | \u001b[0m0.9604   \u001b[0m | \u001b[0m0.9065   \u001b[0m | \u001b[0m1.788    \u001b[0m | \u001b[0m0.9977   \u001b[0m | \u001b[0m7.448    \u001b[0m | \u001b[0m760.7    \u001b[0m | \u001b[0m1.4      \u001b[0m | \u001b[0m1.297    \u001b[0m | \u001b[0m1.577    \u001b[0m |\n",
      "| \u001b[0m27       \u001b[0m | \u001b[0m0.9709   \u001b[0m | \u001b[0m0.9449   \u001b[0m | \u001b[0m1.469    \u001b[0m | \u001b[0m0.3052   \u001b[0m | \u001b[0m5.73     \u001b[0m | \u001b[0m760.4    \u001b[0m | \u001b[0m0.8804   \u001b[0m | \u001b[0m1.599    \u001b[0m | \u001b[0m1.106    \u001b[0m |\n",
      "| \u001b[0m28       \u001b[0m | \u001b[0m0.9717   \u001b[0m | \u001b[0m0.8665   \u001b[0m | \u001b[0m0.5415   \u001b[0m | \u001b[0m0.8869   \u001b[0m | \u001b[0m7.78     \u001b[0m | \u001b[0m759.2    \u001b[0m | \u001b[0m1.775    \u001b[0m | \u001b[0m1.563    \u001b[0m | \u001b[0m1.605    \u001b[0m |\n",
      "| \u001b[0m29       \u001b[0m | \u001b[0m0.9747   \u001b[0m | \u001b[0m0.9656   \u001b[0m | \u001b[0m1.1      \u001b[0m | \u001b[0m0.1361   \u001b[0m | \u001b[0m6.114    \u001b[0m | \u001b[0m759.1    \u001b[0m | \u001b[0m1.012    \u001b[0m | \u001b[0m0.4901   \u001b[0m | \u001b[0m2.347    \u001b[0m |\n",
      "| \u001b[0m30       \u001b[0m | \u001b[0m0.973    \u001b[0m | \u001b[0m0.9791   \u001b[0m | \u001b[0m0.04171  \u001b[0m | \u001b[0m0.304    \u001b[0m | \u001b[0m7.282    \u001b[0m | \u001b[0m759.4    \u001b[0m | \u001b[0m1.813    \u001b[0m | \u001b[0m1.701    \u001b[0m | \u001b[0m1.682    \u001b[0m |\n",
      "| \u001b[0m31       \u001b[0m | \u001b[0m0.9739   \u001b[0m | \u001b[0m0.9457   \u001b[0m | \u001b[0m1.059    \u001b[0m | \u001b[0m0.3282   \u001b[0m | \u001b[0m6.577    \u001b[0m | \u001b[0m759.3    \u001b[0m | \u001b[0m1.844    \u001b[0m | \u001b[0m1.175    \u001b[0m | \u001b[0m2.318    \u001b[0m |\n",
      "| \u001b[0m32       \u001b[0m | \u001b[0m0.97     \u001b[0m | \u001b[0m0.8883   \u001b[0m | \u001b[0m1.569    \u001b[0m | \u001b[0m0.4087   \u001b[0m | \u001b[0m5.197    \u001b[0m | \u001b[0m758.1    \u001b[0m | \u001b[0m1.111    \u001b[0m | \u001b[0m0.8951   \u001b[0m | \u001b[0m1.115    \u001b[0m |\n",
      "| \u001b[0m33       \u001b[0m | \u001b[0m0.9656   \u001b[0m | \u001b[0m0.7597   \u001b[0m | \u001b[0m0.2544   \u001b[0m | \u001b[0m0.8501   \u001b[0m | \u001b[0m6.441    \u001b[0m | \u001b[0m760.1    \u001b[0m | \u001b[0m0.9042   \u001b[0m | \u001b[0m1.291    \u001b[0m | \u001b[0m1.934    \u001b[0m |\n",
      "| \u001b[0m34       \u001b[0m | \u001b[0m0.9718   \u001b[0m | \u001b[0m0.9328   \u001b[0m | \u001b[0m0.9413   \u001b[0m | \u001b[0m0.5325   \u001b[0m | \u001b[0m7.237    \u001b[0m | \u001b[0m759.5    \u001b[0m | \u001b[0m0.6991   \u001b[0m | \u001b[0m0.09061  \u001b[0m | \u001b[0m2.103    \u001b[0m |\n",
      "| \u001b[0m35       \u001b[0m | \u001b[0m0.9661   \u001b[0m | \u001b[0m0.7815   \u001b[0m | \u001b[0m1.782    \u001b[0m | \u001b[0m0.6637   \u001b[0m | \u001b[0m7.845    \u001b[0m | \u001b[0m697.7    \u001b[0m | \u001b[0m0.7124   \u001b[0m | \u001b[0m1.404    \u001b[0m | \u001b[0m1.758    \u001b[0m |\n",
      "| \u001b[0m36       \u001b[0m | \u001b[0m0.9743   \u001b[0m | \u001b[0m0.7992   \u001b[0m | \u001b[0m0.7829   \u001b[0m | \u001b[0m0.01     \u001b[0m | \u001b[0m6.51     \u001b[0m | \u001b[0m759.4    \u001b[0m | \u001b[0m1.695    \u001b[0m | \u001b[0m0.3183   \u001b[0m | \u001b[0m1.981    \u001b[0m |\n",
      "| \u001b[0m37       \u001b[0m | \u001b[0m0.9707   \u001b[0m | \u001b[0m0.7842   \u001b[0m | \u001b[0m1.209    \u001b[0m | \u001b[0m0.2212   \u001b[0m | \u001b[0m6.426    \u001b[0m | \u001b[0m759.2    \u001b[0m | \u001b[0m0.9843   \u001b[0m | \u001b[0m1.428    \u001b[0m | \u001b[0m1.412    \u001b[0m |\n",
      "| \u001b[0m38       \u001b[0m | \u001b[0m0.9721   \u001b[0m | \u001b[0m1.0      \u001b[0m | \u001b[0m0.4178   \u001b[0m | \u001b[0m0.01     \u001b[0m | \u001b[0m6.887    \u001b[0m | \u001b[0m760.1    \u001b[0m | \u001b[0m2.0      \u001b[0m | \u001b[0m1.17     \u001b[0m | \u001b[0m2.091    \u001b[0m |\n",
      "| \u001b[0m39       \u001b[0m | \u001b[0m0.9642   \u001b[0m | \u001b[0m0.8661   \u001b[0m | \u001b[0m1.357    \u001b[0m | \u001b[0m0.9414   \u001b[0m | \u001b[0m6.31     \u001b[0m | \u001b[0m758.2    \u001b[0m | \u001b[0m0.3755   \u001b[0m | \u001b[0m0.8022   \u001b[0m | \u001b[0m2.22     \u001b[0m |\n",
      "| \u001b[0m40       \u001b[0m | \u001b[0m0.9706   \u001b[0m | \u001b[0m0.981    \u001b[0m | \u001b[0m0.3664   \u001b[0m | \u001b[0m0.6632   \u001b[0m | \u001b[0m8.577    \u001b[0m | \u001b[0m758.4    \u001b[0m | \u001b[0m1.321    \u001b[0m | \u001b[0m0.5111   \u001b[0m | \u001b[0m2.032    \u001b[0m |\n"
     ]
    },
    {
     "name": "stdout",
     "output_type": "stream",
     "text": [
      "| \u001b[0m41       \u001b[0m | \u001b[0m0.9748   \u001b[0m | \u001b[0m0.9363   \u001b[0m | \u001b[0m0.7858   \u001b[0m | \u001b[0m0.3598   \u001b[0m | \u001b[0m9.24     \u001b[0m | \u001b[0m696.9    \u001b[0m | \u001b[0m0.0298   \u001b[0m | \u001b[0m0.8275   \u001b[0m | \u001b[0m1.928    \u001b[0m |\n",
      "| \u001b[0m42       \u001b[0m | \u001b[0m0.9736   \u001b[0m | \u001b[0m0.8097   \u001b[0m | \u001b[0m0.09981  \u001b[0m | \u001b[0m0.1875   \u001b[0m | \u001b[0m7.605    \u001b[0m | \u001b[0m759.0    \u001b[0m | \u001b[0m1.87     \u001b[0m | \u001b[0m1.31     \u001b[0m | \u001b[0m2.321    \u001b[0m |\n",
      "| \u001b[0m43       \u001b[0m | \u001b[0m0.9729   \u001b[0m | \u001b[0m0.8802   \u001b[0m | \u001b[0m0.2225   \u001b[0m | \u001b[0m0.6882   \u001b[0m | \u001b[0m8.47     \u001b[0m | \u001b[0m759.2    \u001b[0m | \u001b[0m0.5234   \u001b[0m | \u001b[0m1.437    \u001b[0m | \u001b[0m2.042    \u001b[0m |\n",
      "| \u001b[0m44       \u001b[0m | \u001b[0m0.9732   \u001b[0m | \u001b[0m0.831    \u001b[0m | \u001b[0m0.2858   \u001b[0m | \u001b[0m0.3169   \u001b[0m | \u001b[0m8.592    \u001b[0m | \u001b[0m760.4    \u001b[0m | \u001b[0m1.778    \u001b[0m | \u001b[0m0.8629   \u001b[0m | \u001b[0m1.811    \u001b[0m |\n",
      "| \u001b[0m45       \u001b[0m | \u001b[0m0.9736   \u001b[0m | \u001b[0m0.921    \u001b[0m | \u001b[0m0.1657   \u001b[0m | \u001b[0m0.518    \u001b[0m | \u001b[0m9.741    \u001b[0m | \u001b[0m697.0    \u001b[0m | \u001b[0m0.3517   \u001b[0m | \u001b[0m0.4376   \u001b[0m | \u001b[0m1.077    \u001b[0m |\n",
      "| \u001b[0m46       \u001b[0m | \u001b[0m0.9704   \u001b[0m | \u001b[0m0.8475   \u001b[0m | \u001b[0m1.133    \u001b[0m | \u001b[0m0.3102   \u001b[0m | \u001b[0m8.184    \u001b[0m | \u001b[0m759.6    \u001b[0m | \u001b[0m1.542    \u001b[0m | \u001b[0m0.5295   \u001b[0m | \u001b[0m2.348    \u001b[0m |\n",
      "| \u001b[0m47       \u001b[0m | \u001b[0m0.9716   \u001b[0m | \u001b[0m0.9168   \u001b[0m | \u001b[0m0.1437   \u001b[0m | \u001b[0m0.5784   \u001b[0m | \u001b[0m9.918    \u001b[0m | \u001b[0m699.7    \u001b[0m | \u001b[0m1.967    \u001b[0m | \u001b[0m0.07593  \u001b[0m | \u001b[0m1.019    \u001b[0m |\n",
      "| \u001b[0m48       \u001b[0m | \u001b[0m0.9671   \u001b[0m | \u001b[0m0.7712   \u001b[0m | \u001b[0m1.431    \u001b[0m | \u001b[0m0.7877   \u001b[0m | \u001b[0m9.133    \u001b[0m | \u001b[0m696.1    \u001b[0m | \u001b[0m0.4048   \u001b[0m | \u001b[0m1.504    \u001b[0m | \u001b[0m1.598    \u001b[0m |\n",
      "| \u001b[0m49       \u001b[0m | \u001b[0m0.971    \u001b[0m | \u001b[0m0.8086   \u001b[0m | \u001b[0m0.2855   \u001b[0m | \u001b[0m0.599    \u001b[0m | \u001b[0m9.973    \u001b[0m | \u001b[0m698.4    \u001b[0m | \u001b[0m0.5968   \u001b[0m | \u001b[0m0.275    \u001b[0m | \u001b[0m2.102    \u001b[0m |\n",
      "| \u001b[0m50       \u001b[0m | \u001b[0m0.9701   \u001b[0m | \u001b[0m0.9781   \u001b[0m | \u001b[0m0.1811   \u001b[0m | \u001b[0m0.8761   \u001b[0m | \u001b[0m9.975    \u001b[0m | \u001b[0m697.5    \u001b[0m | \u001b[0m0.2961   \u001b[0m | \u001b[0m1.884    \u001b[0m | \u001b[0m1.027    \u001b[0m |\n",
      "| \u001b[0m51       \u001b[0m | \u001b[0m0.975    \u001b[0m | \u001b[0m0.836    \u001b[0m | \u001b[0m1.589    \u001b[0m | \u001b[0m0.03146  \u001b[0m | \u001b[0m8.502    \u001b[0m | \u001b[0m697.3    \u001b[0m | \u001b[0m0.283    \u001b[0m | \u001b[0m0.3818   \u001b[0m | \u001b[0m2.187    \u001b[0m |\n",
      "| \u001b[0m52       \u001b[0m | \u001b[0m0.9755   \u001b[0m | \u001b[0m1.0      \u001b[0m | \u001b[0m1.477    \u001b[0m | \u001b[0m0.01     \u001b[0m | \u001b[0m9.385    \u001b[0m | \u001b[0m697.5    \u001b[0m | \u001b[0m0.0      \u001b[0m | \u001b[0m0.6788   \u001b[0m | \u001b[0m2.291    \u001b[0m |\n",
      "| \u001b[0m53       \u001b[0m | \u001b[0m0.9752   \u001b[0m | \u001b[0m0.9207   \u001b[0m | \u001b[0m0.705    \u001b[0m | \u001b[0m0.06387  \u001b[0m | \u001b[0m8.569    \u001b[0m | \u001b[0m698.8    \u001b[0m | \u001b[0m0.5963   \u001b[0m | \u001b[0m0.3388   \u001b[0m | \u001b[0m2.026    \u001b[0m |\n",
      "| \u001b[0m54       \u001b[0m | \u001b[0m0.9714   \u001b[0m | \u001b[0m0.8706   \u001b[0m | \u001b[0m0.3441   \u001b[0m | \u001b[0m0.2177   \u001b[0m | \u001b[0m5.023    \u001b[0m | \u001b[0m760.3    \u001b[0m | \u001b[0m1.444    \u001b[0m | \u001b[0m0.06821  \u001b[0m | \u001b[0m1.708    \u001b[0m |\n",
      "| \u001b[0m55       \u001b[0m | \u001b[0m0.9738   \u001b[0m | \u001b[0m0.7269   \u001b[0m | \u001b[0m0.02922  \u001b[0m | \u001b[0m0.1443   \u001b[0m | \u001b[0m9.1      \u001b[0m | \u001b[0m697.4    \u001b[0m | \u001b[0m0.3441   \u001b[0m | \u001b[0m0.2662   \u001b[0m | \u001b[0m1.217    \u001b[0m |\n",
      "=========================================================================================================================\n"
     ]
    }
   ],
   "source": [
    "params = {\n",
    "    'learning_rate': (0.01, 1.0),\n",
    "    'n_estimators': (100, 1000),\n",
    "    'max_depth': (3,10),\n",
    " #   'subsample': (0.7, 1.0),  # Change for big datasets\n",
    "    'colsample_bytree': (0.7, 1.0),  # Change for datasets with lots of features\n",
    "    'gamma': (0, 5), \n",
    "    'reg_lambda': (0, 2),\n",
    "    'reg_alpha':(0, 2),\n",
    "    'scale_pos_weight': (1, 2.5)\n",
    "    }\n",
    "\n",
    "def xgboost_hyper_param(learning_rate,\n",
    "                        n_estimators,\n",
    "                        max_depth,\n",
    "                        colsample_bytree,\n",
    "                        gamma, \n",
    "                        reg_lambda, \n",
    "                        reg_alpha,\n",
    "                        scale_pos_weight):\n",
    "\n",
    "    max_depth = int(max_depth)\n",
    "    n_estimators = int(n_estimators)\n",
    "\n",
    "    xgb_temp = XGBClassifier(\n",
    "        max_depth=max_depth,\n",
    "        colsample_bytree=colsample_bytree,\n",
    "        learning_rate=learning_rate,\n",
    "        n_estimators=n_estimators,\n",
    "        gamma=gamma,\n",
    "        reg_lambda=reg_lambda, \n",
    "        reg_alpha=reg_alpha,\n",
    "        scale_pos_weight=scale_pos_weight,\n",
    "        seed=SEED)\n",
    "    \n",
    "    # calculate CV=3 K fold ROC_AUC accuracy for each model \n",
    "\n",
    "    return np.array(cross_val_score(xgb_temp, X_train_xgb, y_train_xgb, cv=3, scoring='roc_auc')).mean()\n",
    "\n",
    "optimizer = BayesianOptimization(\n",
    "            f=xgboost_hyper_param,\n",
    "            pbounds=params,\n",
    "            random_state=SEED)\n",
    "\n",
    "optimizer.maximize(init_points=5, n_iter=50)"
   ]
  },
  {
   "cell_type": "code",
   "execution_count": 63,
   "id": "06f0ad9f",
   "metadata": {},
   "outputs": [
    {
     "name": "stdout",
     "output_type": "stream",
     "text": [
      "{'colsample_bytree': 0.8169037217345981, 'gamma': 0.6914223828184318, 'learning_rate': 0.03485637608005026, 'max_depth': 7, 'n_estimators': 759, 'reg_alpha': 1.342353161174468, 'reg_lambda': 0.7006577350782055, 'scale_pos_weight': 2.354475267911879}\n",
      "AVERAGE CV=5 ROC_AUC (TEST): 0.9756081220366933\n",
      "AVERAGE CV=5 STD (TEST): 0.003722711647816902\n"
     ]
    }
   ],
   "source": [
    "params_tuned_xgb = optimizer.max['params']\n",
    "params_tuned_xgb['max_depth'] = int(params_tuned_xgb['max_depth'])\n",
    "params_tuned_xgb['n_estimators'] = int(params_tuned_xgb['n_estimators'])\n",
    "print(params_tuned_xgb)\n",
    "\n",
    "tuned_xgb = XGBClassifier(**params_tuned_xgb, seed=SEED)\n",
    "tuned_xgb.fit(X_train_xgb, y_train_xgb)\n",
    "\n",
    "test_model_cross_val(tuned_xgb, y_train_xgb, X_train_xgb, k=5, verbose=True)"
   ]
  },
  {
   "cell_type": "markdown",
   "id": "a95feb5b",
   "metadata": {},
   "source": [
    "### Final tuned paramaters\n"
   ]
  },
  {
   "cell_type": "code",
   "execution_count": 64,
   "id": "ed0425e2",
   "metadata": {},
   "outputs": [],
   "source": [
    "params = {'colsample_bytree': 0.8399023550780697, 'gamma': 0.338189317375458, 'learning_rate': 0.1742061546805264, 'max_depth': 8, 'n_estimators': 643, 'scale_pos_weight': 1.3398087284581912}\n",
    "params=params_tuned_xgb\n",
    "tuned_xgb = XGBClassifier(**params,\n",
    "                          seed=SEED,  \n",
    "                          n_jobs = -1)"
   ]
  },
  {
   "cell_type": "code",
   "execution_count": 65,
   "id": "791a78bc",
   "metadata": {},
   "outputs": [
    {
     "name": "stdout",
     "output_type": "stream",
     "text": [
      "ROC_AUC (TEST): 0.9762601626016261\n",
      "\n",
      "\n",
      "CLASSIFICATION REPORT:\n",
      "               precision    recall  f1-score   support\n",
      "\n",
      "       False       0.93      0.84      0.88        50\n",
      "        True       0.94      0.98      0.96       123\n",
      "\n",
      "    accuracy                           0.94       173\n",
      "   macro avg       0.94      0.91      0.92       173\n",
      "weighted avg       0.94      0.94      0.94       173\n",
      "\n"
     ]
    },
    {
     "data": {
      "image/png": "[encoded data removed]",
      "text/plain": [
       "<Figure size 432x288 with 1 Axes>"
      ]
     },
     "metadata": {
      "needs_background": "light"
     },
     "output_type": "display_data"
    },
    {
     "data": {
      "image/png": "[encoded data removed]",
      "text/plain": [
       "<Figure size 432x288 with 1 Axes>"
      ]
     },
     "metadata": {
      "needs_background": "light"
     },
     "output_type": "display_data"
    },
    {
     "data": {
      "text/plain": [
       "0.9762601626016261"
      ]
     },
     "execution_count": 65,
     "metadata": {},
     "output_type": "execute_result"
    }
   ],
   "source": [
    "tuned_xgb.fit(X_train_xgb, y_train_xgb)\n",
    "test_model(tuned_xgb, y_test_xgb, X_test_xgb)"
   ]
  },
  {
   "cell_type": "markdown",
   "id": "dd5eeb73",
   "metadata": {},
   "source": [
    "# Keras"
   ]
  },
  {
   "cell_type": "markdown",
   "id": "4d8de729",
   "metadata": {},
   "source": [
    "https://www.pluralsight.com/guides/classification-keras"
   ]
  },
  {
   "cell_type": "code",
   "execution_count": 39,
   "id": "d7e60405",
   "metadata": {},
   "outputs": [
    {
     "name": "stdout",
     "output_type": "stream",
     "text": [
      "Requirement already satisfied: keras in /home/zoya/anaconda3/lib/python3.8/site-packages (2.11.0)\n",
      "\n",
      "\u001b[1m[\u001b[0m\u001b[34;49mnotice\u001b[0m\u001b[1;39;49m]\u001b[0m\u001b[39;49m A new release of pip available: \u001b[0m\u001b[31;49m22.3.1\u001b[0m\u001b[39;49m -> \u001b[0m\u001b[32;49m23.0\u001b[0m\n",
      "\u001b[1m[\u001b[0m\u001b[34;49mnotice\u001b[0m\u001b[1;39;49m]\u001b[0m\u001b[39;49m To update, run: \u001b[0m\u001b[32;49mpip install --upgrade pip\u001b[0m\n",
      "Requirement already satisfied: scikeras in /home/zoya/anaconda3/lib/python3.8/site-packages (0.10.0)\n",
      "Requirement already satisfied: packaging>=0.21 in /home/zoya/anaconda3/lib/python3.8/site-packages (from scikeras) (21.3)\n",
      "Requirement already satisfied: scikit-learn>=1.0.0 in /home/zoya/anaconda3/lib/python3.8/site-packages (from scikeras) (1.2.0)\n",
      "Requirement already satisfied: pyparsing!=3.0.5,>=2.0.2 in /home/zoya/anaconda3/lib/python3.8/site-packages (from packaging>=0.21->scikeras) (2.4.7)\n",
      "Requirement already satisfied: joblib>=1.1.1 in /home/zoya/anaconda3/lib/python3.8/site-packages (from scikit-learn>=1.0.0->scikeras) (1.2.0)\n",
      "Requirement already satisfied: numpy>=1.17.3 in /home/zoya/anaconda3/lib/python3.8/site-packages (from scikit-learn>=1.0.0->scikeras) (1.24.1)\n",
      "Requirement already satisfied: threadpoolctl>=2.0.0 in /home/zoya/anaconda3/lib/python3.8/site-packages (from scikit-learn>=1.0.0->scikeras) (3.1.0)\n",
      "Requirement already satisfied: scipy>=1.3.2 in /home/zoya/anaconda3/lib/python3.8/site-packages (from scikit-learn>=1.0.0->scikeras) (1.10.0)\n",
      "\n",
      "\u001b[1m[\u001b[0m\u001b[34;49mnotice\u001b[0m\u001b[1;39;49m]\u001b[0m\u001b[39;49m A new release of pip available: \u001b[0m\u001b[31;49m22.3.1\u001b[0m\u001b[39;49m -> \u001b[0m\u001b[32;49m23.0\u001b[0m\n",
      "\u001b[1m[\u001b[0m\u001b[34;49mnotice\u001b[0m\u001b[1;39;49m]\u001b[0m\u001b[39;49m To update, run: \u001b[0m\u001b[32;49mpip install --upgrade pip\u001b[0m\n"
     ]
    }
   ],
   "source": [
    "!pip install keras\n",
    "!pip install scikeras\n",
    "\n",
    "import tensorflow as tf\n",
    "import keras_tuner as kt\n",
    "from tensorflow import keras\n",
    "from keras.models import Sequential\n",
    "from keras.layers import Dense\n",
    "from keras.utils import to_categorical \n",
    "from scikeras.wrappers import KerasClassifier\n",
    "from sklearn.metrics import roc_auc_score\n",
    "from sklearn.preprocessing import LabelEncoder\n",
    "from sklearn.preprocessing import StandardScaler\n",
    "from sklearn.pipeline import Pipeline\n",
    "\n",
    "\n",
    "# for readibility \n",
    "y_train_nn = y_train.copy()\n",
    "y_test_nn = y_test.copy()\n",
    "X_train_nn = X_train.copy()\n",
    "X_test_nn = X_test.copy()\n",
    "\n",
    "tf.random.set_seed(SEED)"
   ]
  },
  {
   "cell_type": "code",
   "execution_count": 40,
   "id": "cda05e12",
   "metadata": {},
   "outputs": [
    {
     "name": "stdout",
     "output_type": "stream",
     "text": [
      "<class 'pandas.core.frame.DataFrame'>\n",
      "Index: 692 entries, C1=CC(=CC=C1C(=O)O)[N+](=O)[O-] to CC(C)N\n",
      "Columns: 4179 entries, MW to chiralPhMoment\n",
      "dtypes: float64(1875), int64(2304)\n",
      "memory usage: 22.1+ MB\n"
     ]
    }
   ],
   "source": [
    "X_train.info()"
   ]
  },
  {
   "cell_type": "markdown",
   "id": "6cb11ba9",
   "metadata": {},
   "source": [
    "## Preprocessing"
   ]
  },
  {
   "cell_type": "markdown",
   "id": "35abb192",
   "metadata": {},
   "source": [
    "### Handle NaNs \n",
    "- You can't have missing values in a Neural Network, so we choose to remove all columns with them (for now)"
   ]
  },
  {
   "cell_type": "code",
   "execution_count": 41,
   "id": "26b640af",
   "metadata": {},
   "outputs": [],
   "source": [
    "X_train_nn, X_test_nn = handleNaNs(X_train.copy(), X_test.copy(), option=1)"
   ]
  },
  {
   "cell_type": "markdown",
   "id": "b207c5c6",
   "metadata": {},
   "source": [
    "## Prepare a validation set\n",
    "- Stratified "
   ]
  },
  {
   "cell_type": "code",
   "execution_count": 42,
   "id": "b49f88c0",
   "metadata": {},
   "outputs": [],
   "source": [
    "X_train_t_nn, X_val_nn, y_train_t_nn, y_val_nn = X_train_t.copy(), X_val.copy(), y_train_t.copy(), y_val.copy()"
   ]
  },
  {
   "cell_type": "code",
   "execution_count": 43,
   "id": "8db39752",
   "metadata": {},
   "outputs": [],
   "source": [
    "X_train_t_nn, X_val_nn = handleNaNs(X_train_t_nn.copy(), X_val_nn.copy(), option=1)"
   ]
  },
  {
   "cell_type": "markdown",
   "id": "b423c911",
   "metadata": {},
   "source": [
    "### Standardization \n",
    "\n",
    "Standardization is an effective data preparation scheme for tabular data when building neural network models. This is where the data is rescaled such that the mean value for each attribute is 0, and the standard deviation is 1. This preserves Gaussian and Gaussian-like distributions while normalizing the central tendencies for each attribute.\n",
    "\n",
    "https://machinelearningmastery.com/binary-classification-tutorial-with-the-keras-deep-learning-library/\n",
    "\n",
    "- not necessary for tree based algorithms because they are fairly insensitive to the scale of features \"The decision tree splits a node on a feature that increases the homogeneity of the node. This split on a feature is not influenced by other features. Hence, there is virtually no effect of the remaining features on the split. This is what makes them invariant to the scale of the features.\" https://www.atoti.io/articles/when-to-perform-a-feature-scaling/#:~:text=In%20Neural%20Networks%20algorithm%20that,an%20essential%20pre%2Dprocessing%20step.\n",
    "\n",
    "- Note: The StandardScaler is only fit using the train_features to be sure the model is not peeking at the validation or test sets."
   ]
  },
  {
   "cell_type": "code",
   "execution_count": 44,
   "id": "7ff53ae6",
   "metadata": {},
   "outputs": [],
   "source": [
    "scaler = StandardScaler()\n",
    "X_train_t_nn = scaler.fit_transform(X_train_t_nn) \n",
    "X_val_nn = scaler.transform(X_val_nn) \n",
    "\n",
    "scaler2 = StandardScaler()\n",
    "X_train_nn = scaler2.fit_transform(X_train_nn) \n",
    "X_test_nn = scaler2.transform(X_test_nn) "
   ]
  },
  {
   "cell_type": "markdown",
   "id": "3aebfb1e",
   "metadata": {},
   "source": [
    "### Encode class values as integers"
   ]
  },
  {
   "cell_type": "markdown",
   "id": "895a8e22",
   "metadata": {},
   "source": [
    "Use adam optimizer so we don't have to specify learning rate, as is the case with gradient descent, and optimise for it"
   ]
  },
  {
   "cell_type": "code",
   "execution_count": 45,
   "id": "fa598aec",
   "metadata": {},
   "outputs": [],
   "source": [
    "encoder = LabelEncoder()\n",
    "encoder.fit(y_train_nn)\n",
    "y_train_nn = encoder.transform(y_train_nn)\n",
    "y_train_t_nn = encoder.transform(y_train_t_nn)\n",
    "y_test_nn = encoder.transform(y_test_nn)\n",
    "y_val_nn = encoder.transform(y_val_nn)"
   ]
  },
  {
   "cell_type": "markdown",
   "id": "8f12e29c",
   "metadata": {},
   "source": [
    "## Metrics"
   ]
  },
  {
   "cell_type": "code",
   "execution_count": 46,
   "id": "203869ce",
   "metadata": {},
   "outputs": [],
   "source": [
    "METRICS = [\n",
    "  keras.metrics.TruePositives(name='tp'),\n",
    "  keras.metrics.FalsePositives(name='fp'),\n",
    "  keras.metrics.TrueNegatives(name='tn'),\n",
    "  keras.metrics.FalseNegatives(name='fn'), \n",
    "  keras.metrics.Precision(name='precision'),\n",
    "  keras.metrics.Recall(name='recall'),\n",
    "  keras.metrics.AUC(name='auc', curve='ROC'),\n",
    "]"
   ]
  },
  {
   "cell_type": "markdown",
   "id": "1d5414f2",
   "metadata": {},
   "source": [
    "## Test model - Keras"
   ]
  },
  {
   "cell_type": "code",
   "execution_count": 47,
   "id": "8b901a28",
   "metadata": {},
   "outputs": [],
   "source": [
    "def test_model_keras(model, history, X_val_nn, y_val_nn, X_train_nn, y_train_nn): \n",
    "    # Plot training and validation auc \n",
    "\n",
    "    plt.plot(history.history['auc'])\n",
    "    plt.plot(history.history['val_auc'])\n",
    "    plt.title('model roc_auc')\n",
    "    plt.ylabel('ROC_AUC')\n",
    "    plt.xlabel('epoch')\n",
    "    plt.legend(['training', 'validation'], loc='upper left')\n",
    "    plt.show()\n",
    "\n",
    "    # Plot training and validation ROC curve\n",
    "\n",
    "    y_pred_keras = model.predict(X_val_nn).ravel()\n",
    "    fpr_keras, tpr_keras, thresholds_keras = roc_curve(y_val_nn, y_pred_keras)\n",
    "    auc_v_keras = metrics.roc_auc_score(y_val_nn, y_pred_keras)\n",
    "\n",
    "    plt.figure(1)\n",
    "    plt.plot([0, 1], [0, 1], 'k--')\n",
    "    plt.plot(fpr_keras, tpr_keras)\n",
    "\n",
    "    y_pred_t_keras = model.predict(X_train_nn).ravel()\n",
    "    fpr_keras, tpr_keras, thresholds_keras = roc_curve(y_train_nn, y_pred_t_keras)\n",
    "    auc_t_keras = metrics.roc_auc_score(y_train_nn, y_pred_t_keras)\n",
    "\n",
    "    plt.plot(fpr_keras, tpr_keras)\n",
    "\n",
    "    plt.xlabel('False positive rate')\n",
    "    plt.ylabel('True positive rate')\n",
    "    plt.title('ROC curve')\n",
    "    plt.legend(['', 'Validation (area = {:.3f})'.format(auc_v_keras), 'Training (area = {:.3f})'.format(auc_t_keras)], loc='best')\n",
    "    plt.show()\n",
    "    plt.show()\n"
   ]
  },
  {
   "cell_type": "markdown",
   "id": "b98182ba",
   "metadata": {},
   "source": [
    "## Baseline Single Layer model\n",
    "- Overfitting quite a bit, you can see it when you compare the validation set auc and the auc for the training set "
   ]
  },
  {
   "cell_type": "code",
   "execution_count": 48,
   "id": "fc070499",
   "metadata": {},
   "outputs": [
    {
     "name": "stdout",
     "output_type": "stream",
     "text": [
      "Model: \"sequential\"\n",
      "_________________________________________________________________\n",
      " Layer (type)                Output Shape              Param #   \n",
      "=================================================================\n",
      " dense (Dense)               (None, 3033)              9199089   \n",
      "                                                                 \n",
      " dense_1 (Dense)             (None, 1)                 3034      \n",
      "                                                                 \n",
      "=================================================================\n",
      "Total params: 9,202,123\n",
      "Trainable params: 9,202,123\n",
      "Non-trainable params: 0\n",
      "_________________________________________________________________\n"
     ]
    },
    {
     "data": {
      "image/png": "[encoded data removed]",
      "text/plain": [
       "<Figure size 432x288 with 1 Axes>"
      ]
     },
     "metadata": {
      "needs_background": "light"
     },
     "output_type": "display_data"
    },
    {
     "name": "stdout",
     "output_type": "stream",
     "text": [
      "7/7 [==============================] - 0s 8ms/step\n",
      "16/16 [==============================] - 0s 7ms/step\n"
     ]
    },
    {
     "data": {
      "image/png": "[encoded data removed]",
      "text/plain": [
       "<Figure size 432x288 with 1 Axes>"
      ]
     },
     "metadata": {
      "needs_background": "light"
     },
     "output_type": "display_data"
    }
   ],
   "source": [
    "model = keras.Sequential()\n",
    "model.add(keras.layers.Dense(X_train_nn.shape[-1]+1, activation=\"relu\", input_shape=(X_train_nn.shape[-1],)))\n",
    "model.add(Dense(1, activation='sigmoid'))\n",
    "\n",
    "model.summary()\n",
    "\n",
    "model.compile(optimizer='adam',\n",
    "              loss='binary_crossentropy',\n",
    "              metrics=METRICS)\n",
    "\n",
    "history = model.fit(X_train_t_nn, \n",
    "                      y_train_t_nn, \n",
    "                      epochs=30, \n",
    "                      validation_data=(X_val_nn, y_val_nn), \n",
    "                      verbose=0)\n",
    "\n",
    "test_model_keras(model, history, X_val_nn, y_val_nn, X_train_t_nn, y_train_t_nn)"
   ]
  },
  {
   "cell_type": "markdown",
   "id": "ee4927be",
   "metadata": {},
   "source": [
    "## Feature selection on multilayer model"
   ]
  },
  {
   "cell_type": "markdown",
   "id": "657b603e",
   "metadata": {},
   "source": [
    "Using the set of the top 100 descriptors from RF and XGB, filter the dataset by these descriptors, and then measure validation accuracy"
   ]
  },
  {
   "cell_type": "markdown",
   "id": "3a970c20",
   "metadata": {},
   "source": [
    "Choose f_classif method of feature selection, with 100 features.\n",
    "### Tune and Train multilayer model"
   ]
  },
  {
   "cell_type": "code",
   "execution_count": 49,
   "id": "f328348b",
   "metadata": {},
   "outputs": [],
   "source": [
    "def model_builder_3(hp):\n",
    "\n",
    "    model = keras.Sequential()\n",
    "    model.add(Dense(100, input_shape=(100,), activation='relu'))\n",
    "\n",
    "    # Tune the number of units in the first Dense layer\n",
    "    # Choose an optimal value between 2-length of layers\n",
    "    hp_units = hp.Int('unit_1', min_value=2, max_value=2000, step=10)\n",
    "    model.add(keras.layers.Dense(units=hp_units, activation='relu'))\n",
    "    \n",
    "    # dropout layer reduces overfitting\n",
    "    hp_units = hp.Float('dropout_1', min_value=0.0, max_value=0.5, default=0.25, step=0.05)\n",
    "    model.add(keras.layers.Dropout(hp_units))\n",
    "    \n",
    "    # Tune the number of units in the first Dense layer\n",
    "    # Choose an optimal value between 2-length of layers\n",
    "    hp_units = hp.Int('unit_2', min_value=2, max_value=2000, step=10)\n",
    "    model.add(keras.layers.Dense(units=hp_units, activation='relu'))\n",
    "    \n",
    "    model.add(Dense(1, activation='sigmoid'))\n",
    "    \n",
    "    hp_learning_rate = hp.Choice('learning_rate', values=[1e-2, 1e-3, 1e-4])\n",
    "\n",
    "    model.compile(optimizer=keras.optimizers.Adam(learning_rate=hp_learning_rate),\n",
    "                  loss='binary_crossentropy',\n",
    "                  metrics=METRICS)\n",
    "\n",
    "    return model"
   ]
  },
  {
   "cell_type": "code",
   "execution_count": 50,
   "id": "37526fcc",
   "metadata": {},
   "outputs": [],
   "source": [
    "import sklearn.feature_selection as fs\n",
    "from sklearn.feature_selection import VarianceThreshold\n",
    "\n",
    "constant_filter = VarianceThreshold(threshold=0)\n",
    "constant_filter.fit(X_train_nn)\n",
    "X_train_nn = constant_filter.transform(X_train_nn)\n",
    "X_test_nn = constant_filter.transform(X_test_nn)\n",
    "X_val_nn = constant_filter.transform(X_val_nn)\n",
    "X_train_t_nn = constant_filter.transform(X_train_t_nn)\n",
    "\n",
    "\n",
    "    \n",
    "bk = fs.SelectKBest(fs.f_classif, k=100)\n",
    "bk.fit(X_train_nn, y_train_nn)\n",
    "X_train_nn = bk.transform(X_train_nn)"
   ]
  },
  {
   "cell_type": "code",
   "execution_count": 51,
   "id": "f140446c",
   "metadata": {},
   "outputs": [],
   "source": [
    "X_val_nn = bk.transform(X_val_nn)"
   ]
  },
  {
   "cell_type": "code",
   "execution_count": 52,
   "id": "f3dcc934",
   "metadata": {},
   "outputs": [],
   "source": [
    "X_test_nn = bk.transform(X_test_nn)"
   ]
  },
  {
   "cell_type": "code",
   "execution_count": 53,
   "id": "2c0857de",
   "metadata": {},
   "outputs": [],
   "source": [
    "X_train_t_nn = bk.transform(X_train_t_nn)"
   ]
  },
  {
   "cell_type": "code",
   "execution_count": 54,
   "id": "3e283340",
   "metadata": {},
   "outputs": [
    {
     "name": "stdout",
     "output_type": "stream",
     "text": [
      "Trial 30 Complete [00h 00m 02s]\n",
      "val_auc: 0.95028156042099\n",
      "\n",
      "Best val_auc So Far: 0.9766891598701477\n",
      "Total elapsed time: 00h 00m 55s\n",
      "INFO:tensorflow:Oracle triggered exit\n"
     ]
    }
   ],
   "source": [
    "print(X_val_nn.shape)\n",
    "tuner = kt.Hyperband(model_builder_3,\n",
    "                     objective=kt.Objective(\"val_auc\", direction=\"max\"),\n",
    "                     max_epochs=10,\n",
    "                     factor=3,\n",
    "                     seed=SEED, \n",
    "                     directory=\"results_dir\",\n",
    "                     project_name=\"odor\",\n",
    "                     overwrite=True,)\n",
    "                     \n",
    "tuner.search(X_train_t_nn, \n",
    "             y_train_t_nn, \n",
    "             epochs=30,\n",
    "             validation_data=(X_val_nn, y_val_nn),\n",
    "             callbacks=[tf.keras.callbacks.EarlyStopping(monitor=\"val_loss\")])"
   ]
  },
  {
   "cell_type": "code",
   "execution_count": 55,
   "id": "f8466c2c",
   "metadata": {},
   "outputs": [
    {
     "name": "stdout",
     "output_type": "stream",
     "text": [
      "\n",
      "The hyperparameter search is complete. \n",
      " The optimal number of units in the first densely-connected\n",
      "layer is 402 \n",
      " The optimal number of units in the second densely-connected\n",
      "layer is 212 \n",
      " The optimal number of dropouts in the first densely-connected\n",
      "layer is 0.1.\n",
      " The optimal learning \n",
      "rate is  0.01\n",
      "\n"
     ]
    }
   ],
   "source": [
    "best_hps=tuner.get_best_hyperparameters(num_trials=1)[0]\n",
    "print(f\"\"\"\n",
    "The hyperparameter search is complete. \\n The optimal number of units in the first densely-connected\n",
    "layer is {best_hps.get('unit_1')} \\n The optimal number of units in the second densely-connected\n",
    "layer is {best_hps.get('unit_2')} \\n The optimal number of dropouts in the first densely-connected\n",
    "layer is {best_hps.get('dropout_1')}.\\n The optimal learning \n",
    "rate is  {best_hps.get('learning_rate')}\n",
    "\"\"\")"
   ]
  },
  {
   "cell_type": "code",
   "execution_count": 56,
   "id": "fdea6f27",
   "metadata": {},
   "outputs": [
    {
     "name": "stdout",
     "output_type": "stream",
     "text": [
      "Model: \"sequential_1\"\n",
      "_________________________________________________________________\n",
      " Layer (type)                Output Shape              Param #   \n",
      "=================================================================\n",
      " dense_4 (Dense)             (None, 100)               10100     \n",
      "                                                                 \n",
      " dense_5 (Dense)             (None, 402)               40602     \n",
      "                                                                 \n",
      " dropout_1 (Dropout)         (None, 402)               0         \n",
      "                                                                 \n",
      " dense_6 (Dense)             (None, 212)               85436     \n",
      "                                                                 \n",
      " dense_7 (Dense)             (None, 1)                 213       \n",
      "                                                                 \n",
      "=================================================================\n",
      "Total params: 136,351\n",
      "Trainable params: 136,351\n",
      "Non-trainable params: 0\n",
      "_________________________________________________________________\n"
     ]
    }
   ],
   "source": [
    "model4 = tuner.hypermodel.build(best_hps)\n",
    "model4.summary()"
   ]
  },
  {
   "cell_type": "code",
   "execution_count": 57,
   "id": "99c061aa",
   "metadata": {},
   "outputs": [
    {
     "data": {
      "image/png": "[encoded data removed]",
      "text/plain": [
       "<Figure size 432x288 with 1 Axes>"
      ]
     },
     "metadata": {
      "needs_background": "light"
     },
     "output_type": "display_data"
    },
    {
     "name": "stdout",
     "output_type": "stream",
     "text": [
      "7/7 [==============================] - 0s 2ms/step\n",
      "22/22 [==============================] - 0s 2ms/step\n"
     ]
    },
    {
     "data": {
      "image/png": "[encoded data removed]",
      "text/plain": [
       "<Figure size 432x288 with 1 Axes>"
      ]
     },
     "metadata": {
      "needs_background": "light"
     },
     "output_type": "display_data"
    }
   ],
   "source": [
    "history = model4.fit(X_train_t_nn, \n",
    "                      y_train_t_nn, \n",
    "                      epochs=30,\n",
    "                      batch_size=64,\n",
    "                      validation_data=(X_val_nn, y_val_nn), \n",
    "                      verbose=0)\n",
    "\n",
    "test_model_keras(model4, history, X_val_nn, y_val_nn, X_train_nn, y_train_nn)"
   ]
  },
  {
   "cell_type": "code",
   "execution_count": 58,
   "id": "e9c0df40",
   "metadata": {},
   "outputs": [
    {
     "data": {
      "image/png": "[encoded data removed]",
      "text/plain": [
       "<Figure size 432x288 with 1 Axes>"
      ]
     },
     "metadata": {
      "needs_background": "light"
     },
     "output_type": "display_data"
    },
    {
     "name": "stdout",
     "output_type": "stream",
     "text": [
      "7/7 [==============================] - 0s 1ms/step\n",
      "22/22 [==============================] - 0s 1ms/step\n"
     ]
    },
    {
     "data": {
      "image/png": "[encoded data removed]",
      "text/plain": [
       "<Figure size 432x288 with 1 Axes>"
      ]
     },
     "metadata": {
      "needs_background": "light"
     },
     "output_type": "display_data"
    }
   ],
   "source": [
    "model_final = tuner.hypermodel.build(best_hps)\n",
    "\n",
    "# Build the final model with all the training data with the optimal hyperparameters \n",
    "history = model_final.fit(X_train_nn, \n",
    "                      y_train_nn, \n",
    "                      epochs=30,\n",
    "                      batch_size=64,\n",
    "                      validation_data=(X_val_nn, y_val_nn), \n",
    "                      verbose=0)\n",
    "\n",
    "test_model_keras(model4, history, X_val_nn, y_val_nn, X_train_nn, y_train_nn)"
   ]
  },
  {
   "cell_type": "markdown",
   "id": "ae139664",
   "metadata": {},
   "source": [
    "## Evaluate model on test data"
   ]
  },
  {
   "cell_type": "code",
   "execution_count": 59,
   "id": "dcd95b0a",
   "metadata": {},
   "outputs": [
    {
     "name": "stdout",
     "output_type": "stream",
     "text": [
      "6/6 [==============================] - 0s 1ms/step\n"
     ]
    },
    {
     "data": {
      "image/png": "[encoded data removed]",
      "text/plain": [
       "<Figure size 432x288 with 1 Axes>"
      ]
     },
     "metadata": {
      "needs_background": "light"
     },
     "output_type": "display_data"
    }
   ],
   "source": [
    "y_pred_t_keras = model_final.predict(X_test_nn).ravel()\n",
    "fpr_keras, tpr_keras, thresholds_keras = roc_curve(y_test_nn, y_pred_t_keras)\n",
    "auc_t_keras = metrics.roc_auc_score(y_test_nn, y_pred_t_keras)\n",
    "auc_t_keras\n",
    "\n",
    "plt.figure(1)\n",
    "plt.plot([0, 1], [0, 1], 'k--')\n",
    "plt.plot(fpr_keras, tpr_keras)\n",
    "plt.xlabel('False positive rate')\n",
    "plt.ylabel('True positive rate')\n",
    "plt.title('ROC curve')\n",
    "plt.legend(['', 'Test (area = {:.3f})'.format(auc_t_keras)], loc='best')\n",
    "plt.show()\n",
    "plt.show()"
   ]
  }
 ],
 "metadata": {
  "kernelspec": {
   "display_name": "Python 3",
   "language": "python",
   "name": "python3"
  },
  "language_info": {
   "codemirror_mode": {
    "name": "ipython",
    "version": 3
   },
   "file_extension": ".py",
   "mimetype": "text/x-python",
   "name": "python",
   "nbconvert_exporter": "python",
   "pygments_lexer": "ipython3",
   "version": "3.8.8"
  }
 },
 "nbformat": 4,
 "nbformat_minor": 5
}
