{
 "cells": [
  {
   "cell_type": "code",
   "execution_count": 2,
   "id": "d9806988",
   "metadata": {},
   "outputs": [
    {
     "name": "stdout",
     "output_type": "stream",
     "text": [
      "Requirement already satisfied: bayesian-optimization in /home/zoya/anaconda3/lib/python3.8/site-packages (1.4.2)\n",
      "Requirement already satisfied: scipy>=1.0.0 in /home/zoya/anaconda3/lib/python3.8/site-packages (from bayesian-optimization) (1.10.0)\n",
      "Requirement already satisfied: colorama>=0.4.6 in /home/zoya/anaconda3/lib/python3.8/site-packages (from bayesian-optimization) (0.4.6)\n",
      "Requirement already satisfied: scikit-learn>=0.18.0 in /home/zoya/anaconda3/lib/python3.8/site-packages (from bayesian-optimization) (1.2.0)\n",
      "Requirement already satisfied: numpy>=1.9.0 in /home/zoya/anaconda3/lib/python3.8/site-packages (from bayesian-optimization) (1.24.1)\n",
      "Requirement already satisfied: threadpoolctl>=2.0.0 in /home/zoya/anaconda3/lib/python3.8/site-packages (from scikit-learn>=0.18.0->bayesian-optimization) (3.1.0)\n",
      "Requirement already satisfied: joblib>=1.1.1 in /home/zoya/anaconda3/lib/python3.8/site-packages (from scikit-learn>=0.18.0->bayesian-optimization) (1.2.0)\n",
      "\n",
      "\u001b[1m[\u001b[0m\u001b[34;49mnotice\u001b[0m\u001b[1;39;49m]\u001b[0m\u001b[39;49m A new release of pip available: \u001b[0m\u001b[31;49m22.3.1\u001b[0m\u001b[39;49m -> \u001b[0m\u001b[32;49m23.0.1\u001b[0m\n",
      "\u001b[1m[\u001b[0m\u001b[34;49mnotice\u001b[0m\u001b[1;39;49m]\u001b[0m\u001b[39;49m To update, run: \u001b[0m\u001b[32;49mpip install --upgrade pip\u001b[0m\n"
     ]
    }
   ],
   "source": [
    "!pip install bayesian-optimization\n",
    "import pandas as pd\n",
    "from xgboost import XGBClassifier, cv\n",
    "from sklearn.model_selection import train_test_split, cross_validate, StratifiedKFold, RandomizedSearchCV, GridSearchCV, cross_val_score\n",
    "from sklearn.metrics import roc_curve\n",
    "import matplotlib.pyplot as plt\n",
    "import seaborn as sns\n",
    "from sklearn.ensemble import RandomForestClassifier\n",
    "from sklearn.preprocessing import StandardScaler\n",
    "from sklearn import metrics\n",
    "from sklearn.compose import ColumnTransformer\n",
    "from bayes_opt import BayesianOptimization\n",
    "import numpy as np\n",
    "sns.set_theme()\n",
    "\n",
    "\n",
    "SEED=0"
   ]
  },
  {
   "cell_type": "markdown",
   "id": "0f5b377a",
   "metadata": {},
   "source": [
    "# Load the dataset\n",
    "- Load data from excel sheet\n",
    "- Set X (independent variables) and y (dependent variables) "
   ]
  },
  {
   "cell_type": "code",
   "execution_count": 35,
   "id": "2118a744",
   "metadata": {},
   "outputs": [],
   "source": [
    "dataset='DragonFiltered'\n"
   ]
  },
  {
   "cell_type": "code",
   "execution_count": 8,
   "id": "5ee6edb3",
   "metadata": {},
   "outputs": [
    {
     "data": {
      "text/html": [
       "<div>\n",
       "<style scoped>\n",
       "    .dataframe tbody tr th:only-of-type {\n",
       "        vertical-align: middle;\n",
       "    }\n",
       "\n",
       "    .dataframe tbody tr th {\n",
       "        vertical-align: top;\n",
       "    }\n",
       "\n",
       "    .dataframe thead th {\n",
       "        text-align: right;\n",
       "    }\n",
       "</style>\n",
       "<table border=\"1\" class=\"dataframe\">\n",
       "  <thead>\n",
       "    <tr style=\"text-align: right;\">\n",
       "      <th></th>\n",
       "      <th>SM1_Dz(p)</th>\n",
       "      <th>SM1_Dz(i)</th>\n",
       "      <th>SpPosA_B(p)</th>\n",
       "      <th>P_VSA_MR_2</th>\n",
       "      <th>Eig03_EA(dm)</th>\n",
       "      <th>nCconj</th>\n",
       "      <th>CATS2D_02_DA</th>\n",
       "      <th>T(N..O)</th>\n",
       "      <th>AMR</th>\n",
       "      <th>DLS_04</th>\n",
       "      <th>DLS_cons</th>\n",
       "    </tr>\n",
       "  </thead>\n",
       "  <tbody>\n",
       "    <tr>\n",
       "      <th>count</th>\n",
       "      <td>858.000000</td>\n",
       "      <td>858.000000</td>\n",
       "      <td>858.000000</td>\n",
       "      <td>865.000000</td>\n",
       "      <td>858.000000</td>\n",
       "      <td>865.000000</td>\n",
       "      <td>865.000000</td>\n",
       "      <td>865.000000</td>\n",
       "      <td>860.000000</td>\n",
       "      <td>865.000000</td>\n",
       "      <td>865.000000</td>\n",
       "    </tr>\n",
       "    <tr>\n",
       "      <th>mean</th>\n",
       "      <td>-1.047112</td>\n",
       "      <td>0.335124</td>\n",
       "      <td>1.210784</td>\n",
       "      <td>46.413206</td>\n",
       "      <td>0.060258</td>\n",
       "      <td>0.441618</td>\n",
       "      <td>0.320231</td>\n",
       "      <td>3.241618</td>\n",
       "      <td>41.531778</td>\n",
       "      <td>0.696416</td>\n",
       "      <td>0.847699</td>\n",
       "    </tr>\n",
       "    <tr>\n",
       "      <th>std</th>\n",
       "      <td>0.670325</td>\n",
       "      <td>0.268824</td>\n",
       "      <td>0.129241</td>\n",
       "      <td>40.391549</td>\n",
       "      <td>0.522990</td>\n",
       "      <td>1.047098</td>\n",
       "      <td>0.875526</td>\n",
       "      <td>12.104794</td>\n",
       "      <td>19.296159</td>\n",
       "      <td>0.249905</td>\n",
       "      <td>0.098993</td>\n",
       "    </tr>\n",
       "    <tr>\n",
       "      <th>min</th>\n",
       "      <td>-3.434007</td>\n",
       "      <td>-0.360816</td>\n",
       "      <td>0.753718</td>\n",
       "      <td>0.000000</td>\n",
       "      <td>-4.395737</td>\n",
       "      <td>0.000000</td>\n",
       "      <td>0.000000</td>\n",
       "      <td>0.000000</td>\n",
       "      <td>2.301300</td>\n",
       "      <td>0.100000</td>\n",
       "      <td>0.554762</td>\n",
       "    </tr>\n",
       "    <tr>\n",
       "      <th>25%</th>\n",
       "      <td>-1.436726</td>\n",
       "      <td>0.159650</td>\n",
       "      <td>1.156817</td>\n",
       "      <td>23.542204</td>\n",
       "      <td>0.000000</td>\n",
       "      <td>0.000000</td>\n",
       "      <td>0.000000</td>\n",
       "      <td>0.000000</td>\n",
       "      <td>27.809400</td>\n",
       "      <td>0.500000</td>\n",
       "      <td>0.764286</td>\n",
       "    </tr>\n",
       "    <tr>\n",
       "      <th>50%</th>\n",
       "      <td>-1.223775</td>\n",
       "      <td>0.297286</td>\n",
       "      <td>1.214748</td>\n",
       "      <td>36.144815</td>\n",
       "      <td>0.000000</td>\n",
       "      <td>0.000000</td>\n",
       "      <td>0.000000</td>\n",
       "      <td>0.000000</td>\n",
       "      <td>39.565250</td>\n",
       "      <td>0.700000</td>\n",
       "      <td>0.857143</td>\n",
       "    </tr>\n",
       "    <tr>\n",
       "      <th>75%</th>\n",
       "      <td>-0.788457</td>\n",
       "      <td>0.451967</td>\n",
       "      <td>1.265436</td>\n",
       "      <td>69.457879</td>\n",
       "      <td>0.000000</td>\n",
       "      <td>0.000000</td>\n",
       "      <td>0.000000</td>\n",
       "      <td>0.000000</td>\n",
       "      <td>49.997125</td>\n",
       "      <td>0.900000</td>\n",
       "      <td>0.938095</td>\n",
       "    </tr>\n",
       "    <tr>\n",
       "      <th>max</th>\n",
       "      <td>1.087046</td>\n",
       "      <td>1.783694</td>\n",
       "      <td>3.039800</td>\n",
       "      <td>271.313081</td>\n",
       "      <td>2.612452</td>\n",
       "      <td>6.000000</td>\n",
       "      <td>6.000000</td>\n",
       "      <td>160.000000</td>\n",
       "      <td>142.900900</td>\n",
       "      <td>1.000000</td>\n",
       "      <td>1.000000</td>\n",
       "    </tr>\n",
       "  </tbody>\n",
       "</table>\n",
       "</div>"
      ],
      "text/plain": [
       "        SM1_Dz(p)   SM1_Dz(i)  SpPosA_B(p)  P_VSA_MR_2  Eig03_EA(dm)  \\\n",
       "count  858.000000  858.000000   858.000000  865.000000    858.000000   \n",
       "mean    -1.047112    0.335124     1.210784   46.413206      0.060258   \n",
       "std      0.670325    0.268824     0.129241   40.391549      0.522990   \n",
       "min     -3.434007   -0.360816     0.753718    0.000000     -4.395737   \n",
       "25%     -1.436726    0.159650     1.156817   23.542204      0.000000   \n",
       "50%     -1.223775    0.297286     1.214748   36.144815      0.000000   \n",
       "75%     -0.788457    0.451967     1.265436   69.457879      0.000000   \n",
       "max      1.087046    1.783694     3.039800  271.313081      2.612452   \n",
       "\n",
       "           nCconj  CATS2D_02_DA     T(N..O)         AMR      DLS_04  \\\n",
       "count  865.000000    865.000000  865.000000  860.000000  865.000000   \n",
       "mean     0.441618      0.320231    3.241618   41.531778    0.696416   \n",
       "std      1.047098      0.875526   12.104794   19.296159    0.249905   \n",
       "min      0.000000      0.000000    0.000000    2.301300    0.100000   \n",
       "25%      0.000000      0.000000    0.000000   27.809400    0.500000   \n",
       "50%      0.000000      0.000000    0.000000   39.565250    0.700000   \n",
       "75%      0.000000      0.000000    0.000000   49.997125    0.900000   \n",
       "max      6.000000      6.000000  160.000000  142.900900    1.000000   \n",
       "\n",
       "         DLS_cons  \n",
       "count  865.000000  \n",
       "mean     0.847699  \n",
       "std      0.098993  \n",
       "min      0.554762  \n",
       "25%      0.764286  \n",
       "50%      0.857143  \n",
       "75%      0.938095  \n",
       "max      1.000000  "
      ]
     },
     "execution_count": 8,
     "metadata": {},
     "output_type": "execute_result"
    }
   ],
   "source": [
    "data_path = './data/alvaDescDescriptors.txt'\n",
    "na_values=['na']\n",
    "df = pd.read_csv(data_path, sep=\"\\t\",  dtype={'pctapi': np.float64}, na_values=na_values)\n",
    "smiles =  np.loadtxt(\"./data/smiles.txt\", dtype='str')\n",
    "df = df.drop(['No.', 'NAME'], axis=1)\n",
    "df = df.set_index(smiles)\n",
    "\n",
    "df = df.loc[:, df.columns.isin(['DLS_cons', 'Hypnotic.80', 'Neoplastic.50', 'DLS_04', 'T(N..O)', 'SpMax3_bh(s)',\n",
    "       'SpMax2_bh(s)', 'CATS2D_02_DA', 'Eig03_EA(dm)', 'SpPosA_B(p)', 'P_VSA_MR_2', \n",
    "       'AMR', 'SM1_Dz(p)', 'SM1_Dz(i)', 'nCconj'])]\n",
    "\n",
    "data_path = './data/master_4Mayhew.xlsx'\n",
    "df_mor = pd.read_excel(data_path)\n",
    "y=df_mor['label'] # labels, independent variables\n",
    "X=df # features, dependent variables\n",
    "\n",
    "X.columns = X.columns.str.translate(\"\".maketrans({\"[\":\"{\", \"]\":\"}\",\"<\":\"^\"}))\n",
    "\n",
    "\n",
    "X.describe()"
   ]
  },
  {
   "cell_type": "markdown",
   "id": "afa7ad95",
   "metadata": {},
   "source": [
    "# Explore the dataset"
   ]
  },
  {
   "cell_type": "markdown",
   "id": "ed6be006",
   "metadata": {},
   "source": [
    "## How many missing values?"
   ]
  },
  {
   "cell_type": "code",
   "execution_count": 10,
   "id": "243600f5",
   "metadata": {},
   "outputs": [
    {
     "name": "stdout",
     "output_type": "stream",
     "text": [
      "Number of columns with all NaNs \n",
      "False    11\n",
      "dtype: int64\n",
      "\n",
      " Number of columns with >0.9 NaNs \n",
      "False    11\n",
      "dtype: int64\n",
      "\n",
      " Number of columns with a NaN \n",
      "5\n"
     ]
    }
   ],
   "source": [
    "print(f\"Number of columns with all NaNs \\n{(df.isna().mean(axis=0) == 1).value_counts()}\")\n",
    "print(f\"\\n Number of columns with >0.9 NaNs \\n{(df.isna().mean(axis=0) > 0.9).value_counts()}\")\n",
    "print(f\"\\n Number of columns with a NaN \\n{ len(df.columns[df.isna().any()].tolist())}\")"
   ]
  },
  {
   "cell_type": "markdown",
   "id": "9b25ab06",
   "metadata": {},
   "source": [
    "### Visualise number of NaNs in descriptors with missing values "
   ]
  },
  {
   "cell_type": "code",
   "execution_count": 11,
   "id": "ef4f44af",
   "metadata": {},
   "outputs": [
    {
     "data": {
      "text/plain": [
       "Text(0.5, 0, 'Percentage NaNs in descriptors with missing values')"
      ]
     },
     "execution_count": 11,
     "metadata": {},
     "output_type": "execute_result"
    },
    {
     "data": {
      "image/png": "[encoded data removed]",
      "text/plain": [
       "<Figure size 432x288 with 1 Axes>"
      ]
     },
     "metadata": {
      "needs_background": "light"
     },
     "output_type": "display_data"
    }
   ],
   "source": [
    "percs = df.isna().mean(axis=0)\n",
    "\n",
    "ax = percs[(percs > 0)].plot.hist(bins=15)\n",
    "plt.xlabel(\"Percentage NaNs in descriptors with missing values\")"
   ]
  },
  {
   "cell_type": "markdown",
   "id": "c698ba5c",
   "metadata": {},
   "source": [
    "## Correlation between the descriptors\n",
    "\n",
    "- degree to which features are related \n",
    "- https://jayant017.medium.com/hyperparameter-tuning-in-xgboost-using-randomizedsearchcv-88fcb5b58a73"
   ]
  },
  {
   "cell_type": "code",
   "execution_count": 14,
   "id": "f9987f95",
   "metadata": {},
   "outputs": [
    {
     "data": {
      "image/png": "[encoded data removed]",
      "text/plain": [
       "<Figure size 1152x1152 with 2 Axes>"
      ]
     },
     "metadata": {
      "needs_background": "light"
     },
     "output_type": "display_data"
    }
   ],
   "source": [
    "corrs = df.corr()\n",
    "plt.figure(figsize = (16,16))\n",
    "heatmap = sns.heatmap(corrs, vmin=-1, vmax=1, annot=True)"
   ]
  },
  {
   "cell_type": "code",
   "execution_count": 99,
   "id": "0c582986",
   "metadata": {},
   "outputs": [],
   "source": [
    "corrs.to_csv(f'results/correlations/descriptor-correlations-{dataset}.csv')  "
   ]
  },
  {
   "cell_type": "markdown",
   "id": "e732ca9b",
   "metadata": {},
   "source": [
    "# Preprocessing"
   ]
  },
  {
   "cell_type": "code",
   "execution_count": 17,
   "id": "3f084069",
   "metadata": {},
   "outputs": [
    {
     "data": {
      "text/html": [
       "<div>\n",
       "<style scoped>\n",
       "    .dataframe tbody tr th:only-of-type {\n",
       "        vertical-align: middle;\n",
       "    }\n",
       "\n",
       "    .dataframe tbody tr th {\n",
       "        vertical-align: top;\n",
       "    }\n",
       "\n",
       "    .dataframe thead th {\n",
       "        text-align: right;\n",
       "    }\n",
       "</style>\n",
       "<table border=\"1\" class=\"dataframe\">\n",
       "  <thead>\n",
       "    <tr style=\"text-align: right;\">\n",
       "      <th></th>\n",
       "      <th>SM1_Dz(p)</th>\n",
       "      <th>SM1_Dz(i)</th>\n",
       "      <th>SpPosA_B(p)</th>\n",
       "      <th>P_VSA_MR_2</th>\n",
       "      <th>Eig03_EA(dm)</th>\n",
       "      <th>nCconj</th>\n",
       "      <th>CATS2D_02_DA</th>\n",
       "      <th>T(N..O)</th>\n",
       "      <th>AMR</th>\n",
       "      <th>DLS_04</th>\n",
       "      <th>DLS_cons</th>\n",
       "    </tr>\n",
       "  </thead>\n",
       "  <tbody>\n",
       "    <tr>\n",
       "      <th>C1=CC=C2C(=C1)C(=O)C(C2=O)(O)O</th>\n",
       "      <td>-1.757858</td>\n",
       "      <td>0.526148</td>\n",
       "      <td>1.215730</td>\n",
       "      <td>50.289854</td>\n",
       "      <td>0.367662</td>\n",
       "      <td>2</td>\n",
       "      <td>1</td>\n",
       "      <td>0</td>\n",
       "      <td>43.4446</td>\n",
       "      <td>0.4</td>\n",
       "      <td>0.700000</td>\n",
       "    </tr>\n",
       "    <tr>\n",
       "      <th>C(=C(F)F)(C(F)(F)F)C(F)(F)F</th>\n",
       "      <td>-2.898296</td>\n",
       "      <td>1.342760</td>\n",
       "      <td>0.895484</td>\n",
       "      <td>89.760680</td>\n",
       "      <td>1.510000</td>\n",
       "      <td>0</td>\n",
       "      <td>0</td>\n",
       "      <td>0</td>\n",
       "      <td>23.0111</td>\n",
       "      <td>0.7</td>\n",
       "      <td>0.838095</td>\n",
       "    </tr>\n",
       "    <tr>\n",
       "      <th>C1=C(C=C(C(=C1[N+](=O)[O-])O)[N+](=O)[O-])[N+](=O)[O-]</th>\n",
       "      <td>-2.415914</td>\n",
       "      <td>1.060322</td>\n",
       "      <td>1.167397</td>\n",
       "      <td>42.683343</td>\n",
       "      <td>2.612452</td>\n",
       "      <td>0</td>\n",
       "      <td>0</td>\n",
       "      <td>71</td>\n",
       "      <td>49.7262</td>\n",
       "      <td>0.4</td>\n",
       "      <td>0.723810</td>\n",
       "    </tr>\n",
       "    <tr>\n",
       "      <th>CN1C(=O)CN=C(C2=C1C=CC(=C2)Cl)C3=CC=CC=C3</th>\n",
       "      <td>-1.165429</td>\n",
       "      <td>0.562583</td>\n",
       "      <td>1.303249</td>\n",
       "      <td>25.144927</td>\n",
       "      <td>0.484748</td>\n",
       "      <td>1</td>\n",
       "      <td>0</td>\n",
       "      <td>5</td>\n",
       "      <td>79.9621</td>\n",
       "      <td>0.6</td>\n",
       "      <td>0.871429</td>\n",
       "    </tr>\n",
       "    <tr>\n",
       "      <th>C(C(C(F)(F)F)(F)Cl)(F)Cl</th>\n",
       "      <td>-2.427375</td>\n",
       "      <td>1.109189</td>\n",
       "      <td>1.013713</td>\n",
       "      <td>74.800566</td>\n",
       "      <td>1.534796</td>\n",
       "      <td>0</td>\n",
       "      <td>0</td>\n",
       "      <td>0</td>\n",
       "      <td>26.4845</td>\n",
       "      <td>0.5</td>\n",
       "      <td>0.809524</td>\n",
       "    </tr>\n",
       "    <tr>\n",
       "      <th>...</th>\n",
       "      <td>...</td>\n",
       "      <td>...</td>\n",
       "      <td>...</td>\n",
       "      <td>...</td>\n",
       "      <td>...</td>\n",
       "      <td>...</td>\n",
       "      <td>...</td>\n",
       "      <td>...</td>\n",
       "      <td>...</td>\n",
       "      <td>...</td>\n",
       "      <td>...</td>\n",
       "    </tr>\n",
       "    <tr>\n",
       "      <th>CCCCC(=O)OCC</th>\n",
       "      <td>-1.223775</td>\n",
       "      <td>0.297286</td>\n",
       "      <td>1.161512</td>\n",
       "      <td>71.458121</td>\n",
       "      <td>0.000000</td>\n",
       "      <td>0</td>\n",
       "      <td>0</td>\n",
       "      <td>0</td>\n",
       "      <td>35.9897</td>\n",
       "      <td>1.0</td>\n",
       "      <td>0.952381</td>\n",
       "    </tr>\n",
       "    <tr>\n",
       "      <th>C=CCSS(=O)CC=C</th>\n",
       "      <td>-0.346281</td>\n",
       "      <td>-0.000700</td>\n",
       "      <td>1.374833</td>\n",
       "      <td>22.156476</td>\n",
       "      <td>0.000000</td>\n",
       "      <td>0</td>\n",
       "      <td>0</td>\n",
       "      <td>0</td>\n",
       "      <td>46.6775</td>\n",
       "      <td>0.9</td>\n",
       "      <td>0.938095</td>\n",
       "    </tr>\n",
       "    <tr>\n",
       "      <th>CCCC(=O)OCC(C)C</th>\n",
       "      <td>-1.223775</td>\n",
       "      <td>0.297286</td>\n",
       "      <td>1.168715</td>\n",
       "      <td>47.915917</td>\n",
       "      <td>0.000000</td>\n",
       "      <td>0</td>\n",
       "      <td>0</td>\n",
       "      <td>0</td>\n",
       "      <td>40.3847</td>\n",
       "      <td>1.0</td>\n",
       "      <td>0.952381</td>\n",
       "    </tr>\n",
       "    <tr>\n",
       "      <th>CCCCCOC(=O)CCC</th>\n",
       "      <td>-1.223775</td>\n",
       "      <td>0.297286</td>\n",
       "      <td>1.171368</td>\n",
       "      <td>59.687019</td>\n",
       "      <td>0.000000</td>\n",
       "      <td>0</td>\n",
       "      <td>0</td>\n",
       "      <td>0</td>\n",
       "      <td>45.1149</td>\n",
       "      <td>0.8</td>\n",
       "      <td>0.923810</td>\n",
       "    </tr>\n",
       "    <tr>\n",
       "      <th>CCC(=O)OCC(C)C</th>\n",
       "      <td>-1.223775</td>\n",
       "      <td>0.297286</td>\n",
       "      <td>1.150121</td>\n",
       "      <td>47.915917</td>\n",
       "      <td>0.000000</td>\n",
       "      <td>0</td>\n",
       "      <td>0</td>\n",
       "      <td>0</td>\n",
       "      <td>35.7837</td>\n",
       "      <td>1.0</td>\n",
       "      <td>0.952381</td>\n",
       "    </tr>\n",
       "  </tbody>\n",
       "</table>\n",
       "<p>865 rows × 11 columns</p>\n",
       "</div>"
      ],
      "text/plain": [
       "                                                    SM1_Dz(p)  SM1_Dz(i)  \\\n",
       "C1=CC=C2C(=C1)C(=O)C(C2=O)(O)O                      -1.757858   0.526148   \n",
       "C(=C(F)F)(C(F)(F)F)C(F)(F)F                         -2.898296   1.342760   \n",
       "C1=C(C=C(C(=C1[N+](=O)[O-])O)[N+](=O)[O-])[N+](...  -2.415914   1.060322   \n",
       "CN1C(=O)CN=C(C2=C1C=CC(=C2)Cl)C3=CC=CC=C3           -1.165429   0.562583   \n",
       "C(C(C(F)(F)F)(F)Cl)(F)Cl                            -2.427375   1.109189   \n",
       "...                                                       ...        ...   \n",
       "CCCCC(=O)OCC                                        -1.223775   0.297286   \n",
       "C=CCSS(=O)CC=C                                      -0.346281  -0.000700   \n",
       "CCCC(=O)OCC(C)C                                     -1.223775   0.297286   \n",
       "CCCCCOC(=O)CCC                                      -1.223775   0.297286   \n",
       "CCC(=O)OCC(C)C                                      -1.223775   0.297286   \n",
       "\n",
       "                                                    SpPosA_B(p)  P_VSA_MR_2  \\\n",
       "C1=CC=C2C(=C1)C(=O)C(C2=O)(O)O                         1.215730   50.289854   \n",
       "C(=C(F)F)(C(F)(F)F)C(F)(F)F                            0.895484   89.760680   \n",
       "C1=C(C=C(C(=C1[N+](=O)[O-])O)[N+](=O)[O-])[N+](...     1.167397   42.683343   \n",
       "CN1C(=O)CN=C(C2=C1C=CC(=C2)Cl)C3=CC=CC=C3              1.303249   25.144927   \n",
       "C(C(C(F)(F)F)(F)Cl)(F)Cl                               1.013713   74.800566   \n",
       "...                                                         ...         ...   \n",
       "CCCCC(=O)OCC                                           1.161512   71.458121   \n",
       "C=CCSS(=O)CC=C                                         1.374833   22.156476   \n",
       "CCCC(=O)OCC(C)C                                        1.168715   47.915917   \n",
       "CCCCCOC(=O)CCC                                         1.171368   59.687019   \n",
       "CCC(=O)OCC(C)C                                         1.150121   47.915917   \n",
       "\n",
       "                                                    Eig03_EA(dm)  nCconj  \\\n",
       "C1=CC=C2C(=C1)C(=O)C(C2=O)(O)O                          0.367662       2   \n",
       "C(=C(F)F)(C(F)(F)F)C(F)(F)F                             1.510000       0   \n",
       "C1=C(C=C(C(=C1[N+](=O)[O-])O)[N+](=O)[O-])[N+](...      2.612452       0   \n",
       "CN1C(=O)CN=C(C2=C1C=CC(=C2)Cl)C3=CC=CC=C3               0.484748       1   \n",
       "C(C(C(F)(F)F)(F)Cl)(F)Cl                                1.534796       0   \n",
       "...                                                          ...     ...   \n",
       "CCCCC(=O)OCC                                            0.000000       0   \n",
       "C=CCSS(=O)CC=C                                          0.000000       0   \n",
       "CCCC(=O)OCC(C)C                                         0.000000       0   \n",
       "CCCCCOC(=O)CCC                                          0.000000       0   \n",
       "CCC(=O)OCC(C)C                                          0.000000       0   \n",
       "\n",
       "                                                    CATS2D_02_DA  T(N..O)  \\\n",
       "C1=CC=C2C(=C1)C(=O)C(C2=O)(O)O                                 1        0   \n",
       "C(=C(F)F)(C(F)(F)F)C(F)(F)F                                    0        0   \n",
       "C1=C(C=C(C(=C1[N+](=O)[O-])O)[N+](=O)[O-])[N+](...             0       71   \n",
       "CN1C(=O)CN=C(C2=C1C=CC(=C2)Cl)C3=CC=CC=C3                      0        5   \n",
       "C(C(C(F)(F)F)(F)Cl)(F)Cl                                       0        0   \n",
       "...                                                          ...      ...   \n",
       "CCCCC(=O)OCC                                                   0        0   \n",
       "C=CCSS(=O)CC=C                                                 0        0   \n",
       "CCCC(=O)OCC(C)C                                                0        0   \n",
       "CCCCCOC(=O)CCC                                                 0        0   \n",
       "CCC(=O)OCC(C)C                                                 0        0   \n",
       "\n",
       "                                                        AMR  DLS_04  DLS_cons  \n",
       "C1=CC=C2C(=C1)C(=O)C(C2=O)(O)O                      43.4446     0.4  0.700000  \n",
       "C(=C(F)F)(C(F)(F)F)C(F)(F)F                         23.0111     0.7  0.838095  \n",
       "C1=C(C=C(C(=C1[N+](=O)[O-])O)[N+](=O)[O-])[N+](...  49.7262     0.4  0.723810  \n",
       "CN1C(=O)CN=C(C2=C1C=CC(=C2)Cl)C3=CC=CC=C3           79.9621     0.6  0.871429  \n",
       "C(C(C(F)(F)F)(F)Cl)(F)Cl                            26.4845     0.5  0.809524  \n",
       "...                                                     ...     ...       ...  \n",
       "CCCCC(=O)OCC                                        35.9897     1.0  0.952381  \n",
       "C=CCSS(=O)CC=C                                      46.6775     0.9  0.938095  \n",
       "CCCC(=O)OCC(C)C                                     40.3847     1.0  0.952381  \n",
       "CCCCCOC(=O)CCC                                      45.1149     0.8  0.923810  \n",
       "CCC(=O)OCC(C)C                                      35.7837     1.0  0.952381  \n",
       "\n",
       "[865 rows x 11 columns]"
      ]
     },
     "execution_count": 17,
     "metadata": {},
     "output_type": "execute_result"
    }
   ],
   "source": [
    "# Correlation\n",
    "\n",
    "corrs = df.corr()\n",
    "# select upper traingle of correlation matrix\n",
    "upper = corrs.where(np.triu(np.ones(corrs.shape),k=1).astype(bool))\n",
    "# Find index of columns with correlation greater than 0.99\n",
    "to_drop = [column for column in upper.columns if any(upper[column] > 0.99)]\n",
    "# drop the columns\n",
    "df.drop(to_drop, axis=1, inplace=True)\n",
    "# Remove descriptors with all NaNs \n",
    "df.dropna(axis=1, how='all', inplace=True)\n",
    "df"
   ]
  },
  {
   "cell_type": "markdown",
   "id": "79a55bef",
   "metadata": {},
   "source": [
    "# Split the dataset\n",
    "- Split dataset into training and test set \n",
    "- Use equal proportions of odor/odorless class"
   ]
  },
  {
   "cell_type": "code",
   "execution_count": 18,
   "id": "79ab3d50",
   "metadata": {},
   "outputs": [
    {
     "name": "stdout",
     "output_type": "stream",
     "text": [
      "Total number molecules in training set: 692\n",
      "Odor: 492\n",
      "Odorless: 200\n",
      "\n",
      "Total number molecules in test set: 173\n",
      "Odor: 123\n",
      "Odorless: 50\n",
      "\n",
      "Percentage odorless 0.28901734104046245\n"
     ]
    }
   ],
   "source": [
    "X_train, X_test, y_train, y_test = train_test_split(X, y, test_size=0.2, stratify=y, random_state=0) # 70% training and 30% test\n",
    "percentage_odorless = y_train.value_counts()[False]/y_train.shape[0]\n",
    "percentage_odor = 1 - percentage_odorless\n",
    "print(f\"Total number molecules in training set: {y_train.shape[0]}\")\n",
    "print(f\"Odor: {y_train.value_counts()[True]}\")\n",
    "print(f\"Odorless: {y_train.value_counts()[False]}\")\n",
    "\n",
    "print(f\"\\nTotal number molecules in test set: {y_test.shape[0]}\")\n",
    "print(f\"Odor: {y_test.value_counts()[True]}\")\n",
    "print(f\"Odorless: {y_test.value_counts()[False]}\")\n",
    "\n",
    "print(f\"\\nPercentage odorless {y_test.value_counts()[False]/y_test.shape[0]}\")"
   ]
  },
  {
   "cell_type": "markdown",
   "id": "20a81706",
   "metadata": {},
   "source": [
    "### Validation set"
   ]
  },
  {
   "cell_type": "code",
   "execution_count": 19,
   "id": "d1489ba1",
   "metadata": {},
   "outputs": [
    {
     "name": "stdout",
     "output_type": "stream",
     "text": [
      "Number of training samples: 484\n",
      "Number of validation samples: 208\n"
     ]
    }
   ],
   "source": [
    "X_train_t, X_val, y_train_t, y_val = train_test_split(X_train, y_train, test_size=0.3, stratify=y_train, random_state=SEED)\n",
    "\n",
    "print(\"Number of training samples:\", len(X_train_t))\n",
    "print(\"Number of validation samples:\", len(X_val))"
   ]
  },
  {
   "cell_type": "markdown",
   "id": "26091c84",
   "metadata": {},
   "source": [
    "## More preprocessing"
   ]
  },
  {
   "cell_type": "code",
   "execution_count": 20,
   "id": "c812b582",
   "metadata": {},
   "outputs": [
    {
     "data": {
      "text/html": [
       "<div>\n",
       "<style scoped>\n",
       "    .dataframe tbody tr th:only-of-type {\n",
       "        vertical-align: middle;\n",
       "    }\n",
       "\n",
       "    .dataframe tbody tr th {\n",
       "        vertical-align: top;\n",
       "    }\n",
       "\n",
       "    .dataframe thead th {\n",
       "        text-align: right;\n",
       "    }\n",
       "</style>\n",
       "<table border=\"1\" class=\"dataframe\">\n",
       "  <thead>\n",
       "    <tr style=\"text-align: right;\">\n",
       "      <th></th>\n",
       "      <th>SM1_Dz(p)</th>\n",
       "      <th>SM1_Dz(i)</th>\n",
       "      <th>SpPosA_B(p)</th>\n",
       "      <th>P_VSA_MR_2</th>\n",
       "      <th>Eig03_EA(dm)</th>\n",
       "      <th>nCconj</th>\n",
       "      <th>CATS2D_02_DA</th>\n",
       "      <th>T(N..O)</th>\n",
       "      <th>AMR</th>\n",
       "      <th>DLS_04</th>\n",
       "      <th>DLS_cons</th>\n",
       "    </tr>\n",
       "  </thead>\n",
       "  <tbody>\n",
       "    <tr>\n",
       "      <th>C1=CC(=CC=C1C(=O)O)[N+](=O)[O-]</th>\n",
       "      <td>0.348969</td>\n",
       "      <td>0.471852</td>\n",
       "      <td>0.194461</td>\n",
       "      <td>0.250000</td>\n",
       "      <td>0.627229</td>\n",
       "      <td>0.2</td>\n",
       "      <td>0.166667</td>\n",
       "      <td>0.122449</td>\n",
       "      <td>0.266081</td>\n",
       "      <td>0.333333</td>\n",
       "      <td>0.366120</td>\n",
       "    </tr>\n",
       "    <tr>\n",
       "      <th>CCCCCCCCCCCCCCCCO</th>\n",
       "      <td>0.585162</td>\n",
       "      <td>0.242697</td>\n",
       "      <td>0.189155</td>\n",
       "      <td>0.086771</td>\n",
       "      <td>0.627229</td>\n",
       "      <td>0.0</td>\n",
       "      <td>0.000000</td>\n",
       "      <td>0.000000</td>\n",
       "      <td>0.531805</td>\n",
       "      <td>0.111111</td>\n",
       "      <td>0.000000</td>\n",
       "    </tr>\n",
       "    <tr>\n",
       "      <th>C1(C(O1)(F)F)(C(F)(F)F)F</th>\n",
       "      <td>0.159728</td>\n",
       "      <td>0.724321</td>\n",
       "      <td>0.057900</td>\n",
       "      <td>0.330838</td>\n",
       "      <td>0.795751</td>\n",
       "      <td>0.0</td>\n",
       "      <td>0.000000</td>\n",
       "      <td>0.000000</td>\n",
       "      <td>0.099486</td>\n",
       "      <td>0.666667</td>\n",
       "      <td>0.737705</td>\n",
       "    </tr>\n",
       "    <tr>\n",
       "      <th>CC(C)(C=C)O</th>\n",
       "      <td>0.585162</td>\n",
       "      <td>0.242697</td>\n",
       "      <td>0.190132</td>\n",
       "      <td>0.260314</td>\n",
       "      <td>0.627229</td>\n",
       "      <td>0.0</td>\n",
       "      <td>0.000000</td>\n",
       "      <td>0.000000</td>\n",
       "      <td>0.168510</td>\n",
       "      <td>0.666667</td>\n",
       "      <td>0.792350</td>\n",
       "    </tr>\n",
       "    <tr>\n",
       "      <th>C=CCC1=CC2=C(C=C1)OCO2</th>\n",
       "      <td>0.488875</td>\n",
       "      <td>0.306878</td>\n",
       "      <td>0.227742</td>\n",
       "      <td>0.081086</td>\n",
       "      <td>0.703070</td>\n",
       "      <td>0.0</td>\n",
       "      <td>0.000000</td>\n",
       "      <td>0.000000</td>\n",
       "      <td>0.308727</td>\n",
       "      <td>0.777778</td>\n",
       "      <td>0.661202</td>\n",
       "    </tr>\n",
       "    <tr>\n",
       "      <th>...</th>\n",
       "      <td>...</td>\n",
       "      <td>...</td>\n",
       "      <td>...</td>\n",
       "      <td>...</td>\n",
       "      <td>...</td>\n",
       "      <td>...</td>\n",
       "      <td>...</td>\n",
       "      <td>...</td>\n",
       "      <td>...</td>\n",
       "      <td>...</td>\n",
       "      <td>...</td>\n",
       "    </tr>\n",
       "    <tr>\n",
       "      <th>CCCCS</th>\n",
       "      <td>0.832890</td>\n",
       "      <td>0.129394</td>\n",
       "      <td>0.229586</td>\n",
       "      <td>0.086771</td>\n",
       "      <td>0.627229</td>\n",
       "      <td>0.0</td>\n",
       "      <td>0.000000</td>\n",
       "      <td>0.000000</td>\n",
       "      <td>0.181235</td>\n",
       "      <td>0.666667</td>\n",
       "      <td>0.573770</td>\n",
       "    </tr>\n",
       "    <tr>\n",
       "      <th>CCN(CC)CC</th>\n",
       "      <td>0.655600</td>\n",
       "      <td>0.262960</td>\n",
       "      <td>0.171228</td>\n",
       "      <td>0.390471</td>\n",
       "      <td>0.627229</td>\n",
       "      <td>0.0</td>\n",
       "      <td>0.000000</td>\n",
       "      <td>0.000000</td>\n",
       "      <td>0.223878</td>\n",
       "      <td>0.222222</td>\n",
       "      <td>0.661202</td>\n",
       "    </tr>\n",
       "    <tr>\n",
       "      <th>C1=CC=C(C=C1)C(=O)C2=CC=CC=C2</th>\n",
       "      <td>0.585162</td>\n",
       "      <td>0.242697</td>\n",
       "      <td>0.244240</td>\n",
       "      <td>0.092679</td>\n",
       "      <td>0.627229</td>\n",
       "      <td>0.2</td>\n",
       "      <td>0.000000</td>\n",
       "      <td>0.000000</td>\n",
       "      <td>0.383871</td>\n",
       "      <td>0.444444</td>\n",
       "      <td>0.398907</td>\n",
       "    </tr>\n",
       "    <tr>\n",
       "      <th>N</th>\n",
       "      <td>0.585162</td>\n",
       "      <td>0.341642</td>\n",
       "      <td>0.207394</td>\n",
       "      <td>0.000000</td>\n",
       "      <td>0.627229</td>\n",
       "      <td>0.0</td>\n",
       "      <td>0.000000</td>\n",
       "      <td>0.000000</td>\n",
       "      <td>0.017957</td>\n",
       "      <td>0.111111</td>\n",
       "      <td>0.191257</td>\n",
       "    </tr>\n",
       "    <tr>\n",
       "      <th>CC(C)N</th>\n",
       "      <td>0.655600</td>\n",
       "      <td>0.262960</td>\n",
       "      <td>0.173263</td>\n",
       "      <td>0.260314</td>\n",
       "      <td>0.627229</td>\n",
       "      <td>0.0</td>\n",
       "      <td>0.000000</td>\n",
       "      <td>0.000000</td>\n",
       "      <td>0.115696</td>\n",
       "      <td>0.555556</td>\n",
       "      <td>0.704918</td>\n",
       "    </tr>\n",
       "  </tbody>\n",
       "</table>\n",
       "<p>692 rows × 11 columns</p>\n",
       "</div>"
      ],
      "text/plain": [
       "                                 SM1_Dz(p)  SM1_Dz(i)  SpPosA_B(p)  \\\n",
       "C1=CC(=CC=C1C(=O)O)[N+](=O)[O-]   0.348969   0.471852     0.194461   \n",
       "CCCCCCCCCCCCCCCCO                 0.585162   0.242697     0.189155   \n",
       "C1(C(O1)(F)F)(C(F)(F)F)F          0.159728   0.724321     0.057900   \n",
       "CC(C)(C=C)O                       0.585162   0.242697     0.190132   \n",
       "C=CCC1=CC2=C(C=C1)OCO2            0.488875   0.306878     0.227742   \n",
       "...                                    ...        ...          ...   \n",
       "CCCCS                             0.832890   0.129394     0.229586   \n",
       "CCN(CC)CC                         0.655600   0.262960     0.171228   \n",
       "C1=CC=C(C=C1)C(=O)C2=CC=CC=C2     0.585162   0.242697     0.244240   \n",
       "N                                 0.585162   0.341642     0.207394   \n",
       "CC(C)N                            0.655600   0.262960     0.173263   \n",
       "\n",
       "                                 P_VSA_MR_2  Eig03_EA(dm)  nCconj  \\\n",
       "C1=CC(=CC=C1C(=O)O)[N+](=O)[O-]    0.250000      0.627229     0.2   \n",
       "CCCCCCCCCCCCCCCCO                  0.086771      0.627229     0.0   \n",
       "C1(C(O1)(F)F)(C(F)(F)F)F           0.330838      0.795751     0.0   \n",
       "CC(C)(C=C)O                        0.260314      0.627229     0.0   \n",
       "C=CCC1=CC2=C(C=C1)OCO2             0.081086      0.703070     0.0   \n",
       "...                                     ...           ...     ...   \n",
       "CCCCS                              0.086771      0.627229     0.0   \n",
       "CCN(CC)CC                          0.390471      0.627229     0.0   \n",
       "C1=CC=C(C=C1)C(=O)C2=CC=CC=C2      0.092679      0.627229     0.2   \n",
       "N                                  0.000000      0.627229     0.0   \n",
       "CC(C)N                             0.260314      0.627229     0.0   \n",
       "\n",
       "                                 CATS2D_02_DA   T(N..O)       AMR    DLS_04  \\\n",
       "C1=CC(=CC=C1C(=O)O)[N+](=O)[O-]      0.166667  0.122449  0.266081  0.333333   \n",
       "CCCCCCCCCCCCCCCCO                    0.000000  0.000000  0.531805  0.111111   \n",
       "C1(C(O1)(F)F)(C(F)(F)F)F             0.000000  0.000000  0.099486  0.666667   \n",
       "CC(C)(C=C)O                          0.000000  0.000000  0.168510  0.666667   \n",
       "C=CCC1=CC2=C(C=C1)OCO2               0.000000  0.000000  0.308727  0.777778   \n",
       "...                                       ...       ...       ...       ...   \n",
       "CCCCS                                0.000000  0.000000  0.181235  0.666667   \n",
       "CCN(CC)CC                            0.000000  0.000000  0.223878  0.222222   \n",
       "C1=CC=C(C=C1)C(=O)C2=CC=CC=C2        0.000000  0.000000  0.383871  0.444444   \n",
       "N                                    0.000000  0.000000  0.017957  0.111111   \n",
       "CC(C)N                               0.000000  0.000000  0.115696  0.555556   \n",
       "\n",
       "                                 DLS_cons  \n",
       "C1=CC(=CC=C1C(=O)O)[N+](=O)[O-]  0.366120  \n",
       "CCCCCCCCCCCCCCCCO                0.000000  \n",
       "C1(C(O1)(F)F)(C(F)(F)F)F         0.737705  \n",
       "CC(C)(C=C)O                      0.792350  \n",
       "C=CCC1=CC2=C(C=C1)OCO2           0.661202  \n",
       "...                                   ...  \n",
       "CCCCS                            0.573770  \n",
       "CCN(CC)CC                        0.661202  \n",
       "C1=CC=C(C=C1)C(=O)C2=CC=CC=C2    0.398907  \n",
       "N                                0.191257  \n",
       "CC(C)N                           0.704918  \n",
       "\n",
       "[692 rows x 11 columns]"
      ]
     },
     "execution_count": 20,
     "metadata": {},
     "output_type": "execute_result"
    }
   ],
   "source": [
    "from sklearn import preprocessing \n",
    "\n",
    "# Scale dataset \n",
    "\n",
    "min_max_scaler = preprocessing.MinMaxScaler()\n",
    "X_train_transformed = min_max_scaler.fit_transform(X_train)\n",
    "\n",
    "X_train =  pd.DataFrame(X_train_transformed, columns=X_train.columns[0:], index=X_train.index)\n",
    "X_test = pd.DataFrame(min_max_scaler.transform(X_test), columns=X_test.columns[0:], index=X_test.index)\n",
    "\n",
    "min_max_scaler2 = preprocessing.MinMaxScaler()\n",
    "X_train_t_transformed = min_max_scaler2.fit_transform(X_train_t)\n",
    "\n",
    "X_train_t = pd.DataFrame(X_train_t_transformed, columns=X_train_t.columns[0:], index=X_train_t.index)\n",
    "X_val = pd.DataFrame(min_max_scaler2.transform(X_val), columns=X_val.columns[0:], index=X_val.index)\n",
    "\n",
    "X_train"
   ]
  },
  {
   "cell_type": "markdown",
   "id": "871c7438",
   "metadata": {},
   "source": [
    "# Test Model "
   ]
  },
  {
   "cell_type": "code",
   "execution_count": 21,
   "id": "2bae4b22",
   "metadata": {},
   "outputs": [],
   "source": [
    "def test_model(model, y_test, X_test, verbose=True):\n",
    "    y_pred=model.predict(X_test)\n",
    "    y_pred_probs=model.predict_proba(X_test)[:,1]\n",
    "    \n",
    "    if verbose:\n",
    "        print(\"ROC_AUC (TEST):\",metrics.roc_auc_score(y_test, y_pred_probs))\n",
    "        print(\"\\n\\nCLASSIFICATION REPORT:\\n\",metrics.classification_report(y_test, y_pred,  digits=4))\n",
    "        \n",
    "        if hasattr(model, 'feature_importances_') and hasattr(X_test, 'columns'):\n",
    "            feature_imp = pd.Series(model.feature_importances_,index=X_test.columns.values).sort_values(ascending=False)\n",
    "            top_20 = feature_imp.nlargest(20)\n",
    "            sns.barplot(x=top_20, y=top_20.index)\n",
    "            plt.xlabel('Descriptor Importance Score')\n",
    "            plt.ylabel('Descriptor')\n",
    "            plt.title(\"Top descriptors\")\n",
    "            plt.show()\n",
    "        \n",
    "        fpr, tpr, _ = metrics.roc_curve(y_test,  y_pred_probs)  \n",
    "        \n",
    "        #create ROC curve\n",
    "        plt.plot(fpr,tpr)\n",
    "        plt.ylabel('True Positive Rate')\n",
    "        plt.xlabel('False Positive Rate')\n",
    "        plt.show()\n",
    "        \n",
    "    return metrics.roc_auc_score(y_test, y_pred_probs)"
   ]
  },
  {
   "cell_type": "code",
   "execution_count": 22,
   "id": "16b8654c",
   "metadata": {},
   "outputs": [],
   "source": [
    "def test_model_cross_val(model, y_test, X_test, k=5, verbose=True):\n",
    "    roc_auc_nans = cross_val_score(model, X_test, y_test, cv=k, scoring='roc_auc')\n",
    "    print(f\"AVERAGE CV={k} ROC_AUC: {np.mean(roc_auc_nans)}\")\n",
    "    print(f\"AVERAGE CV={k} STD: {np.std(roc_auc_nans)}\")\n",
    "    return np.mean(roc_auc_nans), np.std(roc_auc_nans)"
   ]
  },
  {
   "cell_type": "markdown",
   "id": "8bd5adb1",
   "metadata": {},
   "source": [
    "# Handle Non Important Descriptors "
   ]
  },
  {
   "cell_type": "markdown",
   "id": "6c45b2a2",
   "metadata": {},
   "source": [
    "1. Remove values below threshold e.g. 0, any descriptors with 0 importance\n",
    "2. Get the top N descriptors"
   ]
  },
  {
   "cell_type": "code",
   "execution_count": 23,
   "id": "b4e733c1",
   "metadata": {},
   "outputs": [],
   "source": [
    "def handle_importance(model, X_train, X_test=pd.DataFrame(), threshold=-1, n=-1, verbose=None):\n",
    "    feature_imp = pd.Series(model.feature_importances_,index=X_train.columns.values).sort_values(ascending=False)\n",
    "    if threshold >= 0:\n",
    "        feature_imp = feature_imp[feature_imp > threshold]\n",
    "    \n",
    "    if n >= 0: \n",
    "        feature_imp = feature_imp.nlargest(n)\n",
    "        \n",
    "    if verbose: \n",
    "        print(feature_imp)\n",
    "        \n",
    "    X_train = X_train.loc[:, feature_imp.axes[0].tolist()]\n",
    "    \n",
    "    if not X_test.empty:\n",
    "        X_test = X_test.loc[:, feature_imp.axes[0].tolist()]\n",
    "\n",
    "    return X_train, X_test, model "
   ]
  },
  {
   "cell_type": "code",
   "execution_count": 41,
   "id": "b2e021f4",
   "metadata": {},
   "outputs": [],
   "source": [
    "def optimiseImportance(model, X_tr, y_tr, k=5, model_name=\"RF\", verbose=True):\n",
    "    \n",
    "    imp_params = [\n",
    "              {\"threshold\":-1, 'n':1},\n",
    "              {\"threshold\":-1, 'n':2},\n",
    "              {\"threshold\":-1, 'n':3},\n",
    "              {\"threshold\":-1, 'n':4},\n",
    "              {\"threshold\":-1, 'n':5},\n",
    "              {\"threshold\":-1, 'n':6}, \n",
    "              {\"threshold\":-1, 'n':7},\n",
    "              {\"threshold\":-1, 'n':8},\n",
    "              {\"threshold\":-1, 'n':9},\n",
    "              {\"threshold\":-1, 'n':10}, \n",
    "              {\"threshold\":-1, 'n':X_tr.shape[1]}]\n",
    "    \n",
    "    sns.set(rc={'figure.figsize':(11.7,12.27)})\n",
    "    feature_imp = pd.Series(model.feature_importances_,index=X_tr.columns.values).sort_values(ascending=False)\n",
    "    top_50 = feature_imp.nlargest(50)\n",
    "    sns.barplot(x=top_50, y=top_50.index)\n",
    "    plt.xlabel('Descriptor Importance Score')\n",
    "    plt.ylabel('Descriptor')\n",
    "    plt.title(f\"Top {top_50.shape[-1]} descriptors\")\n",
    "    plt.show()\n",
    "\n",
    "    print(f\"Cross validated importance experiment with k={k}\")\n",
    "    \n",
    "    imp_df = pd.DataFrame(columns=['Most important N descriptors', 'Average AUROC', 'Standard Deviation'])\n",
    "\n",
    "    for imp_param in imp_params: \n",
    "        name = (f\"Threshold:{imp_param['threshold']}N:{imp_param['n']}\".replace(\"N:-1\", '')).replace(\"Threshold:-1\", '')\n",
    "        \n",
    "        X_tr_temp , _, _ = handle_importance(model, \n",
    "                                            X_tr.copy(), \n",
    "                                            threshold=imp_param['threshold'], \n",
    "                                            n=imp_param['n'])\n",
    "                \n",
    "        roc_auc_nans = cross_val_score(model, X_tr_temp, y_tr, cv=k, scoring='roc_auc')\n",
    "        \n",
    "        imp_df = imp_df.append({'Most important N descriptors': imp_param['n'], \n",
    "                               'Average AUROC':np.mean(roc_auc_nans), \n",
    "                               'Standard Deviation':np.std(roc_auc_nans)}, \n",
    "                                ignore_index = True)\n",
    "\n",
    "    if verbose:\n",
    "        fig = imp_df.plot(kind=\"bar\", x=\"Most important N descriptors\", y=\"Average AUROC\", \n",
    "                          yerr=\"Standard Deviation\", \n",
    "                          figsize=(8,5),\n",
    "                          title=f\"AUROC after filtering descriptors by importance CV={k} - {model_name} - {dataset}\", legend=False)\n",
    "        plt.ylim(0.80,1)\n",
    "    return imp_df"
   ]
  },
  {
   "cell_type": "code",
   "execution_count": 45,
   "id": "0b8231e9",
   "metadata": {},
   "outputs": [],
   "source": [
    "def testWithoutImportantDescs(model, X_tr, y_tr, k=5, model_name=\"RF\", verbose=True):\n",
    "    imp_params = [\n",
    "                  {\"threshold\":-1, 'n':1},\n",
    "                  {\"threshold\":-1, 'n':2},\n",
    "                  {\"threshold\":-1, 'n':3},\n",
    "                  {\"threshold\":-1, 'n':4},\n",
    "                  {\"threshold\":-1, 'n':5},\n",
    "                  {\"threshold\":-1, 'n':6}, \n",
    "                  {\"threshold\":-1, 'n':7},\n",
    "                  {\"threshold\":-1, 'n':8},\n",
    "                  {\"threshold\":-1, 'n':9},\n",
    "                  {\"threshold\":-1, 'n':10} ]\n",
    "    \n",
    "    imp_df = pd.DataFrame(columns=['Most important N descriptors', 'Average AUROC', 'Standard Deviation'])\n",
    "\n",
    "    roc_auc, std = test_model_cross_val(model, y_tr, X_tr)\n",
    "    imp_df = imp_df.append({'Most important N descriptors': 0, \n",
    "                       'Average AUROC':roc_auc, \n",
    "                       'Standard Deviation':std}, \n",
    "                        ignore_index = True)\n",
    "\n",
    "    \n",
    "    for imp_param in imp_params: \n",
    "        name = (f\"Threshold:{imp_param['threshold']}\")\n",
    "\n",
    "        feature_imp = pd.Series(model.feature_importances_,index=X_tr.columns.values).sort_values(ascending=False)\n",
    "        feature_imp = feature_imp.nlargest(imp_param['n'])\n",
    "        X_tr_temp = X_tr.drop(feature_imp.axes[0].tolist(), axis=1) \n",
    "        roc_auc_nans = cross_val_score(model, X_tr_temp, y_tr, cv=k, scoring='roc_auc')\n",
    "        \n",
    "        imp_df = imp_df.append({'Most important N descriptors': imp_param['n'], \n",
    "                               'Average AUROC':np.mean(roc_auc_nans), \n",
    "                               'Standard Deviation':np.std(roc_auc_nans)}, \n",
    "                                ignore_index = True)\n",
    "\n",
    "    if verbose:\n",
    "        fig = imp_df.plot(kind=\"bar\",figsize=(8,5), x=\"Most important N descriptors\", y=\"Average AUROC\",  ylabel=\"Average AUROC\",  yerr=\"Standard Deviation\", title=f\"AUROC after removing descriptors by importance CV={k}  - {model_name} - {dataset}\", legend=False)\n",
    "        plt.ylim(0,1)\n",
    "        \n",
    "    return imp_df"
   ]
  },
  {
   "cell_type": "markdown",
   "id": "0f1bf4be",
   "metadata": {},
   "source": [
    "# Handle NaNs\n"
   ]
  },
  {
   "cell_type": "markdown",
   "id": "c2288767",
   "metadata": {},
   "source": [
    "- You cannot have any missing values in the random forest model, you can in XGB\n",
    "- You cannot have mismatched features between columns in the random forest model\n",
    "- 3 options \n",
    "    1. Remove any columns with missing values \n",
    "    2. Remove columns above threshold percentange NaNs e.g. 60% NaNs. \n",
    "    3. Remove columns above threshold percentange NaNs e.g. 60% NaNs. Replace columns below threshold with missing values with the mean value."
   ]
  },
  {
   "cell_type": "code",
   "execution_count": 26,
   "id": "93581d4a",
   "metadata": {},
   "outputs": [],
   "source": [
    "from sklearn.impute import KNNImputer\n",
    "\n",
    "def handleNaNs(X_tr, X_te, option=1, thresh=0.6): \n",
    "    if option == 1:\n",
    "        nans =  X.columns[X.isna().any()].tolist()\n",
    "        X_tr.drop(nans, inplace = True, axis=1)\n",
    "        X_te.drop(nans, inplace = True, axis=1)\n",
    "    else: \n",
    "        nans = X.isna().mean(axis=0)\n",
    "        # set threshold for percentage nans before we drop \n",
    "        X_thresh = nans[nans >= thresh]\n",
    "        X_tr.drop(X_thresh.index, \n",
    "          axis=1, \n",
    "          inplace=True)\n",
    "        X_te.drop(X_thresh.index, \n",
    "          axis=1, \n",
    "          inplace=True)\n",
    "        \n",
    "        if option == 3: \n",
    "            imputer = KNNImputer(n_neighbors=2)\n",
    "            X_tr_temp = imputer.fit_transform(X_tr)\n",
    "            X_te_temp = imputer.transform(X_te)\n",
    "            \n",
    "            X_tr =  pd.DataFrame(X_tr_temp, columns=X_tr.columns[0:], index=X_tr.index)\n",
    "            X_te = pd.DataFrame(X_te_temp, columns=X_te.columns[0:], index=X_te.index)\n",
    "    \n",
    "    return X_tr, X_te"
   ]
  },
  {
   "cell_type": "markdown",
   "id": "89740143",
   "metadata": {},
   "source": [
    "# Random Forest Model"
   ]
  },
  {
   "cell_type": "markdown",
   "id": "b7a8cf3b",
   "metadata": {},
   "source": [
    "https://www.datacamp.com/tutorial/random-forests-classifier-python"
   ]
  },
  {
   "cell_type": "code",
   "execution_count": 157,
   "id": "7cb30c67",
   "metadata": {},
   "outputs": [],
   "source": [
    "clf=RandomForestClassifier(random_state=SEED) \n",
    "\n",
    "# For readability\n",
    "y_train_rf = y_train.copy()\n",
    "y_test_rf = y_test.copy()\n",
    "X_train_rf = X_train.copy()\n",
    "X_test_rf = X_test.copy()"
   ]
  },
  {
   "cell_type": "markdown",
   "id": "62f7458e",
   "metadata": {},
   "source": [
    "## Handle NaNs RF"
   ]
  },
  {
   "cell_type": "code",
   "execution_count": 158,
   "id": "72a8bc6e",
   "metadata": {},
   "outputs": [],
   "source": [
    "# Handle NaNs in random forest\n",
    "# impute all missing values, since there aren't many\n",
    "X_train_rf, X_test_rf = handleNaNs(X_train.copy(), X_test.copy(), option=3, thresh=0.9)\n",
    "X_train_t_rf, X_val_rf = handleNaNs(X_train_t.copy(), X_val.copy(), option=3, thresh=0.9)"
   ]
  },
  {
   "cell_type": "code",
   "execution_count": 58,
   "id": "d424f366",
   "metadata": {
    "scrolled": true
   },
   "outputs": [
    {
     "name": "stdout",
     "output_type": "stream",
     "text": [
      "Cross validated = 5 performance of Random Forest after removing all columns with NaNs\n",
      "AVERAGE CV=5 ROC_AUC: 0.9571737786023501\n",
      "AVERAGE CV=5 STD: 0.006901991580468326\n"
     ]
    },
    {
     "data": {
      "text/plain": [
       "(0.9571737786023501, 0.006901991580468326)"
      ]
     },
     "execution_count": 58,
     "metadata": {},
     "output_type": "execute_result"
    }
   ],
   "source": [
    "clf.fit(X_train_rf, y_train_rf)\n",
    "print(\"Cross validated = 5 performance of Random Forest after removing all columns with NaNs\")\n",
    "test_model_cross_val(clf, y_train_rf, X_train_rf, k=5, verbose=True)"
   ]
  },
  {
   "cell_type": "markdown",
   "id": "4eb771b3",
   "metadata": {},
   "source": [
    "## Importance experiment"
   ]
  },
  {
   "cell_type": "code",
   "execution_count": 43,
   "id": "30ec02fd",
   "metadata": {},
   "outputs": [
    {
     "data": {
      "image/png": "[encoded data removed]",
      "text/plain": [
       "<Figure size 842.4x883.44 with 1 Axes>"
      ]
     },
     "metadata": {},
     "output_type": "display_data"
    },
    {
     "name": "stdout",
     "output_type": "stream",
     "text": [
      "Cross validated importance experiment with k=5\n"
     ]
    },
    {
     "data": {
      "text/html": [
       "<div>\n",
       "<style scoped>\n",
       "    .dataframe tbody tr th:only-of-type {\n",
       "        vertical-align: middle;\n",
       "    }\n",
       "\n",
       "    .dataframe tbody tr th {\n",
       "        vertical-align: top;\n",
       "    }\n",
       "\n",
       "    .dataframe thead th {\n",
       "        text-align: right;\n",
       "    }\n",
       "</style>\n",
       "<table border=\"1\" class=\"dataframe\">\n",
       "  <thead>\n",
       "    <tr style=\"text-align: right;\">\n",
       "      <th></th>\n",
       "      <th>Most important N descriptors</th>\n",
       "      <th>Average AUROC</th>\n",
       "      <th>Standard Deviation</th>\n",
       "    </tr>\n",
       "  </thead>\n",
       "  <tbody>\n",
       "    <tr>\n",
       "      <th>0</th>\n",
       "      <td>1.0</td>\n",
       "      <td>0.908699</td>\n",
       "      <td>0.024359</td>\n",
       "    </tr>\n",
       "    <tr>\n",
       "      <th>1</th>\n",
       "      <td>2.0</td>\n",
       "      <td>0.916386</td>\n",
       "      <td>0.017809</td>\n",
       "    </tr>\n",
       "    <tr>\n",
       "      <th>2</th>\n",
       "      <td>3.0</td>\n",
       "      <td>0.936247</td>\n",
       "      <td>0.014381</td>\n",
       "    </tr>\n",
       "    <tr>\n",
       "      <th>3</th>\n",
       "      <td>4.0</td>\n",
       "      <td>0.947512</td>\n",
       "      <td>0.009238</td>\n",
       "    </tr>\n",
       "    <tr>\n",
       "      <th>4</th>\n",
       "      <td>5.0</td>\n",
       "      <td>0.947117</td>\n",
       "      <td>0.008425</td>\n",
       "    </tr>\n",
       "    <tr>\n",
       "      <th>5</th>\n",
       "      <td>6.0</td>\n",
       "      <td>0.946399</td>\n",
       "      <td>0.012438</td>\n",
       "    </tr>\n",
       "    <tr>\n",
       "      <th>6</th>\n",
       "      <td>7.0</td>\n",
       "      <td>0.953547</td>\n",
       "      <td>0.005921</td>\n",
       "    </tr>\n",
       "    <tr>\n",
       "      <th>7</th>\n",
       "      <td>8.0</td>\n",
       "      <td>0.962443</td>\n",
       "      <td>0.002193</td>\n",
       "    </tr>\n",
       "    <tr>\n",
       "      <th>8</th>\n",
       "      <td>9.0</td>\n",
       "      <td>0.957012</td>\n",
       "      <td>0.005289</td>\n",
       "    </tr>\n",
       "    <tr>\n",
       "      <th>9</th>\n",
       "      <td>10.0</td>\n",
       "      <td>0.960828</td>\n",
       "      <td>0.004135</td>\n",
       "    </tr>\n",
       "    <tr>\n",
       "      <th>10</th>\n",
       "      <td>11.0</td>\n",
       "      <td>0.959582</td>\n",
       "      <td>0.004915</td>\n",
       "    </tr>\n",
       "  </tbody>\n",
       "</table>\n",
       "</div>"
      ],
      "text/plain": [
       "    Most important N descriptors  Average AUROC  Standard Deviation\n",
       "0                            1.0       0.908699            0.024359\n",
       "1                            2.0       0.916386            0.017809\n",
       "2                            3.0       0.936247            0.014381\n",
       "3                            4.0       0.947512            0.009238\n",
       "4                            5.0       0.947117            0.008425\n",
       "5                            6.0       0.946399            0.012438\n",
       "6                            7.0       0.953547            0.005921\n",
       "7                            8.0       0.962443            0.002193\n",
       "8                            9.0       0.957012            0.005289\n",
       "9                           10.0       0.960828            0.004135\n",
       "10                          11.0       0.959582            0.004915"
      ]
     },
     "execution_count": 43,
     "metadata": {},
     "output_type": "execute_result"
    },
    {
     "data": {
      "image/png": "[encoded data removed]",
      "text/plain": [
       "<Figure size 576x360 with 1 Axes>"
      ]
     },
     "metadata": {},
     "output_type": "display_data"
    }
   ],
   "source": [
    "clf.fit(X_train_rf, y_train_rf)\n",
    "optimiseImportance(clf, X_train_rf, y_train_rf)"
   ]
  },
  {
   "cell_type": "code",
   "execution_count": 46,
   "id": "c00bb22f",
   "metadata": {},
   "outputs": [
    {
     "name": "stdout",
     "output_type": "stream",
     "text": [
      "AVERAGE CV=5 ROC_AUC: 0.9571737786023501\n",
      "AVERAGE CV=5 STD: 0.006901991580468326\n"
     ]
    },
    {
     "data": {
      "text/html": [
       "<div>\n",
       "<style scoped>\n",
       "    .dataframe tbody tr th:only-of-type {\n",
       "        vertical-align: middle;\n",
       "    }\n",
       "\n",
       "    .dataframe tbody tr th {\n",
       "        vertical-align: top;\n",
       "    }\n",
       "\n",
       "    .dataframe thead th {\n",
       "        text-align: right;\n",
       "    }\n",
       "</style>\n",
       "<table border=\"1\" class=\"dataframe\">\n",
       "  <thead>\n",
       "    <tr style=\"text-align: right;\">\n",
       "      <th></th>\n",
       "      <th>Most important N descriptors</th>\n",
       "      <th>Average AUROC</th>\n",
       "      <th>Standard Deviation</th>\n",
       "    </tr>\n",
       "  </thead>\n",
       "  <tbody>\n",
       "    <tr>\n",
       "      <th>0</th>\n",
       "      <td>0.0</td>\n",
       "      <td>0.957174</td>\n",
       "      <td>0.006902</td>\n",
       "    </tr>\n",
       "    <tr>\n",
       "      <th>1</th>\n",
       "      <td>1.0</td>\n",
       "      <td>0.948979</td>\n",
       "      <td>0.008565</td>\n",
       "    </tr>\n",
       "    <tr>\n",
       "      <th>2</th>\n",
       "      <td>2.0</td>\n",
       "      <td>0.949072</td>\n",
       "      <td>0.018865</td>\n",
       "    </tr>\n",
       "    <tr>\n",
       "      <th>3</th>\n",
       "      <td>3.0</td>\n",
       "      <td>0.944965</td>\n",
       "      <td>0.015019</td>\n",
       "    </tr>\n",
       "    <tr>\n",
       "      <th>4</th>\n",
       "      <td>4.0</td>\n",
       "      <td>0.909235</td>\n",
       "      <td>0.015028</td>\n",
       "    </tr>\n",
       "    <tr>\n",
       "      <th>5</th>\n",
       "      <td>5.0</td>\n",
       "      <td>0.893667</td>\n",
       "      <td>0.015384</td>\n",
       "    </tr>\n",
       "    <tr>\n",
       "      <th>6</th>\n",
       "      <td>6.0</td>\n",
       "      <td>0.872730</td>\n",
       "      <td>0.025599</td>\n",
       "    </tr>\n",
       "    <tr>\n",
       "      <th>7</th>\n",
       "      <td>7.0</td>\n",
       "      <td>0.855267</td>\n",
       "      <td>0.029002</td>\n",
       "    </tr>\n",
       "    <tr>\n",
       "      <th>8</th>\n",
       "      <td>8.0</td>\n",
       "      <td>0.774779</td>\n",
       "      <td>0.028378</td>\n",
       "    </tr>\n",
       "    <tr>\n",
       "      <th>9</th>\n",
       "      <td>9.0</td>\n",
       "      <td>0.656094</td>\n",
       "      <td>0.055701</td>\n",
       "    </tr>\n",
       "    <tr>\n",
       "      <th>10</th>\n",
       "      <td>10.0</td>\n",
       "      <td>0.565956</td>\n",
       "      <td>0.038139</td>\n",
       "    </tr>\n",
       "  </tbody>\n",
       "</table>\n",
       "</div>"
      ],
      "text/plain": [
       "    Most important N descriptors  Average AUROC  Standard Deviation\n",
       "0                            0.0       0.957174            0.006902\n",
       "1                            1.0       0.948979            0.008565\n",
       "2                            2.0       0.949072            0.018865\n",
       "3                            3.0       0.944965            0.015019\n",
       "4                            4.0       0.909235            0.015028\n",
       "5                            5.0       0.893667            0.015384\n",
       "6                            6.0       0.872730            0.025599\n",
       "7                            7.0       0.855267            0.029002\n",
       "8                            8.0       0.774779            0.028378\n",
       "9                            9.0       0.656094            0.055701\n",
       "10                          10.0       0.565956            0.038139"
      ]
     },
     "execution_count": 46,
     "metadata": {},
     "output_type": "execute_result"
    },
    {
     "data": {
      "image/png": "[encoded data removed]",
      "text/plain": [
       "<Figure size 576x360 with 1 Axes>"
      ]
     },
     "metadata": {},
     "output_type": "display_data"
    }
   ],
   "source": [
    "clf.fit(X_train_rf, y_train_rf)\n",
    "testWithoutImportantDescs(clf, X_train_rf, y_train_rf)"
   ]
  },
  {
   "cell_type": "code",
   "execution_count": 159,
   "id": "c71cc91f",
   "metadata": {},
   "outputs": [],
   "source": [
    "# Filter labels by importance\n",
    "clf.fit(X_train_rf, y_train_rf)\n",
    "X_train_rf, X_test_rf, clf = handle_importance(clf, \n",
    "                                               X_train_rf, \n",
    "                                               X_test_rf, \n",
    "                                               threshold=-1, \n",
    "                                               n=8)"
   ]
  },
  {
   "cell_type": "code",
   "execution_count": 60,
   "id": "27a677ab",
   "metadata": {},
   "outputs": [
    {
     "name": "stdout",
     "output_type": "stream",
     "text": [
      "Cross validated training set performance of Random Forest after removing labels\n",
      "AVERAGE CV=5 ROC_AUC: 0.9624427952999381\n",
      "AVERAGE CV=5 STD: 0.002192808168398926\n"
     ]
    },
    {
     "data": {
      "text/plain": [
       "(0.9624427952999381, 0.002192808168398926)"
      ]
     },
     "execution_count": 60,
     "metadata": {},
     "output_type": "execute_result"
    }
   ],
   "source": [
    "clf.fit(X_train_rf, y_train_rf)\n",
    "print(\"Cross validated training set performance of Random Forest after removing labels\")\n",
    "test_model_cross_val(clf, y_train_rf, X_train_rf, k=5, verbose=True)"
   ]
  },
  {
   "cell_type": "code",
   "execution_count": 61,
   "id": "08e00c94",
   "metadata": {},
   "outputs": [
    {
     "data": {
      "text/html": [
       "<div>\n",
       "<style scoped>\n",
       "    .dataframe tbody tr th:only-of-type {\n",
       "        vertical-align: middle;\n",
       "    }\n",
       "\n",
       "    .dataframe tbody tr th {\n",
       "        vertical-align: top;\n",
       "    }\n",
       "\n",
       "    .dataframe thead th {\n",
       "        text-align: right;\n",
       "    }\n",
       "</style>\n",
       "<table border=\"1\" class=\"dataframe\">\n",
       "  <thead>\n",
       "    <tr style=\"text-align: right;\">\n",
       "      <th></th>\n",
       "      <th>SM1_Dz(i)</th>\n",
       "      <th>SM1_Dz(p)</th>\n",
       "      <th>AMR</th>\n",
       "      <th>SpPosA_B(p)</th>\n",
       "      <th>T(N..O)</th>\n",
       "      <th>CATS2D_02_DA</th>\n",
       "      <th>DLS_cons</th>\n",
       "      <th>P_VSA_MR_2</th>\n",
       "    </tr>\n",
       "  </thead>\n",
       "  <tbody>\n",
       "    <tr>\n",
       "      <th>C1=CC(=CC=C1C(=O)O)[N+](=O)[O-]</th>\n",
       "      <td>0.471852</td>\n",
       "      <td>0.348969</td>\n",
       "      <td>0.266081</td>\n",
       "      <td>0.194461</td>\n",
       "      <td>0.122449</td>\n",
       "      <td>0.166667</td>\n",
       "      <td>0.366120</td>\n",
       "      <td>0.250000</td>\n",
       "    </tr>\n",
       "    <tr>\n",
       "      <th>CCCCCCCCCCCCCCCCO</th>\n",
       "      <td>0.242697</td>\n",
       "      <td>0.585162</td>\n",
       "      <td>0.531805</td>\n",
       "      <td>0.189155</td>\n",
       "      <td>0.000000</td>\n",
       "      <td>0.000000</td>\n",
       "      <td>0.000000</td>\n",
       "      <td>0.086771</td>\n",
       "    </tr>\n",
       "    <tr>\n",
       "      <th>C1(C(O1)(F)F)(C(F)(F)F)F</th>\n",
       "      <td>0.724321</td>\n",
       "      <td>0.159728</td>\n",
       "      <td>0.099486</td>\n",
       "      <td>0.057900</td>\n",
       "      <td>0.000000</td>\n",
       "      <td>0.000000</td>\n",
       "      <td>0.737705</td>\n",
       "      <td>0.330838</td>\n",
       "    </tr>\n",
       "    <tr>\n",
       "      <th>CC(C)(C=C)O</th>\n",
       "      <td>0.242697</td>\n",
       "      <td>0.585162</td>\n",
       "      <td>0.168510</td>\n",
       "      <td>0.190132</td>\n",
       "      <td>0.000000</td>\n",
       "      <td>0.000000</td>\n",
       "      <td>0.792350</td>\n",
       "      <td>0.260314</td>\n",
       "    </tr>\n",
       "    <tr>\n",
       "      <th>C=CCC1=CC2=C(C=C1)OCO2</th>\n",
       "      <td>0.306878</td>\n",
       "      <td>0.488875</td>\n",
       "      <td>0.308727</td>\n",
       "      <td>0.227742</td>\n",
       "      <td>0.000000</td>\n",
       "      <td>0.000000</td>\n",
       "      <td>0.661202</td>\n",
       "      <td>0.081086</td>\n",
       "    </tr>\n",
       "    <tr>\n",
       "      <th>...</th>\n",
       "      <td>...</td>\n",
       "      <td>...</td>\n",
       "      <td>...</td>\n",
       "      <td>...</td>\n",
       "      <td>...</td>\n",
       "      <td>...</td>\n",
       "      <td>...</td>\n",
       "      <td>...</td>\n",
       "    </tr>\n",
       "    <tr>\n",
       "      <th>CCCCS</th>\n",
       "      <td>0.129394</td>\n",
       "      <td>0.832890</td>\n",
       "      <td>0.181235</td>\n",
       "      <td>0.229586</td>\n",
       "      <td>0.000000</td>\n",
       "      <td>0.000000</td>\n",
       "      <td>0.573770</td>\n",
       "      <td>0.086771</td>\n",
       "    </tr>\n",
       "    <tr>\n",
       "      <th>CCN(CC)CC</th>\n",
       "      <td>0.262960</td>\n",
       "      <td>0.655600</td>\n",
       "      <td>0.223878</td>\n",
       "      <td>0.171228</td>\n",
       "      <td>0.000000</td>\n",
       "      <td>0.000000</td>\n",
       "      <td>0.661202</td>\n",
       "      <td>0.390471</td>\n",
       "    </tr>\n",
       "    <tr>\n",
       "      <th>C1=CC=C(C=C1)C(=O)C2=CC=CC=C2</th>\n",
       "      <td>0.242697</td>\n",
       "      <td>0.585162</td>\n",
       "      <td>0.383871</td>\n",
       "      <td>0.244240</td>\n",
       "      <td>0.000000</td>\n",
       "      <td>0.000000</td>\n",
       "      <td>0.398907</td>\n",
       "      <td>0.092679</td>\n",
       "    </tr>\n",
       "    <tr>\n",
       "      <th>N</th>\n",
       "      <td>0.341642</td>\n",
       "      <td>0.585162</td>\n",
       "      <td>0.017957</td>\n",
       "      <td>0.207394</td>\n",
       "      <td>0.000000</td>\n",
       "      <td>0.000000</td>\n",
       "      <td>0.191257</td>\n",
       "      <td>0.000000</td>\n",
       "    </tr>\n",
       "    <tr>\n",
       "      <th>CC(C)N</th>\n",
       "      <td>0.262960</td>\n",
       "      <td>0.655600</td>\n",
       "      <td>0.115696</td>\n",
       "      <td>0.173263</td>\n",
       "      <td>0.000000</td>\n",
       "      <td>0.000000</td>\n",
       "      <td>0.704918</td>\n",
       "      <td>0.260314</td>\n",
       "    </tr>\n",
       "  </tbody>\n",
       "</table>\n",
       "<p>692 rows × 8 columns</p>\n",
       "</div>"
      ],
      "text/plain": [
       "                                 SM1_Dz(i)  SM1_Dz(p)       AMR  SpPosA_B(p)  \\\n",
       "C1=CC(=CC=C1C(=O)O)[N+](=O)[O-]   0.471852   0.348969  0.266081     0.194461   \n",
       "CCCCCCCCCCCCCCCCO                 0.242697   0.585162  0.531805     0.189155   \n",
       "C1(C(O1)(F)F)(C(F)(F)F)F          0.724321   0.159728  0.099486     0.057900   \n",
       "CC(C)(C=C)O                       0.242697   0.585162  0.168510     0.190132   \n",
       "C=CCC1=CC2=C(C=C1)OCO2            0.306878   0.488875  0.308727     0.227742   \n",
       "...                                    ...        ...       ...          ...   \n",
       "CCCCS                             0.129394   0.832890  0.181235     0.229586   \n",
       "CCN(CC)CC                         0.262960   0.655600  0.223878     0.171228   \n",
       "C1=CC=C(C=C1)C(=O)C2=CC=CC=C2     0.242697   0.585162  0.383871     0.244240   \n",
       "N                                 0.341642   0.585162  0.017957     0.207394   \n",
       "CC(C)N                            0.262960   0.655600  0.115696     0.173263   \n",
       "\n",
       "                                  T(N..O)  CATS2D_02_DA  DLS_cons  P_VSA_MR_2  \n",
       "C1=CC(=CC=C1C(=O)O)[N+](=O)[O-]  0.122449      0.166667  0.366120    0.250000  \n",
       "CCCCCCCCCCCCCCCCO                0.000000      0.000000  0.000000    0.086771  \n",
       "C1(C(O1)(F)F)(C(F)(F)F)F         0.000000      0.000000  0.737705    0.330838  \n",
       "CC(C)(C=C)O                      0.000000      0.000000  0.792350    0.260314  \n",
       "C=CCC1=CC2=C(C=C1)OCO2           0.000000      0.000000  0.661202    0.081086  \n",
       "...                                   ...           ...       ...         ...  \n",
       "CCCCS                            0.000000      0.000000  0.573770    0.086771  \n",
       "CCN(CC)CC                        0.000000      0.000000  0.661202    0.390471  \n",
       "C1=CC=C(C=C1)C(=O)C2=CC=CC=C2    0.000000      0.000000  0.398907    0.092679  \n",
       "N                                0.000000      0.000000  0.191257    0.000000  \n",
       "CC(C)N                           0.000000      0.000000  0.704918    0.260314  \n",
       "\n",
       "[692 rows x 8 columns]"
      ]
     },
     "execution_count": 61,
     "metadata": {},
     "output_type": "execute_result"
    }
   ],
   "source": [
    "X_train_rf"
   ]
  },
  {
   "cell_type": "markdown",
   "id": "8d1f13b1",
   "metadata": {},
   "source": [
    "## Tuning the hyperparamaters "
   ]
  },
  {
   "cell_type": "code",
   "execution_count": 62,
   "id": "995afc2a",
   "metadata": {},
   "outputs": [
    {
     "name": "stdout",
     "output_type": "stream",
     "text": [
      "Parameters currently in use:\n",
      "\n",
      "{'bootstrap': True, 'ccp_alpha': 0.0, 'class_weight': None, 'criterion': 'gini', 'max_depth': None, 'max_features': 'sqrt', 'max_leaf_nodes': None, 'max_samples': None, 'min_impurity_decrease': 0.0, 'min_samples_leaf': 1, 'min_samples_split': 2, 'min_weight_fraction_leaf': 0.0, 'n_estimators': 100, 'n_jobs': None, 'oob_score': False, 'random_state': 0, 'verbose': 0, 'warm_start': False}\n"
     ]
    }
   ],
   "source": [
    "# Look at parameters used by our current forest\n",
    "print('Parameters currently in use:\\n')\n",
    "print(clf.get_params())"
   ]
  },
  {
   "cell_type": "code",
   "execution_count": 63,
   "id": "92960bca",
   "metadata": {},
   "outputs": [
    {
     "name": "stdout",
     "output_type": "stream",
     "text": [
      "|   iter    |  target   | max_depth | min_sa... | min_sa... | n_esti... |\n",
      "-------------------------------------------------------------------------\n",
      "| \u001b[0m1        \u001b[0m | \u001b[0m0.9522   \u001b[0m | \u001b[0m111.1    \u001b[0m | \u001b[0m7.437    \u001b[0m | \u001b[0m60.67    \u001b[0m | \u001b[0m1.094e+03\u001b[0m |\n",
      "| \u001b[95m2        \u001b[0m | \u001b[95m0.9538   \u001b[0m | \u001b[95m86.46    \u001b[0m | \u001b[95m6.813    \u001b[0m | \u001b[95m44.32    \u001b[0m | \u001b[95m1.785e+03\u001b[0m |\n",
      "| \u001b[0m3        \u001b[0m | \u001b[0m0.952    \u001b[0m | \u001b[0m192.8    \u001b[0m | \u001b[0m4.451    \u001b[0m | \u001b[0m79.38    \u001b[0m | \u001b[0m1.063e+03\u001b[0m |\n",
      "| \u001b[95m4        \u001b[0m | \u001b[95m0.9541   \u001b[0m | \u001b[95m114.9    \u001b[0m | \u001b[95m9.33     \u001b[0m | \u001b[95m8.033    \u001b[0m | \u001b[95m183.4    \u001b[0m |\n",
      "| \u001b[0m5        \u001b[0m | \u001b[0m0.9518   \u001b[0m | \u001b[0m6.983    \u001b[0m | \u001b[0m8.494    \u001b[0m | \u001b[0m78.04    \u001b[0m | \u001b[0m1.741e+03\u001b[0m |\n",
      "| \u001b[95m6        \u001b[0m | \u001b[95m0.9564   \u001b[0m | \u001b[95m113.8    \u001b[0m | \u001b[95m7.378    \u001b[0m | \u001b[95m3.534    \u001b[0m | \u001b[95m173.1    \u001b[0m |\n",
      "| \u001b[95m7        \u001b[0m | \u001b[95m0.9621   \u001b[0m | \u001b[95m116.6    \u001b[0m | \u001b[95m2.516    \u001b[0m | \u001b[95m6.523    \u001b[0m | \u001b[95m171.7    \u001b[0m |\n",
      "| \u001b[0m8        \u001b[0m | \u001b[0m0.9587   \u001b[0m | \u001b[0m120.5    \u001b[0m | \u001b[0m4.794    \u001b[0m | \u001b[0m13.94    \u001b[0m | \u001b[0m170.5    \u001b[0m |\n",
      "| \u001b[0m9        \u001b[0m | \u001b[0m0.9595   \u001b[0m | \u001b[0m118.4    \u001b[0m | \u001b[0m5.86     \u001b[0m | \u001b[0m3.813    \u001b[0m | \u001b[0m165.7    \u001b[0m |\n",
      "| \u001b[0m10       \u001b[0m | \u001b[0m0.9601   \u001b[0m | \u001b[0m107.7    \u001b[0m | \u001b[0m2.924    \u001b[0m | \u001b[0m16.8     \u001b[0m | \u001b[0m170.9    \u001b[0m |\n",
      "| \u001b[0m11       \u001b[0m | \u001b[0m0.9575   \u001b[0m | \u001b[0m112.4    \u001b[0m | \u001b[0m4.442    \u001b[0m | \u001b[0m19.0     \u001b[0m | \u001b[0m162.8    \u001b[0m |\n",
      "| \u001b[0m12       \u001b[0m | \u001b[0m0.9557   \u001b[0m | \u001b[0m98.67    \u001b[0m | \u001b[0m9.551    \u001b[0m | \u001b[0m22.48    \u001b[0m | \u001b[0m179.4    \u001b[0m |\n",
      "| \u001b[0m13       \u001b[0m | \u001b[0m0.9607   \u001b[0m | \u001b[0m117.4    \u001b[0m | \u001b[0m1.194    \u001b[0m | \u001b[0m11.07    \u001b[0m | \u001b[0m169.8    \u001b[0m |\n",
      "| \u001b[0m14       \u001b[0m | \u001b[0m0.9589   \u001b[0m | \u001b[0m132.5    \u001b[0m | \u001b[0m1.583    \u001b[0m | \u001b[0m8.423    \u001b[0m | \u001b[0m164.5    \u001b[0m |\n",
      "| \u001b[0m15       \u001b[0m | \u001b[0m0.9615   \u001b[0m | \u001b[0m126.1    \u001b[0m | \u001b[0m3.365    \u001b[0m | \u001b[0m6.885    \u001b[0m | \u001b[0m177.8    \u001b[0m |\n",
      "| \u001b[0m16       \u001b[0m | \u001b[0m0.9579   \u001b[0m | \u001b[0m134.6    \u001b[0m | \u001b[0m6.963    \u001b[0m | \u001b[0m3.125    \u001b[0m | \u001b[0m176.8    \u001b[0m |\n",
      "| \u001b[0m17       \u001b[0m | \u001b[0m0.9604   \u001b[0m | \u001b[0m121.9    \u001b[0m | \u001b[0m2.462    \u001b[0m | \u001b[0m7.607    \u001b[0m | \u001b[0m148.8    \u001b[0m |\n",
      "| \u001b[0m18       \u001b[0m | \u001b[0m0.9605   \u001b[0m | \u001b[0m111.5    \u001b[0m | \u001b[0m2.282    \u001b[0m | \u001b[0m4.383    \u001b[0m | \u001b[0m139.4    \u001b[0m |\n",
      "| \u001b[0m19       \u001b[0m | \u001b[0m0.9557   \u001b[0m | \u001b[0m112.8    \u001b[0m | \u001b[0m7.117    \u001b[0m | \u001b[0m18.34    \u001b[0m | \u001b[0m136.0    \u001b[0m |\n",
      "| \u001b[0m20       \u001b[0m | \u001b[0m0.9556   \u001b[0m | \u001b[0m127.7    \u001b[0m | \u001b[0m9.135    \u001b[0m | \u001b[0m5.839    \u001b[0m | \u001b[0m142.4    \u001b[0m |\n",
      "| \u001b[0m21       \u001b[0m | \u001b[0m0.962    \u001b[0m | \u001b[0m114.2    \u001b[0m | \u001b[0m2.663    \u001b[0m | \u001b[0m1.523    \u001b[0m | \u001b[0m147.0    \u001b[0m |\n",
      "| \u001b[0m22       \u001b[0m | \u001b[0m0.9605   \u001b[0m | \u001b[0m97.03    \u001b[0m | \u001b[0m1.118    \u001b[0m | \u001b[0m7.356    \u001b[0m | \u001b[0m150.9    \u001b[0m |\n",
      "| \u001b[0m23       \u001b[0m | \u001b[0m0.9614   \u001b[0m | \u001b[0m106.1    \u001b[0m | \u001b[0m3.793    \u001b[0m | \u001b[0m2.24     \u001b[0m | \u001b[0m159.4    \u001b[0m |\n",
      "| \u001b[0m24       \u001b[0m | \u001b[0m0.9613   \u001b[0m | \u001b[0m82.75    \u001b[0m | \u001b[0m3.054    \u001b[0m | \u001b[0m8.034    \u001b[0m | \u001b[0m160.3    \u001b[0m |\n",
      "| \u001b[0m25       \u001b[0m | \u001b[0m0.9571   \u001b[0m | \u001b[0m93.63    \u001b[0m | \u001b[0m7.194    \u001b[0m | \u001b[0m2.12     \u001b[0m | \u001b[0m168.3    \u001b[0m |\n",
      "| \u001b[0m26       \u001b[0m | \u001b[0m0.9588   \u001b[0m | \u001b[0m84.7     \u001b[0m | \u001b[0m6.779    \u001b[0m | \u001b[0m14.17    \u001b[0m | \u001b[0m143.5    \u001b[0m |\n",
      "| \u001b[95m27       \u001b[0m | \u001b[95m0.9625   \u001b[0m | \u001b[95m111.6    \u001b[0m | \u001b[95m3.345    \u001b[0m | \u001b[95m9.503    \u001b[0m | \u001b[95m148.2    \u001b[0m |\n",
      "| \u001b[0m28       \u001b[0m | \u001b[0m0.9614   \u001b[0m | \u001b[0m66.9     \u001b[0m | \u001b[0m2.182    \u001b[0m | \u001b[0m11.51    \u001b[0m | \u001b[0m163.7    \u001b[0m |\n",
      "| \u001b[0m29       \u001b[0m | \u001b[0m0.9589   \u001b[0m | \u001b[0m62.29    \u001b[0m | \u001b[0m2.677    \u001b[0m | \u001b[0m12.41    \u001b[0m | \u001b[0m153.6    \u001b[0m |\n",
      "| \u001b[0m30       \u001b[0m | \u001b[0m0.9569   \u001b[0m | \u001b[0m67.75    \u001b[0m | \u001b[0m6.275    \u001b[0m | \u001b[0m9.047    \u001b[0m | \u001b[0m173.2    \u001b[0m |\n",
      "| \u001b[0m31       \u001b[0m | \u001b[0m0.9595   \u001b[0m | \u001b[0m78.79    \u001b[0m | \u001b[0m3.742    \u001b[0m | \u001b[0m19.68    \u001b[0m | \u001b[0m160.0    \u001b[0m |\n",
      "| \u001b[0m32       \u001b[0m | \u001b[0m0.9556   \u001b[0m | \u001b[0m98.42    \u001b[0m | \u001b[0m9.866    \u001b[0m | \u001b[0m17.37    \u001b[0m | \u001b[0m157.3    \u001b[0m |\n",
      "| \u001b[0m33       \u001b[0m | \u001b[0m0.9622   \u001b[0m | \u001b[0m75.38    \u001b[0m | \u001b[0m2.806    \u001b[0m | \u001b[0m3.726    \u001b[0m | \u001b[0m159.2    \u001b[0m |\n",
      "| \u001b[0m34       \u001b[0m | \u001b[0m0.9566   \u001b[0m | \u001b[0m88.73    \u001b[0m | \u001b[0m6.787    \u001b[0m | \u001b[0m3.139    \u001b[0m | \u001b[0m134.0    \u001b[0m |\n",
      "| \u001b[0m35       \u001b[0m | \u001b[0m0.9601   \u001b[0m | \u001b[0m131.2    \u001b[0m | \u001b[0m1.606    \u001b[0m | \u001b[0m14.64    \u001b[0m | \u001b[0m182.6    \u001b[0m |\n",
      "| \u001b[0m36       \u001b[0m | \u001b[0m0.9564   \u001b[0m | \u001b[0m54.99    \u001b[0m | \u001b[0m3.34     \u001b[0m | \u001b[0m34.03    \u001b[0m | \u001b[0m163.4    \u001b[0m |\n",
      "| \u001b[0m37       \u001b[0m | \u001b[0m0.9569   \u001b[0m | \u001b[0m145.6    \u001b[0m | \u001b[0m3.761    \u001b[0m | \u001b[0m33.35    \u001b[0m | \u001b[0m178.5    \u001b[0m |\n",
      "| \u001b[0m38       \u001b[0m | \u001b[0m0.9604   \u001b[0m | \u001b[0m142.2    \u001b[0m | \u001b[0m3.842    \u001b[0m | \u001b[0m16.88    \u001b[0m | \u001b[0m220.2    \u001b[0m |\n",
      "| \u001b[0m39       \u001b[0m | \u001b[0m0.9563   \u001b[0m | \u001b[0m72.53    \u001b[0m | \u001b[0m8.889    \u001b[0m | \u001b[0m6.335    \u001b[0m | \u001b[0m147.0    \u001b[0m |\n",
      "| \u001b[0m40       \u001b[0m | \u001b[0m0.9591   \u001b[0m | \u001b[0m151.2    \u001b[0m | \u001b[0m5.44     \u001b[0m | \u001b[0m7.67     \u001b[0m | \u001b[0m216.7    \u001b[0m |\n",
      "| \u001b[0m41       \u001b[0m | \u001b[0m0.9564   \u001b[0m | \u001b[0m153.6    \u001b[0m | \u001b[0m7.102    \u001b[0m | \u001b[0m23.48    \u001b[0m | \u001b[0m225.4    \u001b[0m |\n",
      "| \u001b[0m42       \u001b[0m | \u001b[0m0.9592   \u001b[0m | \u001b[0m144.4    \u001b[0m | \u001b[0m4.859    \u001b[0m | \u001b[0m10.99    \u001b[0m | \u001b[0m200.0    \u001b[0m |\n",
      "| \u001b[0m43       \u001b[0m | \u001b[0m0.9563   \u001b[0m | \u001b[0m136.2    \u001b[0m | \u001b[0m7.296    \u001b[0m | \u001b[0m10.8     \u001b[0m | \u001b[0m221.2    \u001b[0m |\n",
      "| \u001b[0m44       \u001b[0m | \u001b[0m0.9612   \u001b[0m | \u001b[0m107.9    \u001b[0m | \u001b[0m1.652    \u001b[0m | \u001b[0m6.012    \u001b[0m | \u001b[0m151.6    \u001b[0m |\n",
      "| \u001b[95m45       \u001b[0m | \u001b[95m0.9627   \u001b[0m | \u001b[95m75.36    \u001b[0m | \u001b[95m2.036    \u001b[0m | \u001b[95m4.034    \u001b[0m | \u001b[95m163.1    \u001b[0m |\n",
      "| \u001b[0m46       \u001b[0m | \u001b[0m0.9604   \u001b[0m | \u001b[0m155.7    \u001b[0m | \u001b[0m2.515    \u001b[0m | \u001b[0m20.97    \u001b[0m | \u001b[0m204.0    \u001b[0m |\n",
      "| \u001b[0m47       \u001b[0m | \u001b[0m0.9568   \u001b[0m | \u001b[0m133.8    \u001b[0m | \u001b[0m2.216    \u001b[0m | \u001b[0m28.62    \u001b[0m | \u001b[0m211.8    \u001b[0m |\n",
      "| \u001b[0m48       \u001b[0m | \u001b[0m0.9576   \u001b[0m | \u001b[0m164.1    \u001b[0m | \u001b[0m3.764    \u001b[0m | \u001b[0m22.34    \u001b[0m | \u001b[0m194.4    \u001b[0m |\n",
      "| \u001b[0m49       \u001b[0m | \u001b[0m0.9594   \u001b[0m | \u001b[0m114.4    \u001b[0m | \u001b[0m5.566    \u001b[0m | \u001b[0m10.67    \u001b[0m | \u001b[0m155.1    \u001b[0m |\n",
      "| \u001b[0m50       \u001b[0m | \u001b[0m0.9611   \u001b[0m | \u001b[0m65.39    \u001b[0m | \u001b[0m3.751    \u001b[0m | \u001b[0m2.336    \u001b[0m | \u001b[0m160.8    \u001b[0m |\n",
      "| \u001b[0m51       \u001b[0m | \u001b[0m0.9566   \u001b[0m | \u001b[0m161.4    \u001b[0m | \u001b[0m6.871    \u001b[0m | \u001b[0m4.738    \u001b[0m | \u001b[0m208.7    \u001b[0m |\n",
      "| \u001b[0m52       \u001b[0m | \u001b[0m0.9552   \u001b[0m | \u001b[0m107.1    \u001b[0m | \u001b[0m9.288    \u001b[0m | \u001b[0m5.416    \u001b[0m | \u001b[0m143.7    \u001b[0m |\n",
      "| \u001b[0m53       \u001b[0m | \u001b[0m0.9612   \u001b[0m | \u001b[0m53.16    \u001b[0m | \u001b[0m4.696    \u001b[0m | \u001b[0m2.09     \u001b[0m | \u001b[0m161.7    \u001b[0m |\n",
      "| \u001b[0m54       \u001b[0m | \u001b[0m0.96     \u001b[0m | \u001b[0m51.87    \u001b[0m | \u001b[0m5.305    \u001b[0m | \u001b[0m1.94     \u001b[0m | \u001b[0m151.5    \u001b[0m |\n",
      "| \u001b[0m55       \u001b[0m | \u001b[0m0.9601   \u001b[0m | \u001b[0m51.36    \u001b[0m | \u001b[0m3.014    \u001b[0m | \u001b[0m11.96    \u001b[0m | \u001b[0m167.9    \u001b[0m |\n",
      "=========================================================================\n"
     ]
    }
   ],
   "source": [
    "params = {\n",
    "    'n_estimators': (10, 2000),\n",
    "    'min_samples_split': (1, 100),\n",
    "    'max_depth': (3,200),\n",
    "    'min_samples_leaf': (1, 10)\n",
    "    }\n",
    "\n",
    "def rf_hyper_param(n_estimators, \n",
    "                       min_samples_split, \n",
    "                       max_depth, \n",
    "                       min_samples_leaf):\n",
    "\n",
    "    max_depth = int(max_depth)\n",
    "    min_samples_leaf = int(min_samples_leaf)\n",
    "    min_samples_split = int(min_samples_split)\n",
    "    n_estimators = int(n_estimators)\n",
    "\n",
    "    rf_temp = RandomForestClassifier(\n",
    "        n_estimators=n_estimators, \n",
    "        min_samples_split=min_samples_split, \n",
    "        max_depth=max_depth, \n",
    "        min_samples_leaf=min_samples_leaf)\n",
    "    \n",
    "    # calculate CV=3 K fold ROC_AUC accuracy for each model \n",
    "\n",
    "    return np.array(cross_val_score(rf_temp, X_train_rf, y_train_rf, cv=3, scoring='roc_auc')).mean()\n",
    "\n",
    "optimizer = BayesianOptimization(\n",
    "            f=rf_hyper_param,\n",
    "            pbounds=params,\n",
    "            random_state=SEED)\n",
    "\n",
    "optimizer.maximize(init_points=5, n_iter=50)"
   ]
  },
  {
   "cell_type": "code",
   "execution_count": 64,
   "id": "8fdf8621",
   "metadata": {},
   "outputs": [
    {
     "name": "stdout",
     "output_type": "stream",
     "text": [
      "AVERAGE CV=5 ROC_AUC: 0.9641715625644197\n",
      "AVERAGE CV=5 STD: 0.0035168003953330693\n"
     ]
    },
    {
     "data": {
      "text/plain": [
       "(0.9641715625644197, 0.0035168003953330693)"
      ]
     },
     "execution_count": 64,
     "metadata": {},
     "output_type": "execute_result"
    }
   ],
   "source": [
    "params_tuned_rf = optimizer.max['params']\n",
    "params_tuned_rf['max_depth'] = int(params_tuned_rf['max_depth'])\n",
    "params_tuned_rf['n_estimators'] = int(params_tuned_rf['n_estimators'])\n",
    "params_tuned_rf['min_samples_leaf'] = int(params_tuned_rf['min_samples_leaf'])\n",
    "params_tuned_rf['min_samples_split'] = int(params_tuned_rf['min_samples_split'])\n",
    "\n",
    "tuned_rf = RandomForestClassifier(**params_tuned_rf, random_state=SEED)\n",
    "test_model_cross_val(tuned_rf, y_train_rf, X_train_rf, k=5, verbose=True)"
   ]
  },
  {
   "cell_type": "code",
   "execution_count": 65,
   "id": "84c7d64e",
   "metadata": {},
   "outputs": [
    {
     "name": "stdout",
     "output_type": "stream",
     "text": [
      "{'max_depth': 75, 'min_samples_leaf': 2, 'min_samples_split': 4, 'n_estimators': 163}\n"
     ]
    }
   ],
   "source": [
    "print(params_tuned_rf)"
   ]
  },
  {
   "cell_type": "code",
   "execution_count": 161,
   "id": "a8a3d4a9",
   "metadata": {},
   "outputs": [
    {
     "data": {
      "text/html": [
       "<style>#sk-container-id-5 {color: black;background-color: white;}#sk-container-id-5 pre{padding: 0;}#sk-container-id-5 div.sk-toggleable {background-color: white;}#sk-container-id-5 label.sk-toggleable__label {cursor: pointer;display: block;width: 100%;margin-bottom: 0;padding: 0.3em;box-sizing: border-box;text-align: center;}#sk-container-id-5 label.sk-toggleable__label-arrow:before {content: \"▸\";float: left;margin-right: 0.25em;color: #696969;}#sk-container-id-5 label.sk-toggleable__label-arrow:hover:before {color: black;}#sk-container-id-5 div.sk-estimator:hover label.sk-toggleable__label-arrow:before {color: black;}#sk-container-id-5 div.sk-toggleable__content {max-height: 0;max-width: 0;overflow: hidden;text-align: left;background-color: #f0f8ff;}#sk-container-id-5 div.sk-toggleable__content pre {margin: 0.2em;color: black;border-radius: 0.25em;background-color: #f0f8ff;}#sk-container-id-5 input.sk-toggleable__control:checked~div.sk-toggleable__content {max-height: 200px;max-width: 100%;overflow: auto;}#sk-container-id-5 input.sk-toggleable__control:checked~label.sk-toggleable__label-arrow:before {content: \"▾\";}#sk-container-id-5 div.sk-estimator input.sk-toggleable__control:checked~label.sk-toggleable__label {background-color: #d4ebff;}#sk-container-id-5 div.sk-label input.sk-toggleable__control:checked~label.sk-toggleable__label {background-color: #d4ebff;}#sk-container-id-5 input.sk-hidden--visually {border: 0;clip: rect(1px 1px 1px 1px);clip: rect(1px, 1px, 1px, 1px);height: 1px;margin: -1px;overflow: hidden;padding: 0;position: absolute;width: 1px;}#sk-container-id-5 div.sk-estimator {font-family: monospace;background-color: #f0f8ff;border: 1px dotted black;border-radius: 0.25em;box-sizing: border-box;margin-bottom: 0.5em;}#sk-container-id-5 div.sk-estimator:hover {background-color: #d4ebff;}#sk-container-id-5 div.sk-parallel-item::after {content: \"\";width: 100%;border-bottom: 1px solid gray;flex-grow: 1;}#sk-container-id-5 div.sk-label:hover label.sk-toggleable__label {background-color: #d4ebff;}#sk-container-id-5 div.sk-serial::before {content: \"\";position: absolute;border-left: 1px solid gray;box-sizing: border-box;top: 0;bottom: 0;left: 50%;z-index: 0;}#sk-container-id-5 div.sk-serial {display: flex;flex-direction: column;align-items: center;background-color: white;padding-right: 0.2em;padding-left: 0.2em;position: relative;}#sk-container-id-5 div.sk-item {position: relative;z-index: 1;}#sk-container-id-5 div.sk-parallel {display: flex;align-items: stretch;justify-content: center;background-color: white;position: relative;}#sk-container-id-5 div.sk-item::before, #sk-container-id-5 div.sk-parallel-item::before {content: \"\";position: absolute;border-left: 1px solid gray;box-sizing: border-box;top: 0;bottom: 0;left: 50%;z-index: -1;}#sk-container-id-5 div.sk-parallel-item {display: flex;flex-direction: column;z-index: 1;position: relative;background-color: white;}#sk-container-id-5 div.sk-parallel-item:first-child::after {align-self: flex-end;width: 50%;}#sk-container-id-5 div.sk-parallel-item:last-child::after {align-self: flex-start;width: 50%;}#sk-container-id-5 div.sk-parallel-item:only-child::after {width: 0;}#sk-container-id-5 div.sk-dashed-wrapped {border: 1px dashed gray;margin: 0 0.4em 0.5em 0.4em;box-sizing: border-box;padding-bottom: 0.4em;background-color: white;}#sk-container-id-5 div.sk-label label {font-family: monospace;font-weight: bold;display: inline-block;line-height: 1.2em;}#sk-container-id-5 div.sk-label-container {text-align: center;}#sk-container-id-5 div.sk-container {/* jupyter's `normalize.less` sets `[hidden] { display: none; }` but bootstrap.min.css set `[hidden] { display: none !important; }` so we also need the `!important` here to be able to override the default hidden behavior on the sphinx rendered scikit-learn.org. See: https://github.com/scikit-learn/scikit-learn/issues/21755 */display: inline-block !important;position: relative;}#sk-container-id-5 div.sk-text-repr-fallback {display: none;}</style><div id=\"sk-container-id-5\" class=\"sk-top-container\"><div class=\"sk-text-repr-fallback\"><pre>RandomForestClassifier(max_depth=116, min_samples_leaf=2, min_samples_split=6,\n",
       "                       n_estimators=171, random_state=0)</pre><b>In a Jupyter environment, please rerun this cell to show the HTML representation or trust the notebook. <br />On GitHub, the HTML representation is unable to render, please try loading this page with nbviewer.org.</b></div><div class=\"sk-container\" hidden><div class=\"sk-item\"><div class=\"sk-estimator sk-toggleable\"><input class=\"sk-toggleable__control sk-hidden--visually\" id=\"sk-estimator-id-5\" type=\"checkbox\" checked><label for=\"sk-estimator-id-5\" class=\"sk-toggleable__label sk-toggleable__label-arrow\">RandomForestClassifier</label><div class=\"sk-toggleable__content\"><pre>RandomForestClassifier(max_depth=116, min_samples_leaf=2, min_samples_split=6,\n",
       "                       n_estimators=171, random_state=0)</pre></div></div></div></div></div>"
      ],
      "text/plain": [
       "RandomForestClassifier(max_depth=116, min_samples_leaf=2, min_samples_split=6,\n",
       "                       n_estimators=171, random_state=0)"
      ]
     },
     "execution_count": 161,
     "metadata": {},
     "output_type": "execute_result"
    }
   ],
   "source": [
    "# Run me if you want the tuned model without running training\n",
    "\n",
    "clf=RandomForestClassifier(random_state=SEED) \n",
    "\n",
    "# For readability\n",
    "y_train_rf = y_train.copy()\n",
    "y_test_rf = y_test.copy()\n",
    "X_train_rf = X_train.copy()\n",
    "X_test_rf = X_test.copy()\n",
    "\n",
    "# Handle NaNs\n",
    "X_train_rf, X_test_rf = handleNaNs(X_train.copy(), X_test.copy(), option=3, thresh=0.9)\n",
    "X_train_t_rf, X_val_rf = handleNaNs(X_train_t.copy(), X_val.copy(), option=3, thresh=0.9)\n",
    "\n",
    "# Fit model \n",
    "clf.fit(X_train_rf, y_train_rf)\n",
    "\n",
    "# Handle features \n",
    "X_train_rf, X_test_rf, clf = handle_importance(clf, \n",
    "                                               X_train_rf, \n",
    "                                               X_test_rf, \n",
    "                                               threshold=-1, \n",
    "                                               n=8)\n",
    "\n",
    "# Create tuned model\n",
    "params_tuned_rf_saved = {'max_depth': 116, 'min_samples_leaf': 2, 'min_samples_split': 6, 'n_estimators': 171}\n",
    "tuned_rf = RandomForestClassifier(**params_tuned_rf_saved, random_state=SEED)\n",
    "tuned_rf.fit(X_train_rf, y_train_rf)"
   ]
  },
  {
   "cell_type": "code",
   "execution_count": 67,
   "id": "0e2364d6",
   "metadata": {},
   "outputs": [
    {
     "name": "stdout",
     "output_type": "stream",
     "text": [
      "ROC_AUC (TEST): 0.9791869918699188\n",
      "\n",
      "\n",
      "CLASSIFICATION REPORT:\n",
      "               precision    recall  f1-score   support\n",
      "\n",
      "       False     0.8627    0.8800    0.8713        50\n",
      "        True     0.9508    0.9431    0.9469       123\n",
      "\n",
      "    accuracy                         0.9249       173\n",
      "   macro avg     0.9068    0.9115    0.9091       173\n",
      "weighted avg     0.9254    0.9249    0.9251       173\n",
      "\n"
     ]
    },
    {
     "data": {
      "image/png": "[encoded data removed]",
      "text/plain": [
       "<Figure size 842.4x883.44 with 1 Axes>"
      ]
     },
     "metadata": {},
     "output_type": "display_data"
    },
    {
     "data": {
      "image/png": "[encoded data removed]",
      "text/plain": [
       "<Figure size 842.4x883.44 with 1 Axes>"
      ]
     },
     "metadata": {},
     "output_type": "display_data"
    },
    {
     "data": {
      "text/plain": [
       "0.9791869918699188"
      ]
     },
     "execution_count": 67,
     "metadata": {},
     "output_type": "execute_result"
    }
   ],
   "source": [
    "tuned_rf.fit(X_train_rf, y_train_rf)\n",
    "test_model(tuned_rf, y_test_rf, X_test_rf)"
   ]
  },
  {
   "cell_type": "markdown",
   "id": "1eaa0f56",
   "metadata": {},
   "source": [
    "## Save dataframe used in RF to CSV\n",
    "- i.e. dataframe with all columns with *any* missing values removed"
   ]
  },
  {
   "cell_type": "code",
   "execution_count": 68,
   "id": "c468de0d",
   "metadata": {},
   "outputs": [
    {
     "data": {
      "text/html": [
       "<div>\n",
       "<style scoped>\n",
       "    .dataframe tbody tr th:only-of-type {\n",
       "        vertical-align: middle;\n",
       "    }\n",
       "\n",
       "    .dataframe tbody tr th {\n",
       "        vertical-align: top;\n",
       "    }\n",
       "\n",
       "    .dataframe thead th {\n",
       "        text-align: right;\n",
       "    }\n",
       "</style>\n",
       "<table border=\"1\" class=\"dataframe\">\n",
       "  <thead>\n",
       "    <tr style=\"text-align: right;\">\n",
       "      <th></th>\n",
       "      <th>SM1_Dz(i)</th>\n",
       "      <th>SM1_Dz(p)</th>\n",
       "      <th>AMR</th>\n",
       "      <th>SpPosA_B(p)</th>\n",
       "      <th>T(N..O)</th>\n",
       "      <th>CATS2D_02_DA</th>\n",
       "      <th>DLS_cons</th>\n",
       "      <th>P_VSA_MR_2</th>\n",
       "    </tr>\n",
       "  </thead>\n",
       "  <tbody>\n",
       "    <tr>\n",
       "      <th>C1=CC=C2C(=C1)C(=O)C(C2=O)(O)O</th>\n",
       "      <td>0.526148</td>\n",
       "      <td>-1.757858</td>\n",
       "      <td>43.4446</td>\n",
       "      <td>1.215730</td>\n",
       "      <td>0</td>\n",
       "      <td>1</td>\n",
       "      <td>0.700000</td>\n",
       "      <td>50.289854</td>\n",
       "    </tr>\n",
       "    <tr>\n",
       "      <th>C(=C(F)F)(C(F)(F)F)C(F)(F)F</th>\n",
       "      <td>1.342760</td>\n",
       "      <td>-2.898296</td>\n",
       "      <td>23.0111</td>\n",
       "      <td>0.895484</td>\n",
       "      <td>0</td>\n",
       "      <td>0</td>\n",
       "      <td>0.838095</td>\n",
       "      <td>89.760680</td>\n",
       "    </tr>\n",
       "    <tr>\n",
       "      <th>C1=C(C=C(C(=C1[N+](=O)[O-])O)[N+](=O)[O-])[N+](=O)[O-]</th>\n",
       "      <td>1.060322</td>\n",
       "      <td>-2.415914</td>\n",
       "      <td>49.7262</td>\n",
       "      <td>1.167397</td>\n",
       "      <td>71</td>\n",
       "      <td>0</td>\n",
       "      <td>0.723810</td>\n",
       "      <td>42.683343</td>\n",
       "    </tr>\n",
       "    <tr>\n",
       "      <th>CN1C(=O)CN=C(C2=C1C=CC(=C2)Cl)C3=CC=CC=C3</th>\n",
       "      <td>0.562583</td>\n",
       "      <td>-1.165429</td>\n",
       "      <td>79.9621</td>\n",
       "      <td>1.303249</td>\n",
       "      <td>5</td>\n",
       "      <td>0</td>\n",
       "      <td>0.871429</td>\n",
       "      <td>25.144927</td>\n",
       "    </tr>\n",
       "    <tr>\n",
       "      <th>C(C(C(F)(F)F)(F)Cl)(F)Cl</th>\n",
       "      <td>1.109189</td>\n",
       "      <td>-2.427375</td>\n",
       "      <td>26.4845</td>\n",
       "      <td>1.013713</td>\n",
       "      <td>0</td>\n",
       "      <td>0</td>\n",
       "      <td>0.809524</td>\n",
       "      <td>74.800566</td>\n",
       "    </tr>\n",
       "    <tr>\n",
       "      <th>...</th>\n",
       "      <td>...</td>\n",
       "      <td>...</td>\n",
       "      <td>...</td>\n",
       "      <td>...</td>\n",
       "      <td>...</td>\n",
       "      <td>...</td>\n",
       "      <td>...</td>\n",
       "      <td>...</td>\n",
       "    </tr>\n",
       "    <tr>\n",
       "      <th>CCCCC(=O)OCC</th>\n",
       "      <td>0.297286</td>\n",
       "      <td>-1.223775</td>\n",
       "      <td>35.9897</td>\n",
       "      <td>1.161512</td>\n",
       "      <td>0</td>\n",
       "      <td>0</td>\n",
       "      <td>0.952381</td>\n",
       "      <td>71.458121</td>\n",
       "    </tr>\n",
       "    <tr>\n",
       "      <th>C=CCSS(=O)CC=C</th>\n",
       "      <td>-0.000700</td>\n",
       "      <td>-0.346281</td>\n",
       "      <td>46.6775</td>\n",
       "      <td>1.374833</td>\n",
       "      <td>0</td>\n",
       "      <td>0</td>\n",
       "      <td>0.938095</td>\n",
       "      <td>22.156476</td>\n",
       "    </tr>\n",
       "    <tr>\n",
       "      <th>CCCC(=O)OCC(C)C</th>\n",
       "      <td>0.297286</td>\n",
       "      <td>-1.223775</td>\n",
       "      <td>40.3847</td>\n",
       "      <td>1.168715</td>\n",
       "      <td>0</td>\n",
       "      <td>0</td>\n",
       "      <td>0.952381</td>\n",
       "      <td>47.915917</td>\n",
       "    </tr>\n",
       "    <tr>\n",
       "      <th>CCCCCOC(=O)CCC</th>\n",
       "      <td>0.297286</td>\n",
       "      <td>-1.223775</td>\n",
       "      <td>45.1149</td>\n",
       "      <td>1.171368</td>\n",
       "      <td>0</td>\n",
       "      <td>0</td>\n",
       "      <td>0.923810</td>\n",
       "      <td>59.687019</td>\n",
       "    </tr>\n",
       "    <tr>\n",
       "      <th>CCC(=O)OCC(C)C</th>\n",
       "      <td>0.297286</td>\n",
       "      <td>-1.223775</td>\n",
       "      <td>35.7837</td>\n",
       "      <td>1.150121</td>\n",
       "      <td>0</td>\n",
       "      <td>0</td>\n",
       "      <td>0.952381</td>\n",
       "      <td>47.915917</td>\n",
       "    </tr>\n",
       "  </tbody>\n",
       "</table>\n",
       "<p>865 rows × 8 columns</p>\n",
       "</div>"
      ],
      "text/plain": [
       "                                                    SM1_Dz(i)  SM1_Dz(p)  \\\n",
       "C1=CC=C2C(=C1)C(=O)C(C2=O)(O)O                       0.526148  -1.757858   \n",
       "C(=C(F)F)(C(F)(F)F)C(F)(F)F                          1.342760  -2.898296   \n",
       "C1=C(C=C(C(=C1[N+](=O)[O-])O)[N+](=O)[O-])[N+](...   1.060322  -2.415914   \n",
       "CN1C(=O)CN=C(C2=C1C=CC(=C2)Cl)C3=CC=CC=C3            0.562583  -1.165429   \n",
       "C(C(C(F)(F)F)(F)Cl)(F)Cl                             1.109189  -2.427375   \n",
       "...                                                       ...        ...   \n",
       "CCCCC(=O)OCC                                         0.297286  -1.223775   \n",
       "C=CCSS(=O)CC=C                                      -0.000700  -0.346281   \n",
       "CCCC(=O)OCC(C)C                                      0.297286  -1.223775   \n",
       "CCCCCOC(=O)CCC                                       0.297286  -1.223775   \n",
       "CCC(=O)OCC(C)C                                       0.297286  -1.223775   \n",
       "\n",
       "                                                        AMR  SpPosA_B(p)  \\\n",
       "C1=CC=C2C(=C1)C(=O)C(C2=O)(O)O                      43.4446     1.215730   \n",
       "C(=C(F)F)(C(F)(F)F)C(F)(F)F                         23.0111     0.895484   \n",
       "C1=C(C=C(C(=C1[N+](=O)[O-])O)[N+](=O)[O-])[N+](...  49.7262     1.167397   \n",
       "CN1C(=O)CN=C(C2=C1C=CC(=C2)Cl)C3=CC=CC=C3           79.9621     1.303249   \n",
       "C(C(C(F)(F)F)(F)Cl)(F)Cl                            26.4845     1.013713   \n",
       "...                                                     ...          ...   \n",
       "CCCCC(=O)OCC                                        35.9897     1.161512   \n",
       "C=CCSS(=O)CC=C                                      46.6775     1.374833   \n",
       "CCCC(=O)OCC(C)C                                     40.3847     1.168715   \n",
       "CCCCCOC(=O)CCC                                      45.1149     1.171368   \n",
       "CCC(=O)OCC(C)C                                      35.7837     1.150121   \n",
       "\n",
       "                                                    T(N..O)  CATS2D_02_DA  \\\n",
       "C1=CC=C2C(=C1)C(=O)C(C2=O)(O)O                            0             1   \n",
       "C(=C(F)F)(C(F)(F)F)C(F)(F)F                               0             0   \n",
       "C1=C(C=C(C(=C1[N+](=O)[O-])O)[N+](=O)[O-])[N+](...       71             0   \n",
       "CN1C(=O)CN=C(C2=C1C=CC(=C2)Cl)C3=CC=CC=C3                 5             0   \n",
       "C(C(C(F)(F)F)(F)Cl)(F)Cl                                  0             0   \n",
       "...                                                     ...           ...   \n",
       "CCCCC(=O)OCC                                              0             0   \n",
       "C=CCSS(=O)CC=C                                            0             0   \n",
       "CCCC(=O)OCC(C)C                                           0             0   \n",
       "CCCCCOC(=O)CCC                                            0             0   \n",
       "CCC(=O)OCC(C)C                                            0             0   \n",
       "\n",
       "                                                    DLS_cons  P_VSA_MR_2  \n",
       "C1=CC=C2C(=C1)C(=O)C(C2=O)(O)O                      0.700000   50.289854  \n",
       "C(=C(F)F)(C(F)(F)F)C(F)(F)F                         0.838095   89.760680  \n",
       "C1=C(C=C(C(=C1[N+](=O)[O-])O)[N+](=O)[O-])[N+](...  0.723810   42.683343  \n",
       "CN1C(=O)CN=C(C2=C1C=CC(=C2)Cl)C3=CC=CC=C3           0.871429   25.144927  \n",
       "C(C(C(F)(F)F)(F)Cl)(F)Cl                            0.809524   74.800566  \n",
       "...                                                      ...         ...  \n",
       "CCCCC(=O)OCC                                        0.952381   71.458121  \n",
       "C=CCSS(=O)CC=C                                      0.938095   22.156476  \n",
       "CCCC(=O)OCC(C)C                                     0.952381   47.915917  \n",
       "CCCCCOC(=O)CCC                                      0.923810   59.687019  \n",
       "CCC(=O)OCC(C)C                                      0.952381   47.915917  \n",
       "\n",
       "[865 rows x 8 columns]"
      ]
     },
     "execution_count": 68,
     "metadata": {},
     "output_type": "execute_result"
    }
   ],
   "source": [
    "rf_csv = df.loc[:,X_train_rf.columns]\n",
    "rf_csv.to_csv(f'data/random-forest-df-{dataset}.csv')  \n",
    "rf_csv"
   ]
  },
  {
   "cell_type": "markdown",
   "id": "21de6403",
   "metadata": {},
   "source": [
    "# XgBoost\n",
    "\n",
    "https://practicaldatascience.co.uk/machine-learning/how-to-create-a-classification-model-using-xgboost"
   ]
  },
  {
   "cell_type": "code",
   "execution_count": 69,
   "id": "e57ad057",
   "metadata": {},
   "outputs": [],
   "source": [
    "# for readibility \n",
    "y_train_xgb = y_train.copy()\n",
    "y_test_xgb = y_test.copy()\n",
    "X_train_xgb = X_train.copy()\n",
    "X_test_xgb = X_test.copy()"
   ]
  },
  {
   "cell_type": "markdown",
   "id": "d4a257ed",
   "metadata": {},
   "source": [
    "## Create model"
   ]
  },
  {
   "cell_type": "code",
   "execution_count": 70,
   "id": "397c843f",
   "metadata": {},
   "outputs": [
    {
     "data": {
      "text/html": [
       "<style>#sk-container-id-3 {color: black;background-color: white;}#sk-container-id-3 pre{padding: 0;}#sk-container-id-3 div.sk-toggleable {background-color: white;}#sk-container-id-3 label.sk-toggleable__label {cursor: pointer;display: block;width: 100%;margin-bottom: 0;padding: 0.3em;box-sizing: border-box;text-align: center;}#sk-container-id-3 label.sk-toggleable__label-arrow:before {content: \"▸\";float: left;margin-right: 0.25em;color: #696969;}#sk-container-id-3 label.sk-toggleable__label-arrow:hover:before {color: black;}#sk-container-id-3 div.sk-estimator:hover label.sk-toggleable__label-arrow:before {color: black;}#sk-container-id-3 div.sk-toggleable__content {max-height: 0;max-width: 0;overflow: hidden;text-align: left;background-color: #f0f8ff;}#sk-container-id-3 div.sk-toggleable__content pre {margin: 0.2em;color: black;border-radius: 0.25em;background-color: #f0f8ff;}#sk-container-id-3 input.sk-toggleable__control:checked~div.sk-toggleable__content {max-height: 200px;max-width: 100%;overflow: auto;}#sk-container-id-3 input.sk-toggleable__control:checked~label.sk-toggleable__label-arrow:before {content: \"▾\";}#sk-container-id-3 div.sk-estimator input.sk-toggleable__control:checked~label.sk-toggleable__label {background-color: #d4ebff;}#sk-container-id-3 div.sk-label input.sk-toggleable__control:checked~label.sk-toggleable__label {background-color: #d4ebff;}#sk-container-id-3 input.sk-hidden--visually {border: 0;clip: rect(1px 1px 1px 1px);clip: rect(1px, 1px, 1px, 1px);height: 1px;margin: -1px;overflow: hidden;padding: 0;position: absolute;width: 1px;}#sk-container-id-3 div.sk-estimator {font-family: monospace;background-color: #f0f8ff;border: 1px dotted black;border-radius: 0.25em;box-sizing: border-box;margin-bottom: 0.5em;}#sk-container-id-3 div.sk-estimator:hover {background-color: #d4ebff;}#sk-container-id-3 div.sk-parallel-item::after {content: \"\";width: 100%;border-bottom: 1px solid gray;flex-grow: 1;}#sk-container-id-3 div.sk-label:hover label.sk-toggleable__label {background-color: #d4ebff;}#sk-container-id-3 div.sk-serial::before {content: \"\";position: absolute;border-left: 1px solid gray;box-sizing: border-box;top: 0;bottom: 0;left: 50%;z-index: 0;}#sk-container-id-3 div.sk-serial {display: flex;flex-direction: column;align-items: center;background-color: white;padding-right: 0.2em;padding-left: 0.2em;position: relative;}#sk-container-id-3 div.sk-item {position: relative;z-index: 1;}#sk-container-id-3 div.sk-parallel {display: flex;align-items: stretch;justify-content: center;background-color: white;position: relative;}#sk-container-id-3 div.sk-item::before, #sk-container-id-3 div.sk-parallel-item::before {content: \"\";position: absolute;border-left: 1px solid gray;box-sizing: border-box;top: 0;bottom: 0;left: 50%;z-index: -1;}#sk-container-id-3 div.sk-parallel-item {display: flex;flex-direction: column;z-index: 1;position: relative;background-color: white;}#sk-container-id-3 div.sk-parallel-item:first-child::after {align-self: flex-end;width: 50%;}#sk-container-id-3 div.sk-parallel-item:last-child::after {align-self: flex-start;width: 50%;}#sk-container-id-3 div.sk-parallel-item:only-child::after {width: 0;}#sk-container-id-3 div.sk-dashed-wrapped {border: 1px dashed gray;margin: 0 0.4em 0.5em 0.4em;box-sizing: border-box;padding-bottom: 0.4em;background-color: white;}#sk-container-id-3 div.sk-label label {font-family: monospace;font-weight: bold;display: inline-block;line-height: 1.2em;}#sk-container-id-3 div.sk-label-container {text-align: center;}#sk-container-id-3 div.sk-container {/* jupyter's `normalize.less` sets `[hidden] { display: none; }` but bootstrap.min.css set `[hidden] { display: none !important; }` so we also need the `!important` here to be able to override the default hidden behavior on the sphinx rendered scikit-learn.org. See: https://github.com/scikit-learn/scikit-learn/issues/21755 */display: inline-block !important;position: relative;}#sk-container-id-3 div.sk-text-repr-fallback {display: none;}</style><div id=\"sk-container-id-3\" class=\"sk-top-container\"><div class=\"sk-text-repr-fallback\"><pre>XGBClassifier(base_score=None, booster=None, callbacks=None,\n",
       "              colsample_bylevel=None, colsample_bynode=None,\n",
       "              colsample_bytree=None, early_stopping_rounds=None,\n",
       "              enable_categorical=False, eval_metric=None, feature_types=None,\n",
       "              gamma=None, gpu_id=None, grow_policy=None, importance_type=None,\n",
       "              interaction_constraints=None, learning_rate=None, max_bin=None,\n",
       "              max_cat_threshold=None, max_cat_to_onehot=None,\n",
       "              max_delta_step=None, max_depth=None, max_leaves=None,\n",
       "              min_child_weight=None, missing=nan, monotone_constraints=None,\n",
       "              n_estimators=100, n_jobs=None, num_parallel_tree=None,\n",
       "              predictor=None, random_state=0, ...)</pre><b>In a Jupyter environment, please rerun this cell to show the HTML representation or trust the notebook. <br />On GitHub, the HTML representation is unable to render, please try loading this page with nbviewer.org.</b></div><div class=\"sk-container\" hidden><div class=\"sk-item\"><div class=\"sk-estimator sk-toggleable\"><input class=\"sk-toggleable__control sk-hidden--visually\" id=\"sk-estimator-id-3\" type=\"checkbox\" checked><label for=\"sk-estimator-id-3\" class=\"sk-toggleable__label sk-toggleable__label-arrow\">XGBClassifier</label><div class=\"sk-toggleable__content\"><pre>XGBClassifier(base_score=None, booster=None, callbacks=None,\n",
       "              colsample_bylevel=None, colsample_bynode=None,\n",
       "              colsample_bytree=None, early_stopping_rounds=None,\n",
       "              enable_categorical=False, eval_metric=None, feature_types=None,\n",
       "              gamma=None, gpu_id=None, grow_policy=None, importance_type=None,\n",
       "              interaction_constraints=None, learning_rate=None, max_bin=None,\n",
       "              max_cat_threshold=None, max_cat_to_onehot=None,\n",
       "              max_delta_step=None, max_depth=None, max_leaves=None,\n",
       "              min_child_weight=None, missing=nan, monotone_constraints=None,\n",
       "              n_estimators=100, n_jobs=None, num_parallel_tree=None,\n",
       "              predictor=None, random_state=0, ...)</pre></div></div></div></div></div>"
      ],
      "text/plain": [
       "XGBClassifier(base_score=None, booster=None, callbacks=None,\n",
       "              colsample_bylevel=None, colsample_bynode=None,\n",
       "              colsample_bytree=None, early_stopping_rounds=None,\n",
       "              enable_categorical=False, eval_metric=None, feature_types=None,\n",
       "              gamma=None, gpu_id=None, grow_policy=None, importance_type=None,\n",
       "              interaction_constraints=None, learning_rate=None, max_bin=None,\n",
       "              max_cat_threshold=None, max_cat_to_onehot=None,\n",
       "              max_delta_step=None, max_depth=None, max_leaves=None,\n",
       "              min_child_weight=None, missing=nan, monotone_constraints=None,\n",
       "              n_estimators=100, n_jobs=None, num_parallel_tree=None,\n",
       "              predictor=None, random_state=0, ...)"
      ]
     },
     "execution_count": 70,
     "metadata": {},
     "output_type": "execute_result"
    }
   ],
   "source": [
    "xgb = XGBClassifier(random_state=SEED)\n",
    "xgb.fit(X_train_xgb, y_train_xgb)"
   ]
  },
  {
   "cell_type": "code",
   "execution_count": 71,
   "id": "e4d43460",
   "metadata": {},
   "outputs": [
    {
     "name": "stdout",
     "output_type": "stream",
     "text": [
      "Baseline performance of XGBoost\n",
      "AVERAGE CV=5 ROC_AUC: 0.9515530303030303\n",
      "AVERAGE CV=5 STD: 0.006778740339976748\n"
     ]
    },
    {
     "data": {
      "text/plain": [
       "(0.9515530303030303, 0.006778740339976748)"
      ]
     },
     "execution_count": 71,
     "metadata": {},
     "output_type": "execute_result"
    }
   ],
   "source": [
    "# Baseline results\n",
    "print(\"Baseline performance of XGBoost\")\n",
    "test_model_cross_val(xgb, y_train_xgb, X_train_xgb, k=5, verbose=True)"
   ]
  },
  {
   "cell_type": "markdown",
   "id": "c35abb5f",
   "metadata": {},
   "source": [
    "## Handle NaNs"
   ]
  },
  {
   "cell_type": "code",
   "execution_count": 73,
   "id": "9c952ab7",
   "metadata": {},
   "outputs": [],
   "source": [
    "X_train_xgb, X_test_xgb = handleNaNs(X_train.copy(), X_test.copy(), option=3, thresh=0.9)\n",
    "X_train_t_xgb, X_val_xgb = handleNaNs(X_train_t.copy(), X_val.copy(), option=3, thresh=0.9)"
   ]
  },
  {
   "cell_type": "code",
   "execution_count": 75,
   "id": "18800c2d",
   "metadata": {},
   "outputs": [
    {
     "name": "stdout",
     "output_type": "stream",
     "text": [
      "AVERAGE CV=5 ROC_AUC: 0.9558598742527314\n",
      "AVERAGE CV=5 STD: 0.0074389557478830234\n"
     ]
    },
    {
     "data": {
      "text/plain": [
       "(0.9558598742527314, 0.0074389557478830234)"
      ]
     },
     "execution_count": 75,
     "metadata": {},
     "output_type": "execute_result"
    }
   ],
   "source": [
    "# Imputing missing values rather than leaving in achieves better results\n",
    "xgb.fit(X_train_xgb, y_train_xgb)\n",
    "test_model_cross_val(xgb, y_train_xgb, X_train_xgb, k=5, verbose=True)"
   ]
  },
  {
   "cell_type": "markdown",
   "id": "7d9c3378",
   "metadata": {},
   "source": [
    "## Importance Experiment XGB"
   ]
  },
  {
   "cell_type": "code",
   "execution_count": 76,
   "id": "c81ac775",
   "metadata": {},
   "outputs": [
    {
     "data": {
      "image/png": "[encoded data removed]",
      "text/plain": [
       "<Figure size 842.4x883.44 with 1 Axes>"
      ]
     },
     "metadata": {},
     "output_type": "display_data"
    },
    {
     "name": "stdout",
     "output_type": "stream",
     "text": [
      "Cross validated importance experiment with k=5\n"
     ]
    },
    {
     "data": {
      "text/html": [
       "<div>\n",
       "<style scoped>\n",
       "    .dataframe tbody tr th:only-of-type {\n",
       "        vertical-align: middle;\n",
       "    }\n",
       "\n",
       "    .dataframe tbody tr th {\n",
       "        vertical-align: top;\n",
       "    }\n",
       "\n",
       "    .dataframe thead th {\n",
       "        text-align: right;\n",
       "    }\n",
       "</style>\n",
       "<table border=\"1\" class=\"dataframe\">\n",
       "  <thead>\n",
       "    <tr style=\"text-align: right;\">\n",
       "      <th></th>\n",
       "      <th>Most important N descriptors</th>\n",
       "      <th>Average AUROC</th>\n",
       "      <th>Standard Deviation</th>\n",
       "    </tr>\n",
       "  </thead>\n",
       "  <tbody>\n",
       "    <tr>\n",
       "      <th>0</th>\n",
       "      <td>1.0</td>\n",
       "      <td>0.915170</td>\n",
       "      <td>0.019633</td>\n",
       "    </tr>\n",
       "    <tr>\n",
       "      <th>1</th>\n",
       "      <td>2.0</td>\n",
       "      <td>0.922486</td>\n",
       "      <td>0.023415</td>\n",
       "    </tr>\n",
       "    <tr>\n",
       "      <th>2</th>\n",
       "      <td>3.0</td>\n",
       "      <td>0.934701</td>\n",
       "      <td>0.014250</td>\n",
       "    </tr>\n",
       "    <tr>\n",
       "      <th>3</th>\n",
       "      <td>4.0</td>\n",
       "      <td>0.936705</td>\n",
       "      <td>0.012273</td>\n",
       "    </tr>\n",
       "    <tr>\n",
       "      <th>4</th>\n",
       "      <td>5.0</td>\n",
       "      <td>0.937266</td>\n",
       "      <td>0.010389</td>\n",
       "    </tr>\n",
       "    <tr>\n",
       "      <th>5</th>\n",
       "      <td>6.0</td>\n",
       "      <td>0.934865</td>\n",
       "      <td>0.011560</td>\n",
       "    </tr>\n",
       "    <tr>\n",
       "      <th>6</th>\n",
       "      <td>7.0</td>\n",
       "      <td>0.947350</td>\n",
       "      <td>0.007762</td>\n",
       "    </tr>\n",
       "    <tr>\n",
       "      <th>7</th>\n",
       "      <td>8.0</td>\n",
       "      <td>0.953239</td>\n",
       "      <td>0.007302</td>\n",
       "    </tr>\n",
       "    <tr>\n",
       "      <th>8</th>\n",
       "      <td>9.0</td>\n",
       "      <td>0.951977</td>\n",
       "      <td>0.010200</td>\n",
       "    </tr>\n",
       "    <tr>\n",
       "      <th>9</th>\n",
       "      <td>10.0</td>\n",
       "      <td>0.956182</td>\n",
       "      <td>0.007390</td>\n",
       "    </tr>\n",
       "    <tr>\n",
       "      <th>10</th>\n",
       "      <td>11.0</td>\n",
       "      <td>0.953604</td>\n",
       "      <td>0.008150</td>\n",
       "    </tr>\n",
       "  </tbody>\n",
       "</table>\n",
       "</div>"
      ],
      "text/plain": [
       "    Most important N descriptors  Average AUROC  Standard Deviation\n",
       "0                            1.0       0.915170            0.019633\n",
       "1                            2.0       0.922486            0.023415\n",
       "2                            3.0       0.934701            0.014250\n",
       "3                            4.0       0.936705            0.012273\n",
       "4                            5.0       0.937266            0.010389\n",
       "5                            6.0       0.934865            0.011560\n",
       "6                            7.0       0.947350            0.007762\n",
       "7                            8.0       0.953239            0.007302\n",
       "8                            9.0       0.951977            0.010200\n",
       "9                           10.0       0.956182            0.007390\n",
       "10                          11.0       0.953604            0.008150"
      ]
     },
     "execution_count": 76,
     "metadata": {},
     "output_type": "execute_result"
    },
    {
     "data": {
      "image/png": "[encoded data removed]",
      "text/plain": [
       "<Figure size 576x360 with 1 Axes>"
      ]
     },
     "metadata": {},
     "output_type": "display_data"
    }
   ],
   "source": [
    "xgb.fit(X_train_xgb, y_train_xgb)\n",
    "optimiseImportance(xgb, X_train_xgb, y_train_xgb, model_name=\"XGB\")"
   ]
  },
  {
   "cell_type": "code",
   "execution_count": 77,
   "id": "3848d6dc",
   "metadata": {},
   "outputs": [
    {
     "name": "stdout",
     "output_type": "stream",
     "text": [
      "AVERAGE CV=5 ROC_AUC: 0.9558598742527314\n",
      "AVERAGE CV=5 STD: 0.0074389557478830234\n"
     ]
    },
    {
     "data": {
      "text/html": [
       "<div>\n",
       "<style scoped>\n",
       "    .dataframe tbody tr th:only-of-type {\n",
       "        vertical-align: middle;\n",
       "    }\n",
       "\n",
       "    .dataframe tbody tr th {\n",
       "        vertical-align: top;\n",
       "    }\n",
       "\n",
       "    .dataframe thead th {\n",
       "        text-align: right;\n",
       "    }\n",
       "</style>\n",
       "<table border=\"1\" class=\"dataframe\">\n",
       "  <thead>\n",
       "    <tr style=\"text-align: right;\">\n",
       "      <th></th>\n",
       "      <th>Most important N descriptors</th>\n",
       "      <th>Average AUROC</th>\n",
       "      <th>Standard Deviation</th>\n",
       "    </tr>\n",
       "  </thead>\n",
       "  <tbody>\n",
       "    <tr>\n",
       "      <th>0</th>\n",
       "      <td>0.0</td>\n",
       "      <td>0.955860</td>\n",
       "      <td>0.007439</td>\n",
       "    </tr>\n",
       "    <tr>\n",
       "      <th>1</th>\n",
       "      <td>1.0</td>\n",
       "      <td>0.943807</td>\n",
       "      <td>0.006259</td>\n",
       "    </tr>\n",
       "    <tr>\n",
       "      <th>2</th>\n",
       "      <td>2.0</td>\n",
       "      <td>0.940196</td>\n",
       "      <td>0.009686</td>\n",
       "    </tr>\n",
       "    <tr>\n",
       "      <th>3</th>\n",
       "      <td>3.0</td>\n",
       "      <td>0.945530</td>\n",
       "      <td>0.008671</td>\n",
       "    </tr>\n",
       "    <tr>\n",
       "      <th>4</th>\n",
       "      <td>4.0</td>\n",
       "      <td>0.942342</td>\n",
       "      <td>0.011062</td>\n",
       "    </tr>\n",
       "    <tr>\n",
       "      <th>5</th>\n",
       "      <td>5.0</td>\n",
       "      <td>0.937060</td>\n",
       "      <td>0.014028</td>\n",
       "    </tr>\n",
       "    <tr>\n",
       "      <th>6</th>\n",
       "      <td>6.0</td>\n",
       "      <td>0.926044</td>\n",
       "      <td>0.012957</td>\n",
       "    </tr>\n",
       "    <tr>\n",
       "      <th>7</th>\n",
       "      <td>7.0</td>\n",
       "      <td>0.922451</td>\n",
       "      <td>0.023741</td>\n",
       "    </tr>\n",
       "    <tr>\n",
       "      <th>8</th>\n",
       "      <td>8.0</td>\n",
       "      <td>0.833724</td>\n",
       "      <td>0.027625</td>\n",
       "    </tr>\n",
       "    <tr>\n",
       "      <th>9</th>\n",
       "      <td>9.0</td>\n",
       "      <td>0.656723</td>\n",
       "      <td>0.060164</td>\n",
       "    </tr>\n",
       "    <tr>\n",
       "      <th>10</th>\n",
       "      <td>10.0</td>\n",
       "      <td>0.565401</td>\n",
       "      <td>0.035882</td>\n",
       "    </tr>\n",
       "  </tbody>\n",
       "</table>\n",
       "</div>"
      ],
      "text/plain": [
       "    Most important N descriptors  Average AUROC  Standard Deviation\n",
       "0                            0.0       0.955860            0.007439\n",
       "1                            1.0       0.943807            0.006259\n",
       "2                            2.0       0.940196            0.009686\n",
       "3                            3.0       0.945530            0.008671\n",
       "4                            4.0       0.942342            0.011062\n",
       "5                            5.0       0.937060            0.014028\n",
       "6                            6.0       0.926044            0.012957\n",
       "7                            7.0       0.922451            0.023741\n",
       "8                            8.0       0.833724            0.027625\n",
       "9                            9.0       0.656723            0.060164\n",
       "10                          10.0       0.565401            0.035882"
      ]
     },
     "execution_count": 77,
     "metadata": {},
     "output_type": "execute_result"
    },
    {
     "data": {
      "image/png": "[encoded data removed]",
      "text/plain": [
       "<Figure size 576x360 with 1 Axes>"
      ]
     },
     "metadata": {},
     "output_type": "display_data"
    }
   ],
   "source": [
    "xgb.fit(X_train_xgb, y_train_xgb)\n",
    "testWithoutImportantDescs(xgb, X_train_xgb, y_train_xgb, model_name=\"XGB\")"
   ]
  },
  {
   "cell_type": "code",
   "execution_count": 78,
   "id": "dcf3320b",
   "metadata": {},
   "outputs": [
    {
     "name": "stdout",
     "output_type": "stream",
     "text": [
      "Cross validated CV=5 performance after filtering by importance XGBoost\n",
      "AVERAGE CV=5 ROC_AUC: 0.9561819727891157\n",
      "AVERAGE CV=5 STD: 0.007390107543438477\n"
     ]
    },
    {
     "data": {
      "text/plain": [
       "(0.9561819727891157, 0.007390107543438477)"
      ]
     },
     "execution_count": 78,
     "metadata": {},
     "output_type": "execute_result"
    }
   ],
   "source": [
    "X_train_xgb, X_test_xgb, xgb = handle_importance(xgb, \n",
    "                                                X_train_xgb, \n",
    "                                                X_test=X_test_xgb, \n",
    "                                                threshold=-1, \n",
    "                                                n=10)\n",
    "\n",
    "X_train_t_xgb, X_val_xgb, xgb = handle_importance(xgb, \n",
    "                                                X_train_t_xgb, \n",
    "                                                X_test=X_val_xgb, \n",
    "                                                threshold=-1, \n",
    "                                                n=10)\n",
    "xgb.fit(X_train_t_xgb, y_train_t)\n",
    "\n",
    "# Filted importance results\n",
    "print(\"Cross validated CV=5 performance after filtering by importance XGBoost\")\n",
    "test_model_cross_val(xgb, y_train_xgb, X_train_xgb, k=5, verbose=True)"
   ]
  },
  {
   "cell_type": "code",
   "execution_count": 79,
   "id": "ae64380e",
   "metadata": {},
   "outputs": [
    {
     "data": {
      "text/html": [
       "<div>\n",
       "<style scoped>\n",
       "    .dataframe tbody tr th:only-of-type {\n",
       "        vertical-align: middle;\n",
       "    }\n",
       "\n",
       "    .dataframe tbody tr th {\n",
       "        vertical-align: top;\n",
       "    }\n",
       "\n",
       "    .dataframe thead th {\n",
       "        text-align: right;\n",
       "    }\n",
       "</style>\n",
       "<table border=\"1\" class=\"dataframe\">\n",
       "  <thead>\n",
       "    <tr style=\"text-align: right;\">\n",
       "      <th></th>\n",
       "      <th>SM1_Dz(i)</th>\n",
       "      <th>CATS2D_02_DA</th>\n",
       "      <th>AMR</th>\n",
       "      <th>Eig03_EA(dm)</th>\n",
       "      <th>T(N..O)</th>\n",
       "      <th>DLS_cons</th>\n",
       "      <th>SpPosA_B(p)</th>\n",
       "      <th>SM1_Dz(p)</th>\n",
       "      <th>P_VSA_MR_2</th>\n",
       "      <th>DLS_04</th>\n",
       "    </tr>\n",
       "  </thead>\n",
       "  <tbody>\n",
       "    <tr>\n",
       "      <th>C1=CC(=CC=C1C(=O)O)[N+](=O)[O-]</th>\n",
       "      <td>0.471852</td>\n",
       "      <td>0.166667</td>\n",
       "      <td>0.266081</td>\n",
       "      <td>0.627229</td>\n",
       "      <td>0.122449</td>\n",
       "      <td>0.366120</td>\n",
       "      <td>0.194461</td>\n",
       "      <td>0.348969</td>\n",
       "      <td>0.250000</td>\n",
       "      <td>0.333333</td>\n",
       "    </tr>\n",
       "    <tr>\n",
       "      <th>CCCCCCCCCCCCCCCCO</th>\n",
       "      <td>0.242697</td>\n",
       "      <td>0.000000</td>\n",
       "      <td>0.531805</td>\n",
       "      <td>0.627229</td>\n",
       "      <td>0.000000</td>\n",
       "      <td>0.000000</td>\n",
       "      <td>0.189155</td>\n",
       "      <td>0.585162</td>\n",
       "      <td>0.086771</td>\n",
       "      <td>0.111111</td>\n",
       "    </tr>\n",
       "    <tr>\n",
       "      <th>C1(C(O1)(F)F)(C(F)(F)F)F</th>\n",
       "      <td>0.724321</td>\n",
       "      <td>0.000000</td>\n",
       "      <td>0.099486</td>\n",
       "      <td>0.795751</td>\n",
       "      <td>0.000000</td>\n",
       "      <td>0.737705</td>\n",
       "      <td>0.057900</td>\n",
       "      <td>0.159728</td>\n",
       "      <td>0.330838</td>\n",
       "      <td>0.666667</td>\n",
       "    </tr>\n",
       "    <tr>\n",
       "      <th>CC(C)(C=C)O</th>\n",
       "      <td>0.242697</td>\n",
       "      <td>0.000000</td>\n",
       "      <td>0.168510</td>\n",
       "      <td>0.627229</td>\n",
       "      <td>0.000000</td>\n",
       "      <td>0.792350</td>\n",
       "      <td>0.190132</td>\n",
       "      <td>0.585162</td>\n",
       "      <td>0.260314</td>\n",
       "      <td>0.666667</td>\n",
       "    </tr>\n",
       "    <tr>\n",
       "      <th>C=CCC1=CC2=C(C=C1)OCO2</th>\n",
       "      <td>0.306878</td>\n",
       "      <td>0.000000</td>\n",
       "      <td>0.308727</td>\n",
       "      <td>0.703070</td>\n",
       "      <td>0.000000</td>\n",
       "      <td>0.661202</td>\n",
       "      <td>0.227742</td>\n",
       "      <td>0.488875</td>\n",
       "      <td>0.081086</td>\n",
       "      <td>0.777778</td>\n",
       "    </tr>\n",
       "    <tr>\n",
       "      <th>...</th>\n",
       "      <td>...</td>\n",
       "      <td>...</td>\n",
       "      <td>...</td>\n",
       "      <td>...</td>\n",
       "      <td>...</td>\n",
       "      <td>...</td>\n",
       "      <td>...</td>\n",
       "      <td>...</td>\n",
       "      <td>...</td>\n",
       "      <td>...</td>\n",
       "    </tr>\n",
       "    <tr>\n",
       "      <th>CCCCS</th>\n",
       "      <td>0.129394</td>\n",
       "      <td>0.000000</td>\n",
       "      <td>0.181235</td>\n",
       "      <td>0.627229</td>\n",
       "      <td>0.000000</td>\n",
       "      <td>0.573770</td>\n",
       "      <td>0.229586</td>\n",
       "      <td>0.832890</td>\n",
       "      <td>0.086771</td>\n",
       "      <td>0.666667</td>\n",
       "    </tr>\n",
       "    <tr>\n",
       "      <th>CCN(CC)CC</th>\n",
       "      <td>0.262960</td>\n",
       "      <td>0.000000</td>\n",
       "      <td>0.223878</td>\n",
       "      <td>0.627229</td>\n",
       "      <td>0.000000</td>\n",
       "      <td>0.661202</td>\n",
       "      <td>0.171228</td>\n",
       "      <td>0.655600</td>\n",
       "      <td>0.390471</td>\n",
       "      <td>0.222222</td>\n",
       "    </tr>\n",
       "    <tr>\n",
       "      <th>C1=CC=C(C=C1)C(=O)C2=CC=CC=C2</th>\n",
       "      <td>0.242697</td>\n",
       "      <td>0.000000</td>\n",
       "      <td>0.383871</td>\n",
       "      <td>0.627229</td>\n",
       "      <td>0.000000</td>\n",
       "      <td>0.398907</td>\n",
       "      <td>0.244240</td>\n",
       "      <td>0.585162</td>\n",
       "      <td>0.092679</td>\n",
       "      <td>0.444444</td>\n",
       "    </tr>\n",
       "    <tr>\n",
       "      <th>N</th>\n",
       "      <td>0.341642</td>\n",
       "      <td>0.000000</td>\n",
       "      <td>0.017957</td>\n",
       "      <td>0.627229</td>\n",
       "      <td>0.000000</td>\n",
       "      <td>0.191257</td>\n",
       "      <td>0.207394</td>\n",
       "      <td>0.585162</td>\n",
       "      <td>0.000000</td>\n",
       "      <td>0.111111</td>\n",
       "    </tr>\n",
       "    <tr>\n",
       "      <th>CC(C)N</th>\n",
       "      <td>0.262960</td>\n",
       "      <td>0.000000</td>\n",
       "      <td>0.115696</td>\n",
       "      <td>0.627229</td>\n",
       "      <td>0.000000</td>\n",
       "      <td>0.704918</td>\n",
       "      <td>0.173263</td>\n",
       "      <td>0.655600</td>\n",
       "      <td>0.260314</td>\n",
       "      <td>0.555556</td>\n",
       "    </tr>\n",
       "  </tbody>\n",
       "</table>\n",
       "<p>692 rows × 10 columns</p>\n",
       "</div>"
      ],
      "text/plain": [
       "                                 SM1_Dz(i)  CATS2D_02_DA       AMR  \\\n",
       "C1=CC(=CC=C1C(=O)O)[N+](=O)[O-]   0.471852      0.166667  0.266081   \n",
       "CCCCCCCCCCCCCCCCO                 0.242697      0.000000  0.531805   \n",
       "C1(C(O1)(F)F)(C(F)(F)F)F          0.724321      0.000000  0.099486   \n",
       "CC(C)(C=C)O                       0.242697      0.000000  0.168510   \n",
       "C=CCC1=CC2=C(C=C1)OCO2            0.306878      0.000000  0.308727   \n",
       "...                                    ...           ...       ...   \n",
       "CCCCS                             0.129394      0.000000  0.181235   \n",
       "CCN(CC)CC                         0.262960      0.000000  0.223878   \n",
       "C1=CC=C(C=C1)C(=O)C2=CC=CC=C2     0.242697      0.000000  0.383871   \n",
       "N                                 0.341642      0.000000  0.017957   \n",
       "CC(C)N                            0.262960      0.000000  0.115696   \n",
       "\n",
       "                                 Eig03_EA(dm)   T(N..O)  DLS_cons  \\\n",
       "C1=CC(=CC=C1C(=O)O)[N+](=O)[O-]      0.627229  0.122449  0.366120   \n",
       "CCCCCCCCCCCCCCCCO                    0.627229  0.000000  0.000000   \n",
       "C1(C(O1)(F)F)(C(F)(F)F)F             0.795751  0.000000  0.737705   \n",
       "CC(C)(C=C)O                          0.627229  0.000000  0.792350   \n",
       "C=CCC1=CC2=C(C=C1)OCO2               0.703070  0.000000  0.661202   \n",
       "...                                       ...       ...       ...   \n",
       "CCCCS                                0.627229  0.000000  0.573770   \n",
       "CCN(CC)CC                            0.627229  0.000000  0.661202   \n",
       "C1=CC=C(C=C1)C(=O)C2=CC=CC=C2        0.627229  0.000000  0.398907   \n",
       "N                                    0.627229  0.000000  0.191257   \n",
       "CC(C)N                               0.627229  0.000000  0.704918   \n",
       "\n",
       "                                 SpPosA_B(p)  SM1_Dz(p)  P_VSA_MR_2    DLS_04  \n",
       "C1=CC(=CC=C1C(=O)O)[N+](=O)[O-]     0.194461   0.348969    0.250000  0.333333  \n",
       "CCCCCCCCCCCCCCCCO                   0.189155   0.585162    0.086771  0.111111  \n",
       "C1(C(O1)(F)F)(C(F)(F)F)F            0.057900   0.159728    0.330838  0.666667  \n",
       "CC(C)(C=C)O                         0.190132   0.585162    0.260314  0.666667  \n",
       "C=CCC1=CC2=C(C=C1)OCO2              0.227742   0.488875    0.081086  0.777778  \n",
       "...                                      ...        ...         ...       ...  \n",
       "CCCCS                               0.229586   0.832890    0.086771  0.666667  \n",
       "CCN(CC)CC                           0.171228   0.655600    0.390471  0.222222  \n",
       "C1=CC=C(C=C1)C(=O)C2=CC=CC=C2       0.244240   0.585162    0.092679  0.444444  \n",
       "N                                   0.207394   0.585162    0.000000  0.111111  \n",
       "CC(C)N                              0.173263   0.655600    0.260314  0.555556  \n",
       "\n",
       "[692 rows x 10 columns]"
      ]
     },
     "execution_count": 79,
     "metadata": {},
     "output_type": "execute_result"
    }
   ],
   "source": [
    "X_train_xgb"
   ]
  },
  {
   "cell_type": "markdown",
   "id": "79202870",
   "metadata": {},
   "source": [
    "## Tuning paramaters "
   ]
  },
  {
   "cell_type": "code",
   "execution_count": 80,
   "id": "5367bcd6",
   "metadata": {},
   "outputs": [
    {
     "name": "stdout",
     "output_type": "stream",
     "text": [
      "|   iter    |  target   | colsam... |   gamma   | learni... | max_depth | n_esti... | reg_alpha | reg_la... | scale_... |\n",
      "-------------------------------------------------------------------------------------------------------------------------\n",
      "| \u001b[0m1        \u001b[0m | \u001b[0m0.9503   \u001b[0m | \u001b[0m0.8646   \u001b[0m | \u001b[0m3.576    \u001b[0m | \u001b[0m0.6067   \u001b[0m | \u001b[0m6.814    \u001b[0m | \u001b[0m481.3    \u001b[0m | \u001b[0m1.292    \u001b[0m | \u001b[0m0.8752   \u001b[0m | \u001b[0m2.338    \u001b[0m |\n",
      "| \u001b[95m2        \u001b[0m | \u001b[95m0.9522   \u001b[0m | \u001b[95m0.9891   \u001b[0m | \u001b[95m1.917    \u001b[0m | \u001b[95m0.7938   \u001b[0m | \u001b[95m6.702    \u001b[0m | \u001b[95m611.2    \u001b[0m | \u001b[95m1.851    \u001b[0m | \u001b[95m0.1421   \u001b[0m | \u001b[95m1.131    \u001b[0m |\n",
      "| \u001b[0m3        \u001b[0m | \u001b[0m0.9489   \u001b[0m | \u001b[0m0.7061   \u001b[0m | \u001b[0m4.163    \u001b[0m | \u001b[0m0.7804   \u001b[0m | \u001b[0m9.09     \u001b[0m | \u001b[0m980.8    \u001b[0m | \u001b[0m1.598    \u001b[0m | \u001b[0m0.923    \u001b[0m | \u001b[0m2.171    \u001b[0m |\n",
      "| \u001b[95m4        \u001b[0m | \u001b[95m0.9593   \u001b[0m | \u001b[95m0.7355   \u001b[0m | \u001b[95m3.2      \u001b[0m | \u001b[95m0.1519   \u001b[0m | \u001b[95m9.613    \u001b[0m | \u001b[95m569.7    \u001b[0m | \u001b[95m0.8293   \u001b[0m | \u001b[95m0.5291   \u001b[0m | \u001b[95m2.161    \u001b[0m |\n",
      "| \u001b[0m5        \u001b[0m | \u001b[0m0.9577   \u001b[0m | \u001b[0m0.8368   \u001b[0m | \u001b[0m2.842    \u001b[0m | \u001b[0m0.0286   \u001b[0m | \u001b[0m7.323    \u001b[0m | \u001b[0m650.9    \u001b[0m | \u001b[0m1.234    \u001b[0m | \u001b[0m1.887    \u001b[0m | \u001b[0m2.023    \u001b[0m |\n",
      "| \u001b[0m6        \u001b[0m | \u001b[0m0.9558   \u001b[0m | \u001b[0m0.9245   \u001b[0m | \u001b[0m4.506    \u001b[0m | \u001b[0m0.1645   \u001b[0m | \u001b[0m9.11     \u001b[0m | \u001b[0m569.6    \u001b[0m | \u001b[0m0.5934   \u001b[0m | \u001b[0m0.02827  \u001b[0m | \u001b[0m2.255    \u001b[0m |\n",
      "| \u001b[0m7        \u001b[0m | \u001b[0m0.9457   \u001b[0m | \u001b[0m0.8736   \u001b[0m | \u001b[0m2.847    \u001b[0m | \u001b[0m0.9727   \u001b[0m | \u001b[0m9.896    \u001b[0m | \u001b[0m570.6    \u001b[0m | \u001b[0m1.09     \u001b[0m | \u001b[0m1.433    \u001b[0m | \u001b[0m2.281    \u001b[0m |\n",
      "| \u001b[0m8        \u001b[0m | \u001b[0m0.959    \u001b[0m | \u001b[0m0.7201   \u001b[0m | \u001b[0m2.325    \u001b[0m | \u001b[0m0.2687   \u001b[0m | \u001b[0m7.791    \u001b[0m | \u001b[0m650.9    \u001b[0m | \u001b[0m1.249    \u001b[0m | \u001b[0m1.978    \u001b[0m | \u001b[0m1.61     \u001b[0m |\n",
      "| \u001b[0m9        \u001b[0m | \u001b[0m0.9472   \u001b[0m | \u001b[0m0.8995   \u001b[0m | \u001b[0m3.378    \u001b[0m | \u001b[0m0.468    \u001b[0m | \u001b[0m6.614    \u001b[0m | \u001b[0m651.5    \u001b[0m | \u001b[0m1.471    \u001b[0m | \u001b[0m1.911    \u001b[0m | \u001b[0m1.01     \u001b[0m |\n",
      "| \u001b[0m10       \u001b[0m | \u001b[0m0.959    \u001b[0m | \u001b[0m0.7429   \u001b[0m | \u001b[0m2.23     \u001b[0m | \u001b[0m0.1451   \u001b[0m | \u001b[0m8.212    \u001b[0m | \u001b[0m650.5    \u001b[0m | \u001b[0m1.507    \u001b[0m | \u001b[0m0.9316   \u001b[0m | \u001b[0m2.404    \u001b[0m |\n",
      "| \u001b[95m11       \u001b[0m | \u001b[95m0.9593   \u001b[0m | \u001b[95m0.859    \u001b[0m | \u001b[95m2.498    \u001b[0m | \u001b[95m0.174    \u001b[0m | \u001b[95m7.92     \u001b[0m | \u001b[95m649.3    \u001b[0m | \u001b[95m1.335    \u001b[0m | \u001b[95m1.143    \u001b[0m | \u001b[95m2.451    \u001b[0m |\n",
      "| \u001b[0m12       \u001b[0m | \u001b[0m0.9559   \u001b[0m | \u001b[0m0.9437   \u001b[0m | \u001b[0m2.87     \u001b[0m | \u001b[0m0.3125   \u001b[0m | \u001b[0m8.351    \u001b[0m | \u001b[0m650.1    \u001b[0m | \u001b[0m1.927    \u001b[0m | \u001b[0m1.682    \u001b[0m | \u001b[0m1.757    \u001b[0m |\n",
      "| \u001b[95m13       \u001b[0m | \u001b[95m0.9599   \u001b[0m | \u001b[95m0.908    \u001b[0m | \u001b[95m1.777    \u001b[0m | \u001b[95m0.3594   \u001b[0m | \u001b[95m9.041    \u001b[0m | \u001b[95m650.2    \u001b[0m | \u001b[95m1.221    \u001b[0m | \u001b[95m1.37     \u001b[0m | \u001b[95m2.3      \u001b[0m |\n",
      "| \u001b[0m14       \u001b[0m | \u001b[0m0.951    \u001b[0m | \u001b[0m0.9156   \u001b[0m | \u001b[0m1.608    \u001b[0m | \u001b[0m0.8762   \u001b[0m | \u001b[0m8.508    \u001b[0m | \u001b[0m650.2    \u001b[0m | \u001b[0m0.319    \u001b[0m | \u001b[0m1.96     \u001b[0m | \u001b[0m2.138    \u001b[0m |\n",
      "| \u001b[95m15       \u001b[0m | \u001b[95m0.9613   \u001b[0m | \u001b[95m0.7065   \u001b[0m | \u001b[95m1.692    \u001b[0m | \u001b[95m0.4083   \u001b[0m | \u001b[95m9.728    \u001b[0m | \u001b[95m649.3    \u001b[0m | \u001b[95m1.815    \u001b[0m | \u001b[95m1.77     \u001b[0m | \u001b[95m1.859    \u001b[0m |\n",
      "| \u001b[0m16       \u001b[0m | \u001b[0m0.9594   \u001b[0m | \u001b[0m0.7945   \u001b[0m | \u001b[0m0.8435   \u001b[0m | \u001b[0m0.4009   \u001b[0m | \u001b[0m9.52     \u001b[0m | \u001b[0m649.1    \u001b[0m | \u001b[0m1.46     \u001b[0m | \u001b[0m1.342    \u001b[0m | \u001b[0m1.569    \u001b[0m |\n",
      "| \u001b[0m17       \u001b[0m | \u001b[0m0.953    \u001b[0m | \u001b[0m0.7387   \u001b[0m | \u001b[0m2.299    \u001b[0m | \u001b[0m0.6636   \u001b[0m | \u001b[0m9.95     \u001b[0m | \u001b[0m649.5    \u001b[0m | \u001b[0m0.1751   \u001b[0m | \u001b[0m1.531    \u001b[0m | \u001b[0m1.615    \u001b[0m |\n",
      "| \u001b[95m18       \u001b[0m | \u001b[95m0.9635   \u001b[0m | \u001b[95m0.8983   \u001b[0m | \u001b[95m0.9749   \u001b[0m | \u001b[95m0.01929  \u001b[0m | \u001b[95m8.999    \u001b[0m | \u001b[95m651.1    \u001b[0m | \u001b[95m1.794    \u001b[0m | \u001b[95m0.8212   \u001b[0m | \u001b[95m1.043    \u001b[0m |\n",
      "| \u001b[0m19       \u001b[0m | \u001b[0m0.9573   \u001b[0m | \u001b[0m0.9284   \u001b[0m | \u001b[0m1.823    \u001b[0m | \u001b[0m0.4658   \u001b[0m | \u001b[0m8.901    \u001b[0m | \u001b[0m652.5    \u001b[0m | \u001b[0m1.932    \u001b[0m | \u001b[0m0.2056   \u001b[0m | \u001b[0m1.383    \u001b[0m |\n",
      "| \u001b[0m20       \u001b[0m | \u001b[0m0.9569   \u001b[0m | \u001b[0m0.8375   \u001b[0m | \u001b[0m1.278    \u001b[0m | \u001b[0m0.6024   \u001b[0m | \u001b[0m7.964    \u001b[0m | \u001b[0m650.0    \u001b[0m | \u001b[0m1.659    \u001b[0m | \u001b[0m0.5649   \u001b[0m | \u001b[0m1.939    \u001b[0m |\n",
      "| \u001b[0m21       \u001b[0m | \u001b[0m0.9609   \u001b[0m | \u001b[0m0.7417   \u001b[0m | \u001b[0m1.435    \u001b[0m | \u001b[0m0.1099   \u001b[0m | \u001b[0m8.704    \u001b[0m | \u001b[0m651.1    \u001b[0m | \u001b[0m1.811    \u001b[0m | \u001b[0m0.7605   \u001b[0m | \u001b[0m1.537    \u001b[0m |\n",
      "| \u001b[0m22       \u001b[0m | \u001b[0m0.9536   \u001b[0m | \u001b[0m0.978    \u001b[0m | \u001b[0m1.175    \u001b[0m | \u001b[0m0.7604   \u001b[0m | \u001b[0m9.289    \u001b[0m | \u001b[0m651.5    \u001b[0m | \u001b[0m1.179    \u001b[0m | \u001b[0m1.261    \u001b[0m | \u001b[0m1.335    \u001b[0m |\n",
      "| \u001b[0m23       \u001b[0m | \u001b[0m0.957    \u001b[0m | \u001b[0m0.9725   \u001b[0m | \u001b[0m0.1874   \u001b[0m | \u001b[0m0.1495   \u001b[0m | \u001b[0m9.893    \u001b[0m | \u001b[0m650.8    \u001b[0m | \u001b[0m1.273    \u001b[0m | \u001b[0m0.8737   \u001b[0m | \u001b[0m2.155    \u001b[0m |\n",
      "| \u001b[0m24       \u001b[0m | \u001b[0m0.9584   \u001b[0m | \u001b[0m0.9566   \u001b[0m | \u001b[0m1.183    \u001b[0m | \u001b[0m0.5143   \u001b[0m | \u001b[0m7.232    \u001b[0m | \u001b[0m651.4    \u001b[0m | \u001b[0m1.876    \u001b[0m | \u001b[0m0.6275   \u001b[0m | \u001b[0m1.675    \u001b[0m |\n",
      "| \u001b[0m25       \u001b[0m | \u001b[0m0.9601   \u001b[0m | \u001b[0m0.8871   \u001b[0m | \u001b[0m1.931    \u001b[0m | \u001b[0m0.101    \u001b[0m | \u001b[0m8.416    \u001b[0m | \u001b[0m649.3    \u001b[0m | \u001b[0m1.859    \u001b[0m | \u001b[0m0.8895   \u001b[0m | \u001b[0m2.294    \u001b[0m |\n",
      "| \u001b[0m26       \u001b[0m | \u001b[0m0.9618   \u001b[0m | \u001b[0m0.789    \u001b[0m | \u001b[0m1.236    \u001b[0m | \u001b[0m0.01     \u001b[0m | \u001b[0m9.303    \u001b[0m | \u001b[0m650.2    \u001b[0m | \u001b[0m2.0      \u001b[0m | \u001b[0m0.9775   \u001b[0m | \u001b[0m1.102    \u001b[0m |\n",
      "| \u001b[0m27       \u001b[0m | \u001b[0m0.9602   \u001b[0m | \u001b[0m0.71     \u001b[0m | \u001b[0m2.229    \u001b[0m | \u001b[0m0.2493   \u001b[0m | \u001b[0m9.649    \u001b[0m | \u001b[0m649.0    \u001b[0m | \u001b[0m1.333    \u001b[0m | \u001b[0m1.016    \u001b[0m | \u001b[0m2.478    \u001b[0m |\n",
      "| \u001b[95m28       \u001b[0m | \u001b[95m0.964    \u001b[0m | \u001b[95m0.7334   \u001b[0m | \u001b[95m0.9903   \u001b[0m | \u001b[95m0.1363   \u001b[0m | \u001b[95m7.774    \u001b[0m | \u001b[95m650.8    \u001b[0m | \u001b[95m1.744    \u001b[0m | \u001b[95m1.314    \u001b[0m | \u001b[95m1.046    \u001b[0m |\n",
      "| \u001b[0m29       \u001b[0m | \u001b[0m0.9639   \u001b[0m | \u001b[0m0.7043   \u001b[0m | \u001b[0m0.1244   \u001b[0m | \u001b[0m0.2337   \u001b[0m | \u001b[0m8.95     \u001b[0m | \u001b[0m652.2    \u001b[0m | \u001b[0m1.769    \u001b[0m | \u001b[0m0.6263   \u001b[0m | \u001b[0m1.012    \u001b[0m |\n",
      "| \u001b[0m30       \u001b[0m | \u001b[0m0.9557   \u001b[0m | \u001b[0m0.8835   \u001b[0m | \u001b[0m2.791    \u001b[0m | \u001b[0m0.3013   \u001b[0m | \u001b[0m8.775    \u001b[0m | \u001b[0m567.6    \u001b[0m | \u001b[0m0.472    \u001b[0m | \u001b[0m0.838    \u001b[0m | \u001b[0m1.623    \u001b[0m |\n",
      "| \u001b[0m31       \u001b[0m | \u001b[0m0.9561   \u001b[0m | \u001b[0m0.876    \u001b[0m | \u001b[0m2.611    \u001b[0m | \u001b[0m0.2227   \u001b[0m | \u001b[0m9.11     \u001b[0m | \u001b[0m647.5    \u001b[0m | \u001b[0m1.928    \u001b[0m | \u001b[0m0.3147   \u001b[0m | \u001b[0m2.413    \u001b[0m |\n",
      "| \u001b[0m32       \u001b[0m | \u001b[0m0.9604   \u001b[0m | \u001b[0m0.8337   \u001b[0m | \u001b[0m0.7292   \u001b[0m | \u001b[0m0.2825   \u001b[0m | \u001b[0m6.763    \u001b[0m | \u001b[0m654.4    \u001b[0m | \u001b[0m1.707    \u001b[0m | \u001b[0m1.7      \u001b[0m | \u001b[0m1.209    \u001b[0m |\n",
      "| \u001b[0m33       \u001b[0m | \u001b[0m0.953    \u001b[0m | \u001b[0m0.7574   \u001b[0m | \u001b[0m0.07285  \u001b[0m | \u001b[0m0.6908   \u001b[0m | \u001b[0m8.75     \u001b[0m | \u001b[0m654.8    \u001b[0m | \u001b[0m1.576    \u001b[0m | \u001b[0m1.11     \u001b[0m | \u001b[0m2.307    \u001b[0m |\n",
      "| \u001b[0m34       \u001b[0m | \u001b[0m0.9472   \u001b[0m | \u001b[0m0.7103   \u001b[0m | \u001b[0m0.2479   \u001b[0m | \u001b[0m0.9103   \u001b[0m | \u001b[0m6.632    \u001b[0m | \u001b[0m653.3    \u001b[0m | \u001b[0m1.335    \u001b[0m | \u001b[0m1.27     \u001b[0m | \u001b[0m1.17     \u001b[0m |\n",
      "| \u001b[0m35       \u001b[0m | \u001b[0m0.9605   \u001b[0m | \u001b[0m0.9035   \u001b[0m | \u001b[0m1.452    \u001b[0m | \u001b[0m0.2302   \u001b[0m | \u001b[0m7.352    \u001b[0m | \u001b[0m649.1    \u001b[0m | \u001b[0m1.733    \u001b[0m | \u001b[0m1.717    \u001b[0m | \u001b[0m1.332    \u001b[0m |\n",
      "| \u001b[0m36       \u001b[0m | \u001b[0m0.9565   \u001b[0m | \u001b[0m0.8807   \u001b[0m | \u001b[0m0.04817  \u001b[0m | \u001b[0m0.03134  \u001b[0m | \u001b[0m8.57     \u001b[0m | \u001b[0m651.5    \u001b[0m | \u001b[0m0.9129   \u001b[0m | \u001b[0m1.444    \u001b[0m | \u001b[0m1.511    \u001b[0m |\n",
      "| \u001b[0m37       \u001b[0m | \u001b[0m0.9611   \u001b[0m | \u001b[0m0.7442   \u001b[0m | \u001b[0m0.5912   \u001b[0m | \u001b[0m0.1752   \u001b[0m | \u001b[0m6.23     \u001b[0m | \u001b[0m650.1    \u001b[0m | \u001b[0m1.617    \u001b[0m | \u001b[0m1.444    \u001b[0m | \u001b[0m1.634    \u001b[0m |\n",
      "| \u001b[0m38       \u001b[0m | \u001b[0m0.9569   \u001b[0m | \u001b[0m0.9397   \u001b[0m | \u001b[0m1.34     \u001b[0m | \u001b[0m0.3926   \u001b[0m | \u001b[0m6.9      \u001b[0m | \u001b[0m655.2    \u001b[0m | \u001b[0m1.185    \u001b[0m | \u001b[0m1.132    \u001b[0m | \u001b[0m1.289    \u001b[0m |\n",
      "| \u001b[0m39       \u001b[0m | \u001b[0m0.9604   \u001b[0m | \u001b[0m0.8573   \u001b[0m | \u001b[0m0.3514   \u001b[0m | \u001b[0m0.1732   \u001b[0m | \u001b[0m5.558    \u001b[0m | \u001b[0m648.3    \u001b[0m | \u001b[0m1.957    \u001b[0m | \u001b[0m0.7323   \u001b[0m | \u001b[0m1.725    \u001b[0m |\n",
      "| \u001b[0m40       \u001b[0m | \u001b[0m0.9561   \u001b[0m | \u001b[0m0.9347   \u001b[0m | \u001b[0m0.7758   \u001b[0m | \u001b[0m0.4996   \u001b[0m | \u001b[0m5.832    \u001b[0m | \u001b[0m648.3    \u001b[0m | \u001b[0m0.4208   \u001b[0m | \u001b[0m0.8392   \u001b[0m | \u001b[0m1.623    \u001b[0m |\n"
     ]
    },
    {
     "name": "stdout",
     "output_type": "stream",
     "text": [
      "| \u001b[0m41       \u001b[0m | \u001b[0m0.9619   \u001b[0m | \u001b[0m0.8248   \u001b[0m | \u001b[0m0.073    \u001b[0m | \u001b[0m0.1606   \u001b[0m | \u001b[0m4.336    \u001b[0m | \u001b[0m648.7    \u001b[0m | \u001b[0m1.91     \u001b[0m | \u001b[0m1.684    \u001b[0m | \u001b[0m2.104    \u001b[0m |\n",
      "| \u001b[0m42       \u001b[0m | \u001b[0m0.9432   \u001b[0m | \u001b[0m0.8576   \u001b[0m | \u001b[0m0.09857  \u001b[0m | \u001b[0m0.9031   \u001b[0m | \u001b[0m4.711    \u001b[0m | \u001b[0m649.3    \u001b[0m | \u001b[0m1.563    \u001b[0m | \u001b[0m0.9426   \u001b[0m | \u001b[0m1.412    \u001b[0m |\n",
      "| \u001b[0m43       \u001b[0m | \u001b[0m0.9617   \u001b[0m | \u001b[0m0.7557   \u001b[0m | \u001b[0m1.219    \u001b[0m | \u001b[0m0.02652  \u001b[0m | \u001b[0m5.04     \u001b[0m | \u001b[0m647.0    \u001b[0m | \u001b[0m1.842    \u001b[0m | \u001b[0m1.097    \u001b[0m | \u001b[0m2.238    \u001b[0m |\n",
      "| \u001b[0m44       \u001b[0m | \u001b[0m0.9632   \u001b[0m | \u001b[0m0.7998   \u001b[0m | \u001b[0m0.4464   \u001b[0m | \u001b[0m0.01     \u001b[0m | \u001b[0m4.832    \u001b[0m | \u001b[0m647.8    \u001b[0m | \u001b[0m2.0      \u001b[0m | \u001b[0m1.62     \u001b[0m | \u001b[0m2.379    \u001b[0m |\n",
      "| \u001b[0m45       \u001b[0m | \u001b[0m0.9569   \u001b[0m | \u001b[0m0.9278   \u001b[0m | \u001b[0m0.02714  \u001b[0m | \u001b[0m0.5115   \u001b[0m | \u001b[0m7.519    \u001b[0m | \u001b[0m650.1    \u001b[0m | \u001b[0m1.915    \u001b[0m | \u001b[0m1.694    \u001b[0m | \u001b[0m1.406    \u001b[0m |\n",
      "| \u001b[0m46       \u001b[0m | \u001b[0m0.9574   \u001b[0m | \u001b[0m0.8527   \u001b[0m | \u001b[0m1.221    \u001b[0m | \u001b[0m0.4758   \u001b[0m | \u001b[0m4.584    \u001b[0m | \u001b[0m647.3    \u001b[0m | \u001b[0m1.955    \u001b[0m | \u001b[0m1.83     \u001b[0m | \u001b[0m2.0      \u001b[0m |\n",
      "| \u001b[0m47       \u001b[0m | \u001b[0m0.9574   \u001b[0m | \u001b[0m0.9128   \u001b[0m | \u001b[0m0.2902   \u001b[0m | \u001b[0m0.1332   \u001b[0m | \u001b[0m5.783    \u001b[0m | \u001b[0m647.3    \u001b[0m | \u001b[0m1.359    \u001b[0m | \u001b[0m0.932    \u001b[0m | \u001b[0m2.326    \u001b[0m |\n",
      "| \u001b[0m48       \u001b[0m | \u001b[0m0.9573   \u001b[0m | \u001b[0m0.7785   \u001b[0m | \u001b[0m2.5      \u001b[0m | \u001b[0m0.382    \u001b[0m | \u001b[0m9.537    \u001b[0m | \u001b[0m650.3    \u001b[0m | \u001b[0m1.63     \u001b[0m | \u001b[0m0.02706  \u001b[0m | \u001b[0m2.091    \u001b[0m |\n",
      "| \u001b[0m49       \u001b[0m | \u001b[0m0.9612   \u001b[0m | \u001b[0m0.7872   \u001b[0m | \u001b[0m1.793    \u001b[0m | \u001b[0m0.2035   \u001b[0m | \u001b[0m4.796    \u001b[0m | \u001b[0m648.3    \u001b[0m | \u001b[0m1.868    \u001b[0m | \u001b[0m1.49     \u001b[0m | \u001b[0m2.49     \u001b[0m |\n",
      "| \u001b[0m50       \u001b[0m | \u001b[0m0.9558   \u001b[0m | \u001b[0m0.858    \u001b[0m | \u001b[0m1.679    \u001b[0m | \u001b[0m0.435    \u001b[0m | \u001b[0m4.108    \u001b[0m | \u001b[0m646.4    \u001b[0m | \u001b[0m1.906    \u001b[0m | \u001b[0m0.461    \u001b[0m | \u001b[0m2.453    \u001b[0m |\n",
      "| \u001b[0m51       \u001b[0m | \u001b[0m0.9592   \u001b[0m | \u001b[0m0.973    \u001b[0m | \u001b[0m1.572    \u001b[0m | \u001b[0m0.258    \u001b[0m | \u001b[0m6.629    \u001b[0m | \u001b[0m649.2    \u001b[0m | \u001b[0m1.271    \u001b[0m | \u001b[0m1.277    \u001b[0m | \u001b[0m2.189    \u001b[0m |\n",
      "| \u001b[0m52       \u001b[0m | \u001b[0m0.9588   \u001b[0m | \u001b[0m0.9306   \u001b[0m | \u001b[0m0.5179   \u001b[0m | \u001b[0m0.08018  \u001b[0m | \u001b[0m6.812    \u001b[0m | \u001b[0m650.8    \u001b[0m | \u001b[0m1.897    \u001b[0m | \u001b[0m1.503    \u001b[0m | \u001b[0m2.28     \u001b[0m |\n",
      "| \u001b[0m53       \u001b[0m | \u001b[0m0.9479   \u001b[0m | \u001b[0m0.8937   \u001b[0m | \u001b[0m0.01048  \u001b[0m | \u001b[0m0.8793   \u001b[0m | \u001b[0m9.168    \u001b[0m | \u001b[0m652.6    \u001b[0m | \u001b[0m0.9826   \u001b[0m | \u001b[0m0.234    \u001b[0m | \u001b[0m1.168    \u001b[0m |\n",
      "| \u001b[0m54       \u001b[0m | \u001b[0m0.9575   \u001b[0m | \u001b[0m0.8984   \u001b[0m | \u001b[0m2.697    \u001b[0m | \u001b[0m0.3754   \u001b[0m | \u001b[0m5.551    \u001b[0m | \u001b[0m648.7    \u001b[0m | \u001b[0m0.9745   \u001b[0m | \u001b[0m1.341    \u001b[0m | \u001b[0m2.015    \u001b[0m |\n",
      "| \u001b[0m55       \u001b[0m | \u001b[0m0.9546   \u001b[0m | \u001b[0m0.784    \u001b[0m | \u001b[0m1.367    \u001b[0m | \u001b[0m0.4444   \u001b[0m | \u001b[0m6.922    \u001b[0m | \u001b[0m650.4    \u001b[0m | \u001b[0m1.447    \u001b[0m | \u001b[0m0.3434   \u001b[0m | \u001b[0m1.323    \u001b[0m |\n",
      "=========================================================================================================================\n"
     ]
    }
   ],
   "source": [
    "params = {\n",
    "    'learning_rate': (0.01, 1.0),\n",
    "    'n_estimators': (100, 1000),\n",
    "    'max_depth': (3,10),\n",
    "#    'subsample': (0.7, 1.0),  # Change for big datasets\n",
    "    'colsample_bytree': (0.7, 1.0),  # Change for datasets with lots of features\n",
    "    'gamma': (0, 5), \n",
    "    'reg_lambda': (0, 2),\n",
    "    'reg_alpha':(0, 2),\n",
    "    'scale_pos_weight': (1, 2.5)\n",
    "    }\n",
    "\n",
    "def xgboost_hyper_param(learning_rate,\n",
    "                        n_estimators,\n",
    "                        max_depth,\n",
    "                        colsample_bytree,\n",
    "                        gamma, \n",
    "                        reg_lambda, \n",
    "                        reg_alpha,\n",
    "                        scale_pos_weight):\n",
    "\n",
    "    max_depth = int(max_depth)\n",
    "    n_estimators = int(n_estimators)\n",
    "\n",
    "    xgb_temp = XGBClassifier(\n",
    "        max_depth=max_depth,\n",
    "        colsample_bytree=colsample_bytree,\n",
    "        learning_rate=learning_rate,\n",
    "        n_estimators=n_estimators,\n",
    "        gamma=gamma,\n",
    "        reg_lambda=reg_lambda, \n",
    "        reg_alpha=reg_alpha,\n",
    "        scale_pos_weight=scale_pos_weight,\n",
    "        seed=SEED)\n",
    "    \n",
    "    # calculate CV=3 K fold ROC_AUC accuracy for each model \n",
    "\n",
    "    return np.array(cross_val_score(xgb_temp, X_train_xgb, y_train_xgb, cv=3, scoring='roc_auc')).mean()\n",
    "\n",
    "optimizer = BayesianOptimization(\n",
    "            f=xgboost_hyper_param,\n",
    "            pbounds=params,\n",
    "            random_state=SEED)\n",
    "\n",
    "optimizer.maximize(init_points=5, n_iter=50)"
   ]
  },
  {
   "cell_type": "code",
   "execution_count": 81,
   "id": "06f0ad9f",
   "metadata": {},
   "outputs": [
    {
     "name": "stdout",
     "output_type": "stream",
     "text": [
      "{'colsample_bytree': 0.7333695437300213, 'gamma': 0.9902553925469809, 'learning_rate': 0.1362814529149798, 'max_depth': 7, 'n_estimators': 650, 'reg_alpha': 1.7440632911781833, 'reg_lambda': 1.313743480031632, 'scale_pos_weight': 1.0461027548267379}\n",
      "AVERAGE CV=5 ROC_AUC: 0.9646188930117502\n",
      "AVERAGE CV=5 STD: 0.006589821547765085\n"
     ]
    },
    {
     "data": {
      "text/plain": [
       "(0.9646188930117502, 0.006589821547765085)"
      ]
     },
     "execution_count": 81,
     "metadata": {},
     "output_type": "execute_result"
    }
   ],
   "source": [
    "params_tuned_xgb = optimizer.max['params']\n",
    "params_tuned_xgb['max_depth'] = int(params_tuned_xgb['max_depth'])\n",
    "params_tuned_xgb['n_estimators'] = int(params_tuned_xgb['n_estimators'])\n",
    "print(params_tuned_xgb)\n",
    "\n",
    "tuned_xgb = XGBClassifier(**params_tuned_xgb, seed=SEED)\n",
    "test_model_cross_val(tuned_xgb, y_train_xgb, X_train_xgb, k=5, verbose=True)"
   ]
  },
  {
   "cell_type": "markdown",
   "id": "a95feb5b",
   "metadata": {},
   "source": [
    "### Final tuned paramaters\n"
   ]
  },
  {
   "cell_type": "code",
   "execution_count": 82,
   "id": "5c916715",
   "metadata": {},
   "outputs": [
    {
     "data": {
      "text/html": [
       "<style>#sk-container-id-4 {color: black;background-color: white;}#sk-container-id-4 pre{padding: 0;}#sk-container-id-4 div.sk-toggleable {background-color: white;}#sk-container-id-4 label.sk-toggleable__label {cursor: pointer;display: block;width: 100%;margin-bottom: 0;padding: 0.3em;box-sizing: border-box;text-align: center;}#sk-container-id-4 label.sk-toggleable__label-arrow:before {content: \"▸\";float: left;margin-right: 0.25em;color: #696969;}#sk-container-id-4 label.sk-toggleable__label-arrow:hover:before {color: black;}#sk-container-id-4 div.sk-estimator:hover label.sk-toggleable__label-arrow:before {color: black;}#sk-container-id-4 div.sk-toggleable__content {max-height: 0;max-width: 0;overflow: hidden;text-align: left;background-color: #f0f8ff;}#sk-container-id-4 div.sk-toggleable__content pre {margin: 0.2em;color: black;border-radius: 0.25em;background-color: #f0f8ff;}#sk-container-id-4 input.sk-toggleable__control:checked~div.sk-toggleable__content {max-height: 200px;max-width: 100%;overflow: auto;}#sk-container-id-4 input.sk-toggleable__control:checked~label.sk-toggleable__label-arrow:before {content: \"▾\";}#sk-container-id-4 div.sk-estimator input.sk-toggleable__control:checked~label.sk-toggleable__label {background-color: #d4ebff;}#sk-container-id-4 div.sk-label input.sk-toggleable__control:checked~label.sk-toggleable__label {background-color: #d4ebff;}#sk-container-id-4 input.sk-hidden--visually {border: 0;clip: rect(1px 1px 1px 1px);clip: rect(1px, 1px, 1px, 1px);height: 1px;margin: -1px;overflow: hidden;padding: 0;position: absolute;width: 1px;}#sk-container-id-4 div.sk-estimator {font-family: monospace;background-color: #f0f8ff;border: 1px dotted black;border-radius: 0.25em;box-sizing: border-box;margin-bottom: 0.5em;}#sk-container-id-4 div.sk-estimator:hover {background-color: #d4ebff;}#sk-container-id-4 div.sk-parallel-item::after {content: \"\";width: 100%;border-bottom: 1px solid gray;flex-grow: 1;}#sk-container-id-4 div.sk-label:hover label.sk-toggleable__label {background-color: #d4ebff;}#sk-container-id-4 div.sk-serial::before {content: \"\";position: absolute;border-left: 1px solid gray;box-sizing: border-box;top: 0;bottom: 0;left: 50%;z-index: 0;}#sk-container-id-4 div.sk-serial {display: flex;flex-direction: column;align-items: center;background-color: white;padding-right: 0.2em;padding-left: 0.2em;position: relative;}#sk-container-id-4 div.sk-item {position: relative;z-index: 1;}#sk-container-id-4 div.sk-parallel {display: flex;align-items: stretch;justify-content: center;background-color: white;position: relative;}#sk-container-id-4 div.sk-item::before, #sk-container-id-4 div.sk-parallel-item::before {content: \"\";position: absolute;border-left: 1px solid gray;box-sizing: border-box;top: 0;bottom: 0;left: 50%;z-index: -1;}#sk-container-id-4 div.sk-parallel-item {display: flex;flex-direction: column;z-index: 1;position: relative;background-color: white;}#sk-container-id-4 div.sk-parallel-item:first-child::after {align-self: flex-end;width: 50%;}#sk-container-id-4 div.sk-parallel-item:last-child::after {align-self: flex-start;width: 50%;}#sk-container-id-4 div.sk-parallel-item:only-child::after {width: 0;}#sk-container-id-4 div.sk-dashed-wrapped {border: 1px dashed gray;margin: 0 0.4em 0.5em 0.4em;box-sizing: border-box;padding-bottom: 0.4em;background-color: white;}#sk-container-id-4 div.sk-label label {font-family: monospace;font-weight: bold;display: inline-block;line-height: 1.2em;}#sk-container-id-4 div.sk-label-container {text-align: center;}#sk-container-id-4 div.sk-container {/* jupyter's `normalize.less` sets `[hidden] { display: none; }` but bootstrap.min.css set `[hidden] { display: none !important; }` so we also need the `!important` here to be able to override the default hidden behavior on the sphinx rendered scikit-learn.org. See: https://github.com/scikit-learn/scikit-learn/issues/21755 */display: inline-block !important;position: relative;}#sk-container-id-4 div.sk-text-repr-fallback {display: none;}</style><div id=\"sk-container-id-4\" class=\"sk-top-container\"><div class=\"sk-text-repr-fallback\"><pre>XGBClassifier(base_score=None, booster=None, callbacks=None,\n",
       "              colsample_bylevel=None, colsample_bynode=None,\n",
       "              colsample_bytree=0.7333695437300213, early_stopping_rounds=None,\n",
       "              enable_categorical=False, eval_metric=None, feature_types=None,\n",
       "              gamma=0.9902553925469809, gpu_id=None, grow_policy=None,\n",
       "              importance_type=None, interaction_constraints=None,\n",
       "              learning_rate=0.1362814529149798, max_bin=None,\n",
       "              max_cat_threshold=None, max_cat_to_onehot=None,\n",
       "              max_delta_step=None, max_depth=7, max_leaves=None,\n",
       "              min_child_weight=None, missing=nan, monotone_constraints=None,\n",
       "              n_estimators=650, n_jobs=None, num_parallel_tree=None,\n",
       "              predictor=None, random_state=None, ...)</pre><b>In a Jupyter environment, please rerun this cell to show the HTML representation or trust the notebook. <br />On GitHub, the HTML representation is unable to render, please try loading this page with nbviewer.org.</b></div><div class=\"sk-container\" hidden><div class=\"sk-item\"><div class=\"sk-estimator sk-toggleable\"><input class=\"sk-toggleable__control sk-hidden--visually\" id=\"sk-estimator-id-4\" type=\"checkbox\" checked><label for=\"sk-estimator-id-4\" class=\"sk-toggleable__label sk-toggleable__label-arrow\">XGBClassifier</label><div class=\"sk-toggleable__content\"><pre>XGBClassifier(base_score=None, booster=None, callbacks=None,\n",
       "              colsample_bylevel=None, colsample_bynode=None,\n",
       "              colsample_bytree=0.7333695437300213, early_stopping_rounds=None,\n",
       "              enable_categorical=False, eval_metric=None, feature_types=None,\n",
       "              gamma=0.9902553925469809, gpu_id=None, grow_policy=None,\n",
       "              importance_type=None, interaction_constraints=None,\n",
       "              learning_rate=0.1362814529149798, max_bin=None,\n",
       "              max_cat_threshold=None, max_cat_to_onehot=None,\n",
       "              max_delta_step=None, max_depth=7, max_leaves=None,\n",
       "              min_child_weight=None, missing=nan, monotone_constraints=None,\n",
       "              n_estimators=650, n_jobs=None, num_parallel_tree=None,\n",
       "              predictor=None, random_state=None, ...)</pre></div></div></div></div></div>"
      ],
      "text/plain": [
       "XGBClassifier(base_score=None, booster=None, callbacks=None,\n",
       "              colsample_bylevel=None, colsample_bynode=None,\n",
       "              colsample_bytree=0.7333695437300213, early_stopping_rounds=None,\n",
       "              enable_categorical=False, eval_metric=None, feature_types=None,\n",
       "              gamma=0.9902553925469809, gpu_id=None, grow_policy=None,\n",
       "              importance_type=None, interaction_constraints=None,\n",
       "              learning_rate=0.1362814529149798, max_bin=None,\n",
       "              max_cat_threshold=None, max_cat_to_onehot=None,\n",
       "              max_delta_step=None, max_depth=7, max_leaves=None,\n",
       "              min_child_weight=None, missing=nan, monotone_constraints=None,\n",
       "              n_estimators=650, n_jobs=None, num_parallel_tree=None,\n",
       "              predictor=None, random_state=None, ...)"
      ]
     },
     "execution_count": 82,
     "metadata": {},
     "output_type": "execute_result"
    }
   ],
   "source": [
    "# Run me if you want the tuned model without running training\n",
    "\n",
    "# for readibility \n",
    "y_train_xgb = y_train.copy()\n",
    "y_test_xgb = y_test.copy()\n",
    "X_train_xgb = X_train.copy()\n",
    "X_test_xgb = X_test.copy()\n",
    "\n",
    "xgb = XGBClassifier(random_state=SEED)\n",
    "xgb.fit(X_train_xgb, y_train_xgb)\n",
    "\n",
    "# Handle NaNs\n",
    "X_train_xgb, X_test_xgb = handleNaNs(X_train.copy(), X_test.copy(), option=3, thresh=0.9)\n",
    "X_train_t_xgb, X_val_xgb = handleNaNs(X_train_t.copy(), X_val.copy(), option=3, thresh=0.9)\n",
    "\n",
    "# Fit model \n",
    "xgb.fit(X_train_xgb, y_train_xgb)\n",
    "\n",
    "# Handle features \n",
    "X_train_xgb, X_test_xgb, xgb = handle_importance(xgb, \n",
    "                                                X_train_xgb, \n",
    "                                                X_test=X_test_xgb, \n",
    "                                                threshold=-1, \n",
    "                                                n=10)\n",
    "\n",
    "X_train_t_xgb, X_val_xgb, xgb = handle_importance(xgb, \n",
    "                                                X_train_t_xgb, \n",
    "                                                X_test=X_val_xgb, \n",
    "                                                threshold=-1, \n",
    "                                                n=10)\n",
    "xgb.fit(X_train_xgb, y_train_xgb)\n",
    "\n",
    "# Create tuned model\n",
    "params_tuned_xgb_saved = {'colsample_bytree': 0.7333695437300213, 'gamma': 0.9902553925469809, 'learning_rate': 0.1362814529149798, 'max_depth': 7, 'n_estimators': 650, 'reg_alpha': 1.7440632911781833, 'reg_lambda': 1.313743480031632, 'scale_pos_weight': 1.0461027548267379}\n",
    "tuned_xgb.fit(X_train_xgb, y_train_xgb)"
   ]
  },
  {
   "cell_type": "code",
   "execution_count": 83,
   "id": "01d34ebc",
   "metadata": {},
   "outputs": [
    {
     "name": "stdout",
     "output_type": "stream",
     "text": [
      "Final tuned CV performance for XGB\n",
      "AVERAGE CV=5 ROC_AUC: 0.9646188930117502\n",
      "AVERAGE CV=5 STD: 0.006589821547765085\n"
     ]
    },
    {
     "data": {
      "text/plain": [
       "(0.9646188930117502, 0.006589821547765085)"
      ]
     },
     "execution_count": 83,
     "metadata": {},
     "output_type": "execute_result"
    }
   ],
   "source": [
    "print(\"Final tuned CV performance for XGB\")\n",
    "tuned_xgb.fit(X_train_xgb, y_train)\n",
    "test_model_cross_val(tuned_xgb, y_train_xgb, X_train_xgb, k=5, verbose=True)"
   ]
  },
  {
   "cell_type": "code",
   "execution_count": 84,
   "id": "791a78bc",
   "metadata": {},
   "outputs": [
    {
     "name": "stdout",
     "output_type": "stream",
     "text": [
      "ROC_AUC (TEST): 0.9785365853658536\n",
      "\n",
      "\n",
      "CLASSIFICATION REPORT:\n",
      "               precision    recall  f1-score   support\n",
      "\n",
      "       False     0.8600    0.8600    0.8600        50\n",
      "        True     0.9431    0.9431    0.9431       123\n",
      "\n",
      "    accuracy                         0.9191       173\n",
      "   macro avg     0.9015    0.9015    0.9015       173\n",
      "weighted avg     0.9191    0.9191    0.9191       173\n",
      "\n"
     ]
    },
    {
     "data": {
      "image/png": "[encoded data removed]",
      "text/plain": [
       "<Figure size 842.4x883.44 with 1 Axes>"
      ]
     },
     "metadata": {},
     "output_type": "display_data"
    },
    {
     "data": {
      "image/png": "[encoded data removed]",
      "text/plain": [
       "<Figure size 842.4x883.44 with 1 Axes>"
      ]
     },
     "metadata": {},
     "output_type": "display_data"
    },
    {
     "data": {
      "text/plain": [
       "0.9785365853658536"
      ]
     },
     "execution_count": 84,
     "metadata": {},
     "output_type": "execute_result"
    }
   ],
   "source": [
    "tuned_xgb.fit(X_train_xgb, y_train_xgb)\n",
    "test_model(tuned_xgb, y_test_xgb, X_test_xgb)"
   ]
  },
  {
   "cell_type": "markdown",
   "id": "037d9335",
   "metadata": {},
   "source": [
    "## Save dataframe used in XGB to CSV"
   ]
  },
  {
   "cell_type": "code",
   "execution_count": 85,
   "id": "68259fcb",
   "metadata": {},
   "outputs": [
    {
     "data": {
      "text/html": [
       "<div>\n",
       "<style scoped>\n",
       "    .dataframe tbody tr th:only-of-type {\n",
       "        vertical-align: middle;\n",
       "    }\n",
       "\n",
       "    .dataframe tbody tr th {\n",
       "        vertical-align: top;\n",
       "    }\n",
       "\n",
       "    .dataframe thead th {\n",
       "        text-align: right;\n",
       "    }\n",
       "</style>\n",
       "<table border=\"1\" class=\"dataframe\">\n",
       "  <thead>\n",
       "    <tr style=\"text-align: right;\">\n",
       "      <th></th>\n",
       "      <th>SM1_Dz(i)</th>\n",
       "      <th>CATS2D_02_DA</th>\n",
       "      <th>AMR</th>\n",
       "      <th>Eig03_EA(dm)</th>\n",
       "      <th>T(N..O)</th>\n",
       "      <th>DLS_cons</th>\n",
       "      <th>SpPosA_B(p)</th>\n",
       "      <th>SM1_Dz(p)</th>\n",
       "      <th>P_VSA_MR_2</th>\n",
       "      <th>DLS_04</th>\n",
       "    </tr>\n",
       "  </thead>\n",
       "  <tbody>\n",
       "    <tr>\n",
       "      <th>C1=CC=C2C(=C1)C(=O)C(C2=O)(O)O</th>\n",
       "      <td>0.526148</td>\n",
       "      <td>1</td>\n",
       "      <td>43.4446</td>\n",
       "      <td>0.367662</td>\n",
       "      <td>0</td>\n",
       "      <td>0.700000</td>\n",
       "      <td>1.215730</td>\n",
       "      <td>-1.757858</td>\n",
       "      <td>50.289854</td>\n",
       "      <td>0.4</td>\n",
       "    </tr>\n",
       "    <tr>\n",
       "      <th>C(=C(F)F)(C(F)(F)F)C(F)(F)F</th>\n",
       "      <td>1.342760</td>\n",
       "      <td>0</td>\n",
       "      <td>23.0111</td>\n",
       "      <td>1.510000</td>\n",
       "      <td>0</td>\n",
       "      <td>0.838095</td>\n",
       "      <td>0.895484</td>\n",
       "      <td>-2.898296</td>\n",
       "      <td>89.760680</td>\n",
       "      <td>0.7</td>\n",
       "    </tr>\n",
       "    <tr>\n",
       "      <th>C1=C(C=C(C(=C1[N+](=O)[O-])O)[N+](=O)[O-])[N+](=O)[O-]</th>\n",
       "      <td>1.060322</td>\n",
       "      <td>0</td>\n",
       "      <td>49.7262</td>\n",
       "      <td>2.612452</td>\n",
       "      <td>71</td>\n",
       "      <td>0.723810</td>\n",
       "      <td>1.167397</td>\n",
       "      <td>-2.415914</td>\n",
       "      <td>42.683343</td>\n",
       "      <td>0.4</td>\n",
       "    </tr>\n",
       "    <tr>\n",
       "      <th>CN1C(=O)CN=C(C2=C1C=CC(=C2)Cl)C3=CC=CC=C3</th>\n",
       "      <td>0.562583</td>\n",
       "      <td>0</td>\n",
       "      <td>79.9621</td>\n",
       "      <td>0.484748</td>\n",
       "      <td>5</td>\n",
       "      <td>0.871429</td>\n",
       "      <td>1.303249</td>\n",
       "      <td>-1.165429</td>\n",
       "      <td>25.144927</td>\n",
       "      <td>0.6</td>\n",
       "    </tr>\n",
       "    <tr>\n",
       "      <th>C(C(C(F)(F)F)(F)Cl)(F)Cl</th>\n",
       "      <td>1.109189</td>\n",
       "      <td>0</td>\n",
       "      <td>26.4845</td>\n",
       "      <td>1.534796</td>\n",
       "      <td>0</td>\n",
       "      <td>0.809524</td>\n",
       "      <td>1.013713</td>\n",
       "      <td>-2.427375</td>\n",
       "      <td>74.800566</td>\n",
       "      <td>0.5</td>\n",
       "    </tr>\n",
       "    <tr>\n",
       "      <th>...</th>\n",
       "      <td>...</td>\n",
       "      <td>...</td>\n",
       "      <td>...</td>\n",
       "      <td>...</td>\n",
       "      <td>...</td>\n",
       "      <td>...</td>\n",
       "      <td>...</td>\n",
       "      <td>...</td>\n",
       "      <td>...</td>\n",
       "      <td>...</td>\n",
       "    </tr>\n",
       "    <tr>\n",
       "      <th>CCCCC(=O)OCC</th>\n",
       "      <td>0.297286</td>\n",
       "      <td>0</td>\n",
       "      <td>35.9897</td>\n",
       "      <td>0.000000</td>\n",
       "      <td>0</td>\n",
       "      <td>0.952381</td>\n",
       "      <td>1.161512</td>\n",
       "      <td>-1.223775</td>\n",
       "      <td>71.458121</td>\n",
       "      <td>1.0</td>\n",
       "    </tr>\n",
       "    <tr>\n",
       "      <th>C=CCSS(=O)CC=C</th>\n",
       "      <td>-0.000700</td>\n",
       "      <td>0</td>\n",
       "      <td>46.6775</td>\n",
       "      <td>0.000000</td>\n",
       "      <td>0</td>\n",
       "      <td>0.938095</td>\n",
       "      <td>1.374833</td>\n",
       "      <td>-0.346281</td>\n",
       "      <td>22.156476</td>\n",
       "      <td>0.9</td>\n",
       "    </tr>\n",
       "    <tr>\n",
       "      <th>CCCC(=O)OCC(C)C</th>\n",
       "      <td>0.297286</td>\n",
       "      <td>0</td>\n",
       "      <td>40.3847</td>\n",
       "      <td>0.000000</td>\n",
       "      <td>0</td>\n",
       "      <td>0.952381</td>\n",
       "      <td>1.168715</td>\n",
       "      <td>-1.223775</td>\n",
       "      <td>47.915917</td>\n",
       "      <td>1.0</td>\n",
       "    </tr>\n",
       "    <tr>\n",
       "      <th>CCCCCOC(=O)CCC</th>\n",
       "      <td>0.297286</td>\n",
       "      <td>0</td>\n",
       "      <td>45.1149</td>\n",
       "      <td>0.000000</td>\n",
       "      <td>0</td>\n",
       "      <td>0.923810</td>\n",
       "      <td>1.171368</td>\n",
       "      <td>-1.223775</td>\n",
       "      <td>59.687019</td>\n",
       "      <td>0.8</td>\n",
       "    </tr>\n",
       "    <tr>\n",
       "      <th>CCC(=O)OCC(C)C</th>\n",
       "      <td>0.297286</td>\n",
       "      <td>0</td>\n",
       "      <td>35.7837</td>\n",
       "      <td>0.000000</td>\n",
       "      <td>0</td>\n",
       "      <td>0.952381</td>\n",
       "      <td>1.150121</td>\n",
       "      <td>-1.223775</td>\n",
       "      <td>47.915917</td>\n",
       "      <td>1.0</td>\n",
       "    </tr>\n",
       "  </tbody>\n",
       "</table>\n",
       "<p>865 rows × 10 columns</p>\n",
       "</div>"
      ],
      "text/plain": [
       "                                                    SM1_Dz(i)  CATS2D_02_DA  \\\n",
       "C1=CC=C2C(=C1)C(=O)C(C2=O)(O)O                       0.526148             1   \n",
       "C(=C(F)F)(C(F)(F)F)C(F)(F)F                          1.342760             0   \n",
       "C1=C(C=C(C(=C1[N+](=O)[O-])O)[N+](=O)[O-])[N+](...   1.060322             0   \n",
       "CN1C(=O)CN=C(C2=C1C=CC(=C2)Cl)C3=CC=CC=C3            0.562583             0   \n",
       "C(C(C(F)(F)F)(F)Cl)(F)Cl                             1.109189             0   \n",
       "...                                                       ...           ...   \n",
       "CCCCC(=O)OCC                                         0.297286             0   \n",
       "C=CCSS(=O)CC=C                                      -0.000700             0   \n",
       "CCCC(=O)OCC(C)C                                      0.297286             0   \n",
       "CCCCCOC(=O)CCC                                       0.297286             0   \n",
       "CCC(=O)OCC(C)C                                       0.297286             0   \n",
       "\n",
       "                                                        AMR  Eig03_EA(dm)  \\\n",
       "C1=CC=C2C(=C1)C(=O)C(C2=O)(O)O                      43.4446      0.367662   \n",
       "C(=C(F)F)(C(F)(F)F)C(F)(F)F                         23.0111      1.510000   \n",
       "C1=C(C=C(C(=C1[N+](=O)[O-])O)[N+](=O)[O-])[N+](...  49.7262      2.612452   \n",
       "CN1C(=O)CN=C(C2=C1C=CC(=C2)Cl)C3=CC=CC=C3           79.9621      0.484748   \n",
       "C(C(C(F)(F)F)(F)Cl)(F)Cl                            26.4845      1.534796   \n",
       "...                                                     ...           ...   \n",
       "CCCCC(=O)OCC                                        35.9897      0.000000   \n",
       "C=CCSS(=O)CC=C                                      46.6775      0.000000   \n",
       "CCCC(=O)OCC(C)C                                     40.3847      0.000000   \n",
       "CCCCCOC(=O)CCC                                      45.1149      0.000000   \n",
       "CCC(=O)OCC(C)C                                      35.7837      0.000000   \n",
       "\n",
       "                                                    T(N..O)  DLS_cons  \\\n",
       "C1=CC=C2C(=C1)C(=O)C(C2=O)(O)O                            0  0.700000   \n",
       "C(=C(F)F)(C(F)(F)F)C(F)(F)F                               0  0.838095   \n",
       "C1=C(C=C(C(=C1[N+](=O)[O-])O)[N+](=O)[O-])[N+](...       71  0.723810   \n",
       "CN1C(=O)CN=C(C2=C1C=CC(=C2)Cl)C3=CC=CC=C3                 5  0.871429   \n",
       "C(C(C(F)(F)F)(F)Cl)(F)Cl                                  0  0.809524   \n",
       "...                                                     ...       ...   \n",
       "CCCCC(=O)OCC                                              0  0.952381   \n",
       "C=CCSS(=O)CC=C                                            0  0.938095   \n",
       "CCCC(=O)OCC(C)C                                           0  0.952381   \n",
       "CCCCCOC(=O)CCC                                            0  0.923810   \n",
       "CCC(=O)OCC(C)C                                            0  0.952381   \n",
       "\n",
       "                                                    SpPosA_B(p)  SM1_Dz(p)  \\\n",
       "C1=CC=C2C(=C1)C(=O)C(C2=O)(O)O                         1.215730  -1.757858   \n",
       "C(=C(F)F)(C(F)(F)F)C(F)(F)F                            0.895484  -2.898296   \n",
       "C1=C(C=C(C(=C1[N+](=O)[O-])O)[N+](=O)[O-])[N+](...     1.167397  -2.415914   \n",
       "CN1C(=O)CN=C(C2=C1C=CC(=C2)Cl)C3=CC=CC=C3              1.303249  -1.165429   \n",
       "C(C(C(F)(F)F)(F)Cl)(F)Cl                               1.013713  -2.427375   \n",
       "...                                                         ...        ...   \n",
       "CCCCC(=O)OCC                                           1.161512  -1.223775   \n",
       "C=CCSS(=O)CC=C                                         1.374833  -0.346281   \n",
       "CCCC(=O)OCC(C)C                                        1.168715  -1.223775   \n",
       "CCCCCOC(=O)CCC                                         1.171368  -1.223775   \n",
       "CCC(=O)OCC(C)C                                         1.150121  -1.223775   \n",
       "\n",
       "                                                    P_VSA_MR_2  DLS_04  \n",
       "C1=CC=C2C(=C1)C(=O)C(C2=O)(O)O                       50.289854     0.4  \n",
       "C(=C(F)F)(C(F)(F)F)C(F)(F)F                          89.760680     0.7  \n",
       "C1=C(C=C(C(=C1[N+](=O)[O-])O)[N+](=O)[O-])[N+](...   42.683343     0.4  \n",
       "CN1C(=O)CN=C(C2=C1C=CC(=C2)Cl)C3=CC=CC=C3            25.144927     0.6  \n",
       "C(C(C(F)(F)F)(F)Cl)(F)Cl                             74.800566     0.5  \n",
       "...                                                        ...     ...  \n",
       "CCCCC(=O)OCC                                         71.458121     1.0  \n",
       "C=CCSS(=O)CC=C                                       22.156476     0.9  \n",
       "CCCC(=O)OCC(C)C                                      47.915917     1.0  \n",
       "CCCCCOC(=O)CCC                                       59.687019     0.8  \n",
       "CCC(=O)OCC(C)C                                       47.915917     1.0  \n",
       "\n",
       "[865 rows x 10 columns]"
      ]
     },
     "execution_count": 85,
     "metadata": {},
     "output_type": "execute_result"
    }
   ],
   "source": [
    "rf_csv = df.loc[:,X_train_xgb.columns]\n",
    "rf_csv.to_csv(f'data/xgb-df-{dataset}.csv')  \n",
    "rf_csv"
   ]
  },
  {
   "cell_type": "markdown",
   "id": "dd5eeb73",
   "metadata": {},
   "source": [
    "# Keras"
   ]
  },
  {
   "cell_type": "markdown",
   "id": "4d8de729",
   "metadata": {},
   "source": [
    "https://www.pluralsight.com/guides/classification-keras"
   ]
  },
  {
   "cell_type": "code",
   "execution_count": 86,
   "id": "d7e60405",
   "metadata": {},
   "outputs": [
    {
     "name": "stdout",
     "output_type": "stream",
     "text": [
      "Requirement already satisfied: keras in /home/zoya/anaconda3/lib/python3.8/site-packages (2.11.0)\n",
      "\n",
      "\u001b[1m[\u001b[0m\u001b[34;49mnotice\u001b[0m\u001b[1;39;49m]\u001b[0m\u001b[39;49m A new release of pip available: \u001b[0m\u001b[31;49m22.3.1\u001b[0m\u001b[39;49m -> \u001b[0m\u001b[32;49m23.0.1\u001b[0m\n",
      "\u001b[1m[\u001b[0m\u001b[34;49mnotice\u001b[0m\u001b[1;39;49m]\u001b[0m\u001b[39;49m To update, run: \u001b[0m\u001b[32;49mpip install --upgrade pip\u001b[0m\n",
      "Requirement already satisfied: scikeras in /home/zoya/anaconda3/lib/python3.8/site-packages (0.10.0)\n",
      "Requirement already satisfied: scikit-learn>=1.0.0 in /home/zoya/anaconda3/lib/python3.8/site-packages (from scikeras) (1.2.0)\n",
      "Requirement already satisfied: packaging>=0.21 in /home/zoya/anaconda3/lib/python3.8/site-packages (from scikeras) (21.3)\n",
      "Requirement already satisfied: pyparsing!=3.0.5,>=2.0.2 in /home/zoya/anaconda3/lib/python3.8/site-packages (from packaging>=0.21->scikeras) (2.4.7)\n",
      "Requirement already satisfied: joblib>=1.1.1 in /home/zoya/anaconda3/lib/python3.8/site-packages (from scikit-learn>=1.0.0->scikeras) (1.2.0)\n",
      "Requirement already satisfied: threadpoolctl>=2.0.0 in /home/zoya/anaconda3/lib/python3.8/site-packages (from scikit-learn>=1.0.0->scikeras) (3.1.0)\n",
      "Requirement already satisfied: numpy>=1.17.3 in /home/zoya/anaconda3/lib/python3.8/site-packages (from scikit-learn>=1.0.0->scikeras) (1.24.1)\n",
      "Requirement already satisfied: scipy>=1.3.2 in /home/zoya/anaconda3/lib/python3.8/site-packages (from scikit-learn>=1.0.0->scikeras) (1.10.0)\n",
      "\n",
      "\u001b[1m[\u001b[0m\u001b[34;49mnotice\u001b[0m\u001b[1;39;49m]\u001b[0m\u001b[39;49m A new release of pip available: \u001b[0m\u001b[31;49m22.3.1\u001b[0m\u001b[39;49m -> \u001b[0m\u001b[32;49m23.0.1\u001b[0m\n",
      "\u001b[1m[\u001b[0m\u001b[34;49mnotice\u001b[0m\u001b[1;39;49m]\u001b[0m\u001b[39;49m To update, run: \u001b[0m\u001b[32;49mpip install --upgrade pip\u001b[0m\n"
     ]
    }
   ],
   "source": [
    "!pip install keras\n",
    "!pip install scikeras\n",
    "\n",
    "import tensorflow as tf\n",
    "import keras_tuner as kt\n",
    "from tensorflow import keras\n",
    "from keras.models import Sequential\n",
    "from keras.layers import Dense\n",
    "from keras.utils import to_categorical \n",
    "from scikeras.wrappers import KerasClassifier\n",
    "from sklearn.metrics import roc_auc_score\n",
    "from sklearn.preprocessing import LabelEncoder\n",
    "from sklearn.preprocessing import StandardScaler\n",
    "from sklearn.pipeline import Pipeline\n",
    "\n",
    "\n",
    "# for readibility \n",
    "y_train_nn = y_train.copy()\n",
    "y_test_nn = y_test.copy()\n",
    "X_train_nn = X_train.copy()\n",
    "X_test_nn = X_test.copy()\n",
    "y_train_t_nn, y_val_nn = y_train_t.copy(), y_val.copy()\n",
    "\n",
    "tf.random.set_seed(SEED)"
   ]
  },
  {
   "cell_type": "markdown",
   "id": "6cb11ba9",
   "metadata": {},
   "source": [
    "## Preprocessing"
   ]
  },
  {
   "cell_type": "markdown",
   "id": "35abb192",
   "metadata": {},
   "source": [
    "### Handle NaNs \n",
    "- You can't have missing values in a Neural Network, so we choose to use the optimal value for XGB"
   ]
  },
  {
   "cell_type": "code",
   "execution_count": 87,
   "id": "26b640af",
   "metadata": {},
   "outputs": [],
   "source": [
    "X_train_nn, X_test_nn = handleNaNs(X_train.copy(), X_test.copy(), option=3, thresh=0.9)\n",
    "X_train_t_nn, X_val_nn = handleNaNs(X_train_t.copy(), X_val.copy(), option=3, thresh=0.9)"
   ]
  },
  {
   "cell_type": "markdown",
   "id": "3aebfb1e",
   "metadata": {},
   "source": [
    "### Encode class values as integers"
   ]
  },
  {
   "cell_type": "code",
   "execution_count": 88,
   "id": "fa598aec",
   "metadata": {},
   "outputs": [],
   "source": [
    "encoder = LabelEncoder()\n",
    "encoder.fit(y_train_t_nn)\n",
    "y_train_nn = encoder.transform(y_train_nn)\n",
    "y_train_t_nn = encoder.transform(y_train_t_nn)\n",
    "y_test_nn = encoder.transform(y_test_nn)\n",
    "y_val_nn = encoder.transform(y_val_nn)"
   ]
  },
  {
   "cell_type": "markdown",
   "id": "30d14c08",
   "metadata": {},
   "source": [
    "## Early stopping"
   ]
  },
  {
   "cell_type": "code",
   "execution_count": 89,
   "id": "56650d3a",
   "metadata": {},
   "outputs": [],
   "source": [
    "from tensorflow.keras.callbacks import EarlyStopping\n",
    "\n",
    "# Define the early stopping callback\n",
    "# Patience = 3 because we wait for 3 epochs without any improvement \n",
    "early_stopping = EarlyStopping(monitor='val_auc', mode='max', patience=15)"
   ]
  },
  {
   "cell_type": "markdown",
   "id": "8f12e29c",
   "metadata": {},
   "source": [
    "## Metrics"
   ]
  },
  {
   "cell_type": "code",
   "execution_count": 90,
   "id": "203869ce",
   "metadata": {},
   "outputs": [],
   "source": [
    "METRICS = [\n",
    "  keras.metrics.TruePositives(name='tp'),\n",
    "  keras.metrics.FalsePositives(name='fp'),\n",
    "  keras.metrics.TrueNegatives(name='tn'),\n",
    "  keras.metrics.FalseNegatives(name='fn'), \n",
    "  keras.metrics.Precision(name='precision'),\n",
    "  keras.metrics.Recall(name='recall'),\n",
    "  keras.metrics.AUC(name='auc', curve='ROC'),\n",
    "]"
   ]
  },
  {
   "cell_type": "markdown",
   "id": "1d5414f2",
   "metadata": {},
   "source": [
    "## Test model - Keras"
   ]
  },
  {
   "cell_type": "code",
   "execution_count": 91,
   "id": "8b901a28",
   "metadata": {},
   "outputs": [],
   "source": [
    "def test_model_keras_train(model, history, X_val_nn, y_val_nn, X_train_nn, y_train_nn): \n",
    "    # Plot training and validation auc \n",
    "\n",
    "    plt.plot(history.history['auc'])\n",
    "    plt.plot(history.history['val_auc'])\n",
    "    plt.title('model roc_auc')\n",
    "    plt.ylabel('ROC_AUC')\n",
    "    plt.xlabel('epoch')\n",
    "    plt.legend(['training', 'validation'], loc='upper left')\n",
    "    plt.show()\n",
    "\n",
    "    # Plot training and validation ROC curve\n",
    "    y_pred_keras = model.predict(X_val_nn).ravel()\n",
    "    fpr_keras, tpr_keras, thresholds_keras = roc_curve(y_val_nn, y_pred_keras)\n",
    "    auc_v_keras = metrics.roc_auc_score(y_val_nn, y_pred_keras)\n",
    "\n",
    "    plt.figure(1)\n",
    "    plt.plot([0, 1], [0, 1], 'k--')\n",
    "    plt.plot(fpr_keras, tpr_keras)\n",
    "\n",
    "    # Use the Keras model to make predictions on a test dataset\n",
    "    y_pred_t_keras = model.predict(X_train_nn)\n",
    "    \n",
    "    fpr_keras, tpr_keras, thresholds_keras = roc_curve(y_train_nn, y_pred_t_keras)\n",
    "    auc_t_keras = metrics.roc_auc_score(y_train_nn, y_pred_t_keras)\n",
    "    \n",
    "    plt.plot(fpr_keras, tpr_keras)\n",
    "\n",
    "    plt.xlabel('False positive rate')\n",
    "    plt.ylabel('True positive rate')\n",
    "    plt.title('ROC curve')\n",
    "    plt.legend(['', 'Validation (area = {:.4f})'.format(auc_v_keras), 'Training (area = {:.3f})'.format(auc_t_keras)], loc='best')\n",
    "    plt.show()\n",
    "    plt.show()\n",
    "    \n",
    "    # Print classification report \n",
    "    y_pred = model.predict(X_val_nn).round()\n",
    "    print(metrics.classification_report(y_val_nn, y_pred, digits=4))\n"
   ]
  },
  {
   "cell_type": "code",
   "execution_count": 92,
   "id": "5d0d6cbf",
   "metadata": {},
   "outputs": [],
   "source": [
    "def test_model_keras(model, X_test_nn, y_test_nn, X_train_nn, y_train_nn):\n",
    "    y_pred_t_keras = model.predict(X_test_nn).ravel()\n",
    "    fpr_keras, tpr_keras, thresholds_keras = roc_curve(y_test_nn, y_pred_t_keras)\n",
    "    auc_t_keras = metrics.roc_auc_score(y_test_nn, y_pred_t_keras)\n",
    "    auc_t_keras\n",
    "\n",
    "    plt.figure(1)\n",
    "    plt.plot([0, 1], [0, 1], 'k--')\n",
    "    plt.plot(fpr_keras, tpr_keras)\n",
    "    plt.xlabel('False positive rate')\n",
    "    plt.ylabel('True positive rate')\n",
    "    plt.title('ROC curve')\n",
    "    plt.legend(['', 'Test (area = {:.4f})'.format(auc_t_keras)], loc='best')\n",
    "    plt.show()\n",
    "    plt.show()\n",
    "    \n",
    "    # Print classification report \n",
    "    y_pred = model.predict(X_test_nn).round()\n",
    "    print(metrics.classification_report(y_test_nn, y_pred, digits=4))"
   ]
  },
  {
   "cell_type": "markdown",
   "id": "b98182ba",
   "metadata": {},
   "source": [
    "## Baseline Single Layer model\n",
    "- Overfitting quite a bit, you can see it when you compare the validation set auc and the auc for the training set "
   ]
  },
  {
   "cell_type": "code",
   "execution_count": 154,
   "id": "fc070499",
   "metadata": {},
   "outputs": [
    {
     "name": "stdout",
     "output_type": "stream",
     "text": [
      "Model: \"sequential_7\"\n",
      "_________________________________________________________________\n",
      " Layer (type)                Output Shape              Param #   \n",
      "=================================================================\n",
      " dense_22 (Dense)            (None, 12)                144       \n",
      "                                                                 \n",
      " dense_23 (Dense)            (None, 1)                 13        \n",
      "                                                                 \n",
      "=================================================================\n",
      "Total params: 157\n",
      "Trainable params: 157\n",
      "Non-trainable params: 0\n",
      "_________________________________________________________________\n"
     ]
    },
    {
     "data": {
      "image/png": "[encoded data removed]",
      "text/plain": [
       "<Figure size 842.4x883.44 with 1 Axes>"
      ]
     },
     "metadata": {},
     "output_type": "display_data"
    },
    {
     "name": "stdout",
     "output_type": "stream",
     "text": [
      "7/7 [==============================] - 0s 1ms/step\n",
      "16/16 [==============================] - 0s 1ms/step\n"
     ]
    },
    {
     "data": {
      "image/png": "[encoded data removed]",
      "text/plain": [
       "<Figure size 842.4x883.44 with 1 Axes>"
      ]
     },
     "metadata": {},
     "output_type": "display_data"
    },
    {
     "name": "stdout",
     "output_type": "stream",
     "text": [
      "7/7 [==============================] - 0s 1ms/step\n",
      "              precision    recall  f1-score   support\n",
      "\n",
      "           0     0.8696    0.6667    0.7547        60\n",
      "           1     0.8765    0.9595    0.9161       148\n",
      "\n",
      "    accuracy                         0.8750       208\n",
      "   macro avg     0.8731    0.8131    0.8354       208\n",
      "weighted avg     0.8745    0.8750    0.8696       208\n",
      "\n"
     ]
    }
   ],
   "source": [
    "model = keras.Sequential()\n",
    "model.add(keras.layers.Dense(X_train_nn.shape[-1]+1, activation=\"relu\", input_shape=(X_train_nn.shape[-1],)))\n",
    "model.add(Dense(1, activation='sigmoid'))\n",
    "\n",
    "model.summary()\n",
    "\n",
    "model.compile(optimizer='adam',\n",
    "              loss='binary_crossentropy',\n",
    "              metrics=METRICS)\n",
    "\n",
    "history = model.fit(X_train_t_nn, \n",
    "                      y_train_t_nn, \n",
    "                      epochs=100, \n",
    "                      validation_data=(X_val_nn, y_val_nn), \n",
    "                      callbacks=[early_stopping],\n",
    "                      verbose=0)\n",
    "\n",
    "test_model_keras_train(model, history, X_val_nn, y_val_nn, X_train_t_nn, y_train_t_nn)"
   ]
  },
  {
   "cell_type": "code",
   "execution_count": 164,
   "id": "4320cade",
   "metadata": {},
   "outputs": [
    {
     "name": "stdout",
     "output_type": "stream",
     "text": [
      "6/6 [==============================] - 0s 1ms/step\n"
     ]
    },
    {
     "data": {
      "image/png": "[encoded data removed]",
      "text/plain": [
       "<Figure size 842.4x883.44 with 1 Axes>"
      ]
     },
     "metadata": {},
     "output_type": "display_data"
    },
    {
     "name": "stdout",
     "output_type": "stream",
     "text": [
      "6/6 [==============================] - 0s 1ms/step\n",
      "              precision    recall  f1-score   support\n",
      "\n",
      "           0     0.9231    0.4800    0.6316        50\n",
      "           1     0.8231    0.9837    0.8963       123\n",
      "\n",
      "    accuracy                         0.8382       173\n",
      "   macro avg     0.8731    0.7319    0.7639       173\n",
      "weighted avg     0.8520    0.8382    0.8198       173\n",
      "\n"
     ]
    }
   ],
   "source": [
    "test_model_keras(model, X_test_nn, y_test_nn, X_train_t_nn, y_train_t_nn)\n",
    "model_nn1 = model"
   ]
  },
  {
   "cell_type": "markdown",
   "id": "a78e8fbb",
   "metadata": {},
   "source": [
    "## Multi Layer Model"
   ]
  },
  {
   "cell_type": "markdown",
   "id": "3a970c20",
   "metadata": {},
   "source": [
    "### Retune and retrain model"
   ]
  },
  {
   "cell_type": "code",
   "execution_count": 132,
   "id": "f328348b",
   "metadata": {},
   "outputs": [],
   "source": [
    "def model_builder_3(hp):\n",
    "\n",
    "    model = keras.Sequential()\n",
    "    model.add(Dense(X_train_nn.shape[-1], input_shape=(X_train_nn.shape[-1],), activation='relu'))\n",
    "\n",
    "    # Tune the number of units in the first Dense layer\n",
    "    # Choose an optimal value between 2-length of layers\n",
    "    hp_units = hp.Int('unit_1', min_value=2, max_value=1000, step=10)\n",
    "    model.add(keras.layers.Dense(units=hp_units, activation='relu'))\n",
    "    \n",
    "    # dropout layer reduces overfitting\n",
    "    hp_units = hp.Float('dropout_1', min_value=0.0, max_value=0.5, default=0.25, step=0.05)\n",
    "    model.add(keras.layers.Dropout(hp_units))\n",
    "    \n",
    "    # Tune the number of units in the first Dense layer\n",
    "    # Choose an optimal value between 2-length of layers\n",
    "    hp_units = hp.Int('unit_2', min_value=2, max_value=1000, step=10)\n",
    "    model.add(keras.layers.Dense(units=hp_units, activation='relu'))\n",
    "    \n",
    "    model.add(Dense(1, activation='sigmoid'))\n",
    "    \n",
    "    hp_learning_rate = hp.Choice('learning_rate', values=[1e-2, 1e-3, 1e-4])\n",
    "\n",
    "    model.compile(optimizer=keras.optimizers.Adam(learning_rate=hp_learning_rate),\n",
    "                  loss='binary_crossentropy',\n",
    "                  metrics=METRICS)\n",
    "\n",
    "    return model"
   ]
  },
  {
   "cell_type": "code",
   "execution_count": 133,
   "id": "3e283340",
   "metadata": {},
   "outputs": [
    {
     "name": "stdout",
     "output_type": "stream",
     "text": [
      "Trial 254 Complete [00h 00m 15s]\n",
      "val_auc: 0.9386823773384094\n",
      "\n",
      "Best val_auc So Far: 0.956024706363678\n",
      "Total elapsed time: 00h 17m 13s\n",
      "INFO:tensorflow:Oracle triggered exit\n"
     ]
    },
    {
     "name": "stderr",
     "output_type": "stream",
     "text": [
      "INFO:tensorflow:Oracle triggered exit\n"
     ]
    }
   ],
   "source": [
    "print(X_val_nn.shape)\n",
    "tuner = kt.Hyperband(model_builder_3,\n",
    "                     objective=kt.Objective(\"val_auc\", direction=\"max\"),\n",
    "                     max_epochs=100,\n",
    "                     factor=3,\n",
    "                     seed=SEED, \n",
    "                     directory=\"results_dir_dragon\",\n",
    "                     project_name=\"odor\",\n",
    "                     overwrite=True,)\n",
    "                     \n",
    "tuner.search(X_train_t_nn, \n",
    "             y_train_t_nn, \n",
    "             epochs=100,\n",
    "             callbacks=[early_stopping],\n",
    "             validation_data=(X_val_nn, y_val_nn))"
   ]
  },
  {
   "cell_type": "code",
   "execution_count": 134,
   "id": "f8466c2c",
   "metadata": {},
   "outputs": [
    {
     "name": "stdout",
     "output_type": "stream",
     "text": [
      "\n",
      "The hyperparameter search is complete. \n",
      " The optimal number of units in the first densely-connected\n",
      "layer is 932 \n",
      " The optimal number of units in the second densely-connected\n",
      "layer is 672 \n",
      " The optimal number of dropouts in the first densely-connected\n",
      "layer is 0.4.\n",
      " The optimal learning \n",
      "rate is  0.01\n",
      "\n"
     ]
    }
   ],
   "source": [
    "best_hps=tuner.get_best_hyperparameters(num_trials=1)[0]\n",
    "print(f\"\"\"\n",
    "The hyperparameter search is complete. \\n The optimal number of units in the first densely-connected\n",
    "layer is {best_hps.get('unit_1')} \\n The optimal number of units in the second densely-connected\n",
    "layer is {best_hps.get('unit_2')} \\n The optimal number of dropouts in the first densely-connected\n",
    "layer is {best_hps.get('dropout_1')}.\\n The optimal learning \n",
    "rate is  {best_hps.get('learning_rate')}\n",
    "\"\"\")"
   ]
  },
  {
   "cell_type": "code",
   "execution_count": 143,
   "id": "fdea6f27",
   "metadata": {},
   "outputs": [
    {
     "name": "stdout",
     "output_type": "stream",
     "text": [
      "Model: \"sequential_3\"\n",
      "_________________________________________________________________\n",
      " Layer (type)                Output Shape              Param #   \n",
      "=================================================================\n",
      " dense_12 (Dense)            (None, 11)                132       \n",
      "                                                                 \n",
      " dense_13 (Dense)            (None, 932)               11184     \n",
      "                                                                 \n",
      " dropout_3 (Dropout)         (None, 932)               0         \n",
      "                                                                 \n",
      " dense_14 (Dense)            (None, 672)               626976    \n",
      "                                                                 \n",
      " dense_15 (Dense)            (None, 1)                 673       \n",
      "                                                                 \n",
      "=================================================================\n",
      "Total params: 638,965\n",
      "Trainable params: 638,965\n",
      "Non-trainable params: 0\n",
      "_________________________________________________________________\n"
     ]
    }
   ],
   "source": [
    "model4 = tuner.hypermodel.build(best_hps)\n",
    "model4.summary()"
   ]
  },
  {
   "cell_type": "code",
   "execution_count": 170,
   "id": "99c061aa",
   "metadata": {},
   "outputs": [
    {
     "data": {
      "image/png": "[encoded data removed]",
      "text/plain": [
       "<Figure size 842.4x883.44 with 1 Axes>"
      ]
     },
     "metadata": {},
     "output_type": "display_data"
    },
    {
     "name": "stdout",
     "output_type": "stream",
     "text": [
      "7/7 [==============================] - 0s 2ms/step\n",
      "22/22 [==============================] - 0s 2ms/step\n"
     ]
    },
    {
     "data": {
      "image/png": "[encoded data removed]",
      "text/plain": [
       "<Figure size 842.4x883.44 with 1 Axes>"
      ]
     },
     "metadata": {},
     "output_type": "display_data"
    },
    {
     "name": "stdout",
     "output_type": "stream",
     "text": [
      "7/7 [==============================] - 0s 2ms/step\n",
      "              precision    recall  f1-score   support\n",
      "\n",
      "           0     0.8276    0.8000    0.8136        60\n",
      "           1     0.9200    0.9324    0.9262       148\n",
      "\n",
      "    accuracy                         0.8942       208\n",
      "   macro avg     0.8738    0.8662    0.8699       208\n",
      "weighted avg     0.8933    0.8942    0.8937       208\n",
      "\n"
     ]
    }
   ],
   "source": [
    "history = model4.fit(X_train_t_nn, \n",
    "                      y_train_t_nn, \n",
    "                      epochs=100,\n",
    "                      callbacks=[early_stopping],\n",
    "                      validation_data=(X_val_nn, y_val_nn), \n",
    "                      verbose=0)\n",
    "\n",
    "test_model_keras_train(model4, history, X_val_nn, y_val_nn, X_train_nn, y_train_nn)"
   ]
  },
  {
   "cell_type": "code",
   "execution_count": 171,
   "id": "e9c0df40",
   "metadata": {},
   "outputs": [],
   "source": [
    "tuned_nn = model4"
   ]
  },
  {
   "cell_type": "markdown",
   "id": "ae139664",
   "metadata": {},
   "source": [
    "## Evaluate model on test data"
   ]
  },
  {
   "cell_type": "code",
   "execution_count": 172,
   "id": "dcd95b0a",
   "metadata": {},
   "outputs": [
    {
     "name": "stdout",
     "output_type": "stream",
     "text": [
      "6/6 [==============================] - 0s 2ms/step\n"
     ]
    },
    {
     "data": {
      "image/png": "[encoded data removed]",
      "text/plain": [
       "<Figure size 842.4x883.44 with 1 Axes>"
      ]
     },
     "metadata": {},
     "output_type": "display_data"
    },
    {
     "name": "stdout",
     "output_type": "stream",
     "text": [
      "6/6 [==============================] - 0s 2ms/step\n",
      "              precision    recall  f1-score   support\n",
      "\n",
      "           0     0.9143    0.6400    0.7529        50\n",
      "           1     0.8696    0.9756    0.9195       123\n",
      "\n",
      "    accuracy                         0.8786       173\n",
      "   macro avg     0.8919    0.8078    0.8362       173\n",
      "weighted avg     0.8825    0.8786    0.8714       173\n",
      "\n"
     ]
    }
   ],
   "source": [
    "test_model_keras(model4, X_test_nn, y_test_nn, X_train_nn, y_train_nn)"
   ]
  },
  {
   "cell_type": "markdown",
   "id": "a2199488",
   "metadata": {},
   "source": [
    "## Neural net with 3 hidden layers"
   ]
  },
  {
   "cell_type": "code",
   "execution_count": 175,
   "id": "61dbd93a",
   "metadata": {},
   "outputs": [
    {
     "name": "stdout",
     "output_type": "stream",
     "text": [
      "Trial 254 Complete [00h 00m 13s]\n",
      "val_auc: 0.9450450539588928\n",
      "\n",
      "Best val_auc So Far: 0.9533783197402954\n",
      "Total elapsed time: 00h 18m 36s\n",
      "INFO:tensorflow:Oracle triggered exit\n"
     ]
    },
    {
     "name": "stderr",
     "output_type": "stream",
     "text": [
      "INFO:tensorflow:Oracle triggered exit\n"
     ]
    },
    {
     "name": "stdout",
     "output_type": "stream",
     "text": [
      "Model: \"sequential_1\"\n",
      "_________________________________________________________________\n",
      " Layer (type)                Output Shape              Param #   \n",
      "=================================================================\n",
      " dense_5 (Dense)             (None, 11)                132       \n",
      "                                                                 \n",
      " dense_6 (Dense)             (None, 62)                744       \n",
      "                                                                 \n",
      " dropout_1 (Dropout)         (None, 62)                0         \n",
      "                                                                 \n",
      " dense_7 (Dense)             (None, 702)               44226     \n",
      "                                                                 \n",
      " dense_8 (Dense)             (None, 62)                43586     \n",
      "                                                                 \n",
      " dense_9 (Dense)             (None, 1)                 63        \n",
      "                                                                 \n",
      "=================================================================\n",
      "Total params: 88,751\n",
      "Trainable params: 88,751\n",
      "Non-trainable params: 0\n",
      "_________________________________________________________________\n"
     ]
    }
   ],
   "source": [
    "def model_builder_4(hp):\n",
    "\n",
    "    model = keras.Sequential()\n",
    "    model.add(Dense(X_train_nn.shape[-1], input_shape=(X_train_nn.shape[-1],), activation='relu'))\n",
    "\n",
    "    # Tune the number of units in the first Dense layer\n",
    "    # Choose an optimal value between 2-length of layers\n",
    "    hp_units = hp.Int('unit_1', min_value=2, max_value=1000, step=10)\n",
    "    model.add(keras.layers.Dense(units=hp_units, activation='relu'))\n",
    "    \n",
    "    # dropout layer reduces overfitting\n",
    "    hp_units = hp.Float('dropout_1', min_value=0.0, max_value=0.5, default=0.25, step=0.05)\n",
    "    model.add(keras.layers.Dropout(hp_units))\n",
    "    \n",
    "    # Tune the number of units in the first Dense layer\n",
    "    # Choose an optimal value between 2-length of layers\n",
    "    hp_units = hp.Int('unit_2', min_value=2, max_value=1000, step=10)\n",
    "    model.add(keras.layers.Dense(units=hp_units, activation='relu'))\n",
    "    \n",
    "    # Tune the number of units in the first Dense layer\n",
    "    # Choose an optimal value between 2-length of layers\n",
    "    hp_units = hp.Int('unit_3', min_value=2, max_value=1000, step=10)\n",
    "    model.add(keras.layers.Dense(units=hp_units, activation='relu'))\n",
    "\n",
    "    model.add(Dense(1, activation='sigmoid'))\n",
    "    \n",
    "    hp_learning_rate = hp.Choice('learning_rate', values=[1e-2, 1e-3, 1e-4])\n",
    "\n",
    "    model.compile(optimizer=keras.optimizers.Adam(learning_rate=hp_learning_rate),\n",
    "                  loss='binary_crossentropy',\n",
    "                  metrics=METRICS)\n",
    "\n",
    "    return model\n",
    "\n",
    "tuner = kt.Hyperband(model_builder_4,\n",
    "                     objective=kt.Objective(\"val_auc\", direction=\"max\"),\n",
    "                     max_epochs=100,\n",
    "                     factor=3,\n",
    "                     seed=SEED, \n",
    "                     directory=\"results_dir_dragon\",\n",
    "                     project_name=\"odor\",\n",
    "                     overwrite=True,)\n",
    "                     \n",
    "tuner.search(X_train_t_nn, \n",
    "             y_train_t_nn, \n",
    "             epochs=100,\n",
    "             callbacks=[early_stopping],\n",
    "             validation_data=(X_val_nn, y_val_nn))\n",
    "\n",
    "best_hps=tuner.get_best_hyperparameters(num_trials=1)[0]\n",
    "tuned_nn3 = tuner.hypermodel.build(best_hps)\n",
    "tuned_nn3.summary()"
   ]
  },
  {
   "cell_type": "markdown",
   "id": "0909e3de",
   "metadata": {},
   "source": [
    "# Penalized SVM"
   ]
  },
  {
   "cell_type": "code",
   "execution_count": null,
   "id": "7c94f219",
   "metadata": {},
   "outputs": [],
   "source": [
    "from sklearn import svm\n",
    "\n",
    "y_train_svm = y_train.copy()\n",
    "y_test_svm = y_test.copy()\n",
    "X_train_svm, X_test_svm = handleNaNs(X_train.copy(), X_test.copy(), option=1)"
   ]
  },
  {
   "cell_type": "code",
   "execution_count": null,
   "id": "e319e132",
   "metadata": {},
   "outputs": [],
   "source": [
    "clf_s = svm.SVC(kernel='linear',\n",
    "                gamma='scale',\n",
    "                class_weight='balanced', # penalize\n",
    "                probability=True)"
   ]
  },
  {
   "cell_type": "code",
   "execution_count": null,
   "id": "6bd3f8e4",
   "metadata": {},
   "outputs": [],
   "source": [
    "from sklearn.model_selection import RepeatedStratifiedKFold\n",
    "\n",
    "print(\"Baseline CV=10 training performance of a SVM\")\n",
    "\n",
    "# define evaluation procedure\n",
    "cv = RepeatedStratifiedKFold(n_splits=10, n_repeats=3, random_state=SEED)\n",
    "# evaluate model\n",
    "scores = cross_val_score(clf_s, X_train_svm, y_train_svm, scoring='roc_auc', cv=cv, n_jobs=-1)\n",
    "# summarize performance\n",
    "print('Mean ROC AUC: %.3f' % np.mean(scores))"
   ]
  },
  {
   "cell_type": "code",
   "execution_count": null,
   "id": "8f87b1cf",
   "metadata": {},
   "outputs": [],
   "source": [
    "print(\"CV=5 training performance of a SVM with RF most important descriptors\")\n",
    "\n",
    "# define evaluation procedure\n",
    "cv = RepeatedStratifiedKFold(n_splits=5, n_repeats=3, random_state=SEED)\n",
    "# evaluate model\n",
    "scores = cross_val_score(clf_s, X_train_rf, y_train_rf, scoring='roc_auc', cv=cv, n_jobs=-1)\n",
    "# summarize performance\n",
    "print('Mean ROC AUC: %.3f' % np.mean(scores))"
   ]
  },
  {
   "cell_type": "code",
   "execution_count": null,
   "id": "c7c1f346",
   "metadata": {},
   "outputs": [],
   "source": [
    "clf_s.fit(X_train_rf, y_train_rf)\n",
    "test_model(clf_s, y_test_rf, X_test_rf)"
   ]
  },
  {
   "cell_type": "markdown",
   "id": "26c74df2",
   "metadata": {},
   "source": [
    "# Graphs for all models"
   ]
  },
  {
   "cell_type": "code",
   "execution_count": 165,
   "id": "a0edaaf6",
   "metadata": {},
   "outputs": [
    {
     "name": "stdout",
     "output_type": "stream",
     "text": [
      "6/6 [==============================] - 0s 1ms/step\n",
      "6/6 [==============================] - 0s 2ms/step\n"
     ]
    }
   ],
   "source": [
    "# RF\n",
    "y_pred_rf=tuned_rf.predict(X_test_rf)\n",
    "y_pred_probs_rf=tuned_rf.predict_proba(X_test_rf)[:,1]\n",
    "fpr_rf, tpr_rf, _ = metrics.roc_curve(y_test,  y_pred_probs_rf)  \n",
    "auc_t_rf = metrics.roc_auc_score(y_test, y_pred_probs_rf)\n",
    "\n",
    "# XGB\n",
    "y_pred_xgb=tuned_xgb.predict(X_test_xgb)\n",
    "y_pred_probs_xgb=tuned_xgb.predict_proba(X_test_xgb)[:,1]\n",
    "fpr_xgb, tpr_xgb, _ = metrics.roc_curve(y_test,  y_pred_probs_xgb) \n",
    "auc_t_xgb = metrics.roc_auc_score(y_test, y_pred_probs_xgb)\n",
    "\n",
    "\n",
    "# Neural network 1\n",
    "y_pred_t_nn1 = model_nn1.predict(X_test_nn).ravel()\n",
    "fpr_nn1, tpr_nn1, thresholds_nn1 = roc_curve(y_test_nn, y_pred_t_nn1)\n",
    "auc_t_nn1 = metrics.roc_auc_score(y_test_nn, y_pred_t_nn1)\n",
    "\n",
    "# Neural network 2\n",
    "y_pred_t_keras = tuned_nn.predict(X_test_nn).ravel()\n",
    "fpr_keras, tpr_keras, thresholds_keras = roc_curve(y_test_nn, y_pred_t_keras)\n",
    "auc_t_keras = metrics.roc_auc_score(y_test_nn, y_pred_t_keras)"
   ]
  },
  {
   "cell_type": "code",
   "execution_count": 173,
   "id": "0aff5a9c",
   "metadata": {},
   "outputs": [
    {
     "data": {
      "image/png": "[encoded data removed]",
      "text/plain": [
       "<Figure size 842.4x883.44 with 1 Axes>"
      ]
     },
     "metadata": {},
     "output_type": "display_data"
    }
   ],
   "source": [
    "plt.figure(1)\n",
    "plt.plot([0, 1], [0, 1], 'k--')\n",
    "plt.plot(fpr_rf,tpr_rf)\n",
    "plt.plot(fpr_xgb,tpr_xgb)\n",
    "plt.plot(fpr_nn1, tpr_nn1)\n",
    "plt.plot(fpr_keras, tpr_keras)\n",
    "plt.title(f'Test ROC curve {dataset}')\n",
    "plt.ylabel('True positive rate')\n",
    "plt.xlabel('False positive rate')\n",
    "plt.legend(['-', 'rf - area = {:.4f})'.format(auc_t_rf), 'xgb - area = {:.4f})'.format(auc_t_xgb), 'nn1 - area = {:.4f})'.format(auc_t_nn1), 'nn2 - area = {:.4f})'.format(auc_t_keras)], loc='upper left')\n",
    "plt.show()"
   ]
  },
  {
   "cell_type": "code",
   "execution_count": null,
   "id": "89fd40df",
   "metadata": {},
   "outputs": [],
   "source": []
  }
 ],
 "metadata": {
  "kernelspec": {
   "display_name": "Python 3",
   "language": "python",
   "name": "python3"
  },
  "language_info": {
   "codemirror_mode": {
    "name": "ipython",
    "version": 3
   },
   "file_extension": ".py",
   "mimetype": "text/x-python",
   "name": "python",
   "nbconvert_exporter": "python",
   "pygments_lexer": "ipython3",
   "version": "3.8.8"
  }
 },
 "nbformat": 4,
 "nbformat_minor": 5
}
