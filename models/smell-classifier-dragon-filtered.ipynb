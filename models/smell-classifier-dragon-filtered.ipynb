{
 "cells": [
  {
   "cell_type": "code",
   "execution_count": 1,
   "id": "d9806988",
   "metadata": {},
   "outputs": [
    {
     "name": "stdout",
     "output_type": "stream",
     "text": [
      "Requirement already satisfied: bayesian-optimization in /home/zoya/anaconda3/lib/python3.8/site-packages (1.4.2)\n",
      "Requirement already satisfied: colorama>=0.4.6 in /home/zoya/anaconda3/lib/python3.8/site-packages (from bayesian-optimization) (0.4.6)\n",
      "Requirement already satisfied: numpy>=1.9.0 in /home/zoya/anaconda3/lib/python3.8/site-packages (from bayesian-optimization) (1.24.1)\n",
      "Requirement already satisfied: scikit-learn>=0.18.0 in /home/zoya/anaconda3/lib/python3.8/site-packages (from bayesian-optimization) (1.2.0)\n",
      "Requirement already satisfied: scipy>=1.0.0 in /home/zoya/anaconda3/lib/python3.8/site-packages (from bayesian-optimization) (1.10.0)\n",
      "Requirement already satisfied: threadpoolctl>=2.0.0 in /home/zoya/anaconda3/lib/python3.8/site-packages (from scikit-learn>=0.18.0->bayesian-optimization) (3.1.0)\n",
      "Requirement already satisfied: joblib>=1.1.1 in /home/zoya/anaconda3/lib/python3.8/site-packages (from scikit-learn>=0.18.0->bayesian-optimization) (1.2.0)\n",
      "\n",
      "\u001b[1m[\u001b[0m\u001b[34;49mnotice\u001b[0m\u001b[1;39;49m]\u001b[0m\u001b[39;49m A new release of pip available: \u001b[0m\u001b[31;49m22.3.1\u001b[0m\u001b[39;49m -> \u001b[0m\u001b[32;49m23.0\u001b[0m\n",
      "\u001b[1m[\u001b[0m\u001b[34;49mnotice\u001b[0m\u001b[1;39;49m]\u001b[0m\u001b[39;49m To update, run: \u001b[0m\u001b[32;49mpip install --upgrade pip\u001b[0m\n"
     ]
    }
   ],
   "source": [
    "!pip install bayesian-optimization\n",
    "import pandas as pd\n",
    "from xgboost import XGBClassifier, cv\n",
    "from sklearn.model_selection import train_test_split, cross_validate, StratifiedKFold, RandomizedSearchCV, GridSearchCV, cross_val_score\n",
    "from sklearn.metrics import roc_curve\n",
    "import matplotlib.pyplot as plt\n",
    "import seaborn as sns\n",
    "from sklearn.ensemble import RandomForestClassifier\n",
    "from sklearn.preprocessing import StandardScaler\n",
    "from sklearn import metrics\n",
    "from sklearn.compose import ColumnTransformer\n",
    "from bayes_opt import BayesianOptimization\n",
    "import numpy as np\n",
    "\n",
    "SEED=0"
   ]
  },
  {
   "cell_type": "markdown",
   "id": "0f5b377a",
   "metadata": {},
   "source": [
    "# Load the dataset\n",
    "- Load data from excel sheet\n",
    "- Set X (independent variables) and y (dependent variables) "
   ]
  },
  {
   "cell_type": "code",
   "execution_count": 2,
   "id": "5ee6edb3",
   "metadata": {},
   "outputs": [],
   "source": [
    "data_path = './data/alvaDescDescriptors-filtered.txt'\n",
    "na_values=['na']\n",
    "df = pd.read_csv(data_path, sep=\"\\t\",  dtype={'pctapi': np.float64}, na_values=na_values)\n",
    "smiles =  np.loadtxt(\"./data/smiles.txt\", dtype='str')\n",
    "df = df.drop(['No.', 'NAME'], axis=1)\n",
    "df = df.set_index(smiles)"
   ]
  },
  {
   "cell_type": "code",
   "execution_count": 3,
   "id": "7e003b7d",
   "metadata": {},
   "outputs": [],
   "source": [
    "data_path = './data/master_4Mayhew.xlsx'\n",
    "df_mor = pd.read_excel(data_path)\n",
    "y=df_mor['label'] # labels, independent variables\n",
    "X=df # features, dependent variables"
   ]
  },
  {
   "cell_type": "code",
   "execution_count": 4,
   "id": "814a5849",
   "metadata": {},
   "outputs": [
    {
     "data": {
      "text/html": [
       "<div>\n",
       "<style scoped>\n",
       "    .dataframe tbody tr th:only-of-type {\n",
       "        vertical-align: middle;\n",
       "    }\n",
       "\n",
       "    .dataframe tbody tr th {\n",
       "        vertical-align: top;\n",
       "    }\n",
       "\n",
       "    .dataframe thead th {\n",
       "        text-align: right;\n",
       "    }\n",
       "</style>\n",
       "<table border=\"1\" class=\"dataframe\">\n",
       "  <thead>\n",
       "    <tr style=\"text-align: right;\">\n",
       "      <th></th>\n",
       "      <th>MW</th>\n",
       "      <th>AMW</th>\n",
       "      <th>Mv</th>\n",
       "      <th>Me</th>\n",
       "      <th>Mp</th>\n",
       "      <th>Mi</th>\n",
       "      <th>GD</th>\n",
       "      <th>nSK</th>\n",
       "      <th>nTA</th>\n",
       "      <th>RBN</th>\n",
       "      <th>...</th>\n",
       "      <th>s4_numSharedNeighbors</th>\n",
       "      <th>s2_numRotBonds</th>\n",
       "      <th>s3_numRotBonds</th>\n",
       "      <th>s4_numRotBonds</th>\n",
       "      <th>s2_numAroBonds</th>\n",
       "      <th>s3_numAroBonds</th>\n",
       "      <th>s4_numAroBonds</th>\n",
       "      <th>s34_size</th>\n",
       "      <th>s34_phRelSize</th>\n",
       "      <th>chiralPhMoment</th>\n",
       "    </tr>\n",
       "  </thead>\n",
       "  <tbody>\n",
       "    <tr>\n",
       "      <th>count</th>\n",
       "      <td>865.000000</td>\n",
       "      <td>865.000000</td>\n",
       "      <td>865.000000</td>\n",
       "      <td>865.000000</td>\n",
       "      <td>865.000000</td>\n",
       "      <td>865.000000</td>\n",
       "      <td>865.000000</td>\n",
       "      <td>865.00000</td>\n",
       "      <td>865.000000</td>\n",
       "      <td>865.000000</td>\n",
       "      <td>...</td>\n",
       "      <td>865.000000</td>\n",
       "      <td>865.000000</td>\n",
       "      <td>865.000000</td>\n",
       "      <td>865.000000</td>\n",
       "      <td>865.000000</td>\n",
       "      <td>865.000000</td>\n",
       "      <td>865.000000</td>\n",
       "      <td>865.000000</td>\n",
       "      <td>865.000000</td>\n",
       "      <td>865.000000</td>\n",
       "    </tr>\n",
       "    <tr>\n",
       "      <th>mean</th>\n",
       "      <td>152.497214</td>\n",
       "      <td>8.130482</td>\n",
       "      <td>0.597289</td>\n",
       "      <td>1.017789</td>\n",
       "      <td>0.639164</td>\n",
       "      <td>1.143216</td>\n",
       "      <td>0.255996</td>\n",
       "      <td>10.29711</td>\n",
       "      <td>3.134104</td>\n",
       "      <td>2.776879</td>\n",
       "      <td>...</td>\n",
       "      <td>0.116529</td>\n",
       "      <td>0.008037</td>\n",
       "      <td>0.064258</td>\n",
       "      <td>0.308836</td>\n",
       "      <td>0.008478</td>\n",
       "      <td>0.057996</td>\n",
       "      <td>0.191137</td>\n",
       "      <td>2.080402</td>\n",
       "      <td>0.036698</td>\n",
       "      <td>0.600119</td>\n",
       "    </tr>\n",
       "    <tr>\n",
       "      <th>std</th>\n",
       "      <td>66.919081</td>\n",
       "      <td>7.112818</td>\n",
       "      <td>0.110081</td>\n",
       "      <td>0.072288</td>\n",
       "      <td>0.152502</td>\n",
       "      <td>0.047199</td>\n",
       "      <td>0.150909</td>\n",
       "      <td>4.89551</td>\n",
       "      <td>1.618915</td>\n",
       "      <td>2.775542</td>\n",
       "      <td>...</td>\n",
       "      <td>0.615269</td>\n",
       "      <td>0.087919</td>\n",
       "      <td>0.297704</td>\n",
       "      <td>0.944741</td>\n",
       "      <td>0.152963</td>\n",
       "      <td>0.527725</td>\n",
       "      <td>1.114756</td>\n",
       "      <td>4.437306</td>\n",
       "      <td>0.089476</td>\n",
       "      <td>1.360089</td>\n",
       "    </tr>\n",
       "    <tr>\n",
       "      <th>min</th>\n",
       "      <td>16.050000</td>\n",
       "      <td>3.210000</td>\n",
       "      <td>0.387050</td>\n",
       "      <td>0.909080</td>\n",
       "      <td>0.349450</td>\n",
       "      <td>0.928200</td>\n",
       "      <td>0.000000</td>\n",
       "      <td>1.00000</td>\n",
       "      <td>0.000000</td>\n",
       "      <td>0.000000</td>\n",
       "      <td>...</td>\n",
       "      <td>0.000000</td>\n",
       "      <td>0.000000</td>\n",
       "      <td>0.000000</td>\n",
       "      <td>0.000000</td>\n",
       "      <td>0.000000</td>\n",
       "      <td>0.000000</td>\n",
       "      <td>0.000000</td>\n",
       "      <td>0.000000</td>\n",
       "      <td>0.000000</td>\n",
       "      <td>0.000000</td>\n",
       "    </tr>\n",
       "    <tr>\n",
       "      <th>25%</th>\n",
       "      <td>106.140000</td>\n",
       "      <td>5.585152</td>\n",
       "      <td>0.527400</td>\n",
       "      <td>0.979383</td>\n",
       "      <td>0.576931</td>\n",
       "      <td>1.124658</td>\n",
       "      <td>0.166667</td>\n",
       "      <td>7.00000</td>\n",
       "      <td>2.000000</td>\n",
       "      <td>1.000000</td>\n",
       "      <td>...</td>\n",
       "      <td>0.000000</td>\n",
       "      <td>0.000000</td>\n",
       "      <td>0.000000</td>\n",
       "      <td>0.000000</td>\n",
       "      <td>0.000000</td>\n",
       "      <td>0.000000</td>\n",
       "      <td>0.000000</td>\n",
       "      <td>0.000000</td>\n",
       "      <td>0.000000</td>\n",
       "      <td>0.000000</td>\n",
       "    </tr>\n",
       "    <tr>\n",
       "      <th>50%</th>\n",
       "      <td>144.240000</td>\n",
       "      <td>6.484286</td>\n",
       "      <td>0.571300</td>\n",
       "      <td>0.994537</td>\n",
       "      <td>0.615738</td>\n",
       "      <td>1.138492</td>\n",
       "      <td>0.222222</td>\n",
       "      <td>10.00000</td>\n",
       "      <td>3.000000</td>\n",
       "      <td>2.000000</td>\n",
       "      <td>...</td>\n",
       "      <td>0.000000</td>\n",
       "      <td>0.000000</td>\n",
       "      <td>0.000000</td>\n",
       "      <td>0.000000</td>\n",
       "      <td>0.000000</td>\n",
       "      <td>0.000000</td>\n",
       "      <td>0.000000</td>\n",
       "      <td>0.000000</td>\n",
       "      <td>0.000000</td>\n",
       "      <td>0.000000</td>\n",
       "    </tr>\n",
       "    <tr>\n",
       "      <th>75%</th>\n",
       "      <td>184.310000</td>\n",
       "      <td>8.068235</td>\n",
       "      <td>0.636588</td>\n",
       "      <td>1.019995</td>\n",
       "      <td>0.658200</td>\n",
       "      <td>1.146753</td>\n",
       "      <td>0.285714</td>\n",
       "      <td>12.00000</td>\n",
       "      <td>4.000000</td>\n",
       "      <td>4.000000</td>\n",
       "      <td>...</td>\n",
       "      <td>0.000000</td>\n",
       "      <td>0.000000</td>\n",
       "      <td>0.000000</td>\n",
       "      <td>0.000000</td>\n",
       "      <td>0.000000</td>\n",
       "      <td>0.000000</td>\n",
       "      <td>0.000000</td>\n",
       "      <td>0.000000</td>\n",
       "      <td>0.000000</td>\n",
       "      <td>0.000000</td>\n",
       "    </tr>\n",
       "    <tr>\n",
       "      <th>max</th>\n",
       "      <td>532.520000</td>\n",
       "      <td>126.900000</td>\n",
       "      <td>1.580200</td>\n",
       "      <td>1.412100</td>\n",
       "      <td>3.039800</td>\n",
       "      <td>1.483150</td>\n",
       "      <td>1.000000</td>\n",
       "      <td>36.00000</td>\n",
       "      <td>14.000000</td>\n",
       "      <td>15.000000</td>\n",
       "      <td>...</td>\n",
       "      <td>7.500000</td>\n",
       "      <td>2.000000</td>\n",
       "      <td>4.500000</td>\n",
       "      <td>8.000000</td>\n",
       "      <td>3.500000</td>\n",
       "      <td>8.500000</td>\n",
       "      <td>12.000000</td>\n",
       "      <td>30.000000</td>\n",
       "      <td>0.500000</td>\n",
       "      <td>9.949874</td>\n",
       "    </tr>\n",
       "  </tbody>\n",
       "</table>\n",
       "<p>8 rows × 1067 columns</p>\n",
       "</div>"
      ],
      "text/plain": [
       "               MW         AMW          Mv          Me          Mp          Mi  \\\n",
       "count  865.000000  865.000000  865.000000  865.000000  865.000000  865.000000   \n",
       "mean   152.497214    8.130482    0.597289    1.017789    0.639164    1.143216   \n",
       "std     66.919081    7.112818    0.110081    0.072288    0.152502    0.047199   \n",
       "min     16.050000    3.210000    0.387050    0.909080    0.349450    0.928200   \n",
       "25%    106.140000    5.585152    0.527400    0.979383    0.576931    1.124658   \n",
       "50%    144.240000    6.484286    0.571300    0.994537    0.615738    1.138492   \n",
       "75%    184.310000    8.068235    0.636588    1.019995    0.658200    1.146753   \n",
       "max    532.520000  126.900000    1.580200    1.412100    3.039800    1.483150   \n",
       "\n",
       "               GD        nSK         nTA         RBN  ...  \\\n",
       "count  865.000000  865.00000  865.000000  865.000000  ...   \n",
       "mean     0.255996   10.29711    3.134104    2.776879  ...   \n",
       "std      0.150909    4.89551    1.618915    2.775542  ...   \n",
       "min      0.000000    1.00000    0.000000    0.000000  ...   \n",
       "25%      0.166667    7.00000    2.000000    1.000000  ...   \n",
       "50%      0.222222   10.00000    3.000000    2.000000  ...   \n",
       "75%      0.285714   12.00000    4.000000    4.000000  ...   \n",
       "max      1.000000   36.00000   14.000000   15.000000  ...   \n",
       "\n",
       "       s4_numSharedNeighbors  s2_numRotBonds  s3_numRotBonds  s4_numRotBonds  \\\n",
       "count             865.000000      865.000000      865.000000      865.000000   \n",
       "mean                0.116529        0.008037        0.064258        0.308836   \n",
       "std                 0.615269        0.087919        0.297704        0.944741   \n",
       "min                 0.000000        0.000000        0.000000        0.000000   \n",
       "25%                 0.000000        0.000000        0.000000        0.000000   \n",
       "50%                 0.000000        0.000000        0.000000        0.000000   \n",
       "75%                 0.000000        0.000000        0.000000        0.000000   \n",
       "max                 7.500000        2.000000        4.500000        8.000000   \n",
       "\n",
       "       s2_numAroBonds  s3_numAroBonds  s4_numAroBonds    s34_size  \\\n",
       "count      865.000000      865.000000      865.000000  865.000000   \n",
       "mean         0.008478        0.057996        0.191137    2.080402   \n",
       "std          0.152963        0.527725        1.114756    4.437306   \n",
       "min          0.000000        0.000000        0.000000    0.000000   \n",
       "25%          0.000000        0.000000        0.000000    0.000000   \n",
       "50%          0.000000        0.000000        0.000000    0.000000   \n",
       "75%          0.000000        0.000000        0.000000    0.000000   \n",
       "max          3.500000        8.500000       12.000000   30.000000   \n",
       "\n",
       "       s34_phRelSize  chiralPhMoment  \n",
       "count     865.000000      865.000000  \n",
       "mean        0.036698        0.600119  \n",
       "std         0.089476        1.360089  \n",
       "min         0.000000        0.000000  \n",
       "25%         0.000000        0.000000  \n",
       "50%         0.000000        0.000000  \n",
       "75%         0.000000        0.000000  \n",
       "max         0.500000        9.949874  \n",
       "\n",
       "[8 rows x 1067 columns]"
      ]
     },
     "execution_count": 4,
     "metadata": {},
     "output_type": "execute_result"
    }
   ],
   "source": [
    "df.describe()"
   ]
  },
  {
   "cell_type": "markdown",
   "id": "79a55bef",
   "metadata": {},
   "source": [
    "# Split the dataset\n",
    "- Split dataset into training and test set \n",
    "- Use equal proportions of odor/odorless class"
   ]
  },
  {
   "cell_type": "code",
   "execution_count": 5,
   "id": "79ab3d50",
   "metadata": {},
   "outputs": [
    {
     "name": "stdout",
     "output_type": "stream",
     "text": [
      "Total number molecules in training set: 692\n",
      "Odor: 492\n",
      "Odorless: 200\n",
      "\n",
      "Total number molecules in test set: 173\n",
      "Odor: 123\n",
      "Odorless: 50\n",
      "\n",
      "Percentage odorless 0.28901734104046245\n"
     ]
    }
   ],
   "source": [
    "X_train, X_test, y_train, y_test = train_test_split(X, y, test_size=0.2, stratify=y, random_state=0) # 70% training and 30% test\n",
    "percentage_odorless = y_train.value_counts()[False]/y_train.shape[0]\n",
    "percentage_odor = 1 - percentage_odorless\n",
    "print(f\"Total number molecules in training set: {y_train.shape[0]}\")\n",
    "print(f\"Odor: {y_train.value_counts()[True]}\")\n",
    "print(f\"Odorless: {y_train.value_counts()[False]}\")\n",
    "\n",
    "print(f\"\\nTotal number molecules in test set: {y_test.shape[0]}\")\n",
    "print(f\"Odor: {y_test.value_counts()[True]}\")\n",
    "print(f\"Odorless: {y_test.value_counts()[False]}\")\n",
    "\n",
    "print(f\"\\nPercentage odorless {y_test.value_counts()[False]/y_test.shape[0]}\")"
   ]
  },
  {
   "cell_type": "markdown",
   "id": "20a81706",
   "metadata": {},
   "source": [
    "### Validation set"
   ]
  },
  {
   "cell_type": "code",
   "execution_count": 6,
   "id": "d1489ba1",
   "metadata": {},
   "outputs": [
    {
     "name": "stdout",
     "output_type": "stream",
     "text": [
      "Number of training samples: 484\n",
      "Number of validation samples: 208\n"
     ]
    }
   ],
   "source": [
    "X_train_t, X_val, y_train_t, y_val = train_test_split(X_train, y_train, test_size=0.3, stratify=y_train, random_state=SEED)\n",
    "\n",
    "print(\"Number of training samples:\", len(X_train_t))\n",
    "print(\"Number of validation samples:\", len(X_val))"
   ]
  },
  {
   "cell_type": "markdown",
   "id": "871c7438",
   "metadata": {},
   "source": [
    "# Test Model "
   ]
  },
  {
   "cell_type": "code",
   "execution_count": 7,
   "id": "2bae4b22",
   "metadata": {},
   "outputs": [],
   "source": [
    "def test_model(model, y_test, X_test, verbose=True):\n",
    "    y_pred=model.predict(X_test)\n",
    "    y_pred_probs=model.predict_proba(X_test)[:,1]\n",
    "    \n",
    "    if verbose:\n",
    "        print(\"ROC_AUC (TEST):\",metrics.roc_auc_score(y_test, y_pred_probs))\n",
    "        print(\"\\n\\nCLASSIFICATION REPORT:\\n\",metrics.classification_report(y_test, y_pred))\n",
    "        \n",
    "        if hasattr(model, 'feature_importances_') and hasattr(X_test, 'columns'):\n",
    "            feature_imp = pd.Series(model.feature_importances_,index=X_test.columns.values).sort_values(ascending=False)\n",
    "            top_20 = feature_imp.nlargest(20)\n",
    "            sns.barplot(x=top_20, y=top_20.index)\n",
    "            plt.xlabel('Descriptor Importance Score')\n",
    "            plt.ylabel('Descriptor')\n",
    "            plt.title(\"Top descriptors\")\n",
    "            plt.show()\n",
    "        \n",
    "        fpr, tpr, _ = metrics.roc_curve(y_test,  y_pred_probs)  \n",
    "        \n",
    "        #create ROC curve\n",
    "        plt.plot(fpr,tpr)\n",
    "        plt.ylabel('True Positive Rate')\n",
    "        plt.xlabel('False Positive Rate')\n",
    "        plt.show()\n",
    "        \n",
    "    return metrics.roc_auc_score(y_test, y_pred_probs) \n",
    "\n",
    "def test_model_cross_val(model, y_test, X_test, k=5, verbose=True):\n",
    "    roc_auc_nans = cross_val_score(model, X_test, y_test, cv=k, scoring='roc_auc')\n",
    "    print(f\"AVERAGE CV={k} ROC_AUC (TEST): {np.mean(roc_auc_nans)}\")\n",
    "    print(f\"AVERAGE CV={k} STD (TEST): {np.std(roc_auc_nans)}\")"
   ]
  },
  {
   "cell_type": "markdown",
   "id": "8bd5adb1",
   "metadata": {},
   "source": [
    "# Handle Non Important Descriptors "
   ]
  },
  {
   "cell_type": "markdown",
   "id": "6c45b2a2",
   "metadata": {},
   "source": [
    "1. Remove values below threshold e.g. 0, any descriptors with 0 importance\n",
    "2. Get the top N descriptors"
   ]
  },
  {
   "cell_type": "code",
   "execution_count": 8,
   "id": "b4e733c1",
   "metadata": {},
   "outputs": [],
   "source": [
    "def handle_importance(model, X_train, X_test=pd.DataFrame(), threshold=-1, n=-1, verbose=None):\n",
    "    feature_imp = pd.Series(model.feature_importances_,index=X_train.columns.values).sort_values(ascending=False)\n",
    "    if threshold >= 0:\n",
    "        feature_imp = feature_imp[feature_imp > threshold]\n",
    "    \n",
    "    if n >= 0: \n",
    "        feature_imp = feature_imp.nlargest(n)\n",
    "        \n",
    "    if verbose: \n",
    "        print(feature_imp)\n",
    "        \n",
    "    X_train = X_train.loc[:, feature_imp.axes[0].tolist()]\n",
    "    \n",
    "    if not X_test.empty:\n",
    "        X_test = X_test.loc[:, feature_imp.axes[0].tolist()]\n",
    "\n",
    "    return X_train, X_test, model "
   ]
  },
  {
   "cell_type": "code",
   "execution_count": 9,
   "id": "b2e021f4",
   "metadata": {},
   "outputs": [],
   "source": [
    "def optimiseImportance(model, X_tr, y_tr, k=5, verbose=True):\n",
    "    \n",
    "    imp_params = [\n",
    "              {\"threshold\":-1, 'n':5}, \n",
    "              {\"threshold\":-1, 'n':10}, \n",
    "              {\"threshold\":-1, 'n':25}, \n",
    "              {\"threshold\":-1, 'n':50},\n",
    "              {\"threshold\":-1, 'n':100}, \n",
    "              {\"threshold\":-1, 'n':200}, \n",
    "              {\"threshold\":-1, 'n':400}, \n",
    "              {\"threshold\":-1, 'n':800},\n",
    "              {\"threshold\":-1, 'n':X_tr.shape[1]}]\n",
    "\n",
    "    print(f\"Cross validated importance experiment with k={k}\")\n",
    "    \n",
    "    imp_df = pd.DataFrame(columns=['Most important N descriptors', 'Average ROC_AUC', 'Standard Deviation'])\n",
    "\n",
    "    for imp_param in imp_params: \n",
    "        name = (f\"Threshold:{imp_param['threshold']}N:{imp_param['n']}\".replace(\"N:-1\", '')).replace(\"Threshold:-1\", '')\n",
    "        \n",
    "        if verbose:\n",
    "            print(name)\n",
    "        \n",
    "        X_tr_temp , _, _ = handle_importance(model, \n",
    "                                            X_tr.copy(), \n",
    "                                            threshold=imp_param['threshold'], \n",
    "                                            n=imp_param['n'])\n",
    "                \n",
    "        roc_auc_nans = cross_val_score(model, X_tr_temp, y_tr, cv=k, scoring='roc_auc')\n",
    "        \n",
    "        imp_df = imp_df.append({'Most important N descriptors': imp_param['n'], \n",
    "                               'Average ROC_AUC':np.mean(roc_auc_nans), \n",
    "                               'Standard Deviation':np.std(roc_auc_nans)}, \n",
    "                                ignore_index = True)\n",
    "\n",
    "    if verbose:\n",
    "        fig = imp_df.plot(kind=\"bar\", x=\"Most important N descriptors\", y=\"Average ROC_AUC\", yerr=\"Standard Deviation\", title=f\"ROC_AUC after filtering descriptors by importance CV={k}\", legend=False)\n",
    "        \n",
    "        plt.ylim(0.90,1)\n",
    "        \n",
    "    return imp_df"
   ]
  },
  {
   "cell_type": "markdown",
   "id": "0f1bf4be",
   "metadata": {},
   "source": [
    "# Handle NaNs\n"
   ]
  },
  {
   "cell_type": "markdown",
   "id": "c2288767",
   "metadata": {},
   "source": [
    "- You cannot have any missing values in the random forest model, you can in XGB\n",
    "- You cannot have mismatched features between columns in the random forest model\n",
    "- 3 options \n",
    "    1. Remove any columns with missing values \n",
    "    2. Remove columns above threshold percentange NaNs e.g. 60% NaNs. \n",
    "    3. Remove columns above threshold percentange NaNs e.g. 60% NaNs. Replace columns below threshold with missing values with the mean value."
   ]
  },
  {
   "cell_type": "code",
   "execution_count": 10,
   "id": "93581d4a",
   "metadata": {},
   "outputs": [],
   "source": [
    "def handleNaNs(X_tr, X_te, option=1, thresh=0.6): \n",
    "    if option == 1:\n",
    "        nans =  X.columns[X.isna().any()].tolist()\n",
    "        X_tr.drop(nans, inplace = True, axis=1)\n",
    "        X_te.drop(nans, inplace = True, axis=1)\n",
    "    else: \n",
    "        nans = X.isna().mean(axis=0)\n",
    "        # set threshold for percentage nans before we drop \n",
    "        X_thresh = nans[nans >= thresh]\n",
    "        X_tr.drop(X_thresh.index, \n",
    "          axis=1, \n",
    "          inplace=True)\n",
    "        X_te.drop(X_thresh.index, \n",
    "          axis=1, \n",
    "          inplace=True)\n",
    "        \n",
    "        if option == 3: \n",
    "            X_tr.fillna(X_train.mean(), inplace=True) \n",
    "            X_te.fillna(X_test.mean(), inplace=True)\n",
    "    \n",
    "    return X_tr, X_te"
   ]
  },
  {
   "cell_type": "code",
   "execution_count": 11,
   "id": "ce31d70f",
   "metadata": {},
   "outputs": [],
   "source": [
    "def optimiseNaNs(model, X_train, X_test, y_train, y_test, option=2, k=5, verbose=True): \n",
    "    print(f\"Cross validated missing values experiment with k={k}\")\n",
    "    \n",
    "    percentages = [x/100 for x in range(0, 100, 10)] \n",
    "    nans_df = pd.DataFrame(columns=['Name', 'Average ROC_AUC', 'Standard Deviation'])\n",
    "\n",
    "    for perc in percentages: \n",
    "        name = str(perc)\n",
    "        if perc == 0:\n",
    "            X_train_cv, _  = handleNaNs(X_train.copy(), X_test.copy(), option=1)\n",
    "        else:\n",
    "            X_train_cv, _  = handleNaNs(X_train.copy(), X_test.copy(), option=option, thresh=perc)\n",
    "\n",
    "        roc_auc_nans = cross_val_score(model, X_train_cv, y_train, cv=k, scoring='roc_auc')\n",
    "        \n",
    "        nans_df = nans_df.append({'Name': name, \n",
    "                                   'Average ROC_AUC':np.mean(roc_auc_nans), \n",
    "                                   'Standard Deviation':np.std(roc_auc_nans)}, \n",
    "                                    ignore_index = True)\n",
    "\n",
    "    if verbose:\n",
    "        fig = nans_df.plot(kind=\"bar\", x=\"Name\", y=\"Average ROC_AUC\", yerr=\"Standard Deviation\", title=f\"ROC_AUC after thresholding descriptors by % NaNs CV={k}\", legend=False)\n",
    "        plt.ylim(0.95,0.98)\n",
    "        \n",
    "    return nans_df"
   ]
  },
  {
   "cell_type": "markdown",
   "id": "89740143",
   "metadata": {},
   "source": [
    "# Random Forest Model"
   ]
  },
  {
   "cell_type": "markdown",
   "id": "b7a8cf3b",
   "metadata": {},
   "source": [
    "https://www.datacamp.com/tutorial/random-forests-classifier-python"
   ]
  },
  {
   "cell_type": "code",
   "execution_count": 12,
   "id": "7cb30c67",
   "metadata": {},
   "outputs": [],
   "source": [
    "# set random state to 0 to allow reproducible results\n",
    "clf=RandomForestClassifier(random_state=SEED) \n",
    "\n",
    "# For readability\n",
    "y_train_rf = y_train\n",
    "y_test_rf = y_test\n",
    "X_train_rf = X_train\n",
    "X_test_rf = X_test"
   ]
  },
  {
   "cell_type": "markdown",
   "id": "62f7458e",
   "metadata": {},
   "source": [
    "## Handle NaNs RF"
   ]
  },
  {
   "cell_type": "code",
   "execution_count": 13,
   "id": "13606466",
   "metadata": {
    "scrolled": true
   },
   "outputs": [
    {
     "name": "stdout",
     "output_type": "stream",
     "text": [
      "Cross validated missing values experiment with k=5\n"
     ]
    },
    {
     "data": {
      "text/html": [
       "<div>\n",
       "<style scoped>\n",
       "    .dataframe tbody tr th:only-of-type {\n",
       "        vertical-align: middle;\n",
       "    }\n",
       "\n",
       "    .dataframe tbody tr th {\n",
       "        vertical-align: top;\n",
       "    }\n",
       "\n",
       "    .dataframe thead th {\n",
       "        text-align: right;\n",
       "    }\n",
       "</style>\n",
       "<table border=\"1\" class=\"dataframe\">\n",
       "  <thead>\n",
       "    <tr style=\"text-align: right;\">\n",
       "      <th></th>\n",
       "      <th>Name</th>\n",
       "      <th>Average ROC_AUC</th>\n",
       "      <th>Standard Deviation</th>\n",
       "    </tr>\n",
       "  </thead>\n",
       "  <tbody>\n",
       "    <tr>\n",
       "      <th>0</th>\n",
       "      <td>0.0</td>\n",
       "      <td>0.97579</td>\n",
       "      <td>0.002927</td>\n",
       "    </tr>\n",
       "    <tr>\n",
       "      <th>1</th>\n",
       "      <td>0.1</td>\n",
       "      <td>0.97579</td>\n",
       "      <td>0.002927</td>\n",
       "    </tr>\n",
       "    <tr>\n",
       "      <th>2</th>\n",
       "      <td>0.2</td>\n",
       "      <td>0.97579</td>\n",
       "      <td>0.002927</td>\n",
       "    </tr>\n",
       "    <tr>\n",
       "      <th>3</th>\n",
       "      <td>0.3</td>\n",
       "      <td>0.97579</td>\n",
       "      <td>0.002927</td>\n",
       "    </tr>\n",
       "    <tr>\n",
       "      <th>4</th>\n",
       "      <td>0.4</td>\n",
       "      <td>0.97579</td>\n",
       "      <td>0.002927</td>\n",
       "    </tr>\n",
       "    <tr>\n",
       "      <th>5</th>\n",
       "      <td>0.5</td>\n",
       "      <td>0.97579</td>\n",
       "      <td>0.002927</td>\n",
       "    </tr>\n",
       "    <tr>\n",
       "      <th>6</th>\n",
       "      <td>0.6</td>\n",
       "      <td>0.97579</td>\n",
       "      <td>0.002927</td>\n",
       "    </tr>\n",
       "    <tr>\n",
       "      <th>7</th>\n",
       "      <td>0.7</td>\n",
       "      <td>0.97579</td>\n",
       "      <td>0.002927</td>\n",
       "    </tr>\n",
       "    <tr>\n",
       "      <th>8</th>\n",
       "      <td>0.8</td>\n",
       "      <td>0.97579</td>\n",
       "      <td>0.002927</td>\n",
       "    </tr>\n",
       "    <tr>\n",
       "      <th>9</th>\n",
       "      <td>0.9</td>\n",
       "      <td>0.97579</td>\n",
       "      <td>0.002927</td>\n",
       "    </tr>\n",
       "  </tbody>\n",
       "</table>\n",
       "</div>"
      ],
      "text/plain": [
       "  Name  Average ROC_AUC  Standard Deviation\n",
       "0  0.0          0.97579            0.002927\n",
       "1  0.1          0.97579            0.002927\n",
       "2  0.2          0.97579            0.002927\n",
       "3  0.3          0.97579            0.002927\n",
       "4  0.4          0.97579            0.002927\n",
       "5  0.5          0.97579            0.002927\n",
       "6  0.6          0.97579            0.002927\n",
       "7  0.7          0.97579            0.002927\n",
       "8  0.8          0.97579            0.002927\n",
       "9  0.9          0.97579            0.002927"
      ]
     },
     "execution_count": 13,
     "metadata": {},
     "output_type": "execute_result"
    },
    {
     "data": {
      "image/png": "[encoded data removed]",
      "text/plain": [
       "<Figure size 432x288 with 1 Axes>"
      ]
     },
     "metadata": {
      "needs_background": "light"
     },
     "output_type": "display_data"
    }
   ],
   "source": [
    "# choose optimal threshold for removing columns with NaNs\n",
    "optimiseNaNs(clf, X_train_rf, X_test_rf, y_train_rf, y_test_rf, option=3)"
   ]
  },
  {
   "cell_type": "markdown",
   "id": "5ee45265",
   "metadata": {},
   "source": [
    "let's just go with removing all the columns with missing values"
   ]
  },
  {
   "cell_type": "code",
   "execution_count": 14,
   "id": "72a8bc6e",
   "metadata": {},
   "outputs": [],
   "source": [
    "X_train_rf, X_test_rf = handleNaNs(X_train.copy(), X_test.copy(), option=1)"
   ]
  },
  {
   "cell_type": "code",
   "execution_count": 15,
   "id": "d424f366",
   "metadata": {
    "scrolled": true
   },
   "outputs": [
    {
     "name": "stdout",
     "output_type": "stream",
     "text": [
      "Validation performance of Random Forest after removing all columns with NaNs\n",
      "AVERAGE CV=5 ROC_AUC (TEST): 0.9757903009688723\n",
      "AVERAGE CV=5 STD (TEST): 0.0029271341416242753\n"
     ]
    }
   ],
   "source": [
    "clf.fit(X_train_rf, y_train_rf)\n",
    "print(\"Validation performance of Random Forest after removing all columns with NaNs\")\n",
    "test_model_cross_val(clf, y_train_rf, X_train_rf, k=5, verbose=True)"
   ]
  },
  {
   "cell_type": "markdown",
   "id": "4eb771b3",
   "metadata": {},
   "source": [
    "## Using Importance to reduce dimensionality"
   ]
  },
  {
   "cell_type": "code",
   "execution_count": 16,
   "id": "30ec02fd",
   "metadata": {},
   "outputs": [
    {
     "name": "stdout",
     "output_type": "stream",
     "text": [
      "Cross validated importance experiment with k=5\n",
      "N:5\n",
      "N:10\n",
      "N:25\n",
      "N:50\n",
      "N:100\n",
      "N:200\n",
      "N:400\n",
      "N:800\n",
      "N:1067\n"
     ]
    },
    {
     "data": {
      "text/html": [
       "<div>\n",
       "<style scoped>\n",
       "    .dataframe tbody tr th:only-of-type {\n",
       "        vertical-align: middle;\n",
       "    }\n",
       "\n",
       "    .dataframe tbody tr th {\n",
       "        vertical-align: top;\n",
       "    }\n",
       "\n",
       "    .dataframe thead th {\n",
       "        text-align: right;\n",
       "    }\n",
       "</style>\n",
       "<table border=\"1\" class=\"dataframe\">\n",
       "  <thead>\n",
       "    <tr style=\"text-align: right;\">\n",
       "      <th></th>\n",
       "      <th>Most important N descriptors</th>\n",
       "      <th>Average ROC_AUC</th>\n",
       "      <th>Standard Deviation</th>\n",
       "    </tr>\n",
       "  </thead>\n",
       "  <tbody>\n",
       "    <tr>\n",
       "      <th>0</th>\n",
       "      <td>5.0</td>\n",
       "      <td>0.953313</td>\n",
       "      <td>0.008251</td>\n",
       "    </tr>\n",
       "    <tr>\n",
       "      <th>1</th>\n",
       "      <td>10.0</td>\n",
       "      <td>0.965676</td>\n",
       "      <td>0.009185</td>\n",
       "    </tr>\n",
       "    <tr>\n",
       "      <th>2</th>\n",
       "      <td>25.0</td>\n",
       "      <td>0.968445</td>\n",
       "      <td>0.005178</td>\n",
       "    </tr>\n",
       "    <tr>\n",
       "      <th>3</th>\n",
       "      <td>50.0</td>\n",
       "      <td>0.973273</td>\n",
       "      <td>0.005962</td>\n",
       "    </tr>\n",
       "    <tr>\n",
       "      <th>4</th>\n",
       "      <td>100.0</td>\n",
       "      <td>0.972177</td>\n",
       "      <td>0.007430</td>\n",
       "    </tr>\n",
       "    <tr>\n",
       "      <th>5</th>\n",
       "      <td>200.0</td>\n",
       "      <td>0.974396</td>\n",
       "      <td>0.004442</td>\n",
       "    </tr>\n",
       "    <tr>\n",
       "      <th>6</th>\n",
       "      <td>400.0</td>\n",
       "      <td>0.975187</td>\n",
       "      <td>0.003890</td>\n",
       "    </tr>\n",
       "    <tr>\n",
       "      <th>7</th>\n",
       "      <td>800.0</td>\n",
       "      <td>0.973656</td>\n",
       "      <td>0.003785</td>\n",
       "    </tr>\n",
       "    <tr>\n",
       "      <th>8</th>\n",
       "      <td>1067.0</td>\n",
       "      <td>0.975003</td>\n",
       "      <td>0.005293</td>\n",
       "    </tr>\n",
       "  </tbody>\n",
       "</table>\n",
       "</div>"
      ],
      "text/plain": [
       "   Most important N descriptors  Average ROC_AUC  Standard Deviation\n",
       "0                           5.0         0.953313            0.008251\n",
       "1                          10.0         0.965676            0.009185\n",
       "2                          25.0         0.968445            0.005178\n",
       "3                          50.0         0.973273            0.005962\n",
       "4                         100.0         0.972177            0.007430\n",
       "5                         200.0         0.974396            0.004442\n",
       "6                         400.0         0.975187            0.003890\n",
       "7                         800.0         0.973656            0.003785\n",
       "8                        1067.0         0.975003            0.005293"
      ]
     },
     "execution_count": 16,
     "metadata": {},
     "output_type": "execute_result"
    },
    {
     "data": {
      "image/png": "[encoded data removed]",
      "text/plain": [
       "<Figure size 432x288 with 1 Axes>"
      ]
     },
     "metadata": {
      "needs_background": "light"
     },
     "output_type": "display_data"
    }
   ],
   "source": [
    "clf.fit(X_train_rf, y_train_rf)\n",
    "optimiseImportance(clf, X_train_rf, y_train_rf)"
   ]
  },
  {
   "cell_type": "markdown",
   "id": "2b489c9f",
   "metadata": {},
   "source": [
    "### Remove labels "
   ]
  },
  {
   "cell_type": "code",
   "execution_count": 17,
   "id": "c71cc91f",
   "metadata": {},
   "outputs": [],
   "source": [
    "clf.fit(X_train_rf, y_train_rf)\n",
    "X_train_rf, X_test_rf, clf = handle_importance(clf, \n",
    "                                               X_train_rf, \n",
    "                                               X_test_rf, \n",
    "                                               threshold=-1, \n",
    "                                               n=400)"
   ]
  },
  {
   "cell_type": "code",
   "execution_count": 18,
   "id": "27a677ab",
   "metadata": {},
   "outputs": [
    {
     "name": "stdout",
     "output_type": "stream",
     "text": [
      "Validation set performance of Random Forest after removing labels\n",
      "AVERAGE CV=5 ROC_AUC (TEST): 0.9751870748299319\n",
      "AVERAGE CV=5 STD (TEST): 0.003890322829507926\n"
     ]
    }
   ],
   "source": [
    "clf.fit(X_train_rf, y_train_rf)\n",
    "print(\"Validation set performance of Random Forest after removing labels\")\n",
    "test_model_cross_val(clf, y_train_rf, X_train_rf, k=5, verbose=True)"
   ]
  },
  {
   "cell_type": "code",
   "execution_count": 19,
   "id": "08e00c94",
   "metadata": {},
   "outputs": [
    {
     "data": {
      "text/html": [
       "<div>\n",
       "<style scoped>\n",
       "    .dataframe tbody tr th:only-of-type {\n",
       "        vertical-align: middle;\n",
       "    }\n",
       "\n",
       "    .dataframe tbody tr th {\n",
       "        vertical-align: top;\n",
       "    }\n",
       "\n",
       "    .dataframe thead th {\n",
       "        text-align: right;\n",
       "    }\n",
       "</style>\n",
       "<table border=\"1\" class=\"dataframe\">\n",
       "  <thead>\n",
       "    <tr style=\"text-align: right;\">\n",
       "      <th></th>\n",
       "      <th>nHet</th>\n",
       "      <th>nHAcc</th>\n",
       "      <th>P_VSA_v_2</th>\n",
       "      <th>ATSC1e</th>\n",
       "      <th>ATS3m</th>\n",
       "      <th>ATSC3e</th>\n",
       "      <th>TPSA(NO)</th>\n",
       "      <th>ATSC2e</th>\n",
       "      <th>SHED_DA</th>\n",
       "      <th>P_VSA_i_4</th>\n",
       "      <th>...</th>\n",
       "      <th>GATS7v</th>\n",
       "      <th>P_VSA_charge_7</th>\n",
       "      <th>H-048</th>\n",
       "      <th>MDEO-12</th>\n",
       "      <th>SpMin8_Bh(e)</th>\n",
       "      <th>Xindex</th>\n",
       "      <th>CATS2D_02_AL</th>\n",
       "      <th>GATS5v</th>\n",
       "      <th>JGI6</th>\n",
       "      <th>P_VSA_charge_9</th>\n",
       "    </tr>\n",
       "  </thead>\n",
       "  <tbody>\n",
       "    <tr>\n",
       "      <th>C1=CC(=CC=C1C(=O)O)[N+](=O)[O-]</th>\n",
       "      <td>5</td>\n",
       "      <td>4</td>\n",
       "      <td>124.245235</td>\n",
       "      <td>0.190710</td>\n",
       "      <td>3.007566</td>\n",
       "      <td>0.365377</td>\n",
       "      <td>83.12</td>\n",
       "      <td>0.335174</td>\n",
       "      <td>2.828427</td>\n",
       "      <td>5.670051</td>\n",
       "      <td>...</td>\n",
       "      <td>0.246591</td>\n",
       "      <td>37.904990</td>\n",
       "      <td>0</td>\n",
       "      <td>0.0</td>\n",
       "      <td>0.000000</td>\n",
       "      <td>0.701166</td>\n",
       "      <td>4</td>\n",
       "      <td>0.822114</td>\n",
       "      <td>0.040816</td>\n",
       "      <td>55.940034</td>\n",
       "    </tr>\n",
       "    <tr>\n",
       "      <th>CCCCCCCCCCCCCCCCO</th>\n",
       "      <td>1</td>\n",
       "      <td>1</td>\n",
       "      <td>42.683343</td>\n",
       "      <td>0.064252</td>\n",
       "      <td>3.039114</td>\n",
       "      <td>0.135001</td>\n",
       "      <td>20.23</td>\n",
       "      <td>0.108732</td>\n",
       "      <td>0.000000</td>\n",
       "      <td>0.000000</td>\n",
       "      <td>...</td>\n",
       "      <td>0.959038</td>\n",
       "      <td>2.534532</td>\n",
       "      <td>0</td>\n",
       "      <td>0.0</td>\n",
       "      <td>0.761879</td>\n",
       "      <td>0.762811</td>\n",
       "      <td>1</td>\n",
       "      <td>0.967194</td>\n",
       "      <td>0.003711</td>\n",
       "      <td>23.542204</td>\n",
       "    </tr>\n",
       "    <tr>\n",
       "      <th>C1(C(O1)(F)F)(C(F)(F)F)F</th>\n",
       "      <td>7</td>\n",
       "      <td>7</td>\n",
       "      <td>100.760568</td>\n",
       "      <td>0.473117</td>\n",
       "      <td>3.323100</td>\n",
       "      <td>0.348542</td>\n",
       "      <td>12.53</td>\n",
       "      <td>0.517348</td>\n",
       "      <td>0.000000</td>\n",
       "      <td>89.760680</td>\n",
       "      <td>...</td>\n",
       "      <td>0.000000</td>\n",
       "      <td>0.000000</td>\n",
       "      <td>0</td>\n",
       "      <td>0.0</td>\n",
       "      <td>0.000000</td>\n",
       "      <td>0.908418</td>\n",
       "      <td>0</td>\n",
       "      <td>0.000000</td>\n",
       "      <td>0.000000</td>\n",
       "      <td>0.000000</td>\n",
       "    </tr>\n",
       "    <tr>\n",
       "      <th>CC(C)(C=C)O</th>\n",
       "      <td>1</td>\n",
       "      <td>1</td>\n",
       "      <td>42.683343</td>\n",
       "      <td>0.027047</td>\n",
       "      <td>1.906354</td>\n",
       "      <td>0.123916</td>\n",
       "      <td>20.23</td>\n",
       "      <td>0.037322</td>\n",
       "      <td>0.000000</td>\n",
       "      <td>0.000000</td>\n",
       "      <td>...</td>\n",
       "      <td>0.000000</td>\n",
       "      <td>17.650409</td>\n",
       "      <td>0</td>\n",
       "      <td>0.0</td>\n",
       "      <td>0.000000</td>\n",
       "      <td>1.409508</td>\n",
       "      <td>3</td>\n",
       "      <td>0.000000</td>\n",
       "      <td>0.000000</td>\n",
       "      <td>35.313306</td>\n",
       "    </tr>\n",
       "    <tr>\n",
       "      <th>C=CCC1=CC2=C(C=C1)OCO2</th>\n",
       "      <td>2</td>\n",
       "      <td>2</td>\n",
       "      <td>21.999776</td>\n",
       "      <td>0.006404</td>\n",
       "      <td>2.909866</td>\n",
       "      <td>0.067411</td>\n",
       "      <td>18.46</td>\n",
       "      <td>0.203276</td>\n",
       "      <td>0.000000</td>\n",
       "      <td>0.000000</td>\n",
       "      <td>...</td>\n",
       "      <td>0.820001</td>\n",
       "      <td>24.672602</td>\n",
       "      <td>2</td>\n",
       "      <td>0.0</td>\n",
       "      <td>0.000000</td>\n",
       "      <td>0.560056</td>\n",
       "      <td>2</td>\n",
       "      <td>1.071381</td>\n",
       "      <td>0.023889</td>\n",
       "      <td>70.626612</td>\n",
       "    </tr>\n",
       "    <tr>\n",
       "      <th>...</th>\n",
       "      <td>...</td>\n",
       "      <td>...</td>\n",
       "      <td>...</td>\n",
       "      <td>...</td>\n",
       "      <td>...</td>\n",
       "      <td>...</td>\n",
       "      <td>...</td>\n",
       "      <td>...</td>\n",
       "      <td>...</td>\n",
       "      <td>...</td>\n",
       "      <td>...</td>\n",
       "      <td>...</td>\n",
       "      <td>...</td>\n",
       "      <td>...</td>\n",
       "      <td>...</td>\n",
       "      <td>...</td>\n",
       "      <td>...</td>\n",
       "      <td>...</td>\n",
       "      <td>...</td>\n",
       "      <td>...</td>\n",
       "      <td>...</td>\n",
       "    </tr>\n",
       "    <tr>\n",
       "      <th>CCCCS</th>\n",
       "      <td>1</td>\n",
       "      <td>0</td>\n",
       "      <td>0.000000</td>\n",
       "      <td>0.017247</td>\n",
       "      <td>1.803953</td>\n",
       "      <td>0.028096</td>\n",
       "      <td>0.00</td>\n",
       "      <td>0.026535</td>\n",
       "      <td>0.000000</td>\n",
       "      <td>0.000000</td>\n",
       "      <td>...</td>\n",
       "      <td>0.000000</td>\n",
       "      <td>3.434222</td>\n",
       "      <td>0</td>\n",
       "      <td>0.0</td>\n",
       "      <td>0.000000</td>\n",
       "      <td>1.175051</td>\n",
       "      <td>0</td>\n",
       "      <td>0.893638</td>\n",
       "      <td>0.000000</td>\n",
       "      <td>0.000000</td>\n",
       "    </tr>\n",
       "    <tr>\n",
       "      <th>CCN(CC)CC</th>\n",
       "      <td>1</td>\n",
       "      <td>1</td>\n",
       "      <td>3.124314</td>\n",
       "      <td>0.034396</td>\n",
       "      <td>2.199382</td>\n",
       "      <td>0.072967</td>\n",
       "      <td>3.24</td>\n",
       "      <td>0.072153</td>\n",
       "      <td>0.000000</td>\n",
       "      <td>3.124314</td>\n",
       "      <td>...</td>\n",
       "      <td>0.000000</td>\n",
       "      <td>6.317113</td>\n",
       "      <td>0</td>\n",
       "      <td>0.0</td>\n",
       "      <td>0.000000</td>\n",
       "      <td>1.209523</td>\n",
       "      <td>3</td>\n",
       "      <td>0.790469</td>\n",
       "      <td>0.000000</td>\n",
       "      <td>0.000000</td>\n",
       "    </tr>\n",
       "    <tr>\n",
       "      <th>C1=CC=C(C=C1)C(=O)C2=CC=CC=C2</th>\n",
       "      <td>1</td>\n",
       "      <td>1</td>\n",
       "      <td>25.144927</td>\n",
       "      <td>0.010213</td>\n",
       "      <td>3.109230</td>\n",
       "      <td>0.046158</td>\n",
       "      <td>17.07</td>\n",
       "      <td>0.019187</td>\n",
       "      <td>0.000000</td>\n",
       "      <td>0.000000</td>\n",
       "      <td>...</td>\n",
       "      <td>1.162191</td>\n",
       "      <td>0.000000</td>\n",
       "      <td>0</td>\n",
       "      <td>0.0</td>\n",
       "      <td>0.000000</td>\n",
       "      <td>0.515567</td>\n",
       "      <td>2</td>\n",
       "      <td>0.945254</td>\n",
       "      <td>0.009796</td>\n",
       "      <td>117.711020</td>\n",
       "    </tr>\n",
       "    <tr>\n",
       "      <th>N</th>\n",
       "      <td>2</td>\n",
       "      <td>2</td>\n",
       "      <td>61.873667</td>\n",
       "      <td>0.000000</td>\n",
       "      <td>0.000000</td>\n",
       "      <td>0.000000</td>\n",
       "      <td>47.58</td>\n",
       "      <td>0.000000</td>\n",
       "      <td>0.000000</td>\n",
       "      <td>61.873667</td>\n",
       "      <td>...</td>\n",
       "      <td>0.000000</td>\n",
       "      <td>0.000000</td>\n",
       "      <td>0</td>\n",
       "      <td>0.0</td>\n",
       "      <td>0.000000</td>\n",
       "      <td>0.000000</td>\n",
       "      <td>0</td>\n",
       "      <td>0.000000</td>\n",
       "      <td>0.000000</td>\n",
       "      <td>0.000000</td>\n",
       "    </tr>\n",
       "    <tr>\n",
       "      <th>CC(C)N</th>\n",
       "      <td>1</td>\n",
       "      <td>1</td>\n",
       "      <td>32.897187</td>\n",
       "      <td>0.024106</td>\n",
       "      <td>0.910755</td>\n",
       "      <td>0.049840</td>\n",
       "      <td>26.02</td>\n",
       "      <td>0.031831</td>\n",
       "      <td>0.000000</td>\n",
       "      <td>32.897187</td>\n",
       "      <td>...</td>\n",
       "      <td>0.000000</td>\n",
       "      <td>0.000000</td>\n",
       "      <td>0</td>\n",
       "      <td>0.0</td>\n",
       "      <td>0.000000</td>\n",
       "      <td>1.496202</td>\n",
       "      <td>0</td>\n",
       "      <td>0.000000</td>\n",
       "      <td>0.000000</td>\n",
       "      <td>0.000000</td>\n",
       "    </tr>\n",
       "  </tbody>\n",
       "</table>\n",
       "<p>692 rows × 400 columns</p>\n",
       "</div>"
      ],
      "text/plain": [
       "                                 nHet  nHAcc   P_VSA_v_2    ATSC1e     ATS3m  \\\n",
       "C1=CC(=CC=C1C(=O)O)[N+](=O)[O-]     5      4  124.245235  0.190710  3.007566   \n",
       "CCCCCCCCCCCCCCCCO                   1      1   42.683343  0.064252  3.039114   \n",
       "C1(C(O1)(F)F)(C(F)(F)F)F            7      7  100.760568  0.473117  3.323100   \n",
       "CC(C)(C=C)O                         1      1   42.683343  0.027047  1.906354   \n",
       "C=CCC1=CC2=C(C=C1)OCO2              2      2   21.999776  0.006404  2.909866   \n",
       "...                               ...    ...         ...       ...       ...   \n",
       "CCCCS                               1      0    0.000000  0.017247  1.803953   \n",
       "CCN(CC)CC                           1      1    3.124314  0.034396  2.199382   \n",
       "C1=CC=C(C=C1)C(=O)C2=CC=CC=C2       1      1   25.144927  0.010213  3.109230   \n",
       "N                                   2      2   61.873667  0.000000  0.000000   \n",
       "CC(C)N                              1      1   32.897187  0.024106  0.910755   \n",
       "\n",
       "                                   ATSC3e  TPSA(NO)    ATSC2e   SHED_DA  \\\n",
       "C1=CC(=CC=C1C(=O)O)[N+](=O)[O-]  0.365377     83.12  0.335174  2.828427   \n",
       "CCCCCCCCCCCCCCCCO                0.135001     20.23  0.108732  0.000000   \n",
       "C1(C(O1)(F)F)(C(F)(F)F)F         0.348542     12.53  0.517348  0.000000   \n",
       "CC(C)(C=C)O                      0.123916     20.23  0.037322  0.000000   \n",
       "C=CCC1=CC2=C(C=C1)OCO2           0.067411     18.46  0.203276  0.000000   \n",
       "...                                   ...       ...       ...       ...   \n",
       "CCCCS                            0.028096      0.00  0.026535  0.000000   \n",
       "CCN(CC)CC                        0.072967      3.24  0.072153  0.000000   \n",
       "C1=CC=C(C=C1)C(=O)C2=CC=CC=C2    0.046158     17.07  0.019187  0.000000   \n",
       "N                                0.000000     47.58  0.000000  0.000000   \n",
       "CC(C)N                           0.049840     26.02  0.031831  0.000000   \n",
       "\n",
       "                                 P_VSA_i_4  ...    GATS7v  P_VSA_charge_7  \\\n",
       "C1=CC(=CC=C1C(=O)O)[N+](=O)[O-]   5.670051  ...  0.246591       37.904990   \n",
       "CCCCCCCCCCCCCCCCO                 0.000000  ...  0.959038        2.534532   \n",
       "C1(C(O1)(F)F)(C(F)(F)F)F         89.760680  ...  0.000000        0.000000   \n",
       "CC(C)(C=C)O                       0.000000  ...  0.000000       17.650409   \n",
       "C=CCC1=CC2=C(C=C1)OCO2            0.000000  ...  0.820001       24.672602   \n",
       "...                                    ...  ...       ...             ...   \n",
       "CCCCS                             0.000000  ...  0.000000        3.434222   \n",
       "CCN(CC)CC                         3.124314  ...  0.000000        6.317113   \n",
       "C1=CC=C(C=C1)C(=O)C2=CC=CC=C2     0.000000  ...  1.162191        0.000000   \n",
       "N                                61.873667  ...  0.000000        0.000000   \n",
       "CC(C)N                           32.897187  ...  0.000000        0.000000   \n",
       "\n",
       "                                 H-048  MDEO-12  SpMin8_Bh(e)    Xindex  \\\n",
       "C1=CC(=CC=C1C(=O)O)[N+](=O)[O-]      0      0.0      0.000000  0.701166   \n",
       "CCCCCCCCCCCCCCCCO                    0      0.0      0.761879  0.762811   \n",
       "C1(C(O1)(F)F)(C(F)(F)F)F             0      0.0      0.000000  0.908418   \n",
       "CC(C)(C=C)O                          0      0.0      0.000000  1.409508   \n",
       "C=CCC1=CC2=C(C=C1)OCO2               2      0.0      0.000000  0.560056   \n",
       "...                                ...      ...           ...       ...   \n",
       "CCCCS                                0      0.0      0.000000  1.175051   \n",
       "CCN(CC)CC                            0      0.0      0.000000  1.209523   \n",
       "C1=CC=C(C=C1)C(=O)C2=CC=CC=C2        0      0.0      0.000000  0.515567   \n",
       "N                                    0      0.0      0.000000  0.000000   \n",
       "CC(C)N                               0      0.0      0.000000  1.496202   \n",
       "\n",
       "                                 CATS2D_02_AL    GATS5v      JGI6  \\\n",
       "C1=CC(=CC=C1C(=O)O)[N+](=O)[O-]             4  0.822114  0.040816   \n",
       "CCCCCCCCCCCCCCCCO                           1  0.967194  0.003711   \n",
       "C1(C(O1)(F)F)(C(F)(F)F)F                    0  0.000000  0.000000   \n",
       "CC(C)(C=C)O                                 3  0.000000  0.000000   \n",
       "C=CCC1=CC2=C(C=C1)OCO2                      2  1.071381  0.023889   \n",
       "...                                       ...       ...       ...   \n",
       "CCCCS                                       0  0.893638  0.000000   \n",
       "CCN(CC)CC                                   3  0.790469  0.000000   \n",
       "C1=CC=C(C=C1)C(=O)C2=CC=CC=C2               2  0.945254  0.009796   \n",
       "N                                           0  0.000000  0.000000   \n",
       "CC(C)N                                      0  0.000000  0.000000   \n",
       "\n",
       "                                 P_VSA_charge_9  \n",
       "C1=CC(=CC=C1C(=O)O)[N+](=O)[O-]       55.940034  \n",
       "CCCCCCCCCCCCCCCCO                     23.542204  \n",
       "C1(C(O1)(F)F)(C(F)(F)F)F               0.000000  \n",
       "CC(C)(C=C)O                           35.313306  \n",
       "C=CCC1=CC2=C(C=C1)OCO2                70.626612  \n",
       "...                                         ...  \n",
       "CCCCS                                  0.000000  \n",
       "CCN(CC)CC                              0.000000  \n",
       "C1=CC=C(C=C1)C(=O)C2=CC=CC=C2        117.711020  \n",
       "N                                      0.000000  \n",
       "CC(C)N                                 0.000000  \n",
       "\n",
       "[692 rows x 400 columns]"
      ]
     },
     "execution_count": 19,
     "metadata": {},
     "output_type": "execute_result"
    }
   ],
   "source": [
    "X_train_rf"
   ]
  },
  {
   "cell_type": "markdown",
   "id": "8d1f13b1",
   "metadata": {},
   "source": [
    "## Tuning the hyperparamaters "
   ]
  },
  {
   "cell_type": "code",
   "execution_count": 20,
   "id": "995afc2a",
   "metadata": {},
   "outputs": [
    {
     "name": "stdout",
     "output_type": "stream",
     "text": [
      "Parameters currently in use:\n",
      "\n",
      "{'bootstrap': True, 'ccp_alpha': 0.0, 'class_weight': None, 'criterion': 'gini', 'max_depth': None, 'max_features': 'sqrt', 'max_leaf_nodes': None, 'max_samples': None, 'min_impurity_decrease': 0.0, 'min_samples_leaf': 1, 'min_samples_split': 2, 'min_weight_fraction_leaf': 0.0, 'n_estimators': 100, 'n_jobs': None, 'oob_score': False, 'random_state': 0, 'verbose': 0, 'warm_start': False}\n"
     ]
    }
   ],
   "source": [
    "# Look at parameters used by our current forest\n",
    "print('Parameters currently in use:\\n')\n",
    "print(clf.get_params())"
   ]
  },
  {
   "cell_type": "code",
   "execution_count": 21,
   "id": "73e70bc3",
   "metadata": {},
   "outputs": [
    {
     "name": "stdout",
     "output_type": "stream",
     "text": [
      "Fitting 5 folds for each of 500 candidates, totalling 2500 fits\n",
      "{'n_estimators': 537, 'min_samples_split': 2, 'min_samples_leaf': 1, 'max_depth': 17, 'criterion': 'gini', 'bootstrap': False}\n"
     ]
    }
   ],
   "source": [
    "# Use the grid to search for best hyperparameters\n",
    "# Takes ~ 10 minutes to run \n",
    "\n",
    "# Number of trees in random forest\n",
    "n_estimators = [int(x) for x in np.linspace(start = 10, stop = 2000, num = 50)]\n",
    "# Maximum number of levels in tree\n",
    "max_depth = [int(x) for x in np.linspace(10, 20, num = 50)]\n",
    "max_depth.append(None)\n",
    "# Minimum number of samples required to split a node\n",
    "min_samples_split = [2, 5, 10, 15, 20, 40, 60, 100]\n",
    "# Minimum number of samples required at each leaf node\n",
    "min_samples_leaf = [1, 2, 3, 4, 5, 10]\n",
    "# Method of selecting samples for training each tree\n",
    "bootstrap = [True, False]\n",
    "# Criterion \n",
    "criterion = ['gini', 'entropy']\n",
    "\n",
    "# Create the random grid\n",
    "random_grid = {'n_estimators': n_estimators,\n",
    "               'max_depth': max_depth,\n",
    "               'min_samples_split': min_samples_split,\n",
    "               'min_samples_leaf': min_samples_leaf,\n",
    "               'bootstrap': bootstrap, \n",
    "               'criterion': criterion}\n",
    "\n",
    "# Random search of parameters, using 5 fold cross validation, \n",
    "# search across 500 different combinations, and use all available cores\n",
    "rf_random = RandomizedSearchCV(estimator=clf, param_distributions = random_grid, n_iter = 500, cv = 5, verbose=1, random_state=SEED, n_jobs = -1)\n",
    "# Fit the random search model\n",
    "rf_random.fit(X_train_rf, y_train_rf)\n",
    "\n",
    "# Print best paramaters \n",
    "print(rf_random.best_params_)"
   ]
  },
  {
   "cell_type": "code",
   "execution_count": 22,
   "id": "84c7d64e",
   "metadata": {},
   "outputs": [
    {
     "data": {
      "text/plain": [
       "{'bootstrap': False,\n",
       " 'ccp_alpha': 0.0,\n",
       " 'class_weight': None,\n",
       " 'criterion': 'gini',\n",
       " 'max_depth': 17,\n",
       " 'max_features': 'sqrt',\n",
       " 'max_leaf_nodes': None,\n",
       " 'max_samples': None,\n",
       " 'min_impurity_decrease': 0.0,\n",
       " 'min_samples_leaf': 1,\n",
       " 'min_samples_split': 2,\n",
       " 'min_weight_fraction_leaf': 0.0,\n",
       " 'n_estimators': 537,\n",
       " 'n_jobs': None,\n",
       " 'oob_score': False,\n",
       " 'random_state': 0,\n",
       " 'verbose': 0,\n",
       " 'warm_start': False}"
      ]
     },
     "execution_count": 22,
     "metadata": {},
     "output_type": "execute_result"
    }
   ],
   "source": [
    "rf_random.best_estimator_.get_params()"
   ]
  },
  {
   "cell_type": "code",
   "execution_count": 23,
   "id": "a8a3d4a9",
   "metadata": {},
   "outputs": [
    {
     "data": {
      "text/html": [
       "<style>#sk-container-id-1 {color: black;background-color: white;}#sk-container-id-1 pre{padding: 0;}#sk-container-id-1 div.sk-toggleable {background-color: white;}#sk-container-id-1 label.sk-toggleable__label {cursor: pointer;display: block;width: 100%;margin-bottom: 0;padding: 0.3em;box-sizing: border-box;text-align: center;}#sk-container-id-1 label.sk-toggleable__label-arrow:before {content: \"▸\";float: left;margin-right: 0.25em;color: #696969;}#sk-container-id-1 label.sk-toggleable__label-arrow:hover:before {color: black;}#sk-container-id-1 div.sk-estimator:hover label.sk-toggleable__label-arrow:before {color: black;}#sk-container-id-1 div.sk-toggleable__content {max-height: 0;max-width: 0;overflow: hidden;text-align: left;background-color: #f0f8ff;}#sk-container-id-1 div.sk-toggleable__content pre {margin: 0.2em;color: black;border-radius: 0.25em;background-color: #f0f8ff;}#sk-container-id-1 input.sk-toggleable__control:checked~div.sk-toggleable__content {max-height: 200px;max-width: 100%;overflow: auto;}#sk-container-id-1 input.sk-toggleable__control:checked~label.sk-toggleable__label-arrow:before {content: \"▾\";}#sk-container-id-1 div.sk-estimator input.sk-toggleable__control:checked~label.sk-toggleable__label {background-color: #d4ebff;}#sk-container-id-1 div.sk-label input.sk-toggleable__control:checked~label.sk-toggleable__label {background-color: #d4ebff;}#sk-container-id-1 input.sk-hidden--visually {border: 0;clip: rect(1px 1px 1px 1px);clip: rect(1px, 1px, 1px, 1px);height: 1px;margin: -1px;overflow: hidden;padding: 0;position: absolute;width: 1px;}#sk-container-id-1 div.sk-estimator {font-family: monospace;background-color: #f0f8ff;border: 1px dotted black;border-radius: 0.25em;box-sizing: border-box;margin-bottom: 0.5em;}#sk-container-id-1 div.sk-estimator:hover {background-color: #d4ebff;}#sk-container-id-1 div.sk-parallel-item::after {content: \"\";width: 100%;border-bottom: 1px solid gray;flex-grow: 1;}#sk-container-id-1 div.sk-label:hover label.sk-toggleable__label {background-color: #d4ebff;}#sk-container-id-1 div.sk-serial::before {content: \"\";position: absolute;border-left: 1px solid gray;box-sizing: border-box;top: 0;bottom: 0;left: 50%;z-index: 0;}#sk-container-id-1 div.sk-serial {display: flex;flex-direction: column;align-items: center;background-color: white;padding-right: 0.2em;padding-left: 0.2em;position: relative;}#sk-container-id-1 div.sk-item {position: relative;z-index: 1;}#sk-container-id-1 div.sk-parallel {display: flex;align-items: stretch;justify-content: center;background-color: white;position: relative;}#sk-container-id-1 div.sk-item::before, #sk-container-id-1 div.sk-parallel-item::before {content: \"\";position: absolute;border-left: 1px solid gray;box-sizing: border-box;top: 0;bottom: 0;left: 50%;z-index: -1;}#sk-container-id-1 div.sk-parallel-item {display: flex;flex-direction: column;z-index: 1;position: relative;background-color: white;}#sk-container-id-1 div.sk-parallel-item:first-child::after {align-self: flex-end;width: 50%;}#sk-container-id-1 div.sk-parallel-item:last-child::after {align-self: flex-start;width: 50%;}#sk-container-id-1 div.sk-parallel-item:only-child::after {width: 0;}#sk-container-id-1 div.sk-dashed-wrapped {border: 1px dashed gray;margin: 0 0.4em 0.5em 0.4em;box-sizing: border-box;padding-bottom: 0.4em;background-color: white;}#sk-container-id-1 div.sk-label label {font-family: monospace;font-weight: bold;display: inline-block;line-height: 1.2em;}#sk-container-id-1 div.sk-label-container {text-align: center;}#sk-container-id-1 div.sk-container {/* jupyter's `normalize.less` sets `[hidden] { display: none; }` but bootstrap.min.css set `[hidden] { display: none !important; }` so we also need the `!important` here to be able to override the default hidden behavior on the sphinx rendered scikit-learn.org. See: https://github.com/scikit-learn/scikit-learn/issues/21755 */display: inline-block !important;position: relative;}#sk-container-id-1 div.sk-text-repr-fallback {display: none;}</style><div id=\"sk-container-id-1\" class=\"sk-top-container\"><div class=\"sk-text-repr-fallback\"><pre>RandomForestClassifier(bootstrap=False, max_depth=17, n_estimators=537,\n",
       "                       random_state=0)</pre><b>In a Jupyter environment, please rerun this cell to show the HTML representation or trust the notebook. <br />On GitHub, the HTML representation is unable to render, please try loading this page with nbviewer.org.</b></div><div class=\"sk-container\" hidden><div class=\"sk-item\"><div class=\"sk-estimator sk-toggleable\"><input class=\"sk-toggleable__control sk-hidden--visually\" id=\"sk-estimator-id-1\" type=\"checkbox\" checked><label for=\"sk-estimator-id-1\" class=\"sk-toggleable__label sk-toggleable__label-arrow\">RandomForestClassifier</label><div class=\"sk-toggleable__content\"><pre>RandomForestClassifier(bootstrap=False, max_depth=17, n_estimators=537,\n",
       "                       random_state=0)</pre></div></div></div></div></div>"
      ],
      "text/plain": [
       "RandomForestClassifier(bootstrap=False, max_depth=17, n_estimators=537,\n",
       "                       random_state=0)"
      ]
     },
     "execution_count": 23,
     "metadata": {},
     "output_type": "execute_result"
    }
   ],
   "source": [
    "tuned_rf= RandomForestClassifier(n_estimators=50,\n",
    "                                 min_samples_split=20,\n",
    "                                 min_samples_leaf=1,\n",
    "                                 max_features='sqrt',\n",
    "                                 max_depth=10,\n",
    "                                 criterion='gini',\n",
    "                                 bootstrap=False,\n",
    "                                 random_state=SEED)\n",
    "tuned_rf=RandomForestClassifier(**rf_random.best_params_,\n",
    "                                 random_state=SEED)\n",
    "tuned_rf.fit(X_train_rf, y_train_rf)"
   ]
  },
  {
   "cell_type": "code",
   "execution_count": 24,
   "id": "c967ec6d",
   "metadata": {},
   "outputs": [
    {
     "name": "stdout",
     "output_type": "stream",
     "text": [
      "Final tuned validation set performance of Random Forest\n",
      "AVERAGE CV=5 ROC_AUC (TEST): 0.9751461038961038\n",
      "AVERAGE CV=5 STD (TEST): 0.0054519891996548725\n"
     ]
    }
   ],
   "source": [
    "tuned_rf.fit(X_train_rf, y_train_rf)\n",
    "print(\"Final tuned validation set performance of Random Forest\")\n",
    "test_model_cross_val(tuned_rf, y_train_rf, X_train_rf, k=5, verbose=True)"
   ]
  },
  {
   "cell_type": "code",
   "execution_count": 25,
   "id": "0e2364d6",
   "metadata": {},
   "outputs": [
    {
     "name": "stdout",
     "output_type": "stream",
     "text": [
      "ROC_AUC (TEST): 0.9817886178861788\n",
      "\n",
      "\n",
      "CLASSIFICATION REPORT:\n",
      "               precision    recall  f1-score   support\n",
      "\n",
      "       False       0.87      0.90      0.88        50\n",
      "        True       0.96      0.94      0.95       123\n",
      "\n",
      "    accuracy                           0.93       173\n",
      "   macro avg       0.91      0.92      0.92       173\n",
      "weighted avg       0.93      0.93      0.93       173\n",
      "\n"
     ]
    },
    {
     "data": {
      "image/png": "[encoded data removed]",
      "text/plain": [
       "<Figure size 432x288 with 1 Axes>"
      ]
     },
     "metadata": {
      "needs_background": "light"
     },
     "output_type": "display_data"
    },
    {
     "data": {
      "image/png": "[encoded data removed]",
      "text/plain": [
       "<Figure size 432x288 with 1 Axes>"
      ]
     },
     "metadata": {
      "needs_background": "light"
     },
     "output_type": "display_data"
    },
    {
     "data": {
      "text/plain": [
       "0.9817886178861788"
      ]
     },
     "execution_count": 25,
     "metadata": {},
     "output_type": "execute_result"
    }
   ],
   "source": [
    "tuned_rf.fit(X_train_rf, y_train_rf)\n",
    "test_model(tuned_rf, y_test_rf, X_test_rf)"
   ]
  },
  {
   "cell_type": "markdown",
   "id": "21de6403",
   "metadata": {},
   "source": [
    "# XgBoost\n",
    "\n",
    "https://practicaldatascience.co.uk/machine-learning/how-to-create-a-classification-model-using-xgboost"
   ]
  },
  {
   "cell_type": "code",
   "execution_count": 26,
   "id": "e57ad057",
   "metadata": {},
   "outputs": [],
   "source": [
    "# for readibility \n",
    "y_train_xgb = y_train\n",
    "y_test_xgb = y_test\n",
    "X_train_xgb = X_train\n",
    "X_test_xgb = X_test"
   ]
  },
  {
   "cell_type": "markdown",
   "id": "d4a257ed",
   "metadata": {},
   "source": [
    "## Create model"
   ]
  },
  {
   "cell_type": "code",
   "execution_count": 27,
   "id": "397c843f",
   "metadata": {},
   "outputs": [
    {
     "data": {
      "text/html": [
       "<style>#sk-container-id-2 {color: black;background-color: white;}#sk-container-id-2 pre{padding: 0;}#sk-container-id-2 div.sk-toggleable {background-color: white;}#sk-container-id-2 label.sk-toggleable__label {cursor: pointer;display: block;width: 100%;margin-bottom: 0;padding: 0.3em;box-sizing: border-box;text-align: center;}#sk-container-id-2 label.sk-toggleable__label-arrow:before {content: \"▸\";float: left;margin-right: 0.25em;color: #696969;}#sk-container-id-2 label.sk-toggleable__label-arrow:hover:before {color: black;}#sk-container-id-2 div.sk-estimator:hover label.sk-toggleable__label-arrow:before {color: black;}#sk-container-id-2 div.sk-toggleable__content {max-height: 0;max-width: 0;overflow: hidden;text-align: left;background-color: #f0f8ff;}#sk-container-id-2 div.sk-toggleable__content pre {margin: 0.2em;color: black;border-radius: 0.25em;background-color: #f0f8ff;}#sk-container-id-2 input.sk-toggleable__control:checked~div.sk-toggleable__content {max-height: 200px;max-width: 100%;overflow: auto;}#sk-container-id-2 input.sk-toggleable__control:checked~label.sk-toggleable__label-arrow:before {content: \"▾\";}#sk-container-id-2 div.sk-estimator input.sk-toggleable__control:checked~label.sk-toggleable__label {background-color: #d4ebff;}#sk-container-id-2 div.sk-label input.sk-toggleable__control:checked~label.sk-toggleable__label {background-color: #d4ebff;}#sk-container-id-2 input.sk-hidden--visually {border: 0;clip: rect(1px 1px 1px 1px);clip: rect(1px, 1px, 1px, 1px);height: 1px;margin: -1px;overflow: hidden;padding: 0;position: absolute;width: 1px;}#sk-container-id-2 div.sk-estimator {font-family: monospace;background-color: #f0f8ff;border: 1px dotted black;border-radius: 0.25em;box-sizing: border-box;margin-bottom: 0.5em;}#sk-container-id-2 div.sk-estimator:hover {background-color: #d4ebff;}#sk-container-id-2 div.sk-parallel-item::after {content: \"\";width: 100%;border-bottom: 1px solid gray;flex-grow: 1;}#sk-container-id-2 div.sk-label:hover label.sk-toggleable__label {background-color: #d4ebff;}#sk-container-id-2 div.sk-serial::before {content: \"\";position: absolute;border-left: 1px solid gray;box-sizing: border-box;top: 0;bottom: 0;left: 50%;z-index: 0;}#sk-container-id-2 div.sk-serial {display: flex;flex-direction: column;align-items: center;background-color: white;padding-right: 0.2em;padding-left: 0.2em;position: relative;}#sk-container-id-2 div.sk-item {position: relative;z-index: 1;}#sk-container-id-2 div.sk-parallel {display: flex;align-items: stretch;justify-content: center;background-color: white;position: relative;}#sk-container-id-2 div.sk-item::before, #sk-container-id-2 div.sk-parallel-item::before {content: \"\";position: absolute;border-left: 1px solid gray;box-sizing: border-box;top: 0;bottom: 0;left: 50%;z-index: -1;}#sk-container-id-2 div.sk-parallel-item {display: flex;flex-direction: column;z-index: 1;position: relative;background-color: white;}#sk-container-id-2 div.sk-parallel-item:first-child::after {align-self: flex-end;width: 50%;}#sk-container-id-2 div.sk-parallel-item:last-child::after {align-self: flex-start;width: 50%;}#sk-container-id-2 div.sk-parallel-item:only-child::after {width: 0;}#sk-container-id-2 div.sk-dashed-wrapped {border: 1px dashed gray;margin: 0 0.4em 0.5em 0.4em;box-sizing: border-box;padding-bottom: 0.4em;background-color: white;}#sk-container-id-2 div.sk-label label {font-family: monospace;font-weight: bold;display: inline-block;line-height: 1.2em;}#sk-container-id-2 div.sk-label-container {text-align: center;}#sk-container-id-2 div.sk-container {/* jupyter's `normalize.less` sets `[hidden] { display: none; }` but bootstrap.min.css set `[hidden] { display: none !important; }` so we also need the `!important` here to be able to override the default hidden behavior on the sphinx rendered scikit-learn.org. See: https://github.com/scikit-learn/scikit-learn/issues/21755 */display: inline-block !important;position: relative;}#sk-container-id-2 div.sk-text-repr-fallback {display: none;}</style><div id=\"sk-container-id-2\" class=\"sk-top-container\"><div class=\"sk-text-repr-fallback\"><pre>XGBClassifier(base_score=None, booster=None, callbacks=None,\n",
       "              colsample_bylevel=None, colsample_bynode=None,\n",
       "              colsample_bytree=None, early_stopping_rounds=None,\n",
       "              enable_categorical=False, eval_metric=None, feature_types=None,\n",
       "              gamma=None, gpu_id=None, grow_policy=None, importance_type=None,\n",
       "              interaction_constraints=None, learning_rate=None, max_bin=None,\n",
       "              max_cat_threshold=None, max_cat_to_onehot=None,\n",
       "              max_delta_step=None, max_depth=None, max_leaves=None,\n",
       "              min_child_weight=None, missing=nan, monotone_constraints=None,\n",
       "              n_estimators=100, n_jobs=None, num_parallel_tree=None,\n",
       "              predictor=None, random_state=0, ...)</pre><b>In a Jupyter environment, please rerun this cell to show the HTML representation or trust the notebook. <br />On GitHub, the HTML representation is unable to render, please try loading this page with nbviewer.org.</b></div><div class=\"sk-container\" hidden><div class=\"sk-item\"><div class=\"sk-estimator sk-toggleable\"><input class=\"sk-toggleable__control sk-hidden--visually\" id=\"sk-estimator-id-2\" type=\"checkbox\" checked><label for=\"sk-estimator-id-2\" class=\"sk-toggleable__label sk-toggleable__label-arrow\">XGBClassifier</label><div class=\"sk-toggleable__content\"><pre>XGBClassifier(base_score=None, booster=None, callbacks=None,\n",
       "              colsample_bylevel=None, colsample_bynode=None,\n",
       "              colsample_bytree=None, early_stopping_rounds=None,\n",
       "              enable_categorical=False, eval_metric=None, feature_types=None,\n",
       "              gamma=None, gpu_id=None, grow_policy=None, importance_type=None,\n",
       "              interaction_constraints=None, learning_rate=None, max_bin=None,\n",
       "              max_cat_threshold=None, max_cat_to_onehot=None,\n",
       "              max_delta_step=None, max_depth=None, max_leaves=None,\n",
       "              min_child_weight=None, missing=nan, monotone_constraints=None,\n",
       "              n_estimators=100, n_jobs=None, num_parallel_tree=None,\n",
       "              predictor=None, random_state=0, ...)</pre></div></div></div></div></div>"
      ],
      "text/plain": [
       "XGBClassifier(base_score=None, booster=None, callbacks=None,\n",
       "              colsample_bylevel=None, colsample_bynode=None,\n",
       "              colsample_bytree=None, early_stopping_rounds=None,\n",
       "              enable_categorical=False, eval_metric=None, feature_types=None,\n",
       "              gamma=None, gpu_id=None, grow_policy=None, importance_type=None,\n",
       "              interaction_constraints=None, learning_rate=None, max_bin=None,\n",
       "              max_cat_threshold=None, max_cat_to_onehot=None,\n",
       "              max_delta_step=None, max_depth=None, max_leaves=None,\n",
       "              min_child_weight=None, missing=nan, monotone_constraints=None,\n",
       "              n_estimators=100, n_jobs=None, num_parallel_tree=None,\n",
       "              predictor=None, random_state=0, ...)"
      ]
     },
     "execution_count": 27,
     "metadata": {},
     "output_type": "execute_result"
    }
   ],
   "source": [
    "X_train_xgb.columns = X_train_xgb.columns.str.translate(\"\".maketrans({\"[\":\"{\", \"]\":\"}\",\"<\":\"^\"}))\n",
    "X_test_xgb.columns = X_test_xgb.columns.str.translate(\"\".maketrans({\"[\":\"{\", \"]\":\"}\",\"<\":\"^\"}))\n",
    "\n",
    "xgb = XGBClassifier(random_state=SEED)\n",
    "xgb.fit(X_train_xgb, y_train_xgb)"
   ]
  },
  {
   "cell_type": "code",
   "execution_count": 28,
   "id": "e4d43460",
   "metadata": {},
   "outputs": [
    {
     "name": "stdout",
     "output_type": "stream",
     "text": [
      "Baseline performance of XGBoost\n",
      "AVERAGE CV=5 ROC_AUC (TEST): 0.9673000412286126\n",
      "AVERAGE CV=5 STD (TEST): 0.008844378044684449\n"
     ]
    }
   ],
   "source": [
    "# Baseline results\n",
    "print(\"Baseline performance of XGBoost\")\n",
    "test_model_cross_val(xgb, y_train_xgb, X_train_xgb, k=5, verbose=True)"
   ]
  },
  {
   "cell_type": "markdown",
   "id": "c35abb5f",
   "metadata": {},
   "source": [
    "## Handle NaNs"
   ]
  },
  {
   "cell_type": "code",
   "execution_count": 29,
   "id": "a39bb891",
   "metadata": {},
   "outputs": [
    {
     "name": "stdout",
     "output_type": "stream",
     "text": [
      "Cross validated missing values experiment with k=5\n"
     ]
    },
    {
     "data": {
      "text/html": [
       "<div>\n",
       "<style scoped>\n",
       "    .dataframe tbody tr th:only-of-type {\n",
       "        vertical-align: middle;\n",
       "    }\n",
       "\n",
       "    .dataframe tbody tr th {\n",
       "        vertical-align: top;\n",
       "    }\n",
       "\n",
       "    .dataframe thead th {\n",
       "        text-align: right;\n",
       "    }\n",
       "</style>\n",
       "<table border=\"1\" class=\"dataframe\">\n",
       "  <thead>\n",
       "    <tr style=\"text-align: right;\">\n",
       "      <th></th>\n",
       "      <th>Name</th>\n",
       "      <th>Average ROC_AUC</th>\n",
       "      <th>Standard Deviation</th>\n",
       "    </tr>\n",
       "  </thead>\n",
       "  <tbody>\n",
       "    <tr>\n",
       "      <th>0</th>\n",
       "      <td>0.0</td>\n",
       "      <td>0.9673</td>\n",
       "      <td>0.008844</td>\n",
       "    </tr>\n",
       "    <tr>\n",
       "      <th>1</th>\n",
       "      <td>0.1</td>\n",
       "      <td>0.9673</td>\n",
       "      <td>0.008844</td>\n",
       "    </tr>\n",
       "    <tr>\n",
       "      <th>2</th>\n",
       "      <td>0.2</td>\n",
       "      <td>0.9673</td>\n",
       "      <td>0.008844</td>\n",
       "    </tr>\n",
       "    <tr>\n",
       "      <th>3</th>\n",
       "      <td>0.3</td>\n",
       "      <td>0.9673</td>\n",
       "      <td>0.008844</td>\n",
       "    </tr>\n",
       "    <tr>\n",
       "      <th>4</th>\n",
       "      <td>0.4</td>\n",
       "      <td>0.9673</td>\n",
       "      <td>0.008844</td>\n",
       "    </tr>\n",
       "    <tr>\n",
       "      <th>5</th>\n",
       "      <td>0.5</td>\n",
       "      <td>0.9673</td>\n",
       "      <td>0.008844</td>\n",
       "    </tr>\n",
       "    <tr>\n",
       "      <th>6</th>\n",
       "      <td>0.6</td>\n",
       "      <td>0.9673</td>\n",
       "      <td>0.008844</td>\n",
       "    </tr>\n",
       "    <tr>\n",
       "      <th>7</th>\n",
       "      <td>0.7</td>\n",
       "      <td>0.9673</td>\n",
       "      <td>0.008844</td>\n",
       "    </tr>\n",
       "    <tr>\n",
       "      <th>8</th>\n",
       "      <td>0.8</td>\n",
       "      <td>0.9673</td>\n",
       "      <td>0.008844</td>\n",
       "    </tr>\n",
       "    <tr>\n",
       "      <th>9</th>\n",
       "      <td>0.9</td>\n",
       "      <td>0.9673</td>\n",
       "      <td>0.008844</td>\n",
       "    </tr>\n",
       "  </tbody>\n",
       "</table>\n",
       "</div>"
      ],
      "text/plain": [
       "  Name  Average ROC_AUC  Standard Deviation\n",
       "0  0.0           0.9673            0.008844\n",
       "1  0.1           0.9673            0.008844\n",
       "2  0.2           0.9673            0.008844\n",
       "3  0.3           0.9673            0.008844\n",
       "4  0.4           0.9673            0.008844\n",
       "5  0.5           0.9673            0.008844\n",
       "6  0.6           0.9673            0.008844\n",
       "7  0.7           0.9673            0.008844\n",
       "8  0.8           0.9673            0.008844\n",
       "9  0.9           0.9673            0.008844"
      ]
     },
     "execution_count": 29,
     "metadata": {},
     "output_type": "execute_result"
    },
    {
     "data": {
      "image/png": "[encoded data removed]",
      "text/plain": [
       "<Figure size 432x288 with 1 Axes>"
      ]
     },
     "metadata": {
      "needs_background": "light"
     },
     "output_type": "display_data"
    }
   ],
   "source": [
    "# choose optimal threshold for removing columns with NaNs\n",
    "optimiseNaNs(xgb, X_train_xgb, X_test_xgb, y_train_xgb, y_test_xgb, option=2)"
   ]
  },
  {
   "cell_type": "markdown",
   "id": "fae4022d",
   "metadata": {},
   "source": [
    "Choose to remove columns with NaNs > 0.7"
   ]
  },
  {
   "cell_type": "code",
   "execution_count": 30,
   "id": "9c952ab7",
   "metadata": {},
   "outputs": [],
   "source": [
    "X_train_xgb, X_test_xgb = handleNaNs(X_train_xgb.copy(), X_test_xgb.copy(), option=2, thresh=0.7)\n",
    "X_train_t_xgb, X_val_xgb = handleNaNs(X_train_t.copy(), X_val.copy(), option=2, thresh=0.7)"
   ]
  },
  {
   "cell_type": "code",
   "execution_count": 31,
   "id": "18800c2d",
   "metadata": {},
   "outputs": [
    {
     "name": "stdout",
     "output_type": "stream",
     "text": [
      "AVERAGE CV=5 ROC_AUC (TEST): 0.9673000412286126\n",
      "AVERAGE CV=5 STD (TEST): 0.008844378044684449\n"
     ]
    }
   ],
   "source": [
    "xgb.fit(X_train_xgb, y_train_xgb)\n",
    "test_model_cross_val(xgb, y_train_xgb, X_train_xgb, k=5, verbose=True)"
   ]
  },
  {
   "cell_type": "markdown",
   "id": "7d9c3378",
   "metadata": {},
   "source": [
    "## Importance Experiment XGB"
   ]
  },
  {
   "cell_type": "code",
   "execution_count": 32,
   "id": "c81ac775",
   "metadata": {},
   "outputs": [
    {
     "name": "stdout",
     "output_type": "stream",
     "text": [
      "Cross validated importance experiment with k=5\n",
      "N:5\n",
      "N:10\n",
      "N:25\n",
      "N:50\n",
      "N:100\n",
      "N:200\n",
      "N:400\n",
      "N:800\n",
      "N:1067\n"
     ]
    },
    {
     "data": {
      "text/html": [
       "<div>\n",
       "<style scoped>\n",
       "    .dataframe tbody tr th:only-of-type {\n",
       "        vertical-align: middle;\n",
       "    }\n",
       "\n",
       "    .dataframe tbody tr th {\n",
       "        vertical-align: top;\n",
       "    }\n",
       "\n",
       "    .dataframe thead th {\n",
       "        text-align: right;\n",
       "    }\n",
       "</style>\n",
       "<table border=\"1\" class=\"dataframe\">\n",
       "  <thead>\n",
       "    <tr style=\"text-align: right;\">\n",
       "      <th></th>\n",
       "      <th>Most important N descriptors</th>\n",
       "      <th>Average ROC_AUC</th>\n",
       "      <th>Standard Deviation</th>\n",
       "    </tr>\n",
       "  </thead>\n",
       "  <tbody>\n",
       "    <tr>\n",
       "      <th>0</th>\n",
       "      <td>5.0</td>\n",
       "      <td>0.944082</td>\n",
       "      <td>0.014243</td>\n",
       "    </tr>\n",
       "    <tr>\n",
       "      <th>1</th>\n",
       "      <td>10.0</td>\n",
       "      <td>0.950258</td>\n",
       "      <td>0.007145</td>\n",
       "    </tr>\n",
       "    <tr>\n",
       "      <th>2</th>\n",
       "      <td>25.0</td>\n",
       "      <td>0.967499</td>\n",
       "      <td>0.010722</td>\n",
       "    </tr>\n",
       "    <tr>\n",
       "      <th>3</th>\n",
       "      <td>50.0</td>\n",
       "      <td>0.973385</td>\n",
       "      <td>0.006008</td>\n",
       "    </tr>\n",
       "    <tr>\n",
       "      <th>4</th>\n",
       "      <td>100.0</td>\n",
       "      <td>0.975202</td>\n",
       "      <td>0.002140</td>\n",
       "    </tr>\n",
       "    <tr>\n",
       "      <th>5</th>\n",
       "      <td>200.0</td>\n",
       "      <td>0.974738</td>\n",
       "      <td>0.003590</td>\n",
       "    </tr>\n",
       "    <tr>\n",
       "      <th>6</th>\n",
       "      <td>400.0</td>\n",
       "      <td>0.972754</td>\n",
       "      <td>0.004221</td>\n",
       "    </tr>\n",
       "    <tr>\n",
       "      <th>7</th>\n",
       "      <td>800.0</td>\n",
       "      <td>0.969546</td>\n",
       "      <td>0.005792</td>\n",
       "    </tr>\n",
       "    <tr>\n",
       "      <th>8</th>\n",
       "      <td>1067.0</td>\n",
       "      <td>0.967832</td>\n",
       "      <td>0.005957</td>\n",
       "    </tr>\n",
       "  </tbody>\n",
       "</table>\n",
       "</div>"
      ],
      "text/plain": [
       "   Most important N descriptors  Average ROC_AUC  Standard Deviation\n",
       "0                           5.0         0.944082            0.014243\n",
       "1                          10.0         0.950258            0.007145\n",
       "2                          25.0         0.967499            0.010722\n",
       "3                          50.0         0.973385            0.006008\n",
       "4                         100.0         0.975202            0.002140\n",
       "5                         200.0         0.974738            0.003590\n",
       "6                         400.0         0.972754            0.004221\n",
       "7                         800.0         0.969546            0.005792\n",
       "8                        1067.0         0.967832            0.005957"
      ]
     },
     "execution_count": 32,
     "metadata": {},
     "output_type": "execute_result"
    },
    {
     "data": {
      "image/png": "[encoded data removed]",
      "text/plain": [
       "<Figure size 432x288 with 1 Axes>"
      ]
     },
     "metadata": {
      "needs_background": "light"
     },
     "output_type": "display_data"
    }
   ],
   "source": [
    "optimiseImportance(xgb, X_train_xgb, y_train_xgb)"
   ]
  },
  {
   "cell_type": "code",
   "execution_count": 33,
   "id": "dcf3320b",
   "metadata": {},
   "outputs": [
    {
     "name": "stdout",
     "output_type": "stream",
     "text": [
      "AVERAGE CV=5 ROC_AUC (TEST): 0.9752015048443619\n",
      "AVERAGE CV=5 STD (TEST): 0.0021395887353430707\n"
     ]
    }
   ],
   "source": [
    "X_train_xgb, X_test_xgb, xgb = handle_importance(xgb, \n",
    "                                                X_train_xgb, \n",
    "                                                X_test_xgb, \n",
    "                                                threshold=-1, \n",
    "                                                n=100)\n",
    "\n",
    "# Filted importance results\n",
    "xgb.fit(X_train_xgb, y_train_xgb)\n",
    "test_model_cross_val(xgb, y_train_xgb, X_train_xgb, k=5, verbose=True)"
   ]
  },
  {
   "cell_type": "code",
   "execution_count": 34,
   "id": "ae64380e",
   "metadata": {},
   "outputs": [
    {
     "data": {
      "text/html": [
       "<div>\n",
       "<style scoped>\n",
       "    .dataframe tbody tr th:only-of-type {\n",
       "        vertical-align: middle;\n",
       "    }\n",
       "\n",
       "    .dataframe tbody tr th {\n",
       "        vertical-align: top;\n",
       "    }\n",
       "\n",
       "    .dataframe thead th {\n",
       "        text-align: right;\n",
       "    }\n",
       "</style>\n",
       "<table border=\"1\" class=\"dataframe\">\n",
       "  <thead>\n",
       "    <tr style=\"text-align: right;\">\n",
       "      <th></th>\n",
       "      <th>nHAcc</th>\n",
       "      <th>piPC10</th>\n",
       "      <th>P_VSA_v_2</th>\n",
       "      <th>MDEC-12</th>\n",
       "      <th>ATS4i</th>\n",
       "      <th>Vx</th>\n",
       "      <th>MATS1p</th>\n",
       "      <th>nHet</th>\n",
       "      <th>DELS</th>\n",
       "      <th>ESOL</th>\n",
       "      <th>...</th>\n",
       "      <th>P_VSA_i_3</th>\n",
       "      <th>MATS4i</th>\n",
       "      <th>GGI1</th>\n",
       "      <th>P_VSA_LogP_2</th>\n",
       "      <th>ATSC5e</th>\n",
       "      <th>IC1</th>\n",
       "      <th>RBF</th>\n",
       "      <th>CIC4</th>\n",
       "      <th>MDEC-23</th>\n",
       "      <th>O-060</th>\n",
       "    </tr>\n",
       "  </thead>\n",
       "  <tbody>\n",
       "    <tr>\n",
       "      <th>C1=CC(=CC=C1C(=O)O)[N+](=O)[O-]</th>\n",
       "      <td>4</td>\n",
       "      <td>0.000000</td>\n",
       "      <td>124.245235</td>\n",
       "      <td>0.000000</td>\n",
       "      <td>3.697452</td>\n",
       "      <td>183.704319</td>\n",
       "      <td>0.231009</td>\n",
       "      <td>5</td>\n",
       "      <td>24.074203</td>\n",
       "      <td>-2.155987</td>\n",
       "      <td>...</td>\n",
       "      <td>165.659592</td>\n",
       "      <td>-0.222453</td>\n",
       "      <td>3.0</td>\n",
       "      <td>0.000000</td>\n",
       "      <td>0.423679</td>\n",
       "      <td>3.028639</td>\n",
       "      <td>0.117647</td>\n",
       "      <td>0.588235</td>\n",
       "      <td>7.065551</td>\n",
       "      <td>0</td>\n",
       "    </tr>\n",
       "    <tr>\n",
       "      <th>CCCCCCCCCCCCCCCCO</th>\n",
       "      <td>1</td>\n",
       "      <td>2.079442</td>\n",
       "      <td>42.683343</td>\n",
       "      <td>2.335203</td>\n",
       "      <td>5.134849</td>\n",
       "      <td>402.275748</td>\n",
       "      <td>-0.017689</td>\n",
       "      <td>1</td>\n",
       "      <td>5.843465</td>\n",
       "      <td>-4.116843</td>\n",
       "      <td>...</td>\n",
       "      <td>431.129709</td>\n",
       "      <td>-0.003185</td>\n",
       "      <td>0.5</td>\n",
       "      <td>35.483444</td>\n",
       "      <td>0.120883</td>\n",
       "      <td>1.363249</td>\n",
       "      <td>0.280000</td>\n",
       "      <td>2.454774</td>\n",
       "      <td>0.000000</td>\n",
       "      <td>0</td>\n",
       "    </tr>\n",
       "    <tr>\n",
       "      <th>C1(C(O1)(F)F)(C(F)(F)F)F</th>\n",
       "      <td>7</td>\n",
       "      <td>0.000000</td>\n",
       "      <td>100.760568</td>\n",
       "      <td>0.000000</td>\n",
       "      <td>2.732081</td>\n",
       "      <td>97.508306</td>\n",
       "      <td>-0.269872</td>\n",
       "      <td>7</td>\n",
       "      <td>39.656250</td>\n",
       "      <td>-2.259501</td>\n",
       "      <td>...</td>\n",
       "      <td>10.999888</td>\n",
       "      <td>0.631352</td>\n",
       "      <td>5.5</td>\n",
       "      <td>0.000000</td>\n",
       "      <td>0.000000</td>\n",
       "      <td>1.770951</td>\n",
       "      <td>0.000000</td>\n",
       "      <td>1.007682</td>\n",
       "      <td>0.000000</td>\n",
       "      <td>0</td>\n",
       "    </tr>\n",
       "    <tr>\n",
       "      <th>CC(C)(C=C)O</th>\n",
       "      <td>1</td>\n",
       "      <td>0.000000</td>\n",
       "      <td>42.683343</td>\n",
       "      <td>1.889882</td>\n",
       "      <td>3.897662</td>\n",
       "      <td>137.674419</td>\n",
       "      <td>-0.057072</td>\n",
       "      <td>1</td>\n",
       "      <td>6.180556</td>\n",
       "      <td>-1.129969</td>\n",
       "      <td>...</td>\n",
       "      <td>148.623261</td>\n",
       "      <td>-0.002656</td>\n",
       "      <td>3.0</td>\n",
       "      <td>15.766920</td>\n",
       "      <td>0.025028</td>\n",
       "      <td>2.608459</td>\n",
       "      <td>0.066667</td>\n",
       "      <td>1.719361</td>\n",
       "      <td>0.000000</td>\n",
       "      <td>0</td>\n",
       "    </tr>\n",
       "    <tr>\n",
       "      <th>C=CCC1=CC2=C(C=C1)OCO2</th>\n",
       "      <td>2</td>\n",
       "      <td>3.548180</td>\n",
       "      <td>21.999776</td>\n",
       "      <td>1.861865</td>\n",
       "      <td>3.975679</td>\n",
       "      <td>206.943522</td>\n",
       "      <td>-0.119209</td>\n",
       "      <td>2</td>\n",
       "      <td>8.225762</td>\n",
       "      <td>-2.610864</td>\n",
       "      <td>...</td>\n",
       "      <td>139.710796</td>\n",
       "      <td>-0.109523</td>\n",
       "      <td>2.0</td>\n",
       "      <td>24.951690</td>\n",
       "      <td>0.099247</td>\n",
       "      <td>2.992856</td>\n",
       "      <td>0.086957</td>\n",
       "      <td>0.272727</td>\n",
       "      <td>8.831141</td>\n",
       "      <td>2</td>\n",
       "    </tr>\n",
       "    <tr>\n",
       "      <th>...</th>\n",
       "      <td>...</td>\n",
       "      <td>...</td>\n",
       "      <td>...</td>\n",
       "      <td>...</td>\n",
       "      <td>...</td>\n",
       "      <td>...</td>\n",
       "      <td>...</td>\n",
       "      <td>...</td>\n",
       "      <td>...</td>\n",
       "      <td>...</td>\n",
       "      <td>...</td>\n",
       "      <td>...</td>\n",
       "      <td>...</td>\n",
       "      <td>...</td>\n",
       "      <td>...</td>\n",
       "      <td>...</td>\n",
       "      <td>...</td>\n",
       "      <td>...</td>\n",
       "      <td>...</td>\n",
       "      <td>...</td>\n",
       "      <td>...</td>\n",
       "    </tr>\n",
       "    <tr>\n",
       "      <th>CCCCS</th>\n",
       "      <td>0</td>\n",
       "      <td>0.000000</td>\n",
       "      <td>0.000000</td>\n",
       "      <td>1.650964</td>\n",
       "      <td>3.363397</td>\n",
       "      <td>138.820598</td>\n",
       "      <td>-0.144979</td>\n",
       "      <td>1</td>\n",
       "      <td>1.882716</td>\n",
       "      <td>-1.661870</td>\n",
       "      <td>...</td>\n",
       "      <td>116.758347</td>\n",
       "      <td>0.015577</td>\n",
       "      <td>0.5</td>\n",
       "      <td>5.968754</td>\n",
       "      <td>0.013716</td>\n",
       "      <td>1.871602</td>\n",
       "      <td>0.142857</td>\n",
       "      <td>0.977452</td>\n",
       "      <td>0.000000</td>\n",
       "      <td>0</td>\n",
       "    </tr>\n",
       "    <tr>\n",
       "      <th>CCN(CC)CC</th>\n",
       "      <td>1</td>\n",
       "      <td>0.000000</td>\n",
       "      <td>3.124314</td>\n",
       "      <td>4.326749</td>\n",
       "      <td>4.055735</td>\n",
       "      <td>175.049834</td>\n",
       "      <td>-0.332110</td>\n",
       "      <td>1</td>\n",
       "      <td>1.875000</td>\n",
       "      <td>-1.356450</td>\n",
       "      <td>...</td>\n",
       "      <td>176.566530</td>\n",
       "      <td>-0.335337</td>\n",
       "      <td>1.5</td>\n",
       "      <td>6.317113</td>\n",
       "      <td>0.038992</td>\n",
       "      <td>1.363380</td>\n",
       "      <td>0.142857</td>\n",
       "      <td>2.636741</td>\n",
       "      <td>0.000000</td>\n",
       "      <td>0</td>\n",
       "    </tr>\n",
       "    <tr>\n",
       "      <th>C1=CC=C(C=C1)C(=O)C2=CC=CC=C2</th>\n",
       "      <td>1</td>\n",
       "      <td>5.731874</td>\n",
       "      <td>25.144927</td>\n",
       "      <td>0.000000</td>\n",
       "      <td>4.008835</td>\n",
       "      <td>245.980066</td>\n",
       "      <td>0.033771</td>\n",
       "      <td>1</td>\n",
       "      <td>9.692593</td>\n",
       "      <td>-3.532003</td>\n",
       "      <td>...</td>\n",
       "      <td>142.855947</td>\n",
       "      <td>0.014674</td>\n",
       "      <td>1.5</td>\n",
       "      <td>0.000000</td>\n",
       "      <td>0.088749</td>\n",
       "      <td>1.733356</td>\n",
       "      <td>0.080000</td>\n",
       "      <td>1.583333</td>\n",
       "      <td>11.770534</td>\n",
       "      <td>0</td>\n",
       "    </tr>\n",
       "    <tr>\n",
       "      <th>N</th>\n",
       "      <td>2</td>\n",
       "      <td>0.000000</td>\n",
       "      <td>61.873667</td>\n",
       "      <td>0.000000</td>\n",
       "      <td>0.000000</td>\n",
       "      <td>36.910299</td>\n",
       "      <td>1.000000</td>\n",
       "      <td>2</td>\n",
       "      <td>0.000000</td>\n",
       "      <td>0.234030</td>\n",
       "      <td>...</td>\n",
       "      <td>0.000000</td>\n",
       "      <td>0.000000</td>\n",
       "      <td>0.0</td>\n",
       "      <td>0.000000</td>\n",
       "      <td>0.000000</td>\n",
       "      <td>0.000000</td>\n",
       "      <td>0.000000</td>\n",
       "      <td>0.000000</td>\n",
       "      <td>0.000000</td>\n",
       "      <td>0</td>\n",
       "    </tr>\n",
       "    <tr>\n",
       "      <th>CC(C)N</th>\n",
       "      <td>1</td>\n",
       "      <td>0.000000</td>\n",
       "      <td>32.897187</td>\n",
       "      <td>0.000000</td>\n",
       "      <td>3.453924</td>\n",
       "      <td>104.833887</td>\n",
       "      <td>-0.109673</td>\n",
       "      <td>1</td>\n",
       "      <td>2.222222</td>\n",
       "      <td>-0.589007</td>\n",
       "      <td>...</td>\n",
       "      <td>82.397714</td>\n",
       "      <td>0.196900</td>\n",
       "      <td>1.5</td>\n",
       "      <td>32.897187</td>\n",
       "      <td>0.000000</td>\n",
       "      <td>1.881095</td>\n",
       "      <td>0.000000</td>\n",
       "      <td>2.770152</td>\n",
       "      <td>0.000000</td>\n",
       "      <td>0</td>\n",
       "    </tr>\n",
       "  </tbody>\n",
       "</table>\n",
       "<p>692 rows × 100 columns</p>\n",
       "</div>"
      ],
      "text/plain": [
       "                                 nHAcc    piPC10   P_VSA_v_2   MDEC-12  \\\n",
       "C1=CC(=CC=C1C(=O)O)[N+](=O)[O-]      4  0.000000  124.245235  0.000000   \n",
       "CCCCCCCCCCCCCCCCO                    1  2.079442   42.683343  2.335203   \n",
       "C1(C(O1)(F)F)(C(F)(F)F)F             7  0.000000  100.760568  0.000000   \n",
       "CC(C)(C=C)O                          1  0.000000   42.683343  1.889882   \n",
       "C=CCC1=CC2=C(C=C1)OCO2               2  3.548180   21.999776  1.861865   \n",
       "...                                ...       ...         ...       ...   \n",
       "CCCCS                                0  0.000000    0.000000  1.650964   \n",
       "CCN(CC)CC                            1  0.000000    3.124314  4.326749   \n",
       "C1=CC=C(C=C1)C(=O)C2=CC=CC=C2        1  5.731874   25.144927  0.000000   \n",
       "N                                    2  0.000000   61.873667  0.000000   \n",
       "CC(C)N                               1  0.000000   32.897187  0.000000   \n",
       "\n",
       "                                    ATS4i          Vx    MATS1p  nHet  \\\n",
       "C1=CC(=CC=C1C(=O)O)[N+](=O)[O-]  3.697452  183.704319  0.231009     5   \n",
       "CCCCCCCCCCCCCCCCO                5.134849  402.275748 -0.017689     1   \n",
       "C1(C(O1)(F)F)(C(F)(F)F)F         2.732081   97.508306 -0.269872     7   \n",
       "CC(C)(C=C)O                      3.897662  137.674419 -0.057072     1   \n",
       "C=CCC1=CC2=C(C=C1)OCO2           3.975679  206.943522 -0.119209     2   \n",
       "...                                   ...         ...       ...   ...   \n",
       "CCCCS                            3.363397  138.820598 -0.144979     1   \n",
       "CCN(CC)CC                        4.055735  175.049834 -0.332110     1   \n",
       "C1=CC=C(C=C1)C(=O)C2=CC=CC=C2    4.008835  245.980066  0.033771     1   \n",
       "N                                0.000000   36.910299  1.000000     2   \n",
       "CC(C)N                           3.453924  104.833887 -0.109673     1   \n",
       "\n",
       "                                      DELS      ESOL  ...   P_VSA_i_3  \\\n",
       "C1=CC(=CC=C1C(=O)O)[N+](=O)[O-]  24.074203 -2.155987  ...  165.659592   \n",
       "CCCCCCCCCCCCCCCCO                 5.843465 -4.116843  ...  431.129709   \n",
       "C1(C(O1)(F)F)(C(F)(F)F)F         39.656250 -2.259501  ...   10.999888   \n",
       "CC(C)(C=C)O                       6.180556 -1.129969  ...  148.623261   \n",
       "C=CCC1=CC2=C(C=C1)OCO2            8.225762 -2.610864  ...  139.710796   \n",
       "...                                    ...       ...  ...         ...   \n",
       "CCCCS                             1.882716 -1.661870  ...  116.758347   \n",
       "CCN(CC)CC                         1.875000 -1.356450  ...  176.566530   \n",
       "C1=CC=C(C=C1)C(=O)C2=CC=CC=C2     9.692593 -3.532003  ...  142.855947   \n",
       "N                                 0.000000  0.234030  ...    0.000000   \n",
       "CC(C)N                            2.222222 -0.589007  ...   82.397714   \n",
       "\n",
       "                                   MATS4i  GGI1  P_VSA_LogP_2    ATSC5e  \\\n",
       "C1=CC(=CC=C1C(=O)O)[N+](=O)[O-] -0.222453   3.0      0.000000  0.423679   \n",
       "CCCCCCCCCCCCCCCCO               -0.003185   0.5     35.483444  0.120883   \n",
       "C1(C(O1)(F)F)(C(F)(F)F)F         0.631352   5.5      0.000000  0.000000   \n",
       "CC(C)(C=C)O                     -0.002656   3.0     15.766920  0.025028   \n",
       "C=CCC1=CC2=C(C=C1)OCO2          -0.109523   2.0     24.951690  0.099247   \n",
       "...                                   ...   ...           ...       ...   \n",
       "CCCCS                            0.015577   0.5      5.968754  0.013716   \n",
       "CCN(CC)CC                       -0.335337   1.5      6.317113  0.038992   \n",
       "C1=CC=C(C=C1)C(=O)C2=CC=CC=C2    0.014674   1.5      0.000000  0.088749   \n",
       "N                                0.000000   0.0      0.000000  0.000000   \n",
       "CC(C)N                           0.196900   1.5     32.897187  0.000000   \n",
       "\n",
       "                                      IC1       RBF      CIC4    MDEC-23  \\\n",
       "C1=CC(=CC=C1C(=O)O)[N+](=O)[O-]  3.028639  0.117647  0.588235   7.065551   \n",
       "CCCCCCCCCCCCCCCCO                1.363249  0.280000  2.454774   0.000000   \n",
       "C1(C(O1)(F)F)(C(F)(F)F)F         1.770951  0.000000  1.007682   0.000000   \n",
       "CC(C)(C=C)O                      2.608459  0.066667  1.719361   0.000000   \n",
       "C=CCC1=CC2=C(C=C1)OCO2           2.992856  0.086957  0.272727   8.831141   \n",
       "...                                   ...       ...       ...        ...   \n",
       "CCCCS                            1.871602  0.142857  0.977452   0.000000   \n",
       "CCN(CC)CC                        1.363380  0.142857  2.636741   0.000000   \n",
       "C1=CC=C(C=C1)C(=O)C2=CC=CC=C2    1.733356  0.080000  1.583333  11.770534   \n",
       "N                                0.000000  0.000000  0.000000   0.000000   \n",
       "CC(C)N                           1.881095  0.000000  2.770152   0.000000   \n",
       "\n",
       "                                 O-060  \n",
       "C1=CC(=CC=C1C(=O)O)[N+](=O)[O-]      0  \n",
       "CCCCCCCCCCCCCCCCO                    0  \n",
       "C1(C(O1)(F)F)(C(F)(F)F)F             0  \n",
       "CC(C)(C=C)O                          0  \n",
       "C=CCC1=CC2=C(C=C1)OCO2               2  \n",
       "...                                ...  \n",
       "CCCCS                                0  \n",
       "CCN(CC)CC                            0  \n",
       "C1=CC=C(C=C1)C(=O)C2=CC=CC=C2        0  \n",
       "N                                    0  \n",
       "CC(C)N                               0  \n",
       "\n",
       "[692 rows x 100 columns]"
      ]
     },
     "execution_count": 34,
     "metadata": {},
     "output_type": "execute_result"
    }
   ],
   "source": [
    "X_train_xgb"
   ]
  },
  {
   "cell_type": "markdown",
   "id": "79202870",
   "metadata": {},
   "source": [
    "## Tuning paramaters "
   ]
  },
  {
   "cell_type": "code",
   "execution_count": 35,
   "id": "5367bcd6",
   "metadata": {},
   "outputs": [
    {
     "name": "stdout",
     "output_type": "stream",
     "text": [
      "|   iter    |  target   | colsam... |   gamma   | learni... | max_depth | n_esti... | scale_... |\n",
      "-------------------------------------------------------------------------------------------------\n",
      "| \u001b[0m1        \u001b[0m | \u001b[0m0.9696   \u001b[0m | \u001b[0m0.8646   \u001b[0m | \u001b[0m3.576    \u001b[0m | \u001b[0m0.6067   \u001b[0m | \u001b[0m6.814    \u001b[0m | \u001b[0m481.3    \u001b[0m | \u001b[0m1.969    \u001b[0m |\n",
      "| \u001b[0m2        \u001b[0m | \u001b[0m0.9598   \u001b[0m | \u001b[0m0.8313   \u001b[0m | \u001b[0m4.459    \u001b[0m | \u001b[0m0.964    \u001b[0m | \u001b[0m5.684    \u001b[0m | \u001b[0m812.6    \u001b[0m | \u001b[0m1.793    \u001b[0m |\n",
      "| \u001b[0m3        \u001b[0m | \u001b[0m0.966    \u001b[0m | \u001b[0m0.8704   \u001b[0m | \u001b[0m4.628    \u001b[0m | \u001b[0m0.08033  \u001b[0m | \u001b[0m3.61     \u001b[0m | \u001b[0m118.2    \u001b[0m | \u001b[0m2.249    \u001b[0m |\n",
      "| \u001b[0m4        \u001b[0m | \u001b[0m0.9637   \u001b[0m | \u001b[0m0.9334   \u001b[0m | \u001b[0m4.35     \u001b[0m | \u001b[0m0.9788   \u001b[0m | \u001b[0m8.594    \u001b[0m | \u001b[0m515.3    \u001b[0m | \u001b[0m2.171    \u001b[0m |\n",
      "| \u001b[0m5        \u001b[0m | \u001b[0m0.9692   \u001b[0m | \u001b[0m0.7355   \u001b[0m | \u001b[0m3.2      \u001b[0m | \u001b[0m0.1519   \u001b[0m | \u001b[0m9.613    \u001b[0m | \u001b[0m569.7    \u001b[0m | \u001b[0m1.622    \u001b[0m |\n",
      "| \u001b[0m6        \u001b[0m | \u001b[0m0.9692   \u001b[0m | \u001b[0m0.7119   \u001b[0m | \u001b[0m2.602    \u001b[0m | \u001b[0m0.7578   \u001b[0m | \u001b[0m6.566    \u001b[0m | \u001b[0m481.9    \u001b[0m | \u001b[0m1.862    \u001b[0m |\n",
      "| \u001b[0m7        \u001b[0m | \u001b[0m0.965    \u001b[0m | \u001b[0m1.0      \u001b[0m | \u001b[0m5.0      \u001b[0m | \u001b[0m0.01     \u001b[0m | \u001b[0m6.604    \u001b[0m | \u001b[0m463.7    \u001b[0m | \u001b[0m1.121    \u001b[0m |\n",
      "| \u001b[95m8        \u001b[0m | \u001b[95m0.9698   \u001b[0m | \u001b[95m0.7649   \u001b[0m | \u001b[95m0.9853   \u001b[0m | \u001b[95m0.1579   \u001b[0m | \u001b[95m8.042    \u001b[0m | \u001b[95m582.9    \u001b[0m | \u001b[95m2.426    \u001b[0m |\n",
      "| \u001b[0m9        \u001b[0m | \u001b[0m0.9604   \u001b[0m | \u001b[0m0.7966   \u001b[0m | \u001b[0m4.801    \u001b[0m | \u001b[0m0.6402   \u001b[0m | \u001b[0m5.528    \u001b[0m | \u001b[0m599.0    \u001b[0m | \u001b[0m1.4      \u001b[0m |\n",
      "| \u001b[0m10       \u001b[0m | \u001b[0m0.9686   \u001b[0m | \u001b[0m0.8326   \u001b[0m | \u001b[0m0.06778  \u001b[0m | \u001b[0m0.9184   \u001b[0m | \u001b[0m3.401    \u001b[0m | \u001b[0m575.0    \u001b[0m | \u001b[0m2.284    \u001b[0m |\n",
      "| \u001b[95m11       \u001b[0m | \u001b[95m0.9717   \u001b[0m | \u001b[95m0.7215   \u001b[0m | \u001b[95m0.4897   \u001b[0m | \u001b[95m0.581    \u001b[0m | \u001b[95m9.991    \u001b[0m | \u001b[95m554.4    \u001b[0m | \u001b[95m1.67     \u001b[0m |\n",
      "| \u001b[0m12       \u001b[0m | \u001b[0m0.9609   \u001b[0m | \u001b[0m0.948    \u001b[0m | \u001b[0m4.422    \u001b[0m | \u001b[0m0.8891   \u001b[0m | \u001b[0m3.321    \u001b[0m | \u001b[0m546.8    \u001b[0m | \u001b[0m2.048    \u001b[0m |\n",
      "| \u001b[0m13       \u001b[0m | \u001b[0m0.9703   \u001b[0m | \u001b[0m0.8103   \u001b[0m | \u001b[0m0.9838   \u001b[0m | \u001b[0m0.5159   \u001b[0m | \u001b[0m9.507    \u001b[0m | \u001b[0m560.9    \u001b[0m | \u001b[0m1.941    \u001b[0m |\n",
      "| \u001b[0m14       \u001b[0m | \u001b[0m0.9676   \u001b[0m | \u001b[0m0.7271   \u001b[0m | \u001b[0m4.996    \u001b[0m | \u001b[0m0.2318   \u001b[0m | \u001b[0m8.562    \u001b[0m | \u001b[0m494.1    \u001b[0m | \u001b[0m1.493    \u001b[0m |\n",
      "| \u001b[95m15       \u001b[0m | \u001b[95m0.9739   \u001b[0m | \u001b[95m0.9351   \u001b[0m | \u001b[95m0.0398   \u001b[0m | \u001b[95m0.3548   \u001b[0m | \u001b[95m3.054    \u001b[0m | \u001b[95m559.2    \u001b[0m | \u001b[95m1.122    \u001b[0m |\n",
      "| \u001b[0m16       \u001b[0m | \u001b[0m0.9684   \u001b[0m | \u001b[0m0.7321   \u001b[0m | \u001b[0m4.881    \u001b[0m | \u001b[0m0.1388   \u001b[0m | \u001b[0m4.236    \u001b[0m | \u001b[0m562.1    \u001b[0m | \u001b[0m2.339    \u001b[0m |\n",
      "| \u001b[0m17       \u001b[0m | \u001b[0m0.9734   \u001b[0m | \u001b[0m0.8553   \u001b[0m | \u001b[0m0.4741   \u001b[0m | \u001b[0m0.2598   \u001b[0m | \u001b[0m3.636    \u001b[0m | \u001b[0m556.0    \u001b[0m | \u001b[0m2.412    \u001b[0m |\n",
      "| \u001b[0m18       \u001b[0m | \u001b[0m0.9692   \u001b[0m | \u001b[0m0.8454   \u001b[0m | \u001b[0m0.2839   \u001b[0m | \u001b[0m0.4225   \u001b[0m | \u001b[0m4.173    \u001b[0m | \u001b[0m974.7    \u001b[0m | \u001b[0m2.215    \u001b[0m |\n",
      "| \u001b[0m19       \u001b[0m | \u001b[0m0.9668   \u001b[0m | \u001b[0m0.7448   \u001b[0m | \u001b[0m4.398    \u001b[0m | \u001b[0m0.2087   \u001b[0m | \u001b[0m8.972    \u001b[0m | \u001b[0m962.5    \u001b[0m | \u001b[0m1.325    \u001b[0m |\n",
      "| \u001b[0m20       \u001b[0m | \u001b[0m0.9697   \u001b[0m | \u001b[0m0.8453   \u001b[0m | \u001b[0m0.6783   \u001b[0m | \u001b[0m0.7499   \u001b[0m | \u001b[0m5.095    \u001b[0m | \u001b[0m987.7    \u001b[0m | \u001b[0m2.432    \u001b[0m |\n",
      "| \u001b[0m21       \u001b[0m | \u001b[0m0.9661   \u001b[0m | \u001b[0m0.717    \u001b[0m | \u001b[0m4.965    \u001b[0m | \u001b[0m0.4468   \u001b[0m | \u001b[0m4.451    \u001b[0m | \u001b[0m999.4    \u001b[0m | \u001b[0m1.933    \u001b[0m |\n",
      "| \u001b[0m22       \u001b[0m | \u001b[0m0.9622   \u001b[0m | \u001b[0m0.9341   \u001b[0m | \u001b[0m4.602    \u001b[0m | \u001b[0m0.7912   \u001b[0m | \u001b[0m8.435    \u001b[0m | \u001b[0m981.5    \u001b[0m | \u001b[0m1.346    \u001b[0m |\n",
      "| \u001b[0m23       \u001b[0m | \u001b[0m0.9694   \u001b[0m | \u001b[0m0.7581   \u001b[0m | \u001b[0m0.5848   \u001b[0m | \u001b[0m0.7936   \u001b[0m | \u001b[0m6.624    \u001b[0m | \u001b[0m557.8    \u001b[0m | \u001b[0m1.805    \u001b[0m |\n",
      "| \u001b[0m24       \u001b[0m | \u001b[0m0.9673   \u001b[0m | \u001b[0m0.701    \u001b[0m | \u001b[0m0.1619   \u001b[0m | \u001b[0m0.872    \u001b[0m | \u001b[0m3.202    \u001b[0m | \u001b[0m562.8    \u001b[0m | \u001b[0m1.972    \u001b[0m |\n",
      "| \u001b[0m25       \u001b[0m | \u001b[0m0.969    \u001b[0m | \u001b[0m0.8372   \u001b[0m | \u001b[0m3.065    \u001b[0m | \u001b[0m0.05297  \u001b[0m | \u001b[0m3.974    \u001b[0m | \u001b[0m557.5    \u001b[0m | \u001b[0m1.208    \u001b[0m |\n",
      "| \u001b[0m26       \u001b[0m | \u001b[0m0.969    \u001b[0m | \u001b[0m0.8743   \u001b[0m | \u001b[0m0.5409   \u001b[0m | \u001b[0m0.5118   \u001b[0m | \u001b[0m4.133    \u001b[0m | \u001b[0m553.2    \u001b[0m | \u001b[0m1.028    \u001b[0m |\n",
      "| \u001b[0m27       \u001b[0m | \u001b[0m0.9716   \u001b[0m | \u001b[0m0.9983   \u001b[0m | \u001b[0m0.2201   \u001b[0m | \u001b[0m0.9705   \u001b[0m | \u001b[0m3.048    \u001b[0m | \u001b[0m557.3    \u001b[0m | \u001b[0m1.438    \u001b[0m |\n",
      "| \u001b[0m28       \u001b[0m | \u001b[0m0.9702   \u001b[0m | \u001b[0m0.7065   \u001b[0m | \u001b[0m3.07     \u001b[0m | \u001b[0m0.7528   \u001b[0m | \u001b[0m9.824    \u001b[0m | \u001b[0m555.3    \u001b[0m | \u001b[0m1.756    \u001b[0m |\n",
      "| \u001b[0m29       \u001b[0m | \u001b[0m0.9725   \u001b[0m | \u001b[0m0.9152   \u001b[0m | \u001b[0m0.3883   \u001b[0m | \u001b[0m0.3831   \u001b[0m | \u001b[0m9.48     \u001b[0m | \u001b[0m551.4    \u001b[0m | \u001b[0m2.248    \u001b[0m |\n",
      "| \u001b[0m30       \u001b[0m | \u001b[0m0.964    \u001b[0m | \u001b[0m0.8287   \u001b[0m | \u001b[0m3.423    \u001b[0m | \u001b[0m0.733    \u001b[0m | \u001b[0m9.235    \u001b[0m | \u001b[0m550.9    \u001b[0m | \u001b[0m2.068    \u001b[0m |\n",
      "| \u001b[0m31       \u001b[0m | \u001b[0m0.9657   \u001b[0m | \u001b[0m0.925    \u001b[0m | \u001b[0m4.198    \u001b[0m | \u001b[0m0.1595   \u001b[0m | \u001b[0m9.811    \u001b[0m | \u001b[0m559.6    \u001b[0m | \u001b[0m1.352    \u001b[0m |\n",
      "| \u001b[0m32       \u001b[0m | \u001b[0m0.9697   \u001b[0m | \u001b[0m0.7404   \u001b[0m | \u001b[0m1.193    \u001b[0m | \u001b[0m0.2957   \u001b[0m | \u001b[0m7.651    \u001b[0m | \u001b[0m554.0    \u001b[0m | \u001b[0m2.371    \u001b[0m |\n",
      "| \u001b[0m33       \u001b[0m | \u001b[0m0.9687   \u001b[0m | \u001b[0m0.9003   \u001b[0m | \u001b[0m0.1419   \u001b[0m | \u001b[0m0.8694   \u001b[0m | \u001b[0m4.455    \u001b[0m | \u001b[0m559.7    \u001b[0m | \u001b[0m1.317    \u001b[0m |\n",
      "| \u001b[0m34       \u001b[0m | \u001b[0m0.9702   \u001b[0m | \u001b[0m0.9621   \u001b[0m | \u001b[0m0.3602   \u001b[0m | \u001b[0m0.4066   \u001b[0m | \u001b[0m4.927    \u001b[0m | \u001b[0m555.6    \u001b[0m | \u001b[0m1.294    \u001b[0m |\n",
      "| \u001b[0m35       \u001b[0m | \u001b[0m0.9696   \u001b[0m | \u001b[0m0.7367   \u001b[0m | \u001b[0m0.05543  \u001b[0m | \u001b[0m0.8357   \u001b[0m | \u001b[0m8.405    \u001b[0m | \u001b[0m550.5    \u001b[0m | \u001b[0m1.072    \u001b[0m |\n",
      "| \u001b[0m36       \u001b[0m | \u001b[0m0.9736   \u001b[0m | \u001b[0m0.7005   \u001b[0m | \u001b[0m2.519    \u001b[0m | \u001b[0m0.9884   \u001b[0m | \u001b[0m3.356    \u001b[0m | \u001b[0m555.0    \u001b[0m | \u001b[0m2.189    \u001b[0m |\n",
      "| \u001b[0m37       \u001b[0m | \u001b[0m0.9733   \u001b[0m | \u001b[0m0.9016   \u001b[0m | \u001b[0m0.546    \u001b[0m | \u001b[0m0.09571  \u001b[0m | \u001b[0m3.088    \u001b[0m | \u001b[0m559.4    \u001b[0m | \u001b[0m2.496    \u001b[0m |\n",
      "| \u001b[0m38       \u001b[0m | \u001b[0m0.9687   \u001b[0m | \u001b[0m0.8163   \u001b[0m | \u001b[0m4.394    \u001b[0m | \u001b[0m0.3536   \u001b[0m | \u001b[0m3.389    \u001b[0m | \u001b[0m553.5    \u001b[0m | \u001b[0m1.292    \u001b[0m |\n",
      "| \u001b[0m39       \u001b[0m | \u001b[0m0.9667   \u001b[0m | \u001b[0m0.9579   \u001b[0m | \u001b[0m4.157    \u001b[0m | \u001b[0m0.4561   \u001b[0m | \u001b[0m9.286    \u001b[0m | \u001b[0m579.7    \u001b[0m | \u001b[0m1.311    \u001b[0m |\n",
      "| \u001b[0m40       \u001b[0m | \u001b[0m0.9673   \u001b[0m | \u001b[0m0.9797   \u001b[0m | \u001b[0m0.3391   \u001b[0m | \u001b[0m0.4758   \u001b[0m | \u001b[0m9.902    \u001b[0m | \u001b[0m557.8    \u001b[0m | \u001b[0m1.879    \u001b[0m |\n",
      "| \u001b[0m41       \u001b[0m | \u001b[0m0.9704   \u001b[0m | \u001b[0m0.8972   \u001b[0m | \u001b[0m0.1303   \u001b[0m | \u001b[0m0.8484   \u001b[0m | \u001b[0m9.235    \u001b[0m | \u001b[0m563.7    \u001b[0m | \u001b[0m1.192    \u001b[0m |\n",
      "| \u001b[0m42       \u001b[0m | \u001b[0m0.9705   \u001b[0m | \u001b[0m0.9635   \u001b[0m | \u001b[0m2.001    \u001b[0m | \u001b[0m0.3847   \u001b[0m | \u001b[0m3.114    \u001b[0m | \u001b[0m556.7    \u001b[0m | \u001b[0m2.382    \u001b[0m |\n",
      "| \u001b[0m43       \u001b[0m | \u001b[0m0.9689   \u001b[0m | \u001b[0m0.7852   \u001b[0m | \u001b[0m3.876    \u001b[0m | \u001b[0m0.6543   \u001b[0m | \u001b[0m9.224    \u001b[0m | \u001b[0m564.9    \u001b[0m | \u001b[0m1.988    \u001b[0m |\n",
      "| \u001b[0m44       \u001b[0m | \u001b[0m0.9664   \u001b[0m | \u001b[0m0.7887   \u001b[0m | \u001b[0m1.975    \u001b[0m | \u001b[0m0.901    \u001b[0m | \u001b[0m3.359    \u001b[0m | \u001b[0m553.4    \u001b[0m | \u001b[0m2.424    \u001b[0m |\n",
      "| \u001b[0m45       \u001b[0m | \u001b[0m0.9565   \u001b[0m | \u001b[0m0.9696   \u001b[0m | \u001b[0m2.33     \u001b[0m | \u001b[0m0.9501   \u001b[0m | \u001b[0m4.584    \u001b[0m | \u001b[0m555.4    \u001b[0m | \u001b[0m2.491    \u001b[0m |\n",
      "| \u001b[0m46       \u001b[0m | \u001b[0m0.9706   \u001b[0m | \u001b[0m0.9867   \u001b[0m | \u001b[0m2.854    \u001b[0m | \u001b[0m0.243    \u001b[0m | \u001b[0m3.171    \u001b[0m | \u001b[0m476.8    \u001b[0m | \u001b[0m1.762    \u001b[0m |\n",
      "| \u001b[0m47       \u001b[0m | \u001b[0m0.9651   \u001b[0m | \u001b[0m0.9705   \u001b[0m | \u001b[0m2.954    \u001b[0m | \u001b[0m0.5293   \u001b[0m | \u001b[0m6.357    \u001b[0m | \u001b[0m826.2    \u001b[0m | \u001b[0m2.408    \u001b[0m |\n",
      "| \u001b[0m48       \u001b[0m | \u001b[0m0.9682   \u001b[0m | \u001b[0m0.7261   \u001b[0m | \u001b[0m3.354    \u001b[0m | \u001b[0m0.3885   \u001b[0m | \u001b[0m8.749    \u001b[0m | \u001b[0m840.4    \u001b[0m | \u001b[0m2.28     \u001b[0m |\n",
      "| \u001b[0m49       \u001b[0m | \u001b[0m0.9705   \u001b[0m | \u001b[0m0.7188   \u001b[0m | \u001b[0m2.793    \u001b[0m | \u001b[0m0.1323   \u001b[0m | \u001b[0m8.447    \u001b[0m | \u001b[0m841.9    \u001b[0m | \u001b[0m1.959    \u001b[0m |\n",
      "| \u001b[0m50       \u001b[0m | \u001b[0m0.9701   \u001b[0m | \u001b[0m0.8408   \u001b[0m | \u001b[0m0.4609   \u001b[0m | \u001b[0m0.4474   \u001b[0m | \u001b[0m9.702    \u001b[0m | \u001b[0m573.3    \u001b[0m | \u001b[0m1.753    \u001b[0m |\n"
     ]
    },
    {
     "name": "stdout",
     "output_type": "stream",
     "text": [
      "| \u001b[0m51       \u001b[0m | \u001b[0m0.967    \u001b[0m | \u001b[0m0.7795   \u001b[0m | \u001b[0m1.772    \u001b[0m | \u001b[0m0.6237   \u001b[0m | \u001b[0m6.358    \u001b[0m | \u001b[0m866.7    \u001b[0m | \u001b[0m2.161    \u001b[0m |\n",
      "| \u001b[0m52       \u001b[0m | \u001b[0m0.9625   \u001b[0m | \u001b[0m0.8353   \u001b[0m | \u001b[0m3.821    \u001b[0m | \u001b[0m0.9176   \u001b[0m | \u001b[0m7.328    \u001b[0m | \u001b[0m529.2    \u001b[0m | \u001b[0m1.336    \u001b[0m |\n",
      "| \u001b[0m53       \u001b[0m | \u001b[0m0.9607   \u001b[0m | \u001b[0m0.7903   \u001b[0m | \u001b[0m3.637    \u001b[0m | \u001b[0m0.8975   \u001b[0m | \u001b[0m5.197    \u001b[0m | \u001b[0m742.4    \u001b[0m | \u001b[0m1.427    \u001b[0m |\n",
      "| \u001b[0m54       \u001b[0m | \u001b[0m0.9684   \u001b[0m | \u001b[0m0.9461   \u001b[0m | \u001b[0m2.483    \u001b[0m | \u001b[0m0.0348   \u001b[0m | \u001b[0m6.92     \u001b[0m | \u001b[0m366.4    \u001b[0m | \u001b[0m2.165    \u001b[0m |\n",
      "| \u001b[0m55       \u001b[0m | \u001b[0m0.9678   \u001b[0m | \u001b[0m0.8475   \u001b[0m | \u001b[0m4.32     \u001b[0m | \u001b[0m0.452    \u001b[0m | \u001b[0m7.116    \u001b[0m | \u001b[0m655.7    \u001b[0m | \u001b[0m2.038    \u001b[0m |\n",
      "=================================================================================================\n"
     ]
    }
   ],
   "source": [
    "params = {\n",
    "    'learning_rate': (0.01, 1.0),\n",
    "    'n_estimators': (100, 1000),\n",
    "    'max_depth': (3,10),\n",
    "#    'subsample': (0.7, 1.0),  # Change for big datasets\n",
    "    'colsample_bytree': (0.7, 1.0),  # Change for datasets with lots of features\n",
    "    'gamma': (0, 5), \n",
    "    'scale_pos_weight': (1, 2.5)\n",
    "    }\n",
    "\n",
    "def xgboost_hyper_param(learning_rate,\n",
    "                        n_estimators,\n",
    "                        max_depth,\n",
    "                        colsample_bytree,\n",
    "                        gamma, \n",
    "                        scale_pos_weight):\n",
    "\n",
    "    max_depth = int(max_depth)\n",
    "    n_estimators = int(n_estimators)\n",
    "\n",
    "    xgb_temp = XGBClassifier(\n",
    "        max_depth=max_depth,\n",
    "        colsample_bytree=colsample_bytree,\n",
    "        learning_rate=learning_rate,\n",
    "        n_estimators=n_estimators,\n",
    "        gamma=gamma,\n",
    "        scale_pos_weight=scale_pos_weight,\n",
    "        seed=SEED)\n",
    "    \n",
    "    # calculate CV=5 K fold ROC_AUC accuracy for each model \n",
    "\n",
    "    return np.array(cross_val_score(xgb_temp, X_train_xgb, y_train_xgb, cv=3, scoring='roc_auc')).mean()\n",
    "\n",
    "optimizer = BayesianOptimization(\n",
    "            f=xgboost_hyper_param,\n",
    "            pbounds=params,\n",
    "            random_state=SEED)\n",
    "\n",
    "optimizer.maximize(init_points=5, n_iter=50)"
   ]
  },
  {
   "cell_type": "code",
   "execution_count": 36,
   "id": "06f0ad9f",
   "metadata": {},
   "outputs": [
    {
     "name": "stdout",
     "output_type": "stream",
     "text": [
      "{'colsample_bytree': 0.9350862808540215, 'gamma': 0.039804947367956256, 'learning_rate': 0.35482280680525907, 'max_depth': 3, 'n_estimators': 559, 'scale_pos_weight': 1.1224636620096888}\n",
      "AVERAGE CV=5 ROC_AUC (TEST): 0.9746974850546278\n",
      "AVERAGE CV=5 STD (TEST): 0.0034026867850356596\n"
     ]
    }
   ],
   "source": [
    "params_tuned_xgb = optimizer.max['params']\n",
    "params_tuned_xgb['max_depth'] = int(params_tuned_xgb['max_depth'])\n",
    "params_tuned_xgb['n_estimators'] = int(params_tuned_xgb['n_estimators'])\n",
    "print(params_tuned_xgb)\n",
    "\n",
    "tuned_xgb = XGBClassifier(**params_tuned_xgb, seed=SEED)\n",
    "tuned_xgb.fit(X_train_xgb, y_train_xgb)\n",
    "\n",
    "test_model_cross_val(tuned_xgb, y_train_xgb, X_train_xgb, k=5, verbose=True)"
   ]
  },
  {
   "cell_type": "markdown",
   "id": "a95feb5b",
   "metadata": {},
   "source": [
    "### Final tuned paramaters\n"
   ]
  },
  {
   "cell_type": "code",
   "execution_count": 37,
   "id": "ed0425e2",
   "metadata": {},
   "outputs": [],
   "source": [
    "params = {'colsample_bytree': 0.8399023550780697, 'gamma': 0.338189317375458, 'learning_rate': 0.1742061546805264, 'max_depth': 8, 'n_estimators': 643, 'scale_pos_weight': 1.3398087284581912}\n",
    "params=params_tuned_xgb\n",
    "tuned_xgb = XGBClassifier(**params,\n",
    "                          seed=SEED,  \n",
    "                          n_jobs = -1)"
   ]
  },
  {
   "cell_type": "code",
   "execution_count": 38,
   "id": "791a78bc",
   "metadata": {},
   "outputs": [
    {
     "name": "stdout",
     "output_type": "stream",
     "text": [
      "ROC_AUC (TEST): 0.9746341463414635\n",
      "\n",
      "\n",
      "CLASSIFICATION REPORT:\n",
      "               precision    recall  f1-score   support\n",
      "\n",
      "       False       0.92      0.90      0.91        50\n",
      "        True       0.96      0.97      0.96       123\n",
      "\n",
      "    accuracy                           0.95       173\n",
      "   macro avg       0.94      0.93      0.94       173\n",
      "weighted avg       0.95      0.95      0.95       173\n",
      "\n"
     ]
    },
    {
     "data": {
      "image/png": "[encoded data removed]",
      "text/plain": [
       "<Figure size 432x288 with 1 Axes>"
      ]
     },
     "metadata": {
      "needs_background": "light"
     },
     "output_type": "display_data"
    },
    {
     "data": {
      "image/png": "[encoded data removed]",
      "text/plain": [
       "<Figure size 432x288 with 1 Axes>"
      ]
     },
     "metadata": {
      "needs_background": "light"
     },
     "output_type": "display_data"
    },
    {
     "data": {
      "text/plain": [
       "0.9746341463414635"
      ]
     },
     "execution_count": 38,
     "metadata": {},
     "output_type": "execute_result"
    }
   ],
   "source": [
    "tuned_xgb.fit(X_train_xgb, y_train_xgb)\n",
    "test_model(tuned_xgb, y_test_xgb, X_test_xgb)"
   ]
  },
  {
   "cell_type": "markdown",
   "id": "dd5eeb73",
   "metadata": {},
   "source": [
    "# Keras"
   ]
  },
  {
   "cell_type": "markdown",
   "id": "4d8de729",
   "metadata": {},
   "source": [
    "https://www.pluralsight.com/guides/classification-keras"
   ]
  },
  {
   "cell_type": "code",
   "execution_count": 39,
   "id": "d7e60405",
   "metadata": {},
   "outputs": [
    {
     "name": "stdout",
     "output_type": "stream",
     "text": [
      "Requirement already satisfied: keras in /home/zoya/anaconda3/lib/python3.8/site-packages (2.11.0)\n",
      "\n",
      "\u001b[1m[\u001b[0m\u001b[34;49mnotice\u001b[0m\u001b[1;39;49m]\u001b[0m\u001b[39;49m A new release of pip available: \u001b[0m\u001b[31;49m22.3.1\u001b[0m\u001b[39;49m -> \u001b[0m\u001b[32;49m23.0\u001b[0m\n",
      "\u001b[1m[\u001b[0m\u001b[34;49mnotice\u001b[0m\u001b[1;39;49m]\u001b[0m\u001b[39;49m To update, run: \u001b[0m\u001b[32;49mpip install --upgrade pip\u001b[0m\n",
      "Requirement already satisfied: scikeras in /home/zoya/anaconda3/lib/python3.8/site-packages (0.10.0)\n",
      "Requirement already satisfied: scikit-learn>=1.0.0 in /home/zoya/anaconda3/lib/python3.8/site-packages (from scikeras) (1.2.0)\n",
      "Requirement already satisfied: packaging>=0.21 in /home/zoya/anaconda3/lib/python3.8/site-packages (from scikeras) (21.3)\n",
      "Requirement already satisfied: pyparsing!=3.0.5,>=2.0.2 in /home/zoya/anaconda3/lib/python3.8/site-packages (from packaging>=0.21->scikeras) (2.4.7)\n",
      "Requirement already satisfied: joblib>=1.1.1 in /home/zoya/anaconda3/lib/python3.8/site-packages (from scikit-learn>=1.0.0->scikeras) (1.2.0)\n",
      "Requirement already satisfied: numpy>=1.17.3 in /home/zoya/anaconda3/lib/python3.8/site-packages (from scikit-learn>=1.0.0->scikeras) (1.24.1)\n",
      "Requirement already satisfied: threadpoolctl>=2.0.0 in /home/zoya/anaconda3/lib/python3.8/site-packages (from scikit-learn>=1.0.0->scikeras) (3.1.0)\n",
      "Requirement already satisfied: scipy>=1.3.2 in /home/zoya/anaconda3/lib/python3.8/site-packages (from scikit-learn>=1.0.0->scikeras) (1.10.0)\n",
      "\n",
      "\u001b[1m[\u001b[0m\u001b[34;49mnotice\u001b[0m\u001b[1;39;49m]\u001b[0m\u001b[39;49m A new release of pip available: \u001b[0m\u001b[31;49m22.3.1\u001b[0m\u001b[39;49m -> \u001b[0m\u001b[32;49m23.0\u001b[0m\n",
      "\u001b[1m[\u001b[0m\u001b[34;49mnotice\u001b[0m\u001b[1;39;49m]\u001b[0m\u001b[39;49m To update, run: \u001b[0m\u001b[32;49mpip install --upgrade pip\u001b[0m\n"
     ]
    }
   ],
   "source": [
    "!pip install keras\n",
    "!pip install scikeras\n",
    "\n",
    "import tensorflow as tf\n",
    "import keras_tuner as kt\n",
    "from tensorflow import keras\n",
    "from keras.models import Sequential\n",
    "from keras.layers import Dense\n",
    "from keras.utils import to_categorical \n",
    "from scikeras.wrappers import KerasClassifier\n",
    "from sklearn.metrics import roc_auc_score\n",
    "from sklearn.preprocessing import LabelEncoder\n",
    "from sklearn.preprocessing import StandardScaler\n",
    "from sklearn.pipeline import Pipeline\n",
    "\n",
    "\n",
    "# for readibility \n",
    "y_train_nn = y_train.copy()\n",
    "y_test_nn = y_test.copy()\n",
    "X_train_nn = X_train.copy()\n",
    "X_test_nn = X_test.copy()\n",
    "\n",
    "tf.random.set_seed(SEED)"
   ]
  },
  {
   "cell_type": "code",
   "execution_count": 40,
   "id": "cda05e12",
   "metadata": {},
   "outputs": [
    {
     "name": "stdout",
     "output_type": "stream",
     "text": [
      "<class 'pandas.core.frame.DataFrame'>\n",
      "Index: 692 entries, C1=CC(=CC=C1C(=O)O)[N+](=O)[O-] to CC(C)N\n",
      "Columns: 1067 entries, MW to chiralPhMoment\n",
      "dtypes: float64(449), int64(618)\n",
      "memory usage: 5.6+ MB\n"
     ]
    }
   ],
   "source": [
    "X_train.info()"
   ]
  },
  {
   "cell_type": "markdown",
   "id": "6cb11ba9",
   "metadata": {},
   "source": [
    "## Preprocessing"
   ]
  },
  {
   "cell_type": "markdown",
   "id": "35abb192",
   "metadata": {},
   "source": [
    "### Handle NaNs \n",
    "- You can't have missing values in a Neural Network, so we choose to remove all columns with them (for now)"
   ]
  },
  {
   "cell_type": "code",
   "execution_count": 41,
   "id": "26b640af",
   "metadata": {},
   "outputs": [],
   "source": [
    "X_train_nn, X_test_nn = handleNaNs(X_train.copy(), X_test.copy(), option=1)"
   ]
  },
  {
   "cell_type": "markdown",
   "id": "b207c5c6",
   "metadata": {},
   "source": [
    "## Prepare a validation set\n",
    "- Stratified "
   ]
  },
  {
   "cell_type": "code",
   "execution_count": 42,
   "id": "b49f88c0",
   "metadata": {},
   "outputs": [],
   "source": [
    "X_train_t_nn, X_val_nn, y_train_t_nn, y_val_nn = X_train_t.copy(), X_val.copy(), y_train_t.copy(), y_val.copy()"
   ]
  },
  {
   "cell_type": "code",
   "execution_count": 43,
   "id": "8db39752",
   "metadata": {},
   "outputs": [],
   "source": [
    "X_train_t_nn, X_val_nn = handleNaNs(X_train_t_nn.copy(), X_val_nn.copy(), option=1)"
   ]
  },
  {
   "cell_type": "markdown",
   "id": "b423c911",
   "metadata": {},
   "source": [
    "### Standardization \n",
    "\n",
    "Standardization is an effective data preparation scheme for tabular data when building neural network models. This is where the data is rescaled such that the mean value for each attribute is 0, and the standard deviation is 1. This preserves Gaussian and Gaussian-like distributions while normalizing the central tendencies for each attribute.\n",
    "\n",
    "https://machinelearningmastery.com/binary-classification-tutorial-with-the-keras-deep-learning-library/\n",
    "\n",
    "- not necessary for tree based algorithms because they are fairly insensitive to the scale of features \"The decision tree splits a node on a feature that increases the homogeneity of the node. This split on a feature is not influenced by other features. Hence, there is virtually no effect of the remaining features on the split. This is what makes them invariant to the scale of the features.\" https://www.atoti.io/articles/when-to-perform-a-feature-scaling/#:~:text=In%20Neural%20Networks%20algorithm%20that,an%20essential%20pre%2Dprocessing%20step.\n",
    "\n",
    "- Note: The StandardScaler is only fit using the train_features to be sure the model is not peeking at the validation or test sets."
   ]
  },
  {
   "cell_type": "code",
   "execution_count": 44,
   "id": "7ff53ae6",
   "metadata": {},
   "outputs": [],
   "source": [
    "scaler = StandardScaler()\n",
    "X_train_t_nn = scaler.fit_transform(X_train_t_nn) \n",
    "X_val_nn = scaler.transform(X_val_nn) \n",
    "\n",
    "scaler2 = StandardScaler()\n",
    "X_train_nn = scaler2.fit_transform(X_train_nn) \n",
    "X_test_nn = scaler2.transform(X_test_nn) "
   ]
  },
  {
   "cell_type": "markdown",
   "id": "3aebfb1e",
   "metadata": {},
   "source": [
    "### Encode class values as integers"
   ]
  },
  {
   "cell_type": "markdown",
   "id": "895a8e22",
   "metadata": {},
   "source": [
    "Use adam optimizer so we don't have to specify learning rate, as is the case with gradient descent, and optimise for it"
   ]
  },
  {
   "cell_type": "code",
   "execution_count": 45,
   "id": "fa598aec",
   "metadata": {},
   "outputs": [],
   "source": [
    "encoder = LabelEncoder()\n",
    "encoder.fit(y_train_nn)\n",
    "y_train_nn = encoder.transform(y_train_nn)\n",
    "y_train_t_nn = encoder.transform(y_train_t_nn)\n",
    "y_test_nn = encoder.transform(y_test_nn)\n",
    "y_val_nn = encoder.transform(y_val_nn)"
   ]
  },
  {
   "cell_type": "markdown",
   "id": "8f12e29c",
   "metadata": {},
   "source": [
    "## Metrics"
   ]
  },
  {
   "cell_type": "code",
   "execution_count": 46,
   "id": "203869ce",
   "metadata": {},
   "outputs": [],
   "source": [
    "METRICS = [\n",
    "  keras.metrics.TruePositives(name='tp'),\n",
    "  keras.metrics.FalsePositives(name='fp'),\n",
    "  keras.metrics.TrueNegatives(name='tn'),\n",
    "  keras.metrics.FalseNegatives(name='fn'), \n",
    "  keras.metrics.Precision(name='precision'),\n",
    "  keras.metrics.Recall(name='recall'),\n",
    "  keras.metrics.AUC(name='auc', curve='ROC'),\n",
    "]"
   ]
  },
  {
   "cell_type": "markdown",
   "id": "1d5414f2",
   "metadata": {},
   "source": [
    "## Test model - Keras"
   ]
  },
  {
   "cell_type": "code",
   "execution_count": 47,
   "id": "8b901a28",
   "metadata": {},
   "outputs": [],
   "source": [
    "def test_model_keras(model, history, X_val_nn, y_val_nn, X_train_nn, y_train_nn): \n",
    "    # Plot training and validation auc \n",
    "\n",
    "    plt.plot(history.history['auc'])\n",
    "    plt.plot(history.history['val_auc'])\n",
    "    plt.title('model roc_auc')\n",
    "    plt.ylabel('ROC_AUC')\n",
    "    plt.xlabel('epoch')\n",
    "    plt.legend(['training', 'validation'], loc='upper left')\n",
    "    plt.show()\n",
    "\n",
    "    # Plot training and validation ROC curve\n",
    "\n",
    "    y_pred_keras = model.predict(X_val_nn).ravel()\n",
    "    fpr_keras, tpr_keras, thresholds_keras = roc_curve(y_val_nn, y_pred_keras)\n",
    "    auc_v_keras = metrics.roc_auc_score(y_val_nn, y_pred_keras)\n",
    "\n",
    "    plt.figure(1)\n",
    "    plt.plot([0, 1], [0, 1], 'k--')\n",
    "    plt.plot(fpr_keras, tpr_keras)\n",
    "\n",
    "    y_pred_t_keras = model.predict(X_train_nn).ravel()\n",
    "    fpr_keras, tpr_keras, thresholds_keras = roc_curve(y_train_nn, y_pred_t_keras)\n",
    "    auc_t_keras = metrics.roc_auc_score(y_train_nn, y_pred_t_keras)\n",
    "\n",
    "    plt.plot(fpr_keras, tpr_keras)\n",
    "\n",
    "    plt.xlabel('False positive rate')\n",
    "    plt.ylabel('True positive rate')\n",
    "    plt.title('ROC curve')\n",
    "    plt.legend(['', 'Validation (area = {:.3f})'.format(auc_v_keras), 'Training (area = {:.3f})'.format(auc_t_keras)], loc='best')\n",
    "    plt.show()\n",
    "    plt.show()\n"
   ]
  },
  {
   "cell_type": "markdown",
   "id": "b98182ba",
   "metadata": {},
   "source": [
    "## Baseline Single Layer model\n",
    "- Overfitting quite a bit, you can see it when you compare the validation set auc and the auc for the training set "
   ]
  },
  {
   "cell_type": "code",
   "execution_count": 48,
   "id": "fc070499",
   "metadata": {},
   "outputs": [
    {
     "name": "stdout",
     "output_type": "stream",
     "text": [
      "Model: \"sequential\"\n",
      "_________________________________________________________________\n",
      " Layer (type)                Output Shape              Param #   \n",
      "=================================================================\n",
      " dense (Dense)               (None, 1068)              1140624   \n",
      "                                                                 \n",
      " dense_1 (Dense)             (None, 1)                 1069      \n",
      "                                                                 \n",
      "=================================================================\n",
      "Total params: 1,141,693\n",
      "Trainable params: 1,141,693\n",
      "Non-trainable params: 0\n",
      "_________________________________________________________________\n"
     ]
    },
    {
     "data": {
      "image/png": "[encoded data removed]",
      "text/plain": [
       "<Figure size 432x288 with 1 Axes>"
      ]
     },
     "metadata": {
      "needs_background": "light"
     },
     "output_type": "display_data"
    },
    {
     "name": "stdout",
     "output_type": "stream",
     "text": [
      "7/7 [==============================] - 0s 3ms/step\n",
      "16/16 [==============================] - 0s 2ms/step\n"
     ]
    },
    {
     "data": {
      "image/png": "[encoded data removed]",
      "text/plain": [
       "<Figure size 432x288 with 1 Axes>"
      ]
     },
     "metadata": {
      "needs_background": "light"
     },
     "output_type": "display_data"
    }
   ],
   "source": [
    "model = keras.Sequential()\n",
    "model.add(keras.layers.Dense(X_train_nn.shape[-1]+1, activation=\"relu\", input_shape=(X_train_nn.shape[-1],)))\n",
    "model.add(Dense(1, activation='sigmoid'))\n",
    "\n",
    "model.summary()\n",
    "\n",
    "model.compile(optimizer='adam',\n",
    "              loss='binary_crossentropy',\n",
    "              metrics=METRICS)\n",
    "\n",
    "history = model.fit(X_train_t_nn, \n",
    "                      y_train_t_nn, \n",
    "                      epochs=30, \n",
    "                      validation_data=(X_val_nn, y_val_nn), \n",
    "                      verbose=0)\n",
    "\n",
    "test_model_keras(model, history, X_val_nn, y_val_nn, X_train_t_nn, y_train_t_nn)"
   ]
  },
  {
   "cell_type": "markdown",
   "id": "ee4927be",
   "metadata": {},
   "source": [
    "## Feature selection on multilayer model"
   ]
  },
  {
   "cell_type": "markdown",
   "id": "657b603e",
   "metadata": {},
   "source": [
    "Using the set of the top 100 descriptors from RF and XGB, filter the dataset by these descriptors, and then measure validation accuracy"
   ]
  },
  {
   "cell_type": "markdown",
   "id": "3a970c20",
   "metadata": {},
   "source": [
    "Choose f_classif method of feature selection, with 100 features.\n",
    "### Tune and Train multilayer model"
   ]
  },
  {
   "cell_type": "code",
   "execution_count": 49,
   "id": "f328348b",
   "metadata": {},
   "outputs": [],
   "source": [
    "def model_builder_3(hp):\n",
    "\n",
    "    model = keras.Sequential()\n",
    "    model.add(Dense(100, input_shape=(100,), activation='relu'))\n",
    "\n",
    "    # Tune the number of units in the first Dense layer\n",
    "    # Choose an optimal value between 2-length of layers\n",
    "    hp_units = hp.Int('unit_1', min_value=2, max_value=2000, step=10)\n",
    "    model.add(keras.layers.Dense(units=hp_units, activation='relu'))\n",
    "    \n",
    "    # dropout layer reduces overfitting\n",
    "    hp_units = hp.Float('dropout_1', min_value=0.0, max_value=0.5, default=0.25, step=0.05)\n",
    "    model.add(keras.layers.Dropout(hp_units))\n",
    "    \n",
    "    # Tune the number of units in the first Dense layer\n",
    "    # Choose an optimal value between 2-length of layers\n",
    "    hp_units = hp.Int('unit_2', min_value=2, max_value=2000, step=10)\n",
    "    model.add(keras.layers.Dense(units=hp_units, activation='relu'))\n",
    "    \n",
    "    model.add(Dense(1, activation='sigmoid'))\n",
    "    \n",
    "    hp_learning_rate = hp.Choice('learning_rate', values=[1e-2, 1e-3, 1e-4])\n",
    "\n",
    "    model.compile(optimizer=keras.optimizers.Adam(learning_rate=hp_learning_rate),\n",
    "                  loss='binary_crossentropy',\n",
    "                  metrics=METRICS)\n",
    "\n",
    "    return model"
   ]
  },
  {
   "cell_type": "code",
   "execution_count": 50,
   "id": "37526fcc",
   "metadata": {},
   "outputs": [],
   "source": [
    "import sklearn.feature_selection as fs\n",
    "from sklearn.feature_selection import VarianceThreshold\n",
    "\n",
    "constant_filter = VarianceThreshold(threshold=0)\n",
    "constant_filter.fit(X_train_nn)\n",
    "X_train_nn = constant_filter.transform(X_train_nn)\n",
    "X_test_nn = constant_filter.transform(X_test_nn)\n",
    "X_val_nn = constant_filter.transform(X_val_nn)\n",
    "X_train_t_nn = constant_filter.transform(X_train_t_nn)\n",
    "\n",
    "\n",
    "    \n",
    "bk = fs.SelectKBest(fs.f_classif, k=100)\n",
    "bk.fit(X_train_nn, y_train_nn)\n",
    "X_train_nn = bk.transform(X_train_nn)"
   ]
  },
  {
   "cell_type": "code",
   "execution_count": 51,
   "id": "f140446c",
   "metadata": {},
   "outputs": [],
   "source": [
    "X_val_nn = bk.transform(X_val_nn)"
   ]
  },
  {
   "cell_type": "code",
   "execution_count": 52,
   "id": "f3dcc934",
   "metadata": {},
   "outputs": [],
   "source": [
    "X_test_nn = bk.transform(X_test_nn)"
   ]
  },
  {
   "cell_type": "code",
   "execution_count": 53,
   "id": "2c0857de",
   "metadata": {},
   "outputs": [],
   "source": [
    "X_train_t_nn = bk.transform(X_train_t_nn)"
   ]
  },
  {
   "cell_type": "code",
   "execution_count": 54,
   "id": "3e283340",
   "metadata": {},
   "outputs": [
    {
     "name": "stdout",
     "output_type": "stream",
     "text": [
      "Trial 30 Complete [00h 00m 03s]\n",
      "val_auc: 0.9481981992721558\n",
      "\n",
      "Best val_auc So Far: 0.9744369387626648\n",
      "Total elapsed time: 00h 01m 02s\n",
      "INFO:tensorflow:Oracle triggered exit\n"
     ]
    }
   ],
   "source": [
    "print(X_val_nn.shape)\n",
    "tuner = kt.Hyperband(model_builder_3,\n",
    "                     objective=kt.Objective(\"val_auc\", direction=\"max\"),\n",
    "                     max_epochs=10,\n",
    "                     factor=3,\n",
    "                     seed=SEED, \n",
    "                     directory=\"results_dir\",\n",
    "                     project_name=\"odor\",\n",
    "                     overwrite=True,)\n",
    "                     \n",
    "tuner.search(X_train_t_nn, \n",
    "             y_train_t_nn, \n",
    "             epochs=30,\n",
    "             validation_data=(X_val_nn, y_val_nn),\n",
    "             callbacks=[tf.keras.callbacks.EarlyStopping(monitor=\"val_loss\")])"
   ]
  },
  {
   "cell_type": "code",
   "execution_count": 55,
   "id": "f8466c2c",
   "metadata": {},
   "outputs": [
    {
     "name": "stdout",
     "output_type": "stream",
     "text": [
      "\n",
      "The hyperparameter search is complete. \n",
      " The optimal number of units in the first densely-connected\n",
      "layer is 1812 \n",
      " The optimal number of units in the second densely-connected\n",
      "layer is 932 \n",
      " The optimal number of dropouts in the first densely-connected\n",
      "layer is 0.25.\n",
      " The optimal learning \n",
      "rate is  0.001\n",
      "\n"
     ]
    }
   ],
   "source": [
    "best_hps=tuner.get_best_hyperparameters(num_trials=1)[0]\n",
    "print(f\"\"\"\n",
    "The hyperparameter search is complete. \\n The optimal number of units in the first densely-connected\n",
    "layer is {best_hps.get('unit_1')} \\n The optimal number of units in the second densely-connected\n",
    "layer is {best_hps.get('unit_2')} \\n The optimal number of dropouts in the first densely-connected\n",
    "layer is {best_hps.get('dropout_1')}.\\n The optimal learning \n",
    "rate is  {best_hps.get('learning_rate')}\n",
    "\"\"\")"
   ]
  },
  {
   "cell_type": "code",
   "execution_count": 56,
   "id": "fdea6f27",
   "metadata": {},
   "outputs": [
    {
     "name": "stdout",
     "output_type": "stream",
     "text": [
      "Model: \"sequential_1\"\n",
      "_________________________________________________________________\n",
      " Layer (type)                Output Shape              Param #   \n",
      "=================================================================\n",
      " dense_4 (Dense)             (None, 100)               10100     \n",
      "                                                                 \n",
      " dense_5 (Dense)             (None, 1812)              183012    \n",
      "                                                                 \n",
      " dropout_1 (Dropout)         (None, 1812)              0         \n",
      "                                                                 \n",
      " dense_6 (Dense)             (None, 932)               1689716   \n",
      "                                                                 \n",
      " dense_7 (Dense)             (None, 1)                 933       \n",
      "                                                                 \n",
      "=================================================================\n",
      "Total params: 1,883,761\n",
      "Trainable params: 1,883,761\n",
      "Non-trainable params: 0\n",
      "_________________________________________________________________\n"
     ]
    }
   ],
   "source": [
    "model4 = tuner.hypermodel.build(best_hps)\n",
    "model4.summary()"
   ]
  },
  {
   "cell_type": "code",
   "execution_count": 57,
   "id": "99c061aa",
   "metadata": {},
   "outputs": [
    {
     "data": {
      "image/png": "[encoded data removed]",
      "text/plain": [
       "<Figure size 432x288 with 1 Axes>"
      ]
     },
     "metadata": {
      "needs_background": "light"
     },
     "output_type": "display_data"
    },
    {
     "name": "stdout",
     "output_type": "stream",
     "text": [
      "7/7 [==============================] - 0s 3ms/step\n",
      "22/22 [==============================] - 0s 3ms/step\n"
     ]
    },
    {
     "data": {
      "image/png": "[encoded data removed]",
      "text/plain": [
       "<Figure size 432x288 with 1 Axes>"
      ]
     },
     "metadata": {
      "needs_background": "light"
     },
     "output_type": "display_data"
    }
   ],
   "source": [
    "history = model4.fit(X_train_t_nn, \n",
    "                      y_train_t_nn, \n",
    "                      epochs=30,\n",
    "                      batch_size=64,\n",
    "                      validation_data=(X_val_nn, y_val_nn), \n",
    "                      verbose=0)\n",
    "\n",
    "test_model_keras(model4, history, X_val_nn, y_val_nn, X_train_nn, y_train_nn)"
   ]
  },
  {
   "cell_type": "code",
   "execution_count": 58,
   "id": "e9c0df40",
   "metadata": {},
   "outputs": [
    {
     "data": {
      "image/png": "[encoded data removed]",
      "text/plain": [
       "<Figure size 432x288 with 1 Axes>"
      ]
     },
     "metadata": {
      "needs_background": "light"
     },
     "output_type": "display_data"
    },
    {
     "name": "stdout",
     "output_type": "stream",
     "text": [
      "7/7 [==============================] - 0s 3ms/step\n",
      "22/22 [==============================] - 0s 3ms/step\n"
     ]
    },
    {
     "data": {
      "image/png": "[encoded data removed]",
      "text/plain": [
       "<Figure size 432x288 with 1 Axes>"
      ]
     },
     "metadata": {
      "needs_background": "light"
     },
     "output_type": "display_data"
    }
   ],
   "source": [
    "model_final = tuner.hypermodel.build(best_hps)\n",
    "\n",
    "# Build the final model with all the training data with the optimal hyperparameters \n",
    "history = model_final.fit(X_train_nn, \n",
    "                      y_train_nn, \n",
    "                      epochs=30,\n",
    "                      batch_size=64,\n",
    "                      validation_data=(X_val_nn, y_val_nn), \n",
    "                      verbose=0)\n",
    "\n",
    "test_model_keras(model4, history, X_val_nn, y_val_nn, X_train_nn, y_train_nn)"
   ]
  },
  {
   "cell_type": "markdown",
   "id": "ae139664",
   "metadata": {},
   "source": [
    "## Evaluate model on test data"
   ]
  },
  {
   "cell_type": "code",
   "execution_count": 59,
   "id": "dcd95b0a",
   "metadata": {},
   "outputs": [
    {
     "name": "stdout",
     "output_type": "stream",
     "text": [
      "6/6 [==============================] - 0s 3ms/step\n"
     ]
    },
    {
     "data": {
      "image/png": "[encoded data removed]",
      "text/plain": [
       "<Figure size 432x288 with 1 Axes>"
      ]
     },
     "metadata": {
      "needs_background": "light"
     },
     "output_type": "display_data"
    }
   ],
   "source": [
    "y_pred_t_keras = model_final.predict(X_test_nn).ravel()\n",
    "fpr_keras, tpr_keras, thresholds_keras = roc_curve(y_test_nn, y_pred_t_keras)\n",
    "auc_t_keras = metrics.roc_auc_score(y_test_nn, y_pred_t_keras)\n",
    "auc_t_keras\n",
    "\n",
    "plt.figure(1)\n",
    "plt.plot([0, 1], [0, 1], 'k--')\n",
    "plt.plot(fpr_keras, tpr_keras)\n",
    "plt.xlabel('False positive rate')\n",
    "plt.ylabel('True positive rate')\n",
    "plt.title('ROC curve')\n",
    "plt.legend(['', 'Test (area = {:.3f})'.format(auc_t_keras)], loc='best')\n",
    "plt.show()\n",
    "plt.show()"
   ]
  }
 ],
 "metadata": {
  "kernelspec": {
   "display_name": "Python 3",
   "language": "python",
   "name": "python3"
  },
  "language_info": {
   "codemirror_mode": {
    "name": "ipython",
    "version": 3
   },
   "file_extension": ".py",
   "mimetype": "text/x-python",
   "name": "python",
   "nbconvert_exporter": "python",
   "pygments_lexer": "ipython3",
   "version": "3.8.8"
  }
 },
 "nbformat": 4,
 "nbformat_minor": 5
}
